{
 "cells": [
  {
   "cell_type": "code",
   "execution_count": 2,
   "metadata": {},
   "outputs": [
    {
     "name": "stdout",
     "output_type": "stream",
     "text": [
      "Python: 3.6.6 |Anaconda, Inc.| (default, Jun 28 2018, 17:14:51) \n",
      "[GCC 7.2.0]\n",
      "scipy: 1.1.0\n"
     ]
    }
   ],
   "source": [
    "%matplotlib inline\n",
    "# packages to load \n",
    "# Check the versions of libraries\n",
    "# Python version\n",
    "import warnings\n",
    "warnings.filterwarnings('ignore')\n",
    "import sys\n",
    "print('Python: {}'.format(sys.version))\n",
    "\n",
    "import scipy\n",
    "print('scipy: {}'.format(scipy.__version__))\n",
    "\n",
    "import csv\n",
    "import numpy as np\n",
    "import pandas as pd\n",
    "from matplotlib import pyplot as plt\n",
    "\n",
    "\n",
    "import random as rn\n",
    "import math\n",
    "\n",
    "from sklearn import svm\n",
    "from sklearn.ensemble import VotingClassifier\n",
    "from sklearn.metrics import balanced_accuracy_score\n",
    "from sklearn.metrics import confusion_matrix\n",
    "\n",
    "from itertools import product\n",
    "\n",
    "TRAIN_FILE_PATH = \"data/X_train.csv\"\n",
    "TARGET_FILE_PATH =  \"data/y_train.csv\"\n",
    "TEST_FILE_PATH = \"data/X_test.csv\"\n",
    "\n",
    "seed=42\n",
    "np.random.seed(seed)\n",
    "rn.seed(seed)\n"
   ]
  },
  {
   "cell_type": "markdown",
   "metadata": {},
   "source": [
    "# Used functions"
   ]
  },
  {
   "cell_type": "code",
   "execution_count": 4,
   "metadata": {},
   "outputs": [],
   "source": [
    "def make_submission(filename, predictions):\n",
    "    test_data =  pd.read_csv(TEST_FILE_PATH)\n",
    "    test_data[\"y\"] = predictions\n",
    "    test_data[[\"id\", \"y\"]].to_csv(\"submissions/\"+filename, index= False)"
   ]
  },
  {
   "cell_type": "markdown",
   "metadata": {},
   "source": [
    "# Load train and test set"
   ]
  },
  {
   "cell_type": "code",
   "execution_count": 3,
   "metadata": {},
   "outputs": [],
   "source": [
    "train_data = pd.read_csv(TRAIN_FILE_PATH)\n",
    "train_data.drop(\"id\", axis=1, inplace=True)\n",
    "\n",
    "Y_train = pd.read_csv(TARGET_FILE_PATH)\n",
    "Y_train.drop(\"id\", axis=1, inplace = True)\n",
    "\n",
    "test_data =  pd.read_csv(TEST_FILE_PATH)\n",
    "id_test = test_data.columns[0]\n",
    "test_data.drop(\"id\", axis=1, inplace=True)"
   ]
  },
  {
   "cell_type": "markdown",
   "metadata": {},
   "source": [
    "# Create model and do submission"
   ]
  },
  {
   "cell_type": "code",
   "execution_count": 6,
   "metadata": {},
   "outputs": [],
   "source": [
    "X_train = train_data.values\n",
    "y_train = Y_train.values.ravel()\n",
    "X_test = test_data.values\n",
    "\n",
    "n_samples = y_train.shape[0]\n",
    "n_features = X_train.shape[1]\n",
    "\n",
    "class_weight = n_samples / (3 * np.bincount((y_train).astype(int)))\n",
    "# svc defaults: Cross Validation: BMAC: 0.6992 (+/- 0.0314)\n",
    "class_weights0 = { \n",
    "    0 : class_weight[0],\n",
    "    1 : class_weight[1],\n",
    "    2 : class_weight[2]\n",
    "}\n",
    "\n",
    "# tuned with bayesian optimization: Cross Validation: BMAC 0.7004 (+/- 0.0305)\n",
    "class_weights1 = { \n",
    "    0: 3.2734,\n",
    "    1: 0.6869,\n",
    "    2: 2.6268\n",
    "}\n",
    "\n",
    "# tuned with bayesian optimization: Cross Validation:  BMAC 0.7006 (+/- 0.0248)\n",
    "class_weights2 = { \n",
    "    0 : 2.4720,\n",
    "    1 : 0.4549,\n",
    "    2 : 3.8704\n",
    "}  \n",
    "\n",
    "clf0 = svm.SVC(class_weight=class_weights0)\n",
    "clf1 = svm.SVC(class_weight=class_weights1)\n",
    "clf2 = svm.SVC(class_weight=class_weights2)\n",
    "eclf = VotingClassifier(estimators=[('clf0', clf0), ('clf1', clf1), ('clf2', clf2)], voting='hard')\n",
    "\n",
    "eclf.fit(X_train, y_train)\n",
    "pred = eclf.predict(X_test)\n",
    "\n",
    "#  BMAC_ENSEMBLE score: 0.7018 std: 0.0328\n",
    "make_submission('final.csv', pred)"
   ]
  }
 ],
 "metadata": {
  "kernelspec": {
   "display_name": "Python (aml-3)",
   "language": "python",
   "name": "myenv1"
  },
  "language_info": {
   "codemirror_mode": {
    "name": "ipython",
    "version": 3
   },
   "file_extension": ".py",
   "mimetype": "text/x-python",
   "name": "python",
   "nbconvert_exporter": "python",
   "pygments_lexer": "ipython3",
   "version": "3.6.6"
  }
 },
 "nbformat": 4,
 "nbformat_minor": 2
}
