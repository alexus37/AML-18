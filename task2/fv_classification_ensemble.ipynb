{
 "cells": [
  {
   "cell_type": "code",
   "execution_count": 1,
   "metadata": {},
   "outputs": [
    {
     "name": "stdout",
     "output_type": "stream",
     "text": [
      "Python: 3.6.5 |Anaconda, Inc.| (default, Apr 29 2018, 16:14:56) \n",
      "[GCC 7.2.0]\n",
      "scipy: 1.1.0\n"
     ]
    },
    {
     "name": "stderr",
     "output_type": "stream",
     "text": [
      "Using TensorFlow backend.\n"
     ]
    }
   ],
   "source": [
    "%matplotlib inline\n",
    "# packages to load \n",
    "# Check the versions of libraries\n",
    "# Python version\n",
    "import warnings\n",
    "warnings.filterwarnings('ignore')\n",
    "import sys\n",
    "import random\n",
    "\n",
    "print('Python: {}'.format(sys.version))\n",
    "\n",
    "import scipy\n",
    "print('scipy: {}'.format(scipy.__version__))\n",
    "\n",
    "import csv\n",
    "import numpy as np\n",
    "from sklearn.metrics import mean_squared_error\n",
    "import pandas as pd\n",
    "from matplotlib import pyplot as plt\n",
    "\n",
    "import seaborn as sns\n",
    "from sklearn.preprocessing import StandardScaler\n",
    "from sklearn.feature_selection import f_regression, f_classif\n",
    "from sklearn.model_selection import cross_val_score\n",
    "from sklearn.model_selection import StratifiedKFold\n",
    "\n",
    "from sklearn.metrics import accuracy_score\n",
    "from sklearn.metrics import balanced_accuracy_score\n",
    "\n",
    "# Importing metrics for evaluation\n",
    "from sklearn.metrics import confusion_matrix\n",
    "from sklearn.metrics import classification_report\n",
    "from sklearn.preprocessing import LabelEncoder\n",
    "import random as rn\n",
    "import tensorflow as tf\n",
    "from keras import backend as K\n",
    "from keras.models import Sequential\n",
    "from keras.layers import Dense\n",
    "from keras.layers import LeakyReLU\n",
    "from keras.optimizers import Adam\n",
    "from keras.layers import Dropout\n",
    "from keras import regularizers\n",
    "from keras import initializers\n",
    "\n",
    "import math\n",
    "\n",
    "TRAIN_FILE_PATH = \"data/X_train.csv\"\n",
    "TARGET_FILE_PATH =  \"data/y_train.csv\"\n",
    "TEST_FILE_PATH = \"data/X_test.csv\"\n",
    "\n",
    "seed=42\n",
    "np.random.seed(seed)\n",
    "rn.seed(seed)\n",
    "session_conf = tf.ConfigProto(intra_op_parallelism_threads=1,\n",
    "                              inter_op_parallelism_threads=1)\n",
    "\n",
    "\n",
    "\n",
    "# The below tf.set_random_seed() will make random number generation\n",
    "# in the TensorFlow backend have a well-defined initial state.\n",
    "# For further details, see:\n",
    "# https://www.tensorflow.org/api_docs/python/tf/set_random_seed\n",
    "\n",
    "tf.set_random_seed(seed)\n",
    "\n",
    "sess = tf.Session(graph=tf.get_default_graph(), config=session_conf)\n",
    "K.set_session(sess)\n",
    "\n"
   ]
  },
  {
   "cell_type": "code",
   "execution_count": 2,
   "metadata": {},
   "outputs": [],
   "source": [
    "#Load train and test set\n",
    "\n",
    "train_data = pd.read_csv(TRAIN_FILE_PATH)\n",
    "train_data.drop(\"id\", axis=1, inplace=True)\n",
    "\n",
    "Y_train = pd.read_csv(TARGET_FILE_PATH)\n",
    "Y_train.drop(\"id\", axis=1, inplace = True)\n",
    "\n",
    "test_data =  pd.read_csv(TEST_FILE_PATH)\n",
    "id_test = test_data.columns[0]\n",
    "test_data.drop(\"id\", axis=1, inplace=True)"
   ]
  },
  {
   "cell_type": "code",
   "execution_count": 3,
   "metadata": {},
   "outputs": [],
   "source": [
    "#Zero mean unit variance for train and test data\n",
    "def scale_data_vs_all(train, test):\n",
    "    \n",
    "    print(\"Train shape: \", train.shape)\n",
    "    print(\"Test shape: \",test.shape)\n",
    "\n",
    "    scaler = StandardScaler().fit(train_data, Y_train)\n",
    "    train = scaler.transform(train)\n",
    "    test = scaler.transform(test)\n",
    "   \n",
    "    return train, test\n",
    "    \n",
    "def scale_data(train, test):\n",
    "    \n",
    "    print(\"Train shape: \", train.shape)\n",
    "    print(\"Test shape: \",test.shape)\n",
    "    \n",
    "    scaler = StandardScaler().fit(train, Y_train)\n",
    "    train = scaler.transform(train)\n",
    "    test = scaler.transform(test)\n",
    "   \n",
    "    return train, test\n",
    "\n",
    "def generate_train_features_subset(X_high_dimensions, subset_indices):\n",
    "    \n",
    "    X_train_subset = X_high_dimensions[X_high_dimensions.columns[subset_indices]]    \n",
    "    return X_train_subset\n",
    "\n",
    "def generate_random_numbers(total_n, min_range, max_range):\n",
    "    \n",
    "    random_numbers = list(random.sample(range(min_range, max_range), total_n))\n",
    "    #i = 0\n",
    "    #for i in range(total_n):\n",
    "    #    random_numbers.append(random.sample(range(1, 100), 3)random.randint(min_range,max_range))\n",
    "    return random_numbers\n"
   ]
  },
  {
   "cell_type": "code",
   "execution_count": 4,
   "metadata": {},
   "outputs": [],
   "source": [
    "def make_submission(filename, predictions):\n",
    "    test_data =  pd.read_csv(TEST_FILE_PATH)\n",
    "    test_data[\"y\"] = predictions\n",
    "    test_data[[\"id\", \"y\"]].to_csv(\"submissions/\"+filename, index= False)"
   ]
  },
  {
   "cell_type": "code",
   "execution_count": 5,
   "metadata": {},
   "outputs": [
    {
     "name": "stdout",
     "output_type": "stream",
     "text": [
      "Train shape:  (4800, 1000)\n",
      "Test shape:  (4100, 1000)\n"
     ]
    }
   ],
   "source": [
    "X_train_scaled, X_test_scaled = scale_data(train_data, test_data)"
   ]
  },
  {
   "cell_type": "code",
   "execution_count": null,
   "metadata": {},
   "outputs": [
    {
     "name": "stderr",
     "output_type": "stream",
     "text": [
      "/home/francesco/anaconda3/lib/python3.6/site-packages/ipykernel_launcher.py:20: UserWarning: Update your `Dense` call to the Keras 2 API: `Dense(100, input_dim=1000, kernel_regularizer=<keras.reg..., kernel_initializer=\"RandomUniform\")`\n",
      "/home/francesco/anaconda3/lib/python3.6/site-packages/ipykernel_launcher.py:23: UserWarning: Update your `Dense` call to the Keras 2 API: `Dense(100, input_dim=72, kernel_regularizer=<keras.reg..., kernel_initializer=\"RandomUniform\")`\n",
      "/home/francesco/anaconda3/lib/python3.6/site-packages/ipykernel_launcher.py:26: UserWarning: Update your `Dense` call to the Keras 2 API: `Dense(100, input_dim=72, kernel_regularizer=<keras.reg..., kernel_initializer=\"RandomUniform\")`\n",
      "/home/francesco/anaconda3/lib/python3.6/site-packages/ipykernel_launcher.py:29: UserWarning: Update your `Dense` call to the Keras 2 API: `Dense(100, input_dim=72, kernel_regularizer=<keras.reg..., kernel_initializer=\"RandomUniform\")`\n",
      "/home/francesco/anaconda3/lib/python3.6/site-packages/ipykernel_launcher.py:32: UserWarning: Update your `Dense` call to the Keras 2 API: `Dense(100, input_dim=72, kernel_regularizer=<keras.reg..., kernel_initializer=\"RandomUniform\")`\n",
      "/home/francesco/anaconda3/lib/python3.6/site-packages/ipykernel_launcher.py:35: UserWarning: Update your `Dense` call to the Keras 2 API: `Dense(100, input_dim=72, kernel_regularizer=<keras.reg..., kernel_initializer=\"RandomUniform\")`\n",
      "/home/francesco/anaconda3/lib/python3.6/site-packages/ipykernel_launcher.py:38: UserWarning: Update your `Dense` call to the Keras 2 API: `Dense(100, input_dim=72, kernel_regularizer=<keras.reg..., kernel_initializer=\"RandomUniform\")`\n",
      "/home/francesco/anaconda3/lib/python3.6/site-packages/ipykernel_launcher.py:41: UserWarning: Update your `Dense` call to the Keras 2 API: `Dense(100, input_dim=72, kernel_regularizer=<keras.reg..., kernel_initializer=\"RandomUniform\")`\n",
      "/home/francesco/anaconda3/lib/python3.6/site-packages/ipykernel_launcher.py:45: UserWarning: Update your `Dense` call to the Keras 2 API: `Dense(1, kernel_initializer=\"RandomUniform\")`\n"
     ]
    },
    {
     "name": "stdout",
     "output_type": "stream",
     "text": [
      "Train on 4320 samples, validate on 480 samples\n",
      "Epoch 1/80\n",
      " - 8s - loss: 12.3920 - acc: 0.5420 - val_loss: 0.4991 - val_acc: 0.7458\n",
      "Epoch 2/80\n",
      " - 6s - loss: 0.3064 - acc: 0.7505 - val_loss: 0.2559 - val_acc: 0.7458\n",
      "Epoch 3/80\n",
      " - 6s - loss: 0.2517 - acc: 0.7505 - val_loss: 0.2542 - val_acc: 0.7458\n",
      "Epoch 4/80\n",
      " - 6s - loss: 0.2512 - acc: 0.7505 - val_loss: 0.2542 - val_acc: 0.7458\n",
      "Epoch 5/80\n",
      " - 6s - loss: 0.2512 - acc: 0.7505 - val_loss: 0.2542 - val_acc: 0.7458\n",
      "Epoch 6/80\n",
      " - 6s - loss: 0.2512 - acc: 0.7505 - val_loss: 0.2542 - val_acc: 0.7458\n",
      "Epoch 7/80\n",
      " - 6s - loss: 0.2513 - acc: 0.7505 - val_loss: 0.2542 - val_acc: 0.7458\n",
      "Epoch 8/80\n",
      " - 6s - loss: 0.2511 - acc: 0.7505 - val_loss: 0.2542 - val_acc: 0.7458\n",
      "Epoch 9/80\n",
      " - 6s - loss: 0.2509 - acc: 0.7505 - val_loss: 0.2542 - val_acc: 0.7458\n",
      "Epoch 10/80\n",
      " - 6s - loss: 0.2508 - acc: 0.7505 - val_loss: 0.2542 - val_acc: 0.7458\n",
      "Epoch 11/80\n",
      " - 6s - loss: 0.2509 - acc: 0.7505 - val_loss: 0.2542 - val_acc: 0.7458\n",
      "Epoch 12/80\n",
      " - 6s - loss: 0.2509 - acc: 0.7505 - val_loss: 0.2542 - val_acc: 0.7458\n",
      "Epoch 13/80\n",
      " - 6s - loss: 0.2508 - acc: 0.7505 - val_loss: 0.2542 - val_acc: 0.7458\n",
      "Epoch 14/80\n",
      " - 6s - loss: 0.2507 - acc: 0.7505 - val_loss: 0.2542 - val_acc: 0.7458\n",
      "Epoch 15/80\n",
      " - 7s - loss: 0.2507 - acc: 0.7505 - val_loss: 0.2542 - val_acc: 0.7458\n",
      "Epoch 16/80\n",
      " - 7s - loss: 0.2506 - acc: 0.7505 - val_loss: 0.2542 - val_acc: 0.7458\n",
      "Epoch 17/80\n"
     ]
    }
   ],
   "source": [
    "from keras.models import Sequential\n",
    "from keras.layers import Dense\n",
    "from keras.layers import LeakyReLU\n",
    "from keras.optimizers import Adam\n",
    "from keras.layers import Dropout\n",
    "from keras import regularizers\n",
    "# fix random seed for reproducibility\n",
    "\n",
    "def coeff_determination(y_true, y_pred):\n",
    "    from keras import backend as K\n",
    "    SS_res =  K.sum(K.square( y_true-y_pred ))\n",
    "    SS_tot = K.sum(K.square( y_true - K.mean(y_true) ) )\n",
    "    return ( 1 - SS_res/(SS_tot + K.epsilon()) )\n",
    "\n",
    "Y = Y_train\n",
    "dropout = 0.1\n",
    "#print(Y)\n",
    "# create model\n",
    "model = Sequential()\n",
    "model.add(Dense(100, input_dim=1000, kernel_regularizer = regularizers.l2(1), init='RandomUniform'))\n",
    "model.add(LeakyReLU(alpha=0.1))\n",
    "model.add(Dropout(rate = dropout))\n",
    "model.add(Dense(100, input_dim=72, kernel_regularizer = regularizers.l2(1), init='RandomUniform'))\n",
    "model.add(LeakyReLU(alpha=0.1))\n",
    "model.add(Dropout(rate = dropout))\n",
    "model.add(Dense(100, input_dim=72, kernel_regularizer = regularizers.l2(1), init='RandomUniform'))\n",
    "model.add(LeakyReLU(alpha=0.1))\n",
    "model.add(Dropout(rate = dropout))\n",
    "model.add(Dense(100, input_dim=72, kernel_regularizer = regularizers.l2(1), init='RandomUniform'))\n",
    "model.add(LeakyReLU(alpha=0.1))\n",
    "model.add(Dropout(rate = dropout))\n",
    "model.add(Dense(100, input_dim=72, kernel_regularizer = regularizers.l2(1), init='RandomUniform'))\n",
    "model.add(LeakyReLU(alpha=0.1))\n",
    "model.add(Dropout(rate = dropout))\n",
    "model.add(Dense(100, input_dim=72, kernel_regularizer = regularizers.l2(1), init='RandomUniform'))\n",
    "model.add(LeakyReLU(alpha=0.1))\n",
    "model.add(Dropout(rate = dropout))\n",
    "model.add(Dense(100, input_dim=72, kernel_regularizer = regularizers.l2(1), init='RandomUniform'))\n",
    "model.add(LeakyReLU(alpha=0.1))\n",
    "model.add(Dropout(rate = dropout))\n",
    "model.add(Dense(100, input_dim=72, kernel_regularizer = regularizers.l2(1), init='RandomUniform'))\n",
    "model.add(LeakyReLU(alpha=0.1))\n",
    "model.add(Dropout(rate = dropout))\n",
    "\n",
    "model.add(Dense(1, init='RandomUniform'))\n",
    "# Compile model\n",
    "optimizer = Adam(lr=0.005, beta_1=0.9, beta_2=0.999, epsilon=None, decay=0.0, amsgrad=False)\n",
    "\n",
    "model.compile(loss='mean_squared_error', optimizer=optimizer, metrics=[\"accuracy\"])\n",
    "# Fit the model\n",
    "model.fit(x=X_train_scaled, y=Y, epochs=80, verbose=2, validation_split=0.1, shuffle=True, steps_per_epoch=50, initial_epoch=0, validation_steps=5)\n",
    "# calculate predictions\n",
    "print(X_test_subset)\n",
    "predictions = model.predict(X_test_subset)\n",
    "# round predictions\n",
    "#ages = [x*100 for x in predictions]\n",
    "#predictions = predictions*100\n",
    "print(predictions)"
   ]
  },
  {
   "cell_type": "code",
   "execution_count": 238,
   "metadata": {},
   "outputs": [
    {
     "name": "stdout",
     "output_type": "stream",
     "text": [
      "Train shape:  (4800, 400)\n",
      "Test shape:  (4100, 400)\n",
      "Train shape:  (4200, 400)\n",
      "Test shape:  (4100, 400)\n",
      "        y\n",
      "1     0.0\n",
      "6     2.0\n",
      "10    0.0\n",
      "12    0.0\n",
      "15    0.0\n",
      "21    2.0\n",
      "23    0.0\n",
      "24    0.0\n",
      "25    0.0\n",
      "43    2.0\n",
      "50    0.0\n",
      "73    0.0\n",
      "75    2.0\n",
      "79    2.0\n",
      "83    2.0\n",
      "85    2.0\n",
      "92    0.0\n",
      "93    0.0\n",
      "94    2.0\n",
      "96    0.0\n",
      "97    0.0\n",
      "99    0.0\n",
      "107   2.0\n",
      "111   0.0\n",
      "118   0.0\n",
      "123   0.0\n",
      "124   2.0\n",
      "131   2.0\n",
      "134   2.0\n",
      "141   0.0\n",
      "...   ...\n",
      "4674  0.0\n",
      "4681  2.0\n",
      "4682  2.0\n",
      "4683  2.0\n",
      "4684  0.0\n",
      "4690  0.0\n",
      "4696  2.0\n",
      "4697  2.0\n",
      "4699  0.0\n",
      "4702  0.0\n",
      "4713  2.0\n",
      "4715  2.0\n",
      "4716  0.0\n",
      "4728  2.0\n",
      "4730  2.0\n",
      "4743  2.0\n",
      "4744  2.0\n",
      "4747  2.0\n",
      "4748  0.0\n",
      "4768  2.0\n",
      "4773  0.0\n",
      "4777  2.0\n",
      "4781  0.0\n",
      "4782  2.0\n",
      "4783  0.0\n",
      "4790  2.0\n",
      "4791  0.0\n",
      "4794  0.0\n",
      "4798  0.0\n",
      "4799  0.0\n",
      "\n",
      "[1200 rows x 1 columns]\n",
      "Train shape:  (1200, 400)\n",
      "Test shape:  (4100, 400)\n",
      "Train shape:  (4200, 400)\n",
      "Test shape:  (4100, 400)\n",
      "Train shape:  (4800, 400)\n",
      "Test shape:  (4100, 400)\n",
      "Train shape:  (4200, 400)\n",
      "Test shape:  (4100, 400)\n",
      "        y\n",
      "1     0.0\n",
      "6     2.0\n",
      "10    0.0\n",
      "12    0.0\n",
      "15    0.0\n",
      "21    2.0\n",
      "23    0.0\n",
      "24    0.0\n",
      "25    0.0\n",
      "43    2.0\n",
      "50    0.0\n",
      "73    0.0\n",
      "75    2.0\n",
      "79    2.0\n",
      "83    2.0\n",
      "85    2.0\n",
      "92    0.0\n",
      "93    0.0\n",
      "94    2.0\n",
      "96    0.0\n",
      "97    0.0\n",
      "99    0.0\n",
      "107   2.0\n",
      "111   0.0\n",
      "118   0.0\n",
      "123   0.0\n",
      "124   2.0\n",
      "131   2.0\n",
      "134   2.0\n",
      "141   0.0\n",
      "...   ...\n",
      "4674  0.0\n",
      "4681  2.0\n",
      "4682  2.0\n",
      "4683  2.0\n",
      "4684  0.0\n",
      "4690  0.0\n",
      "4696  2.0\n",
      "4697  2.0\n",
      "4699  0.0\n",
      "4702  0.0\n",
      "4713  2.0\n",
      "4715  2.0\n",
      "4716  0.0\n",
      "4728  2.0\n",
      "4730  2.0\n",
      "4743  2.0\n",
      "4744  2.0\n",
      "4747  2.0\n",
      "4748  0.0\n",
      "4768  2.0\n",
      "4773  0.0\n",
      "4777  2.0\n",
      "4781  0.0\n",
      "4782  2.0\n",
      "4783  0.0\n",
      "4790  2.0\n",
      "4791  0.0\n",
      "4794  0.0\n",
      "4798  0.0\n",
      "4799  0.0\n",
      "\n",
      "[1200 rows x 1 columns]\n",
      "Train shape:  (1200, 400)\n",
      "Test shape:  (4100, 400)\n",
      "Train shape:  (4200, 400)\n",
      "Test shape:  (4100, 400)\n",
      "Train shape:  (4800, 400)\n",
      "Test shape:  (4100, 400)\n",
      "Train shape:  (4200, 400)\n",
      "Test shape:  (4100, 400)\n",
      "        y\n",
      "1     0.0\n",
      "6     2.0\n",
      "10    0.0\n",
      "12    0.0\n",
      "15    0.0\n",
      "21    2.0\n",
      "23    0.0\n",
      "24    0.0\n",
      "25    0.0\n",
      "43    2.0\n",
      "50    0.0\n",
      "73    0.0\n",
      "75    2.0\n",
      "79    2.0\n",
      "83    2.0\n",
      "85    2.0\n",
      "92    0.0\n",
      "93    0.0\n",
      "94    2.0\n",
      "96    0.0\n",
      "97    0.0\n",
      "99    0.0\n",
      "107   2.0\n",
      "111   0.0\n",
      "118   0.0\n",
      "123   0.0\n",
      "124   2.0\n",
      "131   2.0\n",
      "134   2.0\n",
      "141   0.0\n",
      "...   ...\n",
      "4674  0.0\n",
      "4681  2.0\n",
      "4682  2.0\n",
      "4683  2.0\n",
      "4684  0.0\n",
      "4690  0.0\n",
      "4696  2.0\n",
      "4697  2.0\n",
      "4699  0.0\n",
      "4702  0.0\n",
      "4713  2.0\n",
      "4715  2.0\n",
      "4716  0.0\n",
      "4728  2.0\n",
      "4730  2.0\n",
      "4743  2.0\n",
      "4744  2.0\n",
      "4747  2.0\n",
      "4748  0.0\n",
      "4768  2.0\n",
      "4773  0.0\n",
      "4777  2.0\n",
      "4781  0.0\n",
      "4782  2.0\n",
      "4783  0.0\n",
      "4790  2.0\n",
      "4791  0.0\n",
      "4794  0.0\n",
      "4798  0.0\n",
      "4799  0.0\n",
      "\n",
      "[1200 rows x 1 columns]\n",
      "Train shape:  (1200, 400)\n",
      "Test shape:  (4100, 400)\n",
      "Train shape:  (4200, 400)\n",
      "Test shape:  (4100, 400)\n",
      "Train shape:  (4800, 400)\n",
      "Test shape:  (4100, 400)\n",
      "Train shape:  (4200, 400)\n",
      "Test shape:  (4100, 400)\n",
      "        y\n",
      "1     0.0\n",
      "6     2.0\n",
      "10    0.0\n",
      "12    0.0\n",
      "15    0.0\n",
      "21    2.0\n",
      "23    0.0\n",
      "24    0.0\n",
      "25    0.0\n",
      "43    2.0\n",
      "50    0.0\n",
      "73    0.0\n",
      "75    2.0\n",
      "79    2.0\n",
      "83    2.0\n",
      "85    2.0\n",
      "92    0.0\n",
      "93    0.0\n",
      "94    2.0\n",
      "96    0.0\n",
      "97    0.0\n",
      "99    0.0\n",
      "107   2.0\n",
      "111   0.0\n",
      "118   0.0\n",
      "123   0.0\n",
      "124   2.0\n",
      "131   2.0\n",
      "134   2.0\n",
      "141   0.0\n",
      "...   ...\n",
      "4674  0.0\n",
      "4681  2.0\n",
      "4682  2.0\n",
      "4683  2.0\n",
      "4684  0.0\n",
      "4690  0.0\n",
      "4696  2.0\n",
      "4697  2.0\n",
      "4699  0.0\n",
      "4702  0.0\n",
      "4713  2.0\n",
      "4715  2.0\n",
      "4716  0.0\n",
      "4728  2.0\n",
      "4730  2.0\n",
      "4743  2.0\n",
      "4744  2.0\n",
      "4747  2.0\n",
      "4748  0.0\n",
      "4768  2.0\n",
      "4773  0.0\n",
      "4777  2.0\n",
      "4781  0.0\n",
      "4782  2.0\n",
      "4783  0.0\n",
      "4790  2.0\n",
      "4791  0.0\n",
      "4794  0.0\n",
      "4798  0.0\n",
      "4799  0.0\n",
      "\n",
      "[1200 rows x 1 columns]\n",
      "Train shape:  (1200, 400)\n",
      "Test shape:  (4100, 400)\n",
      "Train shape:  (4200, 400)\n",
      "Test shape:  (4100, 400)\n",
      "Train shape:  (4800, 400)\n",
      "Test shape:  (4100, 400)\n",
      "Train shape:  (4200, 400)\n",
      "Test shape:  (4100, 400)\n",
      "        y\n",
      "1     0.0\n",
      "6     2.0\n",
      "10    0.0\n",
      "12    0.0\n",
      "15    0.0\n",
      "21    2.0\n",
      "23    0.0\n",
      "24    0.0\n",
      "25    0.0\n",
      "43    2.0\n",
      "50    0.0\n",
      "73    0.0\n",
      "75    2.0\n",
      "79    2.0\n",
      "83    2.0\n",
      "85    2.0\n",
      "92    0.0\n",
      "93    0.0\n",
      "94    2.0\n",
      "96    0.0\n",
      "97    0.0\n",
      "99    0.0\n",
      "107   2.0\n",
      "111   0.0\n",
      "118   0.0\n",
      "123   0.0\n",
      "124   2.0\n",
      "131   2.0\n",
      "134   2.0\n",
      "141   0.0\n",
      "...   ...\n",
      "4674  0.0\n",
      "4681  2.0\n",
      "4682  2.0\n",
      "4683  2.0\n",
      "4684  0.0\n",
      "4690  0.0\n",
      "4696  2.0\n",
      "4697  2.0\n",
      "4699  0.0\n",
      "4702  0.0\n",
      "4713  2.0\n",
      "4715  2.0\n",
      "4716  0.0\n",
      "4728  2.0\n",
      "4730  2.0\n",
      "4743  2.0\n",
      "4744  2.0\n",
      "4747  2.0\n",
      "4748  0.0\n",
      "4768  2.0\n",
      "4773  0.0\n",
      "4777  2.0\n",
      "4781  0.0\n",
      "4782  2.0\n",
      "4783  0.0\n",
      "4790  2.0\n",
      "4791  0.0\n",
      "4794  0.0\n",
      "4798  0.0\n",
      "4799  0.0\n",
      "\n",
      "[1200 rows x 1 columns]\n",
      "Train shape:  (1200, 400)\n",
      "Test shape:  (4100, 400)\n",
      "Train shape:  (4200, 400)\n",
      "Test shape:  (4100, 400)\n",
      "Train shape:  (4800, 400)\n",
      "Test shape:  (4100, 400)\n",
      "Train shape:  (4200, 400)\n",
      "Test shape:  (4100, 400)\n",
      "        y\n",
      "1     0.0\n",
      "6     2.0\n",
      "10    0.0\n",
      "12    0.0\n",
      "15    0.0\n",
      "21    2.0\n",
      "23    0.0\n",
      "24    0.0\n",
      "25    0.0\n",
      "43    2.0\n",
      "50    0.0\n",
      "73    0.0\n",
      "75    2.0\n",
      "79    2.0\n",
      "83    2.0\n",
      "85    2.0\n",
      "92    0.0\n",
      "93    0.0\n",
      "94    2.0\n",
      "96    0.0\n",
      "97    0.0\n",
      "99    0.0\n",
      "107   2.0\n",
      "111   0.0\n",
      "118   0.0\n",
      "123   0.0\n",
      "124   2.0\n",
      "131   2.0\n",
      "134   2.0\n",
      "141   0.0\n",
      "...   ...\n",
      "4674  0.0\n",
      "4681  2.0\n",
      "4682  2.0\n",
      "4683  2.0\n",
      "4684  0.0\n",
      "4690  0.0\n",
      "4696  2.0\n",
      "4697  2.0\n",
      "4699  0.0\n",
      "4702  0.0\n",
      "4713  2.0\n",
      "4715  2.0\n",
      "4716  0.0\n",
      "4728  2.0\n",
      "4730  2.0\n",
      "4743  2.0\n",
      "4744  2.0\n",
      "4747  2.0\n",
      "4748  0.0\n",
      "4768  2.0\n",
      "4773  0.0\n",
      "4777  2.0\n",
      "4781  0.0\n",
      "4782  2.0\n",
      "4783  0.0\n",
      "4790  2.0\n",
      "4791  0.0\n",
      "4794  0.0\n",
      "4798  0.0\n",
      "4799  0.0\n",
      "\n",
      "[1200 rows x 1 columns]\n",
      "Train shape:  (1200, 400)\n",
      "Test shape:  (4100, 400)\n",
      "Train shape:  (4200, 400)\n",
      "Test shape:  (4100, 400)\n",
      "Train shape:  (4800, 400)\n",
      "Test shape:  (4100, 400)\n",
      "Train shape:  (4200, 400)\n",
      "Test shape:  (4100, 400)\n",
      "        y\n",
      "1     0.0\n",
      "6     2.0\n",
      "10    0.0\n",
      "12    0.0\n",
      "15    0.0\n",
      "21    2.0\n",
      "23    0.0\n",
      "24    0.0\n",
      "25    0.0\n",
      "43    2.0\n",
      "50    0.0\n",
      "73    0.0\n",
      "75    2.0\n",
      "79    2.0\n",
      "83    2.0\n",
      "85    2.0\n",
      "92    0.0\n",
      "93    0.0\n",
      "94    2.0\n",
      "96    0.0\n",
      "97    0.0\n",
      "99    0.0\n",
      "107   2.0\n",
      "111   0.0\n",
      "118   0.0\n",
      "123   0.0\n",
      "124   2.0\n",
      "131   2.0\n",
      "134   2.0\n",
      "141   0.0\n",
      "...   ...\n",
      "4674  0.0\n",
      "4681  2.0\n",
      "4682  2.0\n",
      "4683  2.0\n",
      "4684  0.0\n",
      "4690  0.0\n",
      "4696  2.0\n",
      "4697  2.0\n",
      "4699  0.0\n",
      "4702  0.0\n",
      "4713  2.0\n",
      "4715  2.0\n",
      "4716  0.0\n",
      "4728  2.0\n",
      "4730  2.0\n",
      "4743  2.0\n",
      "4744  2.0\n",
      "4747  2.0\n",
      "4748  0.0\n",
      "4768  2.0\n",
      "4773  0.0\n",
      "4777  2.0\n",
      "4781  0.0\n",
      "4782  2.0\n",
      "4783  0.0\n",
      "4790  2.0\n",
      "4791  0.0\n",
      "4794  0.0\n",
      "4798  0.0\n",
      "4799  0.0\n",
      "\n",
      "[1200 rows x 1 columns]\n",
      "Train shape:  (1200, 400)\n",
      "Test shape:  (4100, 400)\n",
      "Train shape:  (4200, 400)\n",
      "Test shape:  (4100, 400)\n",
      "Train shape:  (4800, 400)\n",
      "Test shape:  (4100, 400)\n",
      "Train shape:  (4200, 400)\n",
      "Test shape:  (4100, 400)\n",
      "        y\n",
      "1     0.0\n",
      "6     2.0\n",
      "10    0.0\n",
      "12    0.0\n",
      "15    0.0\n",
      "21    2.0\n",
      "23    0.0\n",
      "24    0.0\n",
      "25    0.0\n",
      "43    2.0\n",
      "50    0.0\n",
      "73    0.0\n",
      "75    2.0\n",
      "79    2.0\n",
      "83    2.0\n",
      "85    2.0\n",
      "92    0.0\n",
      "93    0.0\n",
      "94    2.0\n",
      "96    0.0\n",
      "97    0.0\n",
      "99    0.0\n",
      "107   2.0\n",
      "111   0.0\n",
      "118   0.0\n",
      "123   0.0\n",
      "124   2.0\n",
      "131   2.0\n",
      "134   2.0\n",
      "141   0.0\n",
      "...   ...\n",
      "4674  0.0\n",
      "4681  2.0\n",
      "4682  2.0\n",
      "4683  2.0\n",
      "4684  0.0\n",
      "4690  0.0\n",
      "4696  2.0\n",
      "4697  2.0\n",
      "4699  0.0\n",
      "4702  0.0\n",
      "4713  2.0\n",
      "4715  2.0\n",
      "4716  0.0\n",
      "4728  2.0\n",
      "4730  2.0\n",
      "4743  2.0\n",
      "4744  2.0\n",
      "4747  2.0\n",
      "4748  0.0\n",
      "4768  2.0\n",
      "4773  0.0\n",
      "4777  2.0\n",
      "4781  0.0\n",
      "4782  2.0\n",
      "4783  0.0\n",
      "4790  2.0\n",
      "4791  0.0\n",
      "4794  0.0\n",
      "4798  0.0\n",
      "4799  0.0\n",
      "\n",
      "[1200 rows x 1 columns]\n",
      "Train shape:  (1200, 400)\n",
      "Test shape:  (4100, 400)\n",
      "Train shape:  (4200, 400)\n",
      "Test shape:  (4100, 400)\n",
      "Train shape:  (4800, 400)\n",
      "Test shape:  (4100, 400)\n",
      "Train shape:  (4200, 400)\n",
      "Test shape:  (4100, 400)\n",
      "        y\n",
      "1     0.0\n",
      "6     2.0\n",
      "10    0.0\n",
      "12    0.0\n",
      "15    0.0\n",
      "21    2.0\n",
      "23    0.0\n",
      "24    0.0\n",
      "25    0.0\n",
      "43    2.0\n",
      "50    0.0\n",
      "73    0.0\n",
      "75    2.0\n",
      "79    2.0\n",
      "83    2.0\n",
      "85    2.0\n",
      "92    0.0\n",
      "93    0.0\n",
      "94    2.0\n",
      "96    0.0\n",
      "97    0.0\n",
      "99    0.0\n",
      "107   2.0\n",
      "111   0.0\n",
      "118   0.0\n",
      "123   0.0\n",
      "124   2.0\n",
      "131   2.0\n",
      "134   2.0\n",
      "141   0.0\n",
      "...   ...\n",
      "4674  0.0\n",
      "4681  2.0\n",
      "4682  2.0\n",
      "4683  2.0\n",
      "4684  0.0\n",
      "4690  0.0\n",
      "4696  2.0\n",
      "4697  2.0\n",
      "4699  0.0\n",
      "4702  0.0\n",
      "4713  2.0\n",
      "4715  2.0\n",
      "4716  0.0\n",
      "4728  2.0\n",
      "4730  2.0\n",
      "4743  2.0\n",
      "4744  2.0\n",
      "4747  2.0\n",
      "4748  0.0\n",
      "4768  2.0\n",
      "4773  0.0\n",
      "4777  2.0\n",
      "4781  0.0\n",
      "4782  2.0\n",
      "4783  0.0\n",
      "4790  2.0\n",
      "4791  0.0\n",
      "4794  0.0\n",
      "4798  0.0\n",
      "4799  0.0\n",
      "\n",
      "[1200 rows x 1 columns]\n",
      "Train shape:  (1200, 400)\n",
      "Test shape:  (4100, 400)\n",
      "Train shape:  (4200, 400)\n",
      "Test shape:  (4100, 400)\n",
      "Train shape:  (4800, 400)\n",
      "Test shape:  (4100, 400)\n",
      "Train shape:  (4200, 400)\n",
      "Test shape:  (4100, 400)\n",
      "        y\n",
      "1     0.0\n",
      "6     2.0\n",
      "10    0.0\n",
      "12    0.0\n",
      "15    0.0\n",
      "21    2.0\n",
      "23    0.0\n",
      "24    0.0\n",
      "25    0.0\n",
      "43    2.0\n",
      "50    0.0\n",
      "73    0.0\n",
      "75    2.0\n",
      "79    2.0\n",
      "83    2.0\n",
      "85    2.0\n",
      "92    0.0\n",
      "93    0.0\n",
      "94    2.0\n",
      "96    0.0\n",
      "97    0.0\n",
      "99    0.0\n",
      "107   2.0\n",
      "111   0.0\n",
      "118   0.0\n",
      "123   0.0\n",
      "124   2.0\n",
      "131   2.0\n",
      "134   2.0\n",
      "141   0.0\n",
      "...   ...\n",
      "4674  0.0\n",
      "4681  2.0\n",
      "4682  2.0\n",
      "4683  2.0\n",
      "4684  0.0\n",
      "4690  0.0\n",
      "4696  2.0\n",
      "4697  2.0\n",
      "4699  0.0\n",
      "4702  0.0\n",
      "4713  2.0\n",
      "4715  2.0\n",
      "4716  0.0\n",
      "4728  2.0\n",
      "4730  2.0\n",
      "4743  2.0\n",
      "4744  2.0\n",
      "4747  2.0\n",
      "4748  0.0\n",
      "4768  2.0\n",
      "4773  0.0\n",
      "4777  2.0\n",
      "4781  0.0\n",
      "4782  2.0\n",
      "4783  0.0\n",
      "4790  2.0\n",
      "4791  0.0\n",
      "4794  0.0\n",
      "4798  0.0\n",
      "4799  0.0\n",
      "\n",
      "[1200 rows x 1 columns]\n",
      "Train shape:  (1200, 400)\n",
      "Test shape:  (4100, 400)\n",
      "Train shape:  (4200, 400)\n",
      "Test shape:  (4100, 400)\n",
      "Train shape:  (4800, 400)\n",
      "Test shape:  (4100, 400)\n",
      "Train shape:  (4200, 400)\n",
      "Test shape:  (4100, 400)\n",
      "        y\n",
      "1     0.0\n",
      "6     2.0\n",
      "10    0.0\n",
      "12    0.0\n",
      "15    0.0\n",
      "21    2.0\n",
      "23    0.0\n",
      "24    0.0\n",
      "25    0.0\n",
      "43    2.0\n",
      "50    0.0\n",
      "73    0.0\n",
      "75    2.0\n",
      "79    2.0\n",
      "83    2.0\n",
      "85    2.0\n",
      "92    0.0\n",
      "93    0.0\n",
      "94    2.0\n",
      "96    0.0\n",
      "97    0.0\n",
      "99    0.0\n",
      "107   2.0\n",
      "111   0.0\n",
      "118   0.0\n",
      "123   0.0\n",
      "124   2.0\n",
      "131   2.0\n",
      "134   2.0\n",
      "141   0.0\n",
      "...   ...\n",
      "4674  0.0\n",
      "4681  2.0\n",
      "4682  2.0\n",
      "4683  2.0\n",
      "4684  0.0\n",
      "4690  0.0\n",
      "4696  2.0\n",
      "4697  2.0\n",
      "4699  0.0\n",
      "4702  0.0\n",
      "4713  2.0\n",
      "4715  2.0\n",
      "4716  0.0\n",
      "4728  2.0\n",
      "4730  2.0\n",
      "4743  2.0\n",
      "4744  2.0\n",
      "4747  2.0\n",
      "4748  0.0\n",
      "4768  2.0\n",
      "4773  0.0\n",
      "4777  2.0\n",
      "4781  0.0\n",
      "4782  2.0\n",
      "4783  0.0\n",
      "4790  2.0\n",
      "4791  0.0\n",
      "4794  0.0\n",
      "4798  0.0\n",
      "4799  0.0\n",
      "\n",
      "[1200 rows x 1 columns]\n",
      "Train shape:  (1200, 400)\n",
      "Test shape:  (4100, 400)\n"
     ]
    },
    {
     "name": "stdout",
     "output_type": "stream",
     "text": [
      "Train shape:  (4200, 400)\n",
      "Test shape:  (4100, 400)\n",
      "Train shape:  (4800, 400)\n",
      "Test shape:  (4100, 400)\n",
      "Train shape:  (4200, 400)\n",
      "Test shape:  (4100, 400)\n",
      "        y\n",
      "1     0.0\n",
      "6     2.0\n",
      "10    0.0\n",
      "12    0.0\n",
      "15    0.0\n",
      "21    2.0\n",
      "23    0.0\n",
      "24    0.0\n",
      "25    0.0\n",
      "43    2.0\n",
      "50    0.0\n",
      "73    0.0\n",
      "75    2.0\n",
      "79    2.0\n",
      "83    2.0\n",
      "85    2.0\n",
      "92    0.0\n",
      "93    0.0\n",
      "94    2.0\n",
      "96    0.0\n",
      "97    0.0\n",
      "99    0.0\n",
      "107   2.0\n",
      "111   0.0\n",
      "118   0.0\n",
      "123   0.0\n",
      "124   2.0\n",
      "131   2.0\n",
      "134   2.0\n",
      "141   0.0\n",
      "...   ...\n",
      "4674  0.0\n",
      "4681  2.0\n",
      "4682  2.0\n",
      "4683  2.0\n",
      "4684  0.0\n",
      "4690  0.0\n",
      "4696  2.0\n",
      "4697  2.0\n",
      "4699  0.0\n",
      "4702  0.0\n",
      "4713  2.0\n",
      "4715  2.0\n",
      "4716  0.0\n",
      "4728  2.0\n",
      "4730  2.0\n",
      "4743  2.0\n",
      "4744  2.0\n",
      "4747  2.0\n",
      "4748  0.0\n",
      "4768  2.0\n",
      "4773  0.0\n",
      "4777  2.0\n",
      "4781  0.0\n",
      "4782  2.0\n",
      "4783  0.0\n",
      "4790  2.0\n",
      "4791  0.0\n",
      "4794  0.0\n",
      "4798  0.0\n",
      "4799  0.0\n",
      "\n",
      "[1200 rows x 1 columns]\n",
      "Train shape:  (1200, 400)\n",
      "Test shape:  (4100, 400)\n",
      "Train shape:  (4200, 400)\n",
      "Test shape:  (4100, 400)\n",
      "Train shape:  (4800, 400)\n",
      "Test shape:  (4100, 400)\n",
      "Train shape:  (4200, 400)\n",
      "Test shape:  (4100, 400)\n",
      "        y\n",
      "1     0.0\n",
      "6     2.0\n",
      "10    0.0\n",
      "12    0.0\n",
      "15    0.0\n",
      "21    2.0\n",
      "23    0.0\n",
      "24    0.0\n",
      "25    0.0\n",
      "43    2.0\n",
      "50    0.0\n",
      "73    0.0\n",
      "75    2.0\n",
      "79    2.0\n",
      "83    2.0\n",
      "85    2.0\n",
      "92    0.0\n",
      "93    0.0\n",
      "94    2.0\n",
      "96    0.0\n",
      "97    0.0\n",
      "99    0.0\n",
      "107   2.0\n",
      "111   0.0\n",
      "118   0.0\n",
      "123   0.0\n",
      "124   2.0\n",
      "131   2.0\n",
      "134   2.0\n",
      "141   0.0\n",
      "...   ...\n",
      "4674  0.0\n",
      "4681  2.0\n",
      "4682  2.0\n",
      "4683  2.0\n",
      "4684  0.0\n",
      "4690  0.0\n",
      "4696  2.0\n",
      "4697  2.0\n",
      "4699  0.0\n",
      "4702  0.0\n",
      "4713  2.0\n",
      "4715  2.0\n",
      "4716  0.0\n",
      "4728  2.0\n",
      "4730  2.0\n",
      "4743  2.0\n",
      "4744  2.0\n",
      "4747  2.0\n",
      "4748  0.0\n",
      "4768  2.0\n",
      "4773  0.0\n",
      "4777  2.0\n",
      "4781  0.0\n",
      "4782  2.0\n",
      "4783  0.0\n",
      "4790  2.0\n",
      "4791  0.0\n",
      "4794  0.0\n",
      "4798  0.0\n",
      "4799  0.0\n",
      "\n",
      "[1200 rows x 1 columns]\n",
      "Train shape:  (1200, 400)\n",
      "Test shape:  (4100, 400)\n",
      "Train shape:  (4200, 400)\n",
      "Test shape:  (4100, 400)\n",
      "Train shape:  (4800, 400)\n",
      "Test shape:  (4100, 400)\n",
      "Train shape:  (4200, 400)\n",
      "Test shape:  (4100, 400)\n",
      "        y\n",
      "1     0.0\n",
      "6     2.0\n",
      "10    0.0\n",
      "12    0.0\n",
      "15    0.0\n",
      "21    2.0\n",
      "23    0.0\n",
      "24    0.0\n",
      "25    0.0\n",
      "43    2.0\n",
      "50    0.0\n",
      "73    0.0\n",
      "75    2.0\n",
      "79    2.0\n",
      "83    2.0\n",
      "85    2.0\n",
      "92    0.0\n",
      "93    0.0\n",
      "94    2.0\n",
      "96    0.0\n",
      "97    0.0\n",
      "99    0.0\n",
      "107   2.0\n",
      "111   0.0\n",
      "118   0.0\n",
      "123   0.0\n",
      "124   2.0\n",
      "131   2.0\n",
      "134   2.0\n",
      "141   0.0\n",
      "...   ...\n",
      "4674  0.0\n",
      "4681  2.0\n",
      "4682  2.0\n",
      "4683  2.0\n",
      "4684  0.0\n",
      "4690  0.0\n",
      "4696  2.0\n",
      "4697  2.0\n",
      "4699  0.0\n",
      "4702  0.0\n",
      "4713  2.0\n",
      "4715  2.0\n",
      "4716  0.0\n",
      "4728  2.0\n",
      "4730  2.0\n",
      "4743  2.0\n",
      "4744  2.0\n",
      "4747  2.0\n",
      "4748  0.0\n",
      "4768  2.0\n",
      "4773  0.0\n",
      "4777  2.0\n",
      "4781  0.0\n",
      "4782  2.0\n",
      "4783  0.0\n",
      "4790  2.0\n",
      "4791  0.0\n",
      "4794  0.0\n",
      "4798  0.0\n",
      "4799  0.0\n",
      "\n",
      "[1200 rows x 1 columns]\n",
      "Train shape:  (1200, 400)\n",
      "Test shape:  (4100, 400)\n",
      "Train shape:  (4200, 400)\n",
      "Test shape:  (4100, 400)\n",
      "Train shape:  (4800, 400)\n",
      "Test shape:  (4100, 400)\n",
      "Train shape:  (4200, 400)\n",
      "Test shape:  (4100, 400)\n",
      "        y\n",
      "1     0.0\n",
      "6     2.0\n",
      "10    0.0\n",
      "12    0.0\n",
      "15    0.0\n",
      "21    2.0\n",
      "23    0.0\n",
      "24    0.0\n",
      "25    0.0\n",
      "43    2.0\n",
      "50    0.0\n",
      "73    0.0\n",
      "75    2.0\n",
      "79    2.0\n",
      "83    2.0\n",
      "85    2.0\n",
      "92    0.0\n",
      "93    0.0\n",
      "94    2.0\n",
      "96    0.0\n",
      "97    0.0\n",
      "99    0.0\n",
      "107   2.0\n",
      "111   0.0\n",
      "118   0.0\n",
      "123   0.0\n",
      "124   2.0\n",
      "131   2.0\n",
      "134   2.0\n",
      "141   0.0\n",
      "...   ...\n",
      "4674  0.0\n",
      "4681  2.0\n",
      "4682  2.0\n",
      "4683  2.0\n",
      "4684  0.0\n",
      "4690  0.0\n",
      "4696  2.0\n",
      "4697  2.0\n",
      "4699  0.0\n",
      "4702  0.0\n",
      "4713  2.0\n",
      "4715  2.0\n",
      "4716  0.0\n",
      "4728  2.0\n",
      "4730  2.0\n",
      "4743  2.0\n",
      "4744  2.0\n",
      "4747  2.0\n",
      "4748  0.0\n",
      "4768  2.0\n",
      "4773  0.0\n",
      "4777  2.0\n",
      "4781  0.0\n",
      "4782  2.0\n",
      "4783  0.0\n",
      "4790  2.0\n",
      "4791  0.0\n",
      "4794  0.0\n",
      "4798  0.0\n",
      "4799  0.0\n",
      "\n",
      "[1200 rows x 1 columns]\n",
      "Train shape:  (1200, 400)\n",
      "Test shape:  (4100, 400)\n",
      "Train shape:  (4200, 400)\n",
      "Test shape:  (4100, 400)\n",
      "Train shape:  (4800, 400)\n",
      "Test shape:  (4100, 400)\n",
      "Train shape:  (4200, 400)\n",
      "Test shape:  (4100, 400)\n",
      "        y\n",
      "1     0.0\n",
      "6     2.0\n",
      "10    0.0\n",
      "12    0.0\n",
      "15    0.0\n",
      "21    2.0\n",
      "23    0.0\n",
      "24    0.0\n",
      "25    0.0\n",
      "43    2.0\n",
      "50    0.0\n",
      "73    0.0\n",
      "75    2.0\n",
      "79    2.0\n",
      "83    2.0\n",
      "85    2.0\n",
      "92    0.0\n",
      "93    0.0\n",
      "94    2.0\n",
      "96    0.0\n",
      "97    0.0\n",
      "99    0.0\n",
      "107   2.0\n",
      "111   0.0\n",
      "118   0.0\n",
      "123   0.0\n",
      "124   2.0\n",
      "131   2.0\n",
      "134   2.0\n",
      "141   0.0\n",
      "...   ...\n",
      "4674  0.0\n",
      "4681  2.0\n",
      "4682  2.0\n",
      "4683  2.0\n",
      "4684  0.0\n",
      "4690  0.0\n",
      "4696  2.0\n",
      "4697  2.0\n",
      "4699  0.0\n",
      "4702  0.0\n",
      "4713  2.0\n",
      "4715  2.0\n",
      "4716  0.0\n",
      "4728  2.0\n",
      "4730  2.0\n",
      "4743  2.0\n",
      "4744  2.0\n",
      "4747  2.0\n",
      "4748  0.0\n",
      "4768  2.0\n",
      "4773  0.0\n",
      "4777  2.0\n",
      "4781  0.0\n",
      "4782  2.0\n",
      "4783  0.0\n",
      "4790  2.0\n",
      "4791  0.0\n",
      "4794  0.0\n",
      "4798  0.0\n",
      "4799  0.0\n",
      "\n",
      "[1200 rows x 1 columns]\n",
      "Train shape:  (1200, 400)\n",
      "Test shape:  (4100, 400)\n",
      "Train shape:  (4200, 400)\n",
      "Test shape:  (4100, 400)\n",
      "Train shape:  (4800, 400)\n",
      "Test shape:  (4100, 400)\n",
      "Train shape:  (4200, 400)\n",
      "Test shape:  (4100, 400)\n",
      "        y\n",
      "1     0.0\n",
      "6     2.0\n",
      "10    0.0\n",
      "12    0.0\n",
      "15    0.0\n",
      "21    2.0\n",
      "23    0.0\n",
      "24    0.0\n",
      "25    0.0\n",
      "43    2.0\n",
      "50    0.0\n",
      "73    0.0\n",
      "75    2.0\n",
      "79    2.0\n",
      "83    2.0\n",
      "85    2.0\n",
      "92    0.0\n",
      "93    0.0\n",
      "94    2.0\n",
      "96    0.0\n",
      "97    0.0\n",
      "99    0.0\n",
      "107   2.0\n",
      "111   0.0\n",
      "118   0.0\n",
      "123   0.0\n",
      "124   2.0\n",
      "131   2.0\n",
      "134   2.0\n",
      "141   0.0\n",
      "...   ...\n",
      "4674  0.0\n",
      "4681  2.0\n",
      "4682  2.0\n",
      "4683  2.0\n",
      "4684  0.0\n",
      "4690  0.0\n",
      "4696  2.0\n",
      "4697  2.0\n",
      "4699  0.0\n",
      "4702  0.0\n",
      "4713  2.0\n",
      "4715  2.0\n",
      "4716  0.0\n",
      "4728  2.0\n",
      "4730  2.0\n",
      "4743  2.0\n",
      "4744  2.0\n",
      "4747  2.0\n",
      "4748  0.0\n",
      "4768  2.0\n",
      "4773  0.0\n",
      "4777  2.0\n",
      "4781  0.0\n",
      "4782  2.0\n",
      "4783  0.0\n",
      "4790  2.0\n",
      "4791  0.0\n",
      "4794  0.0\n",
      "4798  0.0\n",
      "4799  0.0\n",
      "\n",
      "[1200 rows x 1 columns]\n",
      "Train shape:  (1200, 400)\n",
      "Test shape:  (4100, 400)\n",
      "Train shape:  (4200, 400)\n",
      "Test shape:  (4100, 400)\n",
      "Train shape:  (4800, 400)\n",
      "Test shape:  (4100, 400)\n",
      "Train shape:  (4200, 400)\n",
      "Test shape:  (4100, 400)\n",
      "        y\n",
      "1     0.0\n",
      "6     2.0\n",
      "10    0.0\n",
      "12    0.0\n",
      "15    0.0\n",
      "21    2.0\n",
      "23    0.0\n",
      "24    0.0\n",
      "25    0.0\n",
      "43    2.0\n",
      "50    0.0\n",
      "73    0.0\n",
      "75    2.0\n",
      "79    2.0\n",
      "83    2.0\n",
      "85    2.0\n",
      "92    0.0\n",
      "93    0.0\n",
      "94    2.0\n",
      "96    0.0\n",
      "97    0.0\n",
      "99    0.0\n",
      "107   2.0\n",
      "111   0.0\n",
      "118   0.0\n",
      "123   0.0\n",
      "124   2.0\n",
      "131   2.0\n",
      "134   2.0\n",
      "141   0.0\n",
      "...   ...\n",
      "4674  0.0\n",
      "4681  2.0\n",
      "4682  2.0\n",
      "4683  2.0\n",
      "4684  0.0\n",
      "4690  0.0\n",
      "4696  2.0\n",
      "4697  2.0\n",
      "4699  0.0\n",
      "4702  0.0\n",
      "4713  2.0\n",
      "4715  2.0\n",
      "4716  0.0\n",
      "4728  2.0\n",
      "4730  2.0\n",
      "4743  2.0\n",
      "4744  2.0\n",
      "4747  2.0\n",
      "4748  0.0\n",
      "4768  2.0\n",
      "4773  0.0\n",
      "4777  2.0\n",
      "4781  0.0\n",
      "4782  2.0\n",
      "4783  0.0\n",
      "4790  2.0\n",
      "4791  0.0\n",
      "4794  0.0\n",
      "4798  0.0\n",
      "4799  0.0\n",
      "\n",
      "[1200 rows x 1 columns]\n",
      "Train shape:  (1200, 400)\n",
      "Test shape:  (4100, 400)\n",
      "Train shape:  (4200, 400)\n",
      "Test shape:  (4100, 400)\n",
      "Train shape:  (4800, 400)\n",
      "Test shape:  (4100, 400)\n",
      "Train shape:  (4200, 400)\n",
      "Test shape:  (4100, 400)\n",
      "        y\n",
      "1     0.0\n",
      "6     2.0\n",
      "10    0.0\n",
      "12    0.0\n",
      "15    0.0\n",
      "21    2.0\n",
      "23    0.0\n",
      "24    0.0\n",
      "25    0.0\n",
      "43    2.0\n",
      "50    0.0\n",
      "73    0.0\n",
      "75    2.0\n",
      "79    2.0\n",
      "83    2.0\n",
      "85    2.0\n",
      "92    0.0\n",
      "93    0.0\n",
      "94    2.0\n",
      "96    0.0\n",
      "97    0.0\n",
      "99    0.0\n",
      "107   2.0\n",
      "111   0.0\n",
      "118   0.0\n",
      "123   0.0\n",
      "124   2.0\n",
      "131   2.0\n",
      "134   2.0\n",
      "141   0.0\n",
      "...   ...\n",
      "4674  0.0\n",
      "4681  2.0\n",
      "4682  2.0\n",
      "4683  2.0\n",
      "4684  0.0\n",
      "4690  0.0\n",
      "4696  2.0\n",
      "4697  2.0\n",
      "4699  0.0\n",
      "4702  0.0\n",
      "4713  2.0\n",
      "4715  2.0\n",
      "4716  0.0\n",
      "4728  2.0\n",
      "4730  2.0\n",
      "4743  2.0\n",
      "4744  2.0\n",
      "4747  2.0\n",
      "4748  0.0\n",
      "4768  2.0\n",
      "4773  0.0\n",
      "4777  2.0\n",
      "4781  0.0\n",
      "4782  2.0\n",
      "4783  0.0\n",
      "4790  2.0\n",
      "4791  0.0\n",
      "4794  0.0\n",
      "4798  0.0\n",
      "4799  0.0\n",
      "\n",
      "[1200 rows x 1 columns]\n",
      "Train shape:  (1200, 400)\n",
      "Test shape:  (4100, 400)\n",
      "Train shape:  (4200, 400)\n",
      "Test shape:  (4100, 400)\n",
      "Train shape:  (4800, 400)\n",
      "Test shape:  (4100, 400)\n",
      "Train shape:  (4200, 400)\n",
      "Test shape:  (4100, 400)\n",
      "        y\n",
      "1     0.0\n",
      "6     2.0\n",
      "10    0.0\n",
      "12    0.0\n",
      "15    0.0\n",
      "21    2.0\n",
      "23    0.0\n",
      "24    0.0\n",
      "25    0.0\n",
      "43    2.0\n",
      "50    0.0\n",
      "73    0.0\n",
      "75    2.0\n",
      "79    2.0\n",
      "83    2.0\n",
      "85    2.0\n",
      "92    0.0\n",
      "93    0.0\n",
      "94    2.0\n",
      "96    0.0\n",
      "97    0.0\n",
      "99    0.0\n",
      "107   2.0\n",
      "111   0.0\n",
      "118   0.0\n",
      "123   0.0\n",
      "124   2.0\n",
      "131   2.0\n",
      "134   2.0\n",
      "141   0.0\n",
      "...   ...\n",
      "4674  0.0\n",
      "4681  2.0\n",
      "4682  2.0\n",
      "4683  2.0\n",
      "4684  0.0\n",
      "4690  0.0\n",
      "4696  2.0\n",
      "4697  2.0\n",
      "4699  0.0\n",
      "4702  0.0\n",
      "4713  2.0\n",
      "4715  2.0\n",
      "4716  0.0\n",
      "4728  2.0\n",
      "4730  2.0\n",
      "4743  2.0\n",
      "4744  2.0\n",
      "4747  2.0\n",
      "4748  0.0\n",
      "4768  2.0\n",
      "4773  0.0\n",
      "4777  2.0\n",
      "4781  0.0\n",
      "4782  2.0\n",
      "4783  0.0\n",
      "4790  2.0\n",
      "4791  0.0\n",
      "4794  0.0\n",
      "4798  0.0\n",
      "4799  0.0\n",
      "\n",
      "[1200 rows x 1 columns]\n",
      "Train shape:  (1200, 400)\n",
      "Test shape:  (4100, 400)\n",
      "Train shape:  (4200, 400)\n",
      "Test shape:  (4100, 400)\n",
      "Train shape:  (4800, 400)\n",
      "Test shape:  (4100, 400)\n",
      "Train shape:  (4200, 400)\n",
      "Test shape:  (4100, 400)\n",
      "        y\n",
      "1     0.0\n",
      "6     2.0\n",
      "10    0.0\n",
      "12    0.0\n",
      "15    0.0\n",
      "21    2.0\n",
      "23    0.0\n",
      "24    0.0\n",
      "25    0.0\n",
      "43    2.0\n",
      "50    0.0\n",
      "73    0.0\n",
      "75    2.0\n",
      "79    2.0\n",
      "83    2.0\n",
      "85    2.0\n",
      "92    0.0\n",
      "93    0.0\n",
      "94    2.0\n",
      "96    0.0\n",
      "97    0.0\n",
      "99    0.0\n",
      "107   2.0\n",
      "111   0.0\n",
      "118   0.0\n",
      "123   0.0\n",
      "124   2.0\n",
      "131   2.0\n",
      "134   2.0\n",
      "141   0.0\n",
      "...   ...\n",
      "4674  0.0\n",
      "4681  2.0\n",
      "4682  2.0\n",
      "4683  2.0\n",
      "4684  0.0\n",
      "4690  0.0\n",
      "4696  2.0\n",
      "4697  2.0\n",
      "4699  0.0\n",
      "4702  0.0\n",
      "4713  2.0\n",
      "4715  2.0\n",
      "4716  0.0\n",
      "4728  2.0\n",
      "4730  2.0\n",
      "4743  2.0\n",
      "4744  2.0\n",
      "4747  2.0\n",
      "4748  0.0\n",
      "4768  2.0\n",
      "4773  0.0\n",
      "4777  2.0\n",
      "4781  0.0\n",
      "4782  2.0\n",
      "4783  0.0\n",
      "4790  2.0\n",
      "4791  0.0\n",
      "4794  0.0\n",
      "4798  0.0\n",
      "4799  0.0\n",
      "\n",
      "[1200 rows x 1 columns]\n",
      "Train shape:  (1200, 400)\n",
      "Test shape:  (4100, 400)\n"
     ]
    },
    {
     "name": "stdout",
     "output_type": "stream",
     "text": [
      "Train shape:  (4200, 400)\n",
      "Test shape:  (4100, 400)\n"
     ]
    }
   ],
   "source": [
    "X_train_ensembles = []\n",
    "X_test_ensembles = []\n",
    "\n",
    "X_train_0_1_ensembles = []\n",
    "X_train_0_2_ensembles = []\n",
    "X_train_1_2_ensembles = []\n",
    "\n",
    "total_ensembles = 21\n",
    "n_features = 400\n",
    "min_range = 0\n",
    "max_range = 999\n",
    "\n",
    "for i in range(total_ensembles):\n",
    "    subset_indices = generate_random_numbers(n_features, min_range, max_range)\n",
    "    X_train_ensemble = generate_train_features_subset(train_data, subset_indices)\n",
    "    X_test_ensemble = generate_train_features_subset(test_data, subset_indices)\n",
    "    X_train_ensemble_scaled, X_test_ensemble_scaled= scale_data(X_train_ensemble, X_test_ensemble)\n",
    "    X_train_ensembles.append(X_train_ensemble_scaled)\n",
    "    X_test_ensembles.append(X_test_ensemble_scaled)\n",
    "    \n",
    "    X_train_0_1_ensemble = X_train_ensemble.ix[indices_0_1]\n",
    "    X_train_0_1_ensemble_scaled, X_test_ensemble_scaled= scale_data(X_train_0_1_ensemble, X_test_ensemble)\n",
    "    X_train_0_1_ensembles.append(X_train_0_1_ensemble_scaled)\n",
    "    \n",
    "    X_train_0_2_ensemble = X_train_ensemble.ix[indices_0_2]\n",
    "    X_train_0_2_ensemble_scaled, X_test_ensemble_scaled= scale_data(X_train_0_2_ensemble, X_test_ensemble)\n",
    "    X_train_0_2_ensembles.append(X_train_0_2_ensemble_scaled)\n",
    "\n",
    "    X_train_1_2_ensemble = X_train_ensemble.ix[indices_1_2]\n",
    "    X_train_1_2_ensemble_scaled, X_test_ensemble_scaled= scale_data(X_train_1_2_ensemble, X_test_ensemble)\n",
    "    X_train_1_2_ensembles.append(X_train_1_2_ensemble_scaled)\n",
    "\n"
   ]
  },
  {
   "cell_type": "code",
   "execution_count": 223,
   "metadata": {},
   "outputs": [],
   "source": [
    "from imblearn.ensemble import BalancedRandomForestClassifier\n",
    "from sklearn import svm\n",
    "\n",
    "\n",
    "def train_BRFC(X_train,Y_train,X_test):\n",
    "\n",
    "    BMAC = []\n",
    "\n",
    "    kfold = StratifiedKFold(n_splits=2, shuffle=True, random_state=seed)\n",
    "    for train, test in kfold.split(X_train, Y_train.values):\n",
    "        X = X_train[train]\n",
    "        Y = Y_train.values[train]\n",
    "        model = BalancedRandomForestClassifier(n_estimators=100, random_state=seed)\n",
    "        #rt = RandomTreesEmbedding(max_depth=3, n_estimators=n_estimator,\n",
    "        #                          random_state=0)\n",
    "\n",
    "        #pipeline = make_pipeline(rt, model)\n",
    "        #pipeline.fit(X, Y)\n",
    "        #y_pred_rt = pipeline.predict_proba(X_test)[:, 1]\n",
    "        model.fit(X, Y)\n",
    "    \n",
    "        plt.plot((-1*np.sort(-1*np.asarray(model.feature_importances_))))\n",
    "    \n",
    "        X_val = X_train[test]\n",
    "        Y_true = Y_train.values[test]\n",
    "        Y_pred = model.predict(X_val)\n",
    "\n",
    "        # Summary of the predictions made by the classifier\n",
    "        #print(classification_report(X_test, Y_pred))\n",
    "        #print(confusion_matrix(Y_test, Y_pred))\n",
    "        # Accuracy score\n",
    "        cur_BMAC = balanced_accuracy_score(Y_true, Y_pred)\n",
    "        print(cur_BMAC)\n",
    "        BMAC.append(cur_BMAC)\n",
    "    \n",
    "    print(\"AVG: BMAC score: %.4f (+/- %.4f)\" % (np.mean(BMAC), np.std(BMAC)))\n",
    "    model = BalancedRandomForestClassifier(n_estimators=100, random_state=seed)\n",
    "    model.fit(X_train, Y_train.values) # train on all data\n",
    "    pred = model.predict(X_test)\n",
    "    #make_submission('nk_balanced_random_forest_classifier.csv', pred)\n",
    "    return pred"
   ]
  },
  {
   "cell_type": "code",
   "execution_count": 216,
   "metadata": {},
   "outputs": [],
   "source": [
    "from imblearn.ensemble import EasyEnsembleClassifier\n",
    "\n",
    "BMAC = []\n",
    "\n",
    "def train_EEC(X_train,Y_train,X_test):\n",
    "\n",
    "    kfold = StratifiedKFold(n_splits=2, shuffle=True, random_state=seed)\n",
    "    for train, test in kfold.split(X_train, Y_train.values):\n",
    "        X = X_train[train]\n",
    "        Y = Y_train.values[train]\n",
    "        model = EasyEnsembleClassifier(random_state=seed)\n",
    "        model.fit(X, Y)\n",
    "    \n",
    "        X_val = X_train[test]\n",
    "        Y_true = Y_train.values[test]\n",
    "        Y_pred = model.predict(X_val)\n",
    "\n",
    "        # Accuracy score\n",
    "        cur_BMAC = balanced_accuracy_score(Y_true, Y_pred)\n",
    "        #print(cur_BMAC)\n",
    "        BMAC.append(cur_BMAC)\n",
    "    \n",
    "    print(\"AVG: BMAC score: %.4f (+/- %.4f)\" % (np.mean(BMAC), np.std(BMAC)))\n",
    "    pred = model.predict(X_test)\n",
    "    #make_submission('nk_easy_ensemble_classifier.csv', pred)"
   ]
  },
  {
   "cell_type": "code",
   "execution_count": 245,
   "metadata": {
    "scrolled": true
   },
   "outputs": [
    {
     "name": "stdout",
     "output_type": "stream",
     "text": [
      "All vs all\n"
     ]
    },
    {
     "name": "stderr",
     "output_type": "stream",
     "text": [
      "/home/francesco/anaconda3/lib/python3.6/site-packages/ipykernel_launcher.py:20: DataConversionWarning: A column-vector y was passed when a 1d array was expected. Please change the shape of y to (n_samples,), for example using ravel().\n"
     ]
    },
    {
     "name": "stdout",
     "output_type": "stream",
     "text": [
      "0.6494444444444444\n"
     ]
    },
    {
     "name": "stderr",
     "output_type": "stream",
     "text": [
      "/home/francesco/anaconda3/lib/python3.6/site-packages/ipykernel_launcher.py:20: DataConversionWarning: A column-vector y was passed when a 1d array was expected. Please change the shape of y to (n_samples,), for example using ravel().\n"
     ]
    },
    {
     "name": "stdout",
     "output_type": "stream",
     "text": [
      "0.6603703703703704\n",
      "AVG: BMAC score: 0.6549 (+/- 0.0055)\n"
     ]
    },
    {
     "name": "stderr",
     "output_type": "stream",
     "text": [
      "/home/francesco/anaconda3/lib/python3.6/site-packages/ipykernel_launcher.py:38: DataConversionWarning: A column-vector y was passed when a 1d array was expected. Please change the shape of y to (n_samples,), for example using ravel().\n"
     ]
    },
    {
     "name": "stdout",
     "output_type": "stream",
     "text": [
      "1 vs all\n",
      "1 vs 1\n"
     ]
    },
    {
     "name": "stderr",
     "output_type": "stream",
     "text": [
      "/home/francesco/anaconda3/lib/python3.6/site-packages/ipykernel_launcher.py:20: DataConversionWarning: A column-vector y was passed when a 1d array was expected. Please change the shape of y to (n_samples,), for example using ravel().\n"
     ]
    },
    {
     "name": "stdout",
     "output_type": "stream",
     "text": [
      "0.7827777777777778\n"
     ]
    },
    {
     "name": "stderr",
     "output_type": "stream",
     "text": [
      "/home/francesco/anaconda3/lib/python3.6/site-packages/ipykernel_launcher.py:20: DataConversionWarning: A column-vector y was passed when a 1d array was expected. Please change the shape of y to (n_samples,), for example using ravel().\n"
     ]
    },
    {
     "name": "stdout",
     "output_type": "stream",
     "text": [
      "0.773611111111111\n",
      "AVG: BMAC score: 0.7782 (+/- 0.0046)\n"
     ]
    },
    {
     "name": "stderr",
     "output_type": "stream",
     "text": [
      "/home/francesco/anaconda3/lib/python3.6/site-packages/ipykernel_launcher.py:38: DataConversionWarning: A column-vector y was passed when a 1d array was expected. Please change the shape of y to (n_samples,), for example using ravel().\n",
      "/home/francesco/anaconda3/lib/python3.6/site-packages/ipykernel_launcher.py:20: DataConversionWarning: A column-vector y was passed when a 1d array was expected. Please change the shape of y to (n_samples,), for example using ravel().\n"
     ]
    },
    {
     "name": "stdout",
     "output_type": "stream",
     "text": [
      "0.7233333333333334\n"
     ]
    },
    {
     "name": "stderr",
     "output_type": "stream",
     "text": [
      "/home/francesco/anaconda3/lib/python3.6/site-packages/ipykernel_launcher.py:20: DataConversionWarning: A column-vector y was passed when a 1d array was expected. Please change the shape of y to (n_samples,), for example using ravel().\n"
     ]
    },
    {
     "name": "stdout",
     "output_type": "stream",
     "text": [
      "0.69\n",
      "AVG: BMAC score: 0.7067 (+/- 0.0167)\n"
     ]
    },
    {
     "name": "stderr",
     "output_type": "stream",
     "text": [
      "/home/francesco/anaconda3/lib/python3.6/site-packages/ipykernel_launcher.py:38: DataConversionWarning: A column-vector y was passed when a 1d array was expected. Please change the shape of y to (n_samples,), for example using ravel().\n",
      "/home/francesco/anaconda3/lib/python3.6/site-packages/ipykernel_launcher.py:20: DataConversionWarning: A column-vector y was passed when a 1d array was expected. Please change the shape of y to (n_samples,), for example using ravel().\n"
     ]
    },
    {
     "name": "stdout",
     "output_type": "stream",
     "text": [
      "0.8388888888888889\n"
     ]
    },
    {
     "name": "stderr",
     "output_type": "stream",
     "text": [
      "/home/francesco/anaconda3/lib/python3.6/site-packages/ipykernel_launcher.py:20: DataConversionWarning: A column-vector y was passed when a 1d array was expected. Please change the shape of y to (n_samples,), for example using ravel().\n"
     ]
    },
    {
     "name": "stdout",
     "output_type": "stream",
     "text": [
      "0.8347222222222221\n",
      "AVG: BMAC score: 0.8368 (+/- 0.0021)\n"
     ]
    },
    {
     "name": "stderr",
     "output_type": "stream",
     "text": [
      "/home/francesco/anaconda3/lib/python3.6/site-packages/ipykernel_launcher.py:38: DataConversionWarning: A column-vector y was passed when a 1d array was expected. Please change the shape of y to (n_samples,), for example using ravel().\n"
     ]
    },
    {
     "name": "stdout",
     "output_type": "stream",
     "text": [
      "Test ensemble number:  1\n",
      "All vs all\n"
     ]
    },
    {
     "name": "stderr",
     "output_type": "stream",
     "text": [
      "/home/francesco/anaconda3/lib/python3.6/site-packages/ipykernel_launcher.py:20: DataConversionWarning: A column-vector y was passed when a 1d array was expected. Please change the shape of y to (n_samples,), for example using ravel().\n"
     ]
    },
    {
     "name": "stdout",
     "output_type": "stream",
     "text": [
      "0.6368518518518519\n"
     ]
    },
    {
     "name": "stderr",
     "output_type": "stream",
     "text": [
      "/home/francesco/anaconda3/lib/python3.6/site-packages/ipykernel_launcher.py:20: DataConversionWarning: A column-vector y was passed when a 1d array was expected. Please change the shape of y to (n_samples,), for example using ravel().\n"
     ]
    },
    {
     "name": "stdout",
     "output_type": "stream",
     "text": [
      "0.6477777777777778\n",
      "AVG: BMAC score: 0.6423 (+/- 0.0055)\n"
     ]
    },
    {
     "name": "stderr",
     "output_type": "stream",
     "text": [
      "/home/francesco/anaconda3/lib/python3.6/site-packages/ipykernel_launcher.py:38: DataConversionWarning: A column-vector y was passed when a 1d array was expected. Please change the shape of y to (n_samples,), for example using ravel().\n"
     ]
    },
    {
     "name": "stdout",
     "output_type": "stream",
     "text": [
      "1 vs all\n",
      "1 vs 1\n"
     ]
    },
    {
     "name": "stderr",
     "output_type": "stream",
     "text": [
      "/home/francesco/anaconda3/lib/python3.6/site-packages/ipykernel_launcher.py:20: DataConversionWarning: A column-vector y was passed when a 1d array was expected. Please change the shape of y to (n_samples,), for example using ravel().\n"
     ]
    },
    {
     "name": "stdout",
     "output_type": "stream",
     "text": [
      "0.7847222222222222\n"
     ]
    },
    {
     "name": "stderr",
     "output_type": "stream",
     "text": [
      "/home/francesco/anaconda3/lib/python3.6/site-packages/ipykernel_launcher.py:20: DataConversionWarning: A column-vector y was passed when a 1d array was expected. Please change the shape of y to (n_samples,), for example using ravel().\n"
     ]
    },
    {
     "name": "stdout",
     "output_type": "stream",
     "text": [
      "0.7830555555555556\n",
      "AVG: BMAC score: 0.7839 (+/- 0.0008)\n"
     ]
    },
    {
     "name": "stderr",
     "output_type": "stream",
     "text": [
      "/home/francesco/anaconda3/lib/python3.6/site-packages/ipykernel_launcher.py:38: DataConversionWarning: A column-vector y was passed when a 1d array was expected. Please change the shape of y to (n_samples,), for example using ravel().\n",
      "/home/francesco/anaconda3/lib/python3.6/site-packages/ipykernel_launcher.py:20: DataConversionWarning: A column-vector y was passed when a 1d array was expected. Please change the shape of y to (n_samples,), for example using ravel().\n"
     ]
    },
    {
     "name": "stdout",
     "output_type": "stream",
     "text": [
      "0.7016666666666667\n"
     ]
    },
    {
     "name": "stderr",
     "output_type": "stream",
     "text": [
      "/home/francesco/anaconda3/lib/python3.6/site-packages/ipykernel_launcher.py:20: DataConversionWarning: A column-vector y was passed when a 1d array was expected. Please change the shape of y to (n_samples,), for example using ravel().\n"
     ]
    },
    {
     "name": "stdout",
     "output_type": "stream",
     "text": [
      "0.7016666666666667\n",
      "AVG: BMAC score: 0.7017 (+/- 0.0000)\n"
     ]
    },
    {
     "name": "stderr",
     "output_type": "stream",
     "text": [
      "/home/francesco/anaconda3/lib/python3.6/site-packages/ipykernel_launcher.py:38: DataConversionWarning: A column-vector y was passed when a 1d array was expected. Please change the shape of y to (n_samples,), for example using ravel().\n",
      "/home/francesco/anaconda3/lib/python3.6/site-packages/ipykernel_launcher.py:20: DataConversionWarning: A column-vector y was passed when a 1d array was expected. Please change the shape of y to (n_samples,), for example using ravel().\n"
     ]
    },
    {
     "name": "stdout",
     "output_type": "stream",
     "text": [
      "0.845\n"
     ]
    },
    {
     "name": "stderr",
     "output_type": "stream",
     "text": [
      "/home/francesco/anaconda3/lib/python3.6/site-packages/ipykernel_launcher.py:20: DataConversionWarning: A column-vector y was passed when a 1d array was expected. Please change the shape of y to (n_samples,), for example using ravel().\n"
     ]
    },
    {
     "name": "stdout",
     "output_type": "stream",
     "text": [
      "0.8394444444444444\n",
      "AVG: BMAC score: 0.8422 (+/- 0.0028)\n"
     ]
    },
    {
     "name": "stderr",
     "output_type": "stream",
     "text": [
      "/home/francesco/anaconda3/lib/python3.6/site-packages/ipykernel_launcher.py:38: DataConversionWarning: A column-vector y was passed when a 1d array was expected. Please change the shape of y to (n_samples,), for example using ravel().\n"
     ]
    },
    {
     "name": "stdout",
     "output_type": "stream",
     "text": [
      "Test ensemble number:  2\n",
      "All vs all\n"
     ]
    },
    {
     "name": "stderr",
     "output_type": "stream",
     "text": [
      "/home/francesco/anaconda3/lib/python3.6/site-packages/ipykernel_launcher.py:20: DataConversionWarning: A column-vector y was passed when a 1d array was expected. Please change the shape of y to (n_samples,), for example using ravel().\n"
     ]
    },
    {
     "name": "stdout",
     "output_type": "stream",
     "text": [
      "0.6499999999999999\n"
     ]
    },
    {
     "name": "stderr",
     "output_type": "stream",
     "text": [
      "/home/francesco/anaconda3/lib/python3.6/site-packages/ipykernel_launcher.py:20: DataConversionWarning: A column-vector y was passed when a 1d array was expected. Please change the shape of y to (n_samples,), for example using ravel().\n"
     ]
    },
    {
     "name": "stdout",
     "output_type": "stream",
     "text": [
      "0.6498148148148147\n",
      "AVG: BMAC score: 0.6499 (+/- 0.0001)\n"
     ]
    },
    {
     "name": "stderr",
     "output_type": "stream",
     "text": [
      "/home/francesco/anaconda3/lib/python3.6/site-packages/ipykernel_launcher.py:38: DataConversionWarning: A column-vector y was passed when a 1d array was expected. Please change the shape of y to (n_samples,), for example using ravel().\n"
     ]
    },
    {
     "name": "stdout",
     "output_type": "stream",
     "text": [
      "1 vs all\n",
      "1 vs 1\n"
     ]
    },
    {
     "name": "stderr",
     "output_type": "stream",
     "text": [
      "/home/francesco/anaconda3/lib/python3.6/site-packages/ipykernel_launcher.py:20: DataConversionWarning: A column-vector y was passed when a 1d array was expected. Please change the shape of y to (n_samples,), for example using ravel().\n"
     ]
    },
    {
     "name": "stdout",
     "output_type": "stream",
     "text": [
      "0.7775000000000001\n"
     ]
    },
    {
     "name": "stderr",
     "output_type": "stream",
     "text": [
      "/home/francesco/anaconda3/lib/python3.6/site-packages/ipykernel_launcher.py:20: DataConversionWarning: A column-vector y was passed when a 1d array was expected. Please change the shape of y to (n_samples,), for example using ravel().\n"
     ]
    },
    {
     "name": "stdout",
     "output_type": "stream",
     "text": [
      "0.7708333333333333\n",
      "AVG: BMAC score: 0.7742 (+/- 0.0033)\n"
     ]
    },
    {
     "name": "stderr",
     "output_type": "stream",
     "text": [
      "/home/francesco/anaconda3/lib/python3.6/site-packages/ipykernel_launcher.py:38: DataConversionWarning: A column-vector y was passed when a 1d array was expected. Please change the shape of y to (n_samples,), for example using ravel().\n",
      "/home/francesco/anaconda3/lib/python3.6/site-packages/ipykernel_launcher.py:20: DataConversionWarning: A column-vector y was passed when a 1d array was expected. Please change the shape of y to (n_samples,), for example using ravel().\n"
     ]
    },
    {
     "name": "stdout",
     "output_type": "stream",
     "text": [
      "0.7133333333333334\n"
     ]
    },
    {
     "name": "stderr",
     "output_type": "stream",
     "text": [
      "/home/francesco/anaconda3/lib/python3.6/site-packages/ipykernel_launcher.py:20: DataConversionWarning: A column-vector y was passed when a 1d array was expected. Please change the shape of y to (n_samples,), for example using ravel().\n"
     ]
    },
    {
     "name": "stdout",
     "output_type": "stream",
     "text": [
      "0.7050000000000001\n",
      "AVG: BMAC score: 0.7092 (+/- 0.0042)\n"
     ]
    },
    {
     "name": "stderr",
     "output_type": "stream",
     "text": [
      "/home/francesco/anaconda3/lib/python3.6/site-packages/ipykernel_launcher.py:38: DataConversionWarning: A column-vector y was passed when a 1d array was expected. Please change the shape of y to (n_samples,), for example using ravel().\n",
      "/home/francesco/anaconda3/lib/python3.6/site-packages/ipykernel_launcher.py:20: DataConversionWarning: A column-vector y was passed when a 1d array was expected. Please change the shape of y to (n_samples,), for example using ravel().\n"
     ]
    },
    {
     "name": "stdout",
     "output_type": "stream",
     "text": [
      "0.8416666666666667\n"
     ]
    },
    {
     "name": "stderr",
     "output_type": "stream",
     "text": [
      "/home/francesco/anaconda3/lib/python3.6/site-packages/ipykernel_launcher.py:20: DataConversionWarning: A column-vector y was passed when a 1d array was expected. Please change the shape of y to (n_samples,), for example using ravel().\n"
     ]
    },
    {
     "name": "stdout",
     "output_type": "stream",
     "text": [
      "0.8416666666666667\n",
      "AVG: BMAC score: 0.8417 (+/- 0.0000)\n"
     ]
    },
    {
     "name": "stderr",
     "output_type": "stream",
     "text": [
      "/home/francesco/anaconda3/lib/python3.6/site-packages/ipykernel_launcher.py:38: DataConversionWarning: A column-vector y was passed when a 1d array was expected. Please change the shape of y to (n_samples,), for example using ravel().\n"
     ]
    },
    {
     "name": "stdout",
     "output_type": "stream",
     "text": [
      "Test ensemble number:  3\n",
      "All vs all\n"
     ]
    },
    {
     "name": "stderr",
     "output_type": "stream",
     "text": [
      "/home/francesco/anaconda3/lib/python3.6/site-packages/ipykernel_launcher.py:20: DataConversionWarning: A column-vector y was passed when a 1d array was expected. Please change the shape of y to (n_samples,), for example using ravel().\n"
     ]
    },
    {
     "name": "stdout",
     "output_type": "stream",
     "text": [
      "0.6542592592592592\n"
     ]
    },
    {
     "name": "stderr",
     "output_type": "stream",
     "text": [
      "/home/francesco/anaconda3/lib/python3.6/site-packages/ipykernel_launcher.py:20: DataConversionWarning: A column-vector y was passed when a 1d array was expected. Please change the shape of y to (n_samples,), for example using ravel().\n"
     ]
    },
    {
     "name": "stdout",
     "output_type": "stream",
     "text": [
      "0.6392592592592593\n",
      "AVG: BMAC score: 0.6468 (+/- 0.0075)\n"
     ]
    },
    {
     "name": "stderr",
     "output_type": "stream",
     "text": [
      "/home/francesco/anaconda3/lib/python3.6/site-packages/ipykernel_launcher.py:38: DataConversionWarning: A column-vector y was passed when a 1d array was expected. Please change the shape of y to (n_samples,), for example using ravel().\n"
     ]
    },
    {
     "name": "stdout",
     "output_type": "stream",
     "text": [
      "1 vs all\n",
      "1 vs 1\n"
     ]
    },
    {
     "name": "stderr",
     "output_type": "stream",
     "text": [
      "/home/francesco/anaconda3/lib/python3.6/site-packages/ipykernel_launcher.py:20: DataConversionWarning: A column-vector y was passed when a 1d array was expected. Please change the shape of y to (n_samples,), for example using ravel().\n"
     ]
    },
    {
     "name": "stdout",
     "output_type": "stream",
     "text": [
      "0.7866666666666666\n"
     ]
    },
    {
     "name": "stderr",
     "output_type": "stream",
     "text": [
      "/home/francesco/anaconda3/lib/python3.6/site-packages/ipykernel_launcher.py:20: DataConversionWarning: A column-vector y was passed when a 1d array was expected. Please change the shape of y to (n_samples,), for example using ravel().\n"
     ]
    },
    {
     "name": "stdout",
     "output_type": "stream",
     "text": [
      "0.7683333333333333\n",
      "AVG: BMAC score: 0.7775 (+/- 0.0092)\n"
     ]
    },
    {
     "name": "stderr",
     "output_type": "stream",
     "text": [
      "/home/francesco/anaconda3/lib/python3.6/site-packages/ipykernel_launcher.py:38: DataConversionWarning: A column-vector y was passed when a 1d array was expected. Please change the shape of y to (n_samples,), for example using ravel().\n",
      "/home/francesco/anaconda3/lib/python3.6/site-packages/ipykernel_launcher.py:20: DataConversionWarning: A column-vector y was passed when a 1d array was expected. Please change the shape of y to (n_samples,), for example using ravel().\n"
     ]
    },
    {
     "name": "stdout",
     "output_type": "stream",
     "text": [
      "0.7033333333333334\n"
     ]
    },
    {
     "name": "stderr",
     "output_type": "stream",
     "text": [
      "/home/francesco/anaconda3/lib/python3.6/site-packages/ipykernel_launcher.py:20: DataConversionWarning: A column-vector y was passed when a 1d array was expected. Please change the shape of y to (n_samples,), for example using ravel().\n"
     ]
    },
    {
     "name": "stdout",
     "output_type": "stream",
     "text": [
      "0.695\n",
      "AVG: BMAC score: 0.6992 (+/- 0.0042)\n"
     ]
    },
    {
     "name": "stderr",
     "output_type": "stream",
     "text": [
      "/home/francesco/anaconda3/lib/python3.6/site-packages/ipykernel_launcher.py:38: DataConversionWarning: A column-vector y was passed when a 1d array was expected. Please change the shape of y to (n_samples,), for example using ravel().\n",
      "/home/francesco/anaconda3/lib/python3.6/site-packages/ipykernel_launcher.py:20: DataConversionWarning: A column-vector y was passed when a 1d array was expected. Please change the shape of y to (n_samples,), for example using ravel().\n"
     ]
    },
    {
     "name": "stdout",
     "output_type": "stream",
     "text": [
      "0.845\n"
     ]
    },
    {
     "name": "stderr",
     "output_type": "stream",
     "text": [
      "/home/francesco/anaconda3/lib/python3.6/site-packages/ipykernel_launcher.py:20: DataConversionWarning: A column-vector y was passed when a 1d array was expected. Please change the shape of y to (n_samples,), for example using ravel().\n"
     ]
    },
    {
     "name": "stdout",
     "output_type": "stream",
     "text": [
      "0.8333333333333333\n",
      "AVG: BMAC score: 0.8392 (+/- 0.0058)\n"
     ]
    },
    {
     "name": "stderr",
     "output_type": "stream",
     "text": [
      "/home/francesco/anaconda3/lib/python3.6/site-packages/ipykernel_launcher.py:38: DataConversionWarning: A column-vector y was passed when a 1d array was expected. Please change the shape of y to (n_samples,), for example using ravel().\n"
     ]
    },
    {
     "name": "stdout",
     "output_type": "stream",
     "text": [
      "Test ensemble number:  4\n",
      "All vs all\n"
     ]
    },
    {
     "name": "stderr",
     "output_type": "stream",
     "text": [
      "/home/francesco/anaconda3/lib/python3.6/site-packages/ipykernel_launcher.py:20: DataConversionWarning: A column-vector y was passed when a 1d array was expected. Please change the shape of y to (n_samples,), for example using ravel().\n"
     ]
    },
    {
     "name": "stdout",
     "output_type": "stream",
     "text": [
      "0.654074074074074\n"
     ]
    },
    {
     "name": "stderr",
     "output_type": "stream",
     "text": [
      "/home/francesco/anaconda3/lib/python3.6/site-packages/ipykernel_launcher.py:20: DataConversionWarning: A column-vector y was passed when a 1d array was expected. Please change the shape of y to (n_samples,), for example using ravel().\n"
     ]
    },
    {
     "name": "stdout",
     "output_type": "stream",
     "text": [
      "0.6442592592592592\n",
      "AVG: BMAC score: 0.6492 (+/- 0.0049)\n"
     ]
    },
    {
     "name": "stderr",
     "output_type": "stream",
     "text": [
      "/home/francesco/anaconda3/lib/python3.6/site-packages/ipykernel_launcher.py:38: DataConversionWarning: A column-vector y was passed when a 1d array was expected. Please change the shape of y to (n_samples,), for example using ravel().\n"
     ]
    },
    {
     "name": "stdout",
     "output_type": "stream",
     "text": [
      "1 vs all\n",
      "1 vs 1\n"
     ]
    },
    {
     "name": "stderr",
     "output_type": "stream",
     "text": [
      "/home/francesco/anaconda3/lib/python3.6/site-packages/ipykernel_launcher.py:20: DataConversionWarning: A column-vector y was passed when a 1d array was expected. Please change the shape of y to (n_samples,), for example using ravel().\n"
     ]
    },
    {
     "name": "stdout",
     "output_type": "stream",
     "text": [
      "0.7916666666666667\n"
     ]
    },
    {
     "name": "stderr",
     "output_type": "stream",
     "text": [
      "/home/francesco/anaconda3/lib/python3.6/site-packages/ipykernel_launcher.py:20: DataConversionWarning: A column-vector y was passed when a 1d array was expected. Please change the shape of y to (n_samples,), for example using ravel().\n"
     ]
    },
    {
     "name": "stdout",
     "output_type": "stream",
     "text": [
      "0.7749999999999999\n",
      "AVG: BMAC score: 0.7833 (+/- 0.0083)\n"
     ]
    },
    {
     "name": "stderr",
     "output_type": "stream",
     "text": [
      "/home/francesco/anaconda3/lib/python3.6/site-packages/ipykernel_launcher.py:38: DataConversionWarning: A column-vector y was passed when a 1d array was expected. Please change the shape of y to (n_samples,), for example using ravel().\n",
      "/home/francesco/anaconda3/lib/python3.6/site-packages/ipykernel_launcher.py:20: DataConversionWarning: A column-vector y was passed when a 1d array was expected. Please change the shape of y to (n_samples,), for example using ravel().\n"
     ]
    },
    {
     "name": "stdout",
     "output_type": "stream",
     "text": [
      "0.7033333333333334\n"
     ]
    },
    {
     "name": "stderr",
     "output_type": "stream",
     "text": [
      "/home/francesco/anaconda3/lib/python3.6/site-packages/ipykernel_launcher.py:20: DataConversionWarning: A column-vector y was passed when a 1d array was expected. Please change the shape of y to (n_samples,), for example using ravel().\n"
     ]
    },
    {
     "name": "stdout",
     "output_type": "stream",
     "text": [
      "0.7\n",
      "AVG: BMAC score: 0.7017 (+/- 0.0017)\n"
     ]
    },
    {
     "name": "stderr",
     "output_type": "stream",
     "text": [
      "/home/francesco/anaconda3/lib/python3.6/site-packages/ipykernel_launcher.py:38: DataConversionWarning: A column-vector y was passed when a 1d array was expected. Please change the shape of y to (n_samples,), for example using ravel().\n",
      "/home/francesco/anaconda3/lib/python3.6/site-packages/ipykernel_launcher.py:20: DataConversionWarning: A column-vector y was passed when a 1d array was expected. Please change the shape of y to (n_samples,), for example using ravel().\n"
     ]
    },
    {
     "name": "stdout",
     "output_type": "stream",
     "text": [
      "0.8427777777777778\n"
     ]
    },
    {
     "name": "stderr",
     "output_type": "stream",
     "text": [
      "/home/francesco/anaconda3/lib/python3.6/site-packages/ipykernel_launcher.py:20: DataConversionWarning: A column-vector y was passed when a 1d array was expected. Please change the shape of y to (n_samples,), for example using ravel().\n"
     ]
    },
    {
     "name": "stdout",
     "output_type": "stream",
     "text": [
      "0.8316666666666667\n",
      "AVG: BMAC score: 0.8372 (+/- 0.0056)\n"
     ]
    },
    {
     "name": "stderr",
     "output_type": "stream",
     "text": [
      "/home/francesco/anaconda3/lib/python3.6/site-packages/ipykernel_launcher.py:38: DataConversionWarning: A column-vector y was passed when a 1d array was expected. Please change the shape of y to (n_samples,), for example using ravel().\n"
     ]
    },
    {
     "name": "stdout",
     "output_type": "stream",
     "text": [
      "Test ensemble number:  5\n",
      "All vs all\n"
     ]
    },
    {
     "name": "stderr",
     "output_type": "stream",
     "text": [
      "/home/francesco/anaconda3/lib/python3.6/site-packages/ipykernel_launcher.py:20: DataConversionWarning: A column-vector y was passed when a 1d array was expected. Please change the shape of y to (n_samples,), for example using ravel().\n"
     ]
    },
    {
     "name": "stdout",
     "output_type": "stream",
     "text": [
      "0.6524074074074074\n"
     ]
    },
    {
     "name": "stderr",
     "output_type": "stream",
     "text": [
      "/home/francesco/anaconda3/lib/python3.6/site-packages/ipykernel_launcher.py:20: DataConversionWarning: A column-vector y was passed when a 1d array was expected. Please change the shape of y to (n_samples,), for example using ravel().\n"
     ]
    },
    {
     "name": "stdout",
     "output_type": "stream",
     "text": [
      "0.6594444444444444\n",
      "AVG: BMAC score: 0.6559 (+/- 0.0035)\n"
     ]
    },
    {
     "name": "stderr",
     "output_type": "stream",
     "text": [
      "/home/francesco/anaconda3/lib/python3.6/site-packages/ipykernel_launcher.py:38: DataConversionWarning: A column-vector y was passed when a 1d array was expected. Please change the shape of y to (n_samples,), for example using ravel().\n"
     ]
    },
    {
     "name": "stdout",
     "output_type": "stream",
     "text": [
      "1 vs all\n",
      "1 vs 1\n"
     ]
    },
    {
     "name": "stderr",
     "output_type": "stream",
     "text": [
      "/home/francesco/anaconda3/lib/python3.6/site-packages/ipykernel_launcher.py:20: DataConversionWarning: A column-vector y was passed when a 1d array was expected. Please change the shape of y to (n_samples,), for example using ravel().\n"
     ]
    },
    {
     "name": "stdout",
     "output_type": "stream",
     "text": [
      "0.7902777777777779\n"
     ]
    },
    {
     "name": "stderr",
     "output_type": "stream",
     "text": [
      "/home/francesco/anaconda3/lib/python3.6/site-packages/ipykernel_launcher.py:20: DataConversionWarning: A column-vector y was passed when a 1d array was expected. Please change the shape of y to (n_samples,), for example using ravel().\n"
     ]
    },
    {
     "name": "stdout",
     "output_type": "stream",
     "text": [
      "0.7775000000000001\n",
      "AVG: BMAC score: 0.7839 (+/- 0.0064)\n"
     ]
    },
    {
     "name": "stderr",
     "output_type": "stream",
     "text": [
      "/home/francesco/anaconda3/lib/python3.6/site-packages/ipykernel_launcher.py:38: DataConversionWarning: A column-vector y was passed when a 1d array was expected. Please change the shape of y to (n_samples,), for example using ravel().\n",
      "/home/francesco/anaconda3/lib/python3.6/site-packages/ipykernel_launcher.py:20: DataConversionWarning: A column-vector y was passed when a 1d array was expected. Please change the shape of y to (n_samples,), for example using ravel().\n"
     ]
    },
    {
     "name": "stdout",
     "output_type": "stream",
     "text": [
      "0.7016666666666667\n"
     ]
    },
    {
     "name": "stderr",
     "output_type": "stream",
     "text": [
      "/home/francesco/anaconda3/lib/python3.6/site-packages/ipykernel_launcher.py:20: DataConversionWarning: A column-vector y was passed when a 1d array was expected. Please change the shape of y to (n_samples,), for example using ravel().\n"
     ]
    },
    {
     "name": "stdout",
     "output_type": "stream",
     "text": [
      "0.6983333333333334\n",
      "AVG: BMAC score: 0.7000 (+/- 0.0017)\n"
     ]
    },
    {
     "name": "stderr",
     "output_type": "stream",
     "text": [
      "/home/francesco/anaconda3/lib/python3.6/site-packages/ipykernel_launcher.py:38: DataConversionWarning: A column-vector y was passed when a 1d array was expected. Please change the shape of y to (n_samples,), for example using ravel().\n",
      "/home/francesco/anaconda3/lib/python3.6/site-packages/ipykernel_launcher.py:20: DataConversionWarning: A column-vector y was passed when a 1d array was expected. Please change the shape of y to (n_samples,), for example using ravel().\n"
     ]
    },
    {
     "name": "stdout",
     "output_type": "stream",
     "text": [
      "0.8488888888888889\n"
     ]
    },
    {
     "name": "stderr",
     "output_type": "stream",
     "text": [
      "/home/francesco/anaconda3/lib/python3.6/site-packages/ipykernel_launcher.py:20: DataConversionWarning: A column-vector y was passed when a 1d array was expected. Please change the shape of y to (n_samples,), for example using ravel().\n"
     ]
    },
    {
     "name": "stdout",
     "output_type": "stream",
     "text": [
      "0.8369444444444445\n",
      "AVG: BMAC score: 0.8429 (+/- 0.0060)\n"
     ]
    },
    {
     "name": "stderr",
     "output_type": "stream",
     "text": [
      "/home/francesco/anaconda3/lib/python3.6/site-packages/ipykernel_launcher.py:38: DataConversionWarning: A column-vector y was passed when a 1d array was expected. Please change the shape of y to (n_samples,), for example using ravel().\n"
     ]
    },
    {
     "name": "stdout",
     "output_type": "stream",
     "text": [
      "Test ensemble number:  6\n",
      "All vs all\n"
     ]
    },
    {
     "name": "stderr",
     "output_type": "stream",
     "text": [
      "/home/francesco/anaconda3/lib/python3.6/site-packages/ipykernel_launcher.py:20: DataConversionWarning: A column-vector y was passed when a 1d array was expected. Please change the shape of y to (n_samples,), for example using ravel().\n"
     ]
    },
    {
     "name": "stdout",
     "output_type": "stream",
     "text": [
      "0.6531481481481481\n"
     ]
    },
    {
     "name": "stderr",
     "output_type": "stream",
     "text": [
      "/home/francesco/anaconda3/lib/python3.6/site-packages/ipykernel_launcher.py:20: DataConversionWarning: A column-vector y was passed when a 1d array was expected. Please change the shape of y to (n_samples,), for example using ravel().\n"
     ]
    },
    {
     "name": "stdout",
     "output_type": "stream",
     "text": [
      "0.6524074074074074\n",
      "AVG: BMAC score: 0.6528 (+/- 0.0004)\n"
     ]
    },
    {
     "name": "stderr",
     "output_type": "stream",
     "text": [
      "/home/francesco/anaconda3/lib/python3.6/site-packages/ipykernel_launcher.py:38: DataConversionWarning: A column-vector y was passed when a 1d array was expected. Please change the shape of y to (n_samples,), for example using ravel().\n"
     ]
    },
    {
     "name": "stdout",
     "output_type": "stream",
     "text": [
      "1 vs all\n",
      "1 vs 1\n"
     ]
    },
    {
     "name": "stderr",
     "output_type": "stream",
     "text": [
      "/home/francesco/anaconda3/lib/python3.6/site-packages/ipykernel_launcher.py:20: DataConversionWarning: A column-vector y was passed when a 1d array was expected. Please change the shape of y to (n_samples,), for example using ravel().\n"
     ]
    },
    {
     "name": "stdout",
     "output_type": "stream",
     "text": [
      "0.7744444444444445\n"
     ]
    },
    {
     "name": "stderr",
     "output_type": "stream",
     "text": [
      "/home/francesco/anaconda3/lib/python3.6/site-packages/ipykernel_launcher.py:20: DataConversionWarning: A column-vector y was passed when a 1d array was expected. Please change the shape of y to (n_samples,), for example using ravel().\n"
     ]
    },
    {
     "name": "stdout",
     "output_type": "stream",
     "text": [
      "0.7708333333333333\n",
      "AVG: BMAC score: 0.7726 (+/- 0.0018)\n"
     ]
    },
    {
     "name": "stderr",
     "output_type": "stream",
     "text": [
      "/home/francesco/anaconda3/lib/python3.6/site-packages/ipykernel_launcher.py:38: DataConversionWarning: A column-vector y was passed when a 1d array was expected. Please change the shape of y to (n_samples,), for example using ravel().\n",
      "/home/francesco/anaconda3/lib/python3.6/site-packages/ipykernel_launcher.py:20: DataConversionWarning: A column-vector y was passed when a 1d array was expected. Please change the shape of y to (n_samples,), for example using ravel().\n"
     ]
    },
    {
     "name": "stdout",
     "output_type": "stream",
     "text": [
      "0.7183333333333333\n"
     ]
    },
    {
     "name": "stderr",
     "output_type": "stream",
     "text": [
      "/home/francesco/anaconda3/lib/python3.6/site-packages/ipykernel_launcher.py:20: DataConversionWarning: A column-vector y was passed when a 1d array was expected. Please change the shape of y to (n_samples,), for example using ravel().\n"
     ]
    },
    {
     "name": "stdout",
     "output_type": "stream",
     "text": [
      "0.71\n",
      "AVG: BMAC score: 0.7142 (+/- 0.0042)\n"
     ]
    },
    {
     "name": "stderr",
     "output_type": "stream",
     "text": [
      "/home/francesco/anaconda3/lib/python3.6/site-packages/ipykernel_launcher.py:38: DataConversionWarning: A column-vector y was passed when a 1d array was expected. Please change the shape of y to (n_samples,), for example using ravel().\n",
      "/home/francesco/anaconda3/lib/python3.6/site-packages/ipykernel_launcher.py:20: DataConversionWarning: A column-vector y was passed when a 1d array was expected. Please change the shape of y to (n_samples,), for example using ravel().\n"
     ]
    },
    {
     "name": "stdout",
     "output_type": "stream",
     "text": [
      "0.8505555555555555\n"
     ]
    },
    {
     "name": "stderr",
     "output_type": "stream",
     "text": [
      "/home/francesco/anaconda3/lib/python3.6/site-packages/ipykernel_launcher.py:20: DataConversionWarning: A column-vector y was passed when a 1d array was expected. Please change the shape of y to (n_samples,), for example using ravel().\n"
     ]
    },
    {
     "name": "stdout",
     "output_type": "stream",
     "text": [
      "0.8413888888888889\n",
      "AVG: BMAC score: 0.8460 (+/- 0.0046)\n"
     ]
    },
    {
     "name": "stderr",
     "output_type": "stream",
     "text": [
      "/home/francesco/anaconda3/lib/python3.6/site-packages/ipykernel_launcher.py:38: DataConversionWarning: A column-vector y was passed when a 1d array was expected. Please change the shape of y to (n_samples,), for example using ravel().\n"
     ]
    },
    {
     "name": "stdout",
     "output_type": "stream",
     "text": [
      "Test ensemble number:  7\n",
      "All vs all\n"
     ]
    },
    {
     "name": "stderr",
     "output_type": "stream",
     "text": [
      "/home/francesco/anaconda3/lib/python3.6/site-packages/ipykernel_launcher.py:20: DataConversionWarning: A column-vector y was passed when a 1d array was expected. Please change the shape of y to (n_samples,), for example using ravel().\n"
     ]
    },
    {
     "name": "stdout",
     "output_type": "stream",
     "text": [
      "0.6529629629629629\n"
     ]
    },
    {
     "name": "stderr",
     "output_type": "stream",
     "text": [
      "/home/francesco/anaconda3/lib/python3.6/site-packages/ipykernel_launcher.py:20: DataConversionWarning: A column-vector y was passed when a 1d array was expected. Please change the shape of y to (n_samples,), for example using ravel().\n"
     ]
    },
    {
     "name": "stdout",
     "output_type": "stream",
     "text": [
      "0.6349999999999999\n",
      "AVG: BMAC score: 0.6440 (+/- 0.0090)\n"
     ]
    },
    {
     "name": "stderr",
     "output_type": "stream",
     "text": [
      "/home/francesco/anaconda3/lib/python3.6/site-packages/ipykernel_launcher.py:38: DataConversionWarning: A column-vector y was passed when a 1d array was expected. Please change the shape of y to (n_samples,), for example using ravel().\n"
     ]
    },
    {
     "name": "stdout",
     "output_type": "stream",
     "text": [
      "1 vs all\n",
      "1 vs 1\n"
     ]
    },
    {
     "name": "stderr",
     "output_type": "stream",
     "text": [
      "/home/francesco/anaconda3/lib/python3.6/site-packages/ipykernel_launcher.py:20: DataConversionWarning: A column-vector y was passed when a 1d array was expected. Please change the shape of y to (n_samples,), for example using ravel().\n"
     ]
    },
    {
     "name": "stdout",
     "output_type": "stream",
     "text": [
      "0.7919444444444445\n"
     ]
    },
    {
     "name": "stderr",
     "output_type": "stream",
     "text": [
      "/home/francesco/anaconda3/lib/python3.6/site-packages/ipykernel_launcher.py:20: DataConversionWarning: A column-vector y was passed when a 1d array was expected. Please change the shape of y to (n_samples,), for example using ravel().\n"
     ]
    },
    {
     "name": "stdout",
     "output_type": "stream",
     "text": [
      "0.77\n",
      "AVG: BMAC score: 0.7810 (+/- 0.0110)\n"
     ]
    },
    {
     "name": "stderr",
     "output_type": "stream",
     "text": [
      "/home/francesco/anaconda3/lib/python3.6/site-packages/ipykernel_launcher.py:38: DataConversionWarning: A column-vector y was passed when a 1d array was expected. Please change the shape of y to (n_samples,), for example using ravel().\n",
      "/home/francesco/anaconda3/lib/python3.6/site-packages/ipykernel_launcher.py:20: DataConversionWarning: A column-vector y was passed when a 1d array was expected. Please change the shape of y to (n_samples,), for example using ravel().\n"
     ]
    },
    {
     "name": "stdout",
     "output_type": "stream",
     "text": [
      "0.7066666666666667\n"
     ]
    },
    {
     "name": "stderr",
     "output_type": "stream",
     "text": [
      "/home/francesco/anaconda3/lib/python3.6/site-packages/ipykernel_launcher.py:20: DataConversionWarning: A column-vector y was passed when a 1d array was expected. Please change the shape of y to (n_samples,), for example using ravel().\n"
     ]
    },
    {
     "name": "stdout",
     "output_type": "stream",
     "text": [
      "0.71\n",
      "AVG: BMAC score: 0.7083 (+/- 0.0017)\n"
     ]
    },
    {
     "name": "stderr",
     "output_type": "stream",
     "text": [
      "/home/francesco/anaconda3/lib/python3.6/site-packages/ipykernel_launcher.py:38: DataConversionWarning: A column-vector y was passed when a 1d array was expected. Please change the shape of y to (n_samples,), for example using ravel().\n",
      "/home/francesco/anaconda3/lib/python3.6/site-packages/ipykernel_launcher.py:20: DataConversionWarning: A column-vector y was passed when a 1d array was expected. Please change the shape of y to (n_samples,), for example using ravel().\n"
     ]
    },
    {
     "name": "stdout",
     "output_type": "stream",
     "text": [
      "0.8441666666666667\n"
     ]
    },
    {
     "name": "stderr",
     "output_type": "stream",
     "text": [
      "/home/francesco/anaconda3/lib/python3.6/site-packages/ipykernel_launcher.py:20: DataConversionWarning: A column-vector y was passed when a 1d array was expected. Please change the shape of y to (n_samples,), for example using ravel().\n"
     ]
    },
    {
     "name": "stdout",
     "output_type": "stream",
     "text": [
      "0.8383333333333334\n",
      "AVG: BMAC score: 0.8413 (+/- 0.0029)\n"
     ]
    },
    {
     "name": "stderr",
     "output_type": "stream",
     "text": [
      "/home/francesco/anaconda3/lib/python3.6/site-packages/ipykernel_launcher.py:38: DataConversionWarning: A column-vector y was passed when a 1d array was expected. Please change the shape of y to (n_samples,), for example using ravel().\n"
     ]
    },
    {
     "name": "stdout",
     "output_type": "stream",
     "text": [
      "Test ensemble number:  8\n",
      "All vs all\n"
     ]
    },
    {
     "name": "stderr",
     "output_type": "stream",
     "text": [
      "/home/francesco/anaconda3/lib/python3.6/site-packages/ipykernel_launcher.py:20: DataConversionWarning: A column-vector y was passed when a 1d array was expected. Please change the shape of y to (n_samples,), for example using ravel().\n"
     ]
    },
    {
     "name": "stdout",
     "output_type": "stream",
     "text": [
      "0.6588888888888889\n"
     ]
    },
    {
     "name": "stderr",
     "output_type": "stream",
     "text": [
      "/home/francesco/anaconda3/lib/python3.6/site-packages/ipykernel_launcher.py:20: DataConversionWarning: A column-vector y was passed when a 1d array was expected. Please change the shape of y to (n_samples,), for example using ravel().\n"
     ]
    },
    {
     "name": "stdout",
     "output_type": "stream",
     "text": [
      "0.6433333333333334\n",
      "AVG: BMAC score: 0.6511 (+/- 0.0078)\n"
     ]
    },
    {
     "name": "stderr",
     "output_type": "stream",
     "text": [
      "/home/francesco/anaconda3/lib/python3.6/site-packages/ipykernel_launcher.py:38: DataConversionWarning: A column-vector y was passed when a 1d array was expected. Please change the shape of y to (n_samples,), for example using ravel().\n"
     ]
    },
    {
     "name": "stdout",
     "output_type": "stream",
     "text": [
      "1 vs all\n",
      "1 vs 1\n"
     ]
    },
    {
     "name": "stderr",
     "output_type": "stream",
     "text": [
      "/home/francesco/anaconda3/lib/python3.6/site-packages/ipykernel_launcher.py:20: DataConversionWarning: A column-vector y was passed when a 1d array was expected. Please change the shape of y to (n_samples,), for example using ravel().\n"
     ]
    },
    {
     "name": "stdout",
     "output_type": "stream",
     "text": [
      "0.78\n"
     ]
    },
    {
     "name": "stderr",
     "output_type": "stream",
     "text": [
      "/home/francesco/anaconda3/lib/python3.6/site-packages/ipykernel_launcher.py:20: DataConversionWarning: A column-vector y was passed when a 1d array was expected. Please change the shape of y to (n_samples,), for example using ravel().\n"
     ]
    },
    {
     "name": "stdout",
     "output_type": "stream",
     "text": [
      "0.7719444444444444\n",
      "AVG: BMAC score: 0.7760 (+/- 0.0040)\n"
     ]
    },
    {
     "name": "stderr",
     "output_type": "stream",
     "text": [
      "/home/francesco/anaconda3/lib/python3.6/site-packages/ipykernel_launcher.py:38: DataConversionWarning: A column-vector y was passed when a 1d array was expected. Please change the shape of y to (n_samples,), for example using ravel().\n",
      "/home/francesco/anaconda3/lib/python3.6/site-packages/ipykernel_launcher.py:20: DataConversionWarning: A column-vector y was passed when a 1d array was expected. Please change the shape of y to (n_samples,), for example using ravel().\n"
     ]
    },
    {
     "name": "stdout",
     "output_type": "stream",
     "text": [
      "0.7216666666666667\n"
     ]
    },
    {
     "name": "stderr",
     "output_type": "stream",
     "text": [
      "/home/francesco/anaconda3/lib/python3.6/site-packages/ipykernel_launcher.py:20: DataConversionWarning: A column-vector y was passed when a 1d array was expected. Please change the shape of y to (n_samples,), for example using ravel().\n"
     ]
    },
    {
     "name": "stdout",
     "output_type": "stream",
     "text": [
      "0.6966666666666667\n",
      "AVG: BMAC score: 0.7092 (+/- 0.0125)\n"
     ]
    },
    {
     "name": "stderr",
     "output_type": "stream",
     "text": [
      "/home/francesco/anaconda3/lib/python3.6/site-packages/ipykernel_launcher.py:38: DataConversionWarning: A column-vector y was passed when a 1d array was expected. Please change the shape of y to (n_samples,), for example using ravel().\n",
      "/home/francesco/anaconda3/lib/python3.6/site-packages/ipykernel_launcher.py:20: DataConversionWarning: A column-vector y was passed when a 1d array was expected. Please change the shape of y to (n_samples,), for example using ravel().\n"
     ]
    },
    {
     "name": "stdout",
     "output_type": "stream",
     "text": [
      "0.8400000000000001\n"
     ]
    },
    {
     "name": "stderr",
     "output_type": "stream",
     "text": [
      "/home/francesco/anaconda3/lib/python3.6/site-packages/ipykernel_launcher.py:20: DataConversionWarning: A column-vector y was passed when a 1d array was expected. Please change the shape of y to (n_samples,), for example using ravel().\n"
     ]
    },
    {
     "name": "stdout",
     "output_type": "stream",
     "text": [
      "0.8388888888888888\n",
      "AVG: BMAC score: 0.8394 (+/- 0.0006)\n"
     ]
    },
    {
     "name": "stderr",
     "output_type": "stream",
     "text": [
      "/home/francesco/anaconda3/lib/python3.6/site-packages/ipykernel_launcher.py:38: DataConversionWarning: A column-vector y was passed when a 1d array was expected. Please change the shape of y to (n_samples,), for example using ravel().\n"
     ]
    },
    {
     "name": "stdout",
     "output_type": "stream",
     "text": [
      "Test ensemble number:  9\n",
      "All vs all\n"
     ]
    },
    {
     "name": "stderr",
     "output_type": "stream",
     "text": [
      "/home/francesco/anaconda3/lib/python3.6/site-packages/ipykernel_launcher.py:20: DataConversionWarning: A column-vector y was passed when a 1d array was expected. Please change the shape of y to (n_samples,), for example using ravel().\n"
     ]
    },
    {
     "name": "stdout",
     "output_type": "stream",
     "text": [
      "0.6522222222222221\n"
     ]
    },
    {
     "name": "stderr",
     "output_type": "stream",
     "text": [
      "/home/francesco/anaconda3/lib/python3.6/site-packages/ipykernel_launcher.py:20: DataConversionWarning: A column-vector y was passed when a 1d array was expected. Please change the shape of y to (n_samples,), for example using ravel().\n"
     ]
    },
    {
     "name": "stdout",
     "output_type": "stream",
     "text": [
      "0.6338888888888888\n",
      "AVG: BMAC score: 0.6431 (+/- 0.0092)\n"
     ]
    },
    {
     "name": "stderr",
     "output_type": "stream",
     "text": [
      "/home/francesco/anaconda3/lib/python3.6/site-packages/ipykernel_launcher.py:38: DataConversionWarning: A column-vector y was passed when a 1d array was expected. Please change the shape of y to (n_samples,), for example using ravel().\n"
     ]
    },
    {
     "name": "stdout",
     "output_type": "stream",
     "text": [
      "1 vs all\n",
      "1 vs 1\n"
     ]
    },
    {
     "name": "stderr",
     "output_type": "stream",
     "text": [
      "/home/francesco/anaconda3/lib/python3.6/site-packages/ipykernel_launcher.py:20: DataConversionWarning: A column-vector y was passed when a 1d array was expected. Please change the shape of y to (n_samples,), for example using ravel().\n"
     ]
    },
    {
     "name": "stdout",
     "output_type": "stream",
     "text": [
      "0.7875000000000001\n"
     ]
    },
    {
     "name": "stderr",
     "output_type": "stream",
     "text": [
      "/home/francesco/anaconda3/lib/python3.6/site-packages/ipykernel_launcher.py:20: DataConversionWarning: A column-vector y was passed when a 1d array was expected. Please change the shape of y to (n_samples,), for example using ravel().\n"
     ]
    },
    {
     "name": "stdout",
     "output_type": "stream",
     "text": [
      "0.7669444444444444\n",
      "AVG: BMAC score: 0.7772 (+/- 0.0103)\n"
     ]
    },
    {
     "name": "stderr",
     "output_type": "stream",
     "text": [
      "/home/francesco/anaconda3/lib/python3.6/site-packages/ipykernel_launcher.py:38: DataConversionWarning: A column-vector y was passed when a 1d array was expected. Please change the shape of y to (n_samples,), for example using ravel().\n",
      "/home/francesco/anaconda3/lib/python3.6/site-packages/ipykernel_launcher.py:20: DataConversionWarning: A column-vector y was passed when a 1d array was expected. Please change the shape of y to (n_samples,), for example using ravel().\n"
     ]
    },
    {
     "name": "stdout",
     "output_type": "stream",
     "text": [
      "0.715\n"
     ]
    },
    {
     "name": "stderr",
     "output_type": "stream",
     "text": [
      "/home/francesco/anaconda3/lib/python3.6/site-packages/ipykernel_launcher.py:20: DataConversionWarning: A column-vector y was passed when a 1d array was expected. Please change the shape of y to (n_samples,), for example using ravel().\n"
     ]
    },
    {
     "name": "stdout",
     "output_type": "stream",
     "text": [
      "0.7033333333333334\n",
      "AVG: BMAC score: 0.7092 (+/- 0.0058)\n"
     ]
    },
    {
     "name": "stderr",
     "output_type": "stream",
     "text": [
      "/home/francesco/anaconda3/lib/python3.6/site-packages/ipykernel_launcher.py:38: DataConversionWarning: A column-vector y was passed when a 1d array was expected. Please change the shape of y to (n_samples,), for example using ravel().\n",
      "/home/francesco/anaconda3/lib/python3.6/site-packages/ipykernel_launcher.py:20: DataConversionWarning: A column-vector y was passed when a 1d array was expected. Please change the shape of y to (n_samples,), for example using ravel().\n"
     ]
    },
    {
     "name": "stdout",
     "output_type": "stream",
     "text": [
      "0.8497222222222223\n"
     ]
    },
    {
     "name": "stderr",
     "output_type": "stream",
     "text": [
      "/home/francesco/anaconda3/lib/python3.6/site-packages/ipykernel_launcher.py:20: DataConversionWarning: A column-vector y was passed when a 1d array was expected. Please change the shape of y to (n_samples,), for example using ravel().\n"
     ]
    },
    {
     "name": "stdout",
     "output_type": "stream",
     "text": [
      "0.8355555555555556\n",
      "AVG: BMAC score: 0.8426 (+/- 0.0071)\n"
     ]
    },
    {
     "name": "stderr",
     "output_type": "stream",
     "text": [
      "/home/francesco/anaconda3/lib/python3.6/site-packages/ipykernel_launcher.py:38: DataConversionWarning: A column-vector y was passed when a 1d array was expected. Please change the shape of y to (n_samples,), for example using ravel().\n"
     ]
    },
    {
     "name": "stdout",
     "output_type": "stream",
     "text": [
      "Test ensemble number:  10\n",
      "All vs all\n"
     ]
    },
    {
     "name": "stderr",
     "output_type": "stream",
     "text": [
      "/home/francesco/anaconda3/lib/python3.6/site-packages/ipykernel_launcher.py:20: DataConversionWarning: A column-vector y was passed when a 1d array was expected. Please change the shape of y to (n_samples,), for example using ravel().\n"
     ]
    },
    {
     "name": "stdout",
     "output_type": "stream",
     "text": [
      "0.6350000000000001\n"
     ]
    },
    {
     "name": "stderr",
     "output_type": "stream",
     "text": [
      "/home/francesco/anaconda3/lib/python3.6/site-packages/ipykernel_launcher.py:20: DataConversionWarning: A column-vector y was passed when a 1d array was expected. Please change the shape of y to (n_samples,), for example using ravel().\n"
     ]
    },
    {
     "name": "stdout",
     "output_type": "stream",
     "text": [
      "0.6344444444444445\n",
      "AVG: BMAC score: 0.6347 (+/- 0.0003)\n"
     ]
    },
    {
     "name": "stderr",
     "output_type": "stream",
     "text": [
      "/home/francesco/anaconda3/lib/python3.6/site-packages/ipykernel_launcher.py:38: DataConversionWarning: A column-vector y was passed when a 1d array was expected. Please change the shape of y to (n_samples,), for example using ravel().\n"
     ]
    },
    {
     "name": "stdout",
     "output_type": "stream",
     "text": [
      "1 vs all\n",
      "1 vs 1\n"
     ]
    },
    {
     "name": "stderr",
     "output_type": "stream",
     "text": [
      "/home/francesco/anaconda3/lib/python3.6/site-packages/ipykernel_launcher.py:20: DataConversionWarning: A column-vector y was passed when a 1d array was expected. Please change the shape of y to (n_samples,), for example using ravel().\n"
     ]
    },
    {
     "name": "stdout",
     "output_type": "stream",
     "text": [
      "0.7952777777777778\n"
     ]
    },
    {
     "name": "stderr",
     "output_type": "stream",
     "text": [
      "/home/francesco/anaconda3/lib/python3.6/site-packages/ipykernel_launcher.py:20: DataConversionWarning: A column-vector y was passed when a 1d array was expected. Please change the shape of y to (n_samples,), for example using ravel().\n"
     ]
    },
    {
     "name": "stdout",
     "output_type": "stream",
     "text": [
      "0.7813888888888889\n",
      "AVG: BMAC score: 0.7883 (+/- 0.0069)\n"
     ]
    },
    {
     "name": "stderr",
     "output_type": "stream",
     "text": [
      "/home/francesco/anaconda3/lib/python3.6/site-packages/ipykernel_launcher.py:38: DataConversionWarning: A column-vector y was passed when a 1d array was expected. Please change the shape of y to (n_samples,), for example using ravel().\n",
      "/home/francesco/anaconda3/lib/python3.6/site-packages/ipykernel_launcher.py:20: DataConversionWarning: A column-vector y was passed when a 1d array was expected. Please change the shape of y to (n_samples,), for example using ravel().\n"
     ]
    },
    {
     "name": "stdout",
     "output_type": "stream",
     "text": [
      "0.6916666666666667\n"
     ]
    },
    {
     "name": "stderr",
     "output_type": "stream",
     "text": [
      "/home/francesco/anaconda3/lib/python3.6/site-packages/ipykernel_launcher.py:20: DataConversionWarning: A column-vector y was passed when a 1d array was expected. Please change the shape of y to (n_samples,), for example using ravel().\n"
     ]
    },
    {
     "name": "stdout",
     "output_type": "stream",
     "text": [
      "0.685\n",
      "AVG: BMAC score: 0.6883 (+/- 0.0033)\n"
     ]
    },
    {
     "name": "stderr",
     "output_type": "stream",
     "text": [
      "/home/francesco/anaconda3/lib/python3.6/site-packages/ipykernel_launcher.py:38: DataConversionWarning: A column-vector y was passed when a 1d array was expected. Please change the shape of y to (n_samples,), for example using ravel().\n",
      "/home/francesco/anaconda3/lib/python3.6/site-packages/ipykernel_launcher.py:20: DataConversionWarning: A column-vector y was passed when a 1d array was expected. Please change the shape of y to (n_samples,), for example using ravel().\n"
     ]
    },
    {
     "name": "stdout",
     "output_type": "stream",
     "text": [
      "0.8438888888888889\n"
     ]
    },
    {
     "name": "stderr",
     "output_type": "stream",
     "text": [
      "/home/francesco/anaconda3/lib/python3.6/site-packages/ipykernel_launcher.py:20: DataConversionWarning: A column-vector y was passed when a 1d array was expected. Please change the shape of y to (n_samples,), for example using ravel().\n"
     ]
    },
    {
     "name": "stdout",
     "output_type": "stream",
     "text": [
      "0.8302777777777778\n",
      "AVG: BMAC score: 0.8371 (+/- 0.0068)\n"
     ]
    },
    {
     "name": "stderr",
     "output_type": "stream",
     "text": [
      "/home/francesco/anaconda3/lib/python3.6/site-packages/ipykernel_launcher.py:38: DataConversionWarning: A column-vector y was passed when a 1d array was expected. Please change the shape of y to (n_samples,), for example using ravel().\n"
     ]
    },
    {
     "name": "stdout",
     "output_type": "stream",
     "text": [
      "Test ensemble number:  11\n",
      "All vs all\n"
     ]
    },
    {
     "name": "stderr",
     "output_type": "stream",
     "text": [
      "/home/francesco/anaconda3/lib/python3.6/site-packages/ipykernel_launcher.py:20: DataConversionWarning: A column-vector y was passed when a 1d array was expected. Please change the shape of y to (n_samples,), for example using ravel().\n"
     ]
    },
    {
     "name": "stdout",
     "output_type": "stream",
     "text": [
      "0.6635185185185185\n"
     ]
    },
    {
     "name": "stderr",
     "output_type": "stream",
     "text": [
      "/home/francesco/anaconda3/lib/python3.6/site-packages/ipykernel_launcher.py:20: DataConversionWarning: A column-vector y was passed when a 1d array was expected. Please change the shape of y to (n_samples,), for example using ravel().\n"
     ]
    },
    {
     "name": "stdout",
     "output_type": "stream",
     "text": [
      "0.6305555555555556\n",
      "AVG: BMAC score: 0.6470 (+/- 0.0165)\n"
     ]
    },
    {
     "name": "stderr",
     "output_type": "stream",
     "text": [
      "/home/francesco/anaconda3/lib/python3.6/site-packages/ipykernel_launcher.py:38: DataConversionWarning: A column-vector y was passed when a 1d array was expected. Please change the shape of y to (n_samples,), for example using ravel().\n"
     ]
    },
    {
     "name": "stdout",
     "output_type": "stream",
     "text": [
      "1 vs all\n",
      "1 vs 1\n"
     ]
    },
    {
     "name": "stderr",
     "output_type": "stream",
     "text": [
      "/home/francesco/anaconda3/lib/python3.6/site-packages/ipykernel_launcher.py:20: DataConversionWarning: A column-vector y was passed when a 1d array was expected. Please change the shape of y to (n_samples,), for example using ravel().\n"
     ]
    },
    {
     "name": "stdout",
     "output_type": "stream",
     "text": [
      "0.7983333333333333\n"
     ]
    },
    {
     "name": "stderr",
     "output_type": "stream",
     "text": [
      "/home/francesco/anaconda3/lib/python3.6/site-packages/ipykernel_launcher.py:20: DataConversionWarning: A column-vector y was passed when a 1d array was expected. Please change the shape of y to (n_samples,), for example using ravel().\n"
     ]
    },
    {
     "name": "stdout",
     "output_type": "stream",
     "text": [
      "0.7838888888888889\n",
      "AVG: BMAC score: 0.7911 (+/- 0.0072)\n"
     ]
    },
    {
     "name": "stderr",
     "output_type": "stream",
     "text": [
      "/home/francesco/anaconda3/lib/python3.6/site-packages/ipykernel_launcher.py:38: DataConversionWarning: A column-vector y was passed when a 1d array was expected. Please change the shape of y to (n_samples,), for example using ravel().\n",
      "/home/francesco/anaconda3/lib/python3.6/site-packages/ipykernel_launcher.py:20: DataConversionWarning: A column-vector y was passed when a 1d array was expected. Please change the shape of y to (n_samples,), for example using ravel().\n"
     ]
    },
    {
     "name": "stdout",
     "output_type": "stream",
     "text": [
      "0.7033333333333334\n"
     ]
    },
    {
     "name": "stderr",
     "output_type": "stream",
     "text": [
      "/home/francesco/anaconda3/lib/python3.6/site-packages/ipykernel_launcher.py:20: DataConversionWarning: A column-vector y was passed when a 1d array was expected. Please change the shape of y to (n_samples,), for example using ravel().\n"
     ]
    },
    {
     "name": "stdout",
     "output_type": "stream",
     "text": [
      "0.7166666666666667\n",
      "AVG: BMAC score: 0.7100 (+/- 0.0067)\n"
     ]
    },
    {
     "name": "stderr",
     "output_type": "stream",
     "text": [
      "/home/francesco/anaconda3/lib/python3.6/site-packages/ipykernel_launcher.py:38: DataConversionWarning: A column-vector y was passed when a 1d array was expected. Please change the shape of y to (n_samples,), for example using ravel().\n",
      "/home/francesco/anaconda3/lib/python3.6/site-packages/ipykernel_launcher.py:20: DataConversionWarning: A column-vector y was passed when a 1d array was expected. Please change the shape of y to (n_samples,), for example using ravel().\n"
     ]
    },
    {
     "name": "stdout",
     "output_type": "stream",
     "text": [
      "0.8480555555555556\n"
     ]
    },
    {
     "name": "stderr",
     "output_type": "stream",
     "text": [
      "/home/francesco/anaconda3/lib/python3.6/site-packages/ipykernel_launcher.py:20: DataConversionWarning: A column-vector y was passed when a 1d array was expected. Please change the shape of y to (n_samples,), for example using ravel().\n"
     ]
    },
    {
     "name": "stdout",
     "output_type": "stream",
     "text": [
      "0.8436111111111111\n",
      "AVG: BMAC score: 0.8458 (+/- 0.0022)\n"
     ]
    },
    {
     "name": "stderr",
     "output_type": "stream",
     "text": [
      "/home/francesco/anaconda3/lib/python3.6/site-packages/ipykernel_launcher.py:38: DataConversionWarning: A column-vector y was passed when a 1d array was expected. Please change the shape of y to (n_samples,), for example using ravel().\n"
     ]
    },
    {
     "name": "stdout",
     "output_type": "stream",
     "text": [
      "Test ensemble number:  12\n",
      "All vs all\n"
     ]
    },
    {
     "name": "stderr",
     "output_type": "stream",
     "text": [
      "/home/francesco/anaconda3/lib/python3.6/site-packages/ipykernel_launcher.py:20: DataConversionWarning: A column-vector y was passed when a 1d array was expected. Please change the shape of y to (n_samples,), for example using ravel().\n"
     ]
    },
    {
     "name": "stdout",
     "output_type": "stream",
     "text": [
      "0.6605555555555557\n"
     ]
    },
    {
     "name": "stderr",
     "output_type": "stream",
     "text": [
      "/home/francesco/anaconda3/lib/python3.6/site-packages/ipykernel_launcher.py:20: DataConversionWarning: A column-vector y was passed when a 1d array was expected. Please change the shape of y to (n_samples,), for example using ravel().\n"
     ]
    },
    {
     "name": "stdout",
     "output_type": "stream",
     "text": [
      "0.6438888888888888\n",
      "AVG: BMAC score: 0.6522 (+/- 0.0083)\n"
     ]
    },
    {
     "name": "stderr",
     "output_type": "stream",
     "text": [
      "/home/francesco/anaconda3/lib/python3.6/site-packages/ipykernel_launcher.py:38: DataConversionWarning: A column-vector y was passed when a 1d array was expected. Please change the shape of y to (n_samples,), for example using ravel().\n"
     ]
    },
    {
     "name": "stdout",
     "output_type": "stream",
     "text": [
      "1 vs all\n",
      "1 vs 1\n"
     ]
    },
    {
     "name": "stderr",
     "output_type": "stream",
     "text": [
      "/home/francesco/anaconda3/lib/python3.6/site-packages/ipykernel_launcher.py:20: DataConversionWarning: A column-vector y was passed when a 1d array was expected. Please change the shape of y to (n_samples,), for example using ravel().\n"
     ]
    },
    {
     "name": "stdout",
     "output_type": "stream",
     "text": [
      "0.7877777777777778\n"
     ]
    },
    {
     "name": "stderr",
     "output_type": "stream",
     "text": [
      "/home/francesco/anaconda3/lib/python3.6/site-packages/ipykernel_launcher.py:20: DataConversionWarning: A column-vector y was passed when a 1d array was expected. Please change the shape of y to (n_samples,), for example using ravel().\n"
     ]
    },
    {
     "name": "stdout",
     "output_type": "stream",
     "text": [
      "0.7716666666666667\n",
      "AVG: BMAC score: 0.7797 (+/- 0.0081)\n"
     ]
    },
    {
     "name": "stderr",
     "output_type": "stream",
     "text": [
      "/home/francesco/anaconda3/lib/python3.6/site-packages/ipykernel_launcher.py:38: DataConversionWarning: A column-vector y was passed when a 1d array was expected. Please change the shape of y to (n_samples,), for example using ravel().\n",
      "/home/francesco/anaconda3/lib/python3.6/site-packages/ipykernel_launcher.py:20: DataConversionWarning: A column-vector y was passed when a 1d array was expected. Please change the shape of y to (n_samples,), for example using ravel().\n"
     ]
    },
    {
     "name": "stdout",
     "output_type": "stream",
     "text": [
      "0.7183333333333333\n"
     ]
    },
    {
     "name": "stderr",
     "output_type": "stream",
     "text": [
      "/home/francesco/anaconda3/lib/python3.6/site-packages/ipykernel_launcher.py:20: DataConversionWarning: A column-vector y was passed when a 1d array was expected. Please change the shape of y to (n_samples,), for example using ravel().\n"
     ]
    },
    {
     "name": "stdout",
     "output_type": "stream",
     "text": [
      "0.6933333333333334\n",
      "AVG: BMAC score: 0.7058 (+/- 0.0125)\n"
     ]
    },
    {
     "name": "stderr",
     "output_type": "stream",
     "text": [
      "/home/francesco/anaconda3/lib/python3.6/site-packages/ipykernel_launcher.py:38: DataConversionWarning: A column-vector y was passed when a 1d array was expected. Please change the shape of y to (n_samples,), for example using ravel().\n",
      "/home/francesco/anaconda3/lib/python3.6/site-packages/ipykernel_launcher.py:20: DataConversionWarning: A column-vector y was passed when a 1d array was expected. Please change the shape of y to (n_samples,), for example using ravel().\n"
     ]
    },
    {
     "name": "stdout",
     "output_type": "stream",
     "text": [
      "0.8358333333333334\n"
     ]
    },
    {
     "name": "stderr",
     "output_type": "stream",
     "text": [
      "/home/francesco/anaconda3/lib/python3.6/site-packages/ipykernel_launcher.py:20: DataConversionWarning: A column-vector y was passed when a 1d array was expected. Please change the shape of y to (n_samples,), for example using ravel().\n"
     ]
    },
    {
     "name": "stdout",
     "output_type": "stream",
     "text": [
      "0.8447222222222222\n",
      "AVG: BMAC score: 0.8403 (+/- 0.0044)\n"
     ]
    },
    {
     "name": "stderr",
     "output_type": "stream",
     "text": [
      "/home/francesco/anaconda3/lib/python3.6/site-packages/ipykernel_launcher.py:38: DataConversionWarning: A column-vector y was passed when a 1d array was expected. Please change the shape of y to (n_samples,), for example using ravel().\n"
     ]
    },
    {
     "name": "stdout",
     "output_type": "stream",
     "text": [
      "Test ensemble number:  13\n",
      "All vs all\n"
     ]
    },
    {
     "name": "stderr",
     "output_type": "stream",
     "text": [
      "/home/francesco/anaconda3/lib/python3.6/site-packages/ipykernel_launcher.py:20: DataConversionWarning: A column-vector y was passed when a 1d array was expected. Please change the shape of y to (n_samples,), for example using ravel().\n"
     ]
    },
    {
     "name": "stdout",
     "output_type": "stream",
     "text": [
      "0.6659259259259259\n"
     ]
    },
    {
     "name": "stderr",
     "output_type": "stream",
     "text": [
      "/home/francesco/anaconda3/lib/python3.6/site-packages/ipykernel_launcher.py:20: DataConversionWarning: A column-vector y was passed when a 1d array was expected. Please change the shape of y to (n_samples,), for example using ravel().\n"
     ]
    },
    {
     "name": "stdout",
     "output_type": "stream",
     "text": [
      "0.6381481481481481\n",
      "AVG: BMAC score: 0.6520 (+/- 0.0139)\n"
     ]
    },
    {
     "name": "stderr",
     "output_type": "stream",
     "text": [
      "/home/francesco/anaconda3/lib/python3.6/site-packages/ipykernel_launcher.py:38: DataConversionWarning: A column-vector y was passed when a 1d array was expected. Please change the shape of y to (n_samples,), for example using ravel().\n"
     ]
    },
    {
     "name": "stdout",
     "output_type": "stream",
     "text": [
      "1 vs all\n",
      "1 vs 1\n"
     ]
    },
    {
     "name": "stderr",
     "output_type": "stream",
     "text": [
      "/home/francesco/anaconda3/lib/python3.6/site-packages/ipykernel_launcher.py:20: DataConversionWarning: A column-vector y was passed when a 1d array was expected. Please change the shape of y to (n_samples,), for example using ravel().\n"
     ]
    },
    {
     "name": "stdout",
     "output_type": "stream",
     "text": [
      "0.7783333333333333\n"
     ]
    },
    {
     "name": "stderr",
     "output_type": "stream",
     "text": [
      "/home/francesco/anaconda3/lib/python3.6/site-packages/ipykernel_launcher.py:20: DataConversionWarning: A column-vector y was passed when a 1d array was expected. Please change the shape of y to (n_samples,), for example using ravel().\n"
     ]
    },
    {
     "name": "stdout",
     "output_type": "stream",
     "text": [
      "0.7791666666666667\n",
      "AVG: BMAC score: 0.7788 (+/- 0.0004)\n"
     ]
    },
    {
     "name": "stderr",
     "output_type": "stream",
     "text": [
      "/home/francesco/anaconda3/lib/python3.6/site-packages/ipykernel_launcher.py:38: DataConversionWarning: A column-vector y was passed when a 1d array was expected. Please change the shape of y to (n_samples,), for example using ravel().\n",
      "/home/francesco/anaconda3/lib/python3.6/site-packages/ipykernel_launcher.py:20: DataConversionWarning: A column-vector y was passed when a 1d array was expected. Please change the shape of y to (n_samples,), for example using ravel().\n"
     ]
    },
    {
     "name": "stdout",
     "output_type": "stream",
     "text": [
      "0.6983333333333334\n"
     ]
    },
    {
     "name": "stderr",
     "output_type": "stream",
     "text": [
      "/home/francesco/anaconda3/lib/python3.6/site-packages/ipykernel_launcher.py:20: DataConversionWarning: A column-vector y was passed when a 1d array was expected. Please change the shape of y to (n_samples,), for example using ravel().\n"
     ]
    },
    {
     "name": "stdout",
     "output_type": "stream",
     "text": [
      "0.715\n",
      "AVG: BMAC score: 0.7067 (+/- 0.0083)\n"
     ]
    },
    {
     "name": "stderr",
     "output_type": "stream",
     "text": [
      "/home/francesco/anaconda3/lib/python3.6/site-packages/ipykernel_launcher.py:38: DataConversionWarning: A column-vector y was passed when a 1d array was expected. Please change the shape of y to (n_samples,), for example using ravel().\n",
      "/home/francesco/anaconda3/lib/python3.6/site-packages/ipykernel_launcher.py:20: DataConversionWarning: A column-vector y was passed when a 1d array was expected. Please change the shape of y to (n_samples,), for example using ravel().\n"
     ]
    },
    {
     "name": "stdout",
     "output_type": "stream",
     "text": [
      "0.8466666666666667\n"
     ]
    },
    {
     "name": "stderr",
     "output_type": "stream",
     "text": [
      "/home/francesco/anaconda3/lib/python3.6/site-packages/ipykernel_launcher.py:20: DataConversionWarning: A column-vector y was passed when a 1d array was expected. Please change the shape of y to (n_samples,), for example using ravel().\n"
     ]
    },
    {
     "name": "stdout",
     "output_type": "stream",
     "text": [
      "0.8308333333333333\n",
      "AVG: BMAC score: 0.8387 (+/- 0.0079)\n"
     ]
    },
    {
     "name": "stderr",
     "output_type": "stream",
     "text": [
      "/home/francesco/anaconda3/lib/python3.6/site-packages/ipykernel_launcher.py:38: DataConversionWarning: A column-vector y was passed when a 1d array was expected. Please change the shape of y to (n_samples,), for example using ravel().\n"
     ]
    },
    {
     "name": "stdout",
     "output_type": "stream",
     "text": [
      "Test ensemble number:  14\n",
      "All vs all\n"
     ]
    },
    {
     "name": "stderr",
     "output_type": "stream",
     "text": [
      "/home/francesco/anaconda3/lib/python3.6/site-packages/ipykernel_launcher.py:20: DataConversionWarning: A column-vector y was passed when a 1d array was expected. Please change the shape of y to (n_samples,), for example using ravel().\n"
     ]
    },
    {
     "name": "stdout",
     "output_type": "stream",
     "text": [
      "0.6522222222222221\n"
     ]
    },
    {
     "name": "stderr",
     "output_type": "stream",
     "text": [
      "/home/francesco/anaconda3/lib/python3.6/site-packages/ipykernel_launcher.py:20: DataConversionWarning: A column-vector y was passed when a 1d array was expected. Please change the shape of y to (n_samples,), for example using ravel().\n"
     ]
    },
    {
     "name": "stdout",
     "output_type": "stream",
     "text": [
      "0.637962962962963\n",
      "AVG: BMAC score: 0.6451 (+/- 0.0071)\n"
     ]
    },
    {
     "name": "stderr",
     "output_type": "stream",
     "text": [
      "/home/francesco/anaconda3/lib/python3.6/site-packages/ipykernel_launcher.py:38: DataConversionWarning: A column-vector y was passed when a 1d array was expected. Please change the shape of y to (n_samples,), for example using ravel().\n"
     ]
    },
    {
     "name": "stdout",
     "output_type": "stream",
     "text": [
      "1 vs all\n",
      "1 vs 1\n"
     ]
    },
    {
     "name": "stderr",
     "output_type": "stream",
     "text": [
      "/home/francesco/anaconda3/lib/python3.6/site-packages/ipykernel_launcher.py:20: DataConversionWarning: A column-vector y was passed when a 1d array was expected. Please change the shape of y to (n_samples,), for example using ravel().\n"
     ]
    },
    {
     "name": "stdout",
     "output_type": "stream",
     "text": [
      "0.7841666666666667\n"
     ]
    },
    {
     "name": "stderr",
     "output_type": "stream",
     "text": [
      "/home/francesco/anaconda3/lib/python3.6/site-packages/ipykernel_launcher.py:20: DataConversionWarning: A column-vector y was passed when a 1d array was expected. Please change the shape of y to (n_samples,), for example using ravel().\n"
     ]
    },
    {
     "name": "stdout",
     "output_type": "stream",
     "text": [
      "0.7711111111111111\n",
      "AVG: BMAC score: 0.7776 (+/- 0.0065)\n"
     ]
    },
    {
     "name": "stderr",
     "output_type": "stream",
     "text": [
      "/home/francesco/anaconda3/lib/python3.6/site-packages/ipykernel_launcher.py:38: DataConversionWarning: A column-vector y was passed when a 1d array was expected. Please change the shape of y to (n_samples,), for example using ravel().\n",
      "/home/francesco/anaconda3/lib/python3.6/site-packages/ipykernel_launcher.py:20: DataConversionWarning: A column-vector y was passed when a 1d array was expected. Please change the shape of y to (n_samples,), for example using ravel().\n"
     ]
    },
    {
     "name": "stdout",
     "output_type": "stream",
     "text": [
      "0.7050000000000001\n"
     ]
    },
    {
     "name": "stderr",
     "output_type": "stream",
     "text": [
      "/home/francesco/anaconda3/lib/python3.6/site-packages/ipykernel_launcher.py:20: DataConversionWarning: A column-vector y was passed when a 1d array was expected. Please change the shape of y to (n_samples,), for example using ravel().\n"
     ]
    },
    {
     "name": "stdout",
     "output_type": "stream",
     "text": [
      "0.7066666666666667\n",
      "AVG: BMAC score: 0.7058 (+/- 0.0008)\n"
     ]
    },
    {
     "name": "stderr",
     "output_type": "stream",
     "text": [
      "/home/francesco/anaconda3/lib/python3.6/site-packages/ipykernel_launcher.py:38: DataConversionWarning: A column-vector y was passed when a 1d array was expected. Please change the shape of y to (n_samples,), for example using ravel().\n",
      "/home/francesco/anaconda3/lib/python3.6/site-packages/ipykernel_launcher.py:20: DataConversionWarning: A column-vector y was passed when a 1d array was expected. Please change the shape of y to (n_samples,), for example using ravel().\n"
     ]
    },
    {
     "name": "stdout",
     "output_type": "stream",
     "text": [
      "0.8416666666666667\n"
     ]
    },
    {
     "name": "stderr",
     "output_type": "stream",
     "text": [
      "/home/francesco/anaconda3/lib/python3.6/site-packages/ipykernel_launcher.py:20: DataConversionWarning: A column-vector y was passed when a 1d array was expected. Please change the shape of y to (n_samples,), for example using ravel().\n"
     ]
    },
    {
     "name": "stdout",
     "output_type": "stream",
     "text": [
      "0.841388888888889\n",
      "AVG: BMAC score: 0.8415 (+/- 0.0001)\n"
     ]
    },
    {
     "name": "stderr",
     "output_type": "stream",
     "text": [
      "/home/francesco/anaconda3/lib/python3.6/site-packages/ipykernel_launcher.py:38: DataConversionWarning: A column-vector y was passed when a 1d array was expected. Please change the shape of y to (n_samples,), for example using ravel().\n"
     ]
    },
    {
     "name": "stdout",
     "output_type": "stream",
     "text": [
      "Test ensemble number:  15\n",
      "All vs all\n"
     ]
    },
    {
     "name": "stderr",
     "output_type": "stream",
     "text": [
      "/home/francesco/anaconda3/lib/python3.6/site-packages/ipykernel_launcher.py:20: DataConversionWarning: A column-vector y was passed when a 1d array was expected. Please change the shape of y to (n_samples,), for example using ravel().\n"
     ]
    },
    {
     "name": "stdout",
     "output_type": "stream",
     "text": [
      "0.6483333333333333\n"
     ]
    },
    {
     "name": "stderr",
     "output_type": "stream",
     "text": [
      "/home/francesco/anaconda3/lib/python3.6/site-packages/ipykernel_launcher.py:20: DataConversionWarning: A column-vector y was passed when a 1d array was expected. Please change the shape of y to (n_samples,), for example using ravel().\n"
     ]
    },
    {
     "name": "stdout",
     "output_type": "stream",
     "text": [
      "0.6485185185185185\n",
      "AVG: BMAC score: 0.6484 (+/- 0.0001)\n"
     ]
    },
    {
     "name": "stderr",
     "output_type": "stream",
     "text": [
      "/home/francesco/anaconda3/lib/python3.6/site-packages/ipykernel_launcher.py:38: DataConversionWarning: A column-vector y was passed when a 1d array was expected. Please change the shape of y to (n_samples,), for example using ravel().\n"
     ]
    },
    {
     "name": "stdout",
     "output_type": "stream",
     "text": [
      "1 vs all\n",
      "1 vs 1\n"
     ]
    },
    {
     "name": "stderr",
     "output_type": "stream",
     "text": [
      "/home/francesco/anaconda3/lib/python3.6/site-packages/ipykernel_launcher.py:20: DataConversionWarning: A column-vector y was passed when a 1d array was expected. Please change the shape of y to (n_samples,), for example using ravel().\n"
     ]
    },
    {
     "name": "stdout",
     "output_type": "stream",
     "text": [
      "0.7880555555555555\n"
     ]
    },
    {
     "name": "stderr",
     "output_type": "stream",
     "text": [
      "/home/francesco/anaconda3/lib/python3.6/site-packages/ipykernel_launcher.py:20: DataConversionWarning: A column-vector y was passed when a 1d array was expected. Please change the shape of y to (n_samples,), for example using ravel().\n"
     ]
    },
    {
     "name": "stdout",
     "output_type": "stream",
     "text": [
      "0.7730555555555556\n",
      "AVG: BMAC score: 0.7806 (+/- 0.0075)\n"
     ]
    },
    {
     "name": "stderr",
     "output_type": "stream",
     "text": [
      "/home/francesco/anaconda3/lib/python3.6/site-packages/ipykernel_launcher.py:38: DataConversionWarning: A column-vector y was passed when a 1d array was expected. Please change the shape of y to (n_samples,), for example using ravel().\n",
      "/home/francesco/anaconda3/lib/python3.6/site-packages/ipykernel_launcher.py:20: DataConversionWarning: A column-vector y was passed when a 1d array was expected. Please change the shape of y to (n_samples,), for example using ravel().\n"
     ]
    },
    {
     "name": "stdout",
     "output_type": "stream",
     "text": [
      "0.71\n"
     ]
    },
    {
     "name": "stderr",
     "output_type": "stream",
     "text": [
      "/home/francesco/anaconda3/lib/python3.6/site-packages/ipykernel_launcher.py:20: DataConversionWarning: A column-vector y was passed when a 1d array was expected. Please change the shape of y to (n_samples,), for example using ravel().\n"
     ]
    },
    {
     "name": "stdout",
     "output_type": "stream",
     "text": [
      "0.7016666666666667\n",
      "AVG: BMAC score: 0.7058 (+/- 0.0042)\n"
     ]
    },
    {
     "name": "stderr",
     "output_type": "stream",
     "text": [
      "/home/francesco/anaconda3/lib/python3.6/site-packages/ipykernel_launcher.py:38: DataConversionWarning: A column-vector y was passed when a 1d array was expected. Please change the shape of y to (n_samples,), for example using ravel().\n",
      "/home/francesco/anaconda3/lib/python3.6/site-packages/ipykernel_launcher.py:20: DataConversionWarning: A column-vector y was passed when a 1d array was expected. Please change the shape of y to (n_samples,), for example using ravel().\n"
     ]
    },
    {
     "name": "stdout",
     "output_type": "stream",
     "text": [
      "0.8433333333333334\n"
     ]
    },
    {
     "name": "stderr",
     "output_type": "stream",
     "text": [
      "/home/francesco/anaconda3/lib/python3.6/site-packages/ipykernel_launcher.py:20: DataConversionWarning: A column-vector y was passed when a 1d array was expected. Please change the shape of y to (n_samples,), for example using ravel().\n"
     ]
    },
    {
     "name": "stdout",
     "output_type": "stream",
     "text": [
      "0.8341666666666667\n",
      "AVG: BMAC score: 0.8388 (+/- 0.0046)\n"
     ]
    },
    {
     "name": "stderr",
     "output_type": "stream",
     "text": [
      "/home/francesco/anaconda3/lib/python3.6/site-packages/ipykernel_launcher.py:38: DataConversionWarning: A column-vector y was passed when a 1d array was expected. Please change the shape of y to (n_samples,), for example using ravel().\n"
     ]
    },
    {
     "name": "stdout",
     "output_type": "stream",
     "text": [
      "Test ensemble number:  16\n",
      "All vs all\n"
     ]
    },
    {
     "name": "stderr",
     "output_type": "stream",
     "text": [
      "/home/francesco/anaconda3/lib/python3.6/site-packages/ipykernel_launcher.py:20: DataConversionWarning: A column-vector y was passed when a 1d array was expected. Please change the shape of y to (n_samples,), for example using ravel().\n"
     ]
    },
    {
     "name": "stdout",
     "output_type": "stream",
     "text": [
      "0.6555555555555556\n"
     ]
    },
    {
     "name": "stderr",
     "output_type": "stream",
     "text": [
      "/home/francesco/anaconda3/lib/python3.6/site-packages/ipykernel_launcher.py:20: DataConversionWarning: A column-vector y was passed when a 1d array was expected. Please change the shape of y to (n_samples,), for example using ravel().\n"
     ]
    },
    {
     "name": "stdout",
     "output_type": "stream",
     "text": [
      "0.6381481481481481\n",
      "AVG: BMAC score: 0.6469 (+/- 0.0087)\n"
     ]
    },
    {
     "name": "stderr",
     "output_type": "stream",
     "text": [
      "/home/francesco/anaconda3/lib/python3.6/site-packages/ipykernel_launcher.py:38: DataConversionWarning: A column-vector y was passed when a 1d array was expected. Please change the shape of y to (n_samples,), for example using ravel().\n"
     ]
    },
    {
     "name": "stdout",
     "output_type": "stream",
     "text": [
      "1 vs all\n",
      "1 vs 1\n"
     ]
    },
    {
     "name": "stderr",
     "output_type": "stream",
     "text": [
      "/home/francesco/anaconda3/lib/python3.6/site-packages/ipykernel_launcher.py:20: DataConversionWarning: A column-vector y was passed when a 1d array was expected. Please change the shape of y to (n_samples,), for example using ravel().\n"
     ]
    },
    {
     "name": "stdout",
     "output_type": "stream",
     "text": [
      "0.7819444444444444\n"
     ]
    },
    {
     "name": "stderr",
     "output_type": "stream",
     "text": [
      "/home/francesco/anaconda3/lib/python3.6/site-packages/ipykernel_launcher.py:20: DataConversionWarning: A column-vector y was passed when a 1d array was expected. Please change the shape of y to (n_samples,), for example using ravel().\n"
     ]
    },
    {
     "name": "stdout",
     "output_type": "stream",
     "text": [
      "0.7702777777777778\n",
      "AVG: BMAC score: 0.7761 (+/- 0.0058)\n"
     ]
    },
    {
     "name": "stderr",
     "output_type": "stream",
     "text": [
      "/home/francesco/anaconda3/lib/python3.6/site-packages/ipykernel_launcher.py:38: DataConversionWarning: A column-vector y was passed when a 1d array was expected. Please change the shape of y to (n_samples,), for example using ravel().\n",
      "/home/francesco/anaconda3/lib/python3.6/site-packages/ipykernel_launcher.py:20: DataConversionWarning: A column-vector y was passed when a 1d array was expected. Please change the shape of y to (n_samples,), for example using ravel().\n"
     ]
    },
    {
     "name": "stdout",
     "output_type": "stream",
     "text": [
      "0.72\n"
     ]
    },
    {
     "name": "stderr",
     "output_type": "stream",
     "text": [
      "/home/francesco/anaconda3/lib/python3.6/site-packages/ipykernel_launcher.py:20: DataConversionWarning: A column-vector y was passed when a 1d array was expected. Please change the shape of y to (n_samples,), for example using ravel().\n"
     ]
    },
    {
     "name": "stdout",
     "output_type": "stream",
     "text": [
      "0.6933333333333334\n",
      "AVG: BMAC score: 0.7067 (+/- 0.0133)\n"
     ]
    },
    {
     "name": "stderr",
     "output_type": "stream",
     "text": [
      "/home/francesco/anaconda3/lib/python3.6/site-packages/ipykernel_launcher.py:38: DataConversionWarning: A column-vector y was passed when a 1d array was expected. Please change the shape of y to (n_samples,), for example using ravel().\n",
      "/home/francesco/anaconda3/lib/python3.6/site-packages/ipykernel_launcher.py:20: DataConversionWarning: A column-vector y was passed when a 1d array was expected. Please change the shape of y to (n_samples,), for example using ravel().\n"
     ]
    },
    {
     "name": "stdout",
     "output_type": "stream",
     "text": [
      "0.8483333333333334\n"
     ]
    },
    {
     "name": "stderr",
     "output_type": "stream",
     "text": [
      "/home/francesco/anaconda3/lib/python3.6/site-packages/ipykernel_launcher.py:20: DataConversionWarning: A column-vector y was passed when a 1d array was expected. Please change the shape of y to (n_samples,), for example using ravel().\n"
     ]
    },
    {
     "name": "stdout",
     "output_type": "stream",
     "text": [
      "0.831388888888889\n",
      "AVG: BMAC score: 0.8399 (+/- 0.0085)\n"
     ]
    },
    {
     "name": "stderr",
     "output_type": "stream",
     "text": [
      "/home/francesco/anaconda3/lib/python3.6/site-packages/ipykernel_launcher.py:38: DataConversionWarning: A column-vector y was passed when a 1d array was expected. Please change the shape of y to (n_samples,), for example using ravel().\n"
     ]
    },
    {
     "name": "stdout",
     "output_type": "stream",
     "text": [
      "Test ensemble number:  17\n",
      "All vs all\n"
     ]
    },
    {
     "name": "stderr",
     "output_type": "stream",
     "text": [
      "/home/francesco/anaconda3/lib/python3.6/site-packages/ipykernel_launcher.py:20: DataConversionWarning: A column-vector y was passed when a 1d array was expected. Please change the shape of y to (n_samples,), for example using ravel().\n"
     ]
    },
    {
     "name": "stdout",
     "output_type": "stream",
     "text": [
      "0.6587037037037037\n"
     ]
    },
    {
     "name": "stderr",
     "output_type": "stream",
     "text": [
      "/home/francesco/anaconda3/lib/python3.6/site-packages/ipykernel_launcher.py:20: DataConversionWarning: A column-vector y was passed when a 1d array was expected. Please change the shape of y to (n_samples,), for example using ravel().\n"
     ]
    },
    {
     "name": "stdout",
     "output_type": "stream",
     "text": [
      "0.6257407407407407\n",
      "AVG: BMAC score: 0.6422 (+/- 0.0165)\n"
     ]
    },
    {
     "name": "stderr",
     "output_type": "stream",
     "text": [
      "/home/francesco/anaconda3/lib/python3.6/site-packages/ipykernel_launcher.py:38: DataConversionWarning: A column-vector y was passed when a 1d array was expected. Please change the shape of y to (n_samples,), for example using ravel().\n"
     ]
    },
    {
     "name": "stdout",
     "output_type": "stream",
     "text": [
      "1 vs all\n",
      "1 vs 1\n"
     ]
    },
    {
     "name": "stderr",
     "output_type": "stream",
     "text": [
      "/home/francesco/anaconda3/lib/python3.6/site-packages/ipykernel_launcher.py:20: DataConversionWarning: A column-vector y was passed when a 1d array was expected. Please change the shape of y to (n_samples,), for example using ravel().\n"
     ]
    },
    {
     "name": "stdout",
     "output_type": "stream",
     "text": [
      "0.7930555555555556\n"
     ]
    },
    {
     "name": "stderr",
     "output_type": "stream",
     "text": [
      "/home/francesco/anaconda3/lib/python3.6/site-packages/ipykernel_launcher.py:20: DataConversionWarning: A column-vector y was passed when a 1d array was expected. Please change the shape of y to (n_samples,), for example using ravel().\n"
     ]
    },
    {
     "name": "stdout",
     "output_type": "stream",
     "text": [
      "0.7727777777777778\n",
      "AVG: BMAC score: 0.7829 (+/- 0.0101)\n"
     ]
    },
    {
     "name": "stderr",
     "output_type": "stream",
     "text": [
      "/home/francesco/anaconda3/lib/python3.6/site-packages/ipykernel_launcher.py:38: DataConversionWarning: A column-vector y was passed when a 1d array was expected. Please change the shape of y to (n_samples,), for example using ravel().\n",
      "/home/francesco/anaconda3/lib/python3.6/site-packages/ipykernel_launcher.py:20: DataConversionWarning: A column-vector y was passed when a 1d array was expected. Please change the shape of y to (n_samples,), for example using ravel().\n"
     ]
    },
    {
     "name": "stdout",
     "output_type": "stream",
     "text": [
      "0.7216666666666667\n"
     ]
    },
    {
     "name": "stderr",
     "output_type": "stream",
     "text": [
      "/home/francesco/anaconda3/lib/python3.6/site-packages/ipykernel_launcher.py:20: DataConversionWarning: A column-vector y was passed when a 1d array was expected. Please change the shape of y to (n_samples,), for example using ravel().\n"
     ]
    },
    {
     "name": "stdout",
     "output_type": "stream",
     "text": [
      "0.7033333333333334\n",
      "AVG: BMAC score: 0.7125 (+/- 0.0092)\n"
     ]
    },
    {
     "name": "stderr",
     "output_type": "stream",
     "text": [
      "/home/francesco/anaconda3/lib/python3.6/site-packages/ipykernel_launcher.py:38: DataConversionWarning: A column-vector y was passed when a 1d array was expected. Please change the shape of y to (n_samples,), for example using ravel().\n",
      "/home/francesco/anaconda3/lib/python3.6/site-packages/ipykernel_launcher.py:20: DataConversionWarning: A column-vector y was passed when a 1d array was expected. Please change the shape of y to (n_samples,), for example using ravel().\n"
     ]
    },
    {
     "name": "stdout",
     "output_type": "stream",
     "text": [
      "0.8391666666666666\n"
     ]
    },
    {
     "name": "stderr",
     "output_type": "stream",
     "text": [
      "/home/francesco/anaconda3/lib/python3.6/site-packages/ipykernel_launcher.py:20: DataConversionWarning: A column-vector y was passed when a 1d array was expected. Please change the shape of y to (n_samples,), for example using ravel().\n"
     ]
    },
    {
     "name": "stdout",
     "output_type": "stream",
     "text": [
      "0.8372222222222222\n",
      "AVG: BMAC score: 0.8382 (+/- 0.0010)\n"
     ]
    },
    {
     "name": "stderr",
     "output_type": "stream",
     "text": [
      "/home/francesco/anaconda3/lib/python3.6/site-packages/ipykernel_launcher.py:38: DataConversionWarning: A column-vector y was passed when a 1d array was expected. Please change the shape of y to (n_samples,), for example using ravel().\n"
     ]
    },
    {
     "name": "stdout",
     "output_type": "stream",
     "text": [
      "Test ensemble number:  18\n",
      "All vs all\n"
     ]
    },
    {
     "name": "stderr",
     "output_type": "stream",
     "text": [
      "/home/francesco/anaconda3/lib/python3.6/site-packages/ipykernel_launcher.py:20: DataConversionWarning: A column-vector y was passed when a 1d array was expected. Please change the shape of y to (n_samples,), for example using ravel().\n"
     ]
    },
    {
     "name": "stdout",
     "output_type": "stream",
     "text": [
      "0.6648148148148149\n"
     ]
    },
    {
     "name": "stderr",
     "output_type": "stream",
     "text": [
      "/home/francesco/anaconda3/lib/python3.6/site-packages/ipykernel_launcher.py:20: DataConversionWarning: A column-vector y was passed when a 1d array was expected. Please change the shape of y to (n_samples,), for example using ravel().\n"
     ]
    },
    {
     "name": "stdout",
     "output_type": "stream",
     "text": [
      "0.6407407407407407\n",
      "AVG: BMAC score: 0.6528 (+/- 0.0120)\n"
     ]
    },
    {
     "name": "stderr",
     "output_type": "stream",
     "text": [
      "/home/francesco/anaconda3/lib/python3.6/site-packages/ipykernel_launcher.py:38: DataConversionWarning: A column-vector y was passed when a 1d array was expected. Please change the shape of y to (n_samples,), for example using ravel().\n"
     ]
    },
    {
     "name": "stdout",
     "output_type": "stream",
     "text": [
      "1 vs all\n",
      "1 vs 1\n"
     ]
    },
    {
     "name": "stderr",
     "output_type": "stream",
     "text": [
      "/home/francesco/anaconda3/lib/python3.6/site-packages/ipykernel_launcher.py:20: DataConversionWarning: A column-vector y was passed when a 1d array was expected. Please change the shape of y to (n_samples,), for example using ravel().\n"
     ]
    },
    {
     "name": "stdout",
     "output_type": "stream",
     "text": [
      "0.7863888888888889\n"
     ]
    },
    {
     "name": "stderr",
     "output_type": "stream",
     "text": [
      "/home/francesco/anaconda3/lib/python3.6/site-packages/ipykernel_launcher.py:20: DataConversionWarning: A column-vector y was passed when a 1d array was expected. Please change the shape of y to (n_samples,), for example using ravel().\n"
     ]
    },
    {
     "name": "stdout",
     "output_type": "stream",
     "text": [
      "0.7783333333333333\n",
      "AVG: BMAC score: 0.7824 (+/- 0.0040)\n"
     ]
    },
    {
     "name": "stderr",
     "output_type": "stream",
     "text": [
      "/home/francesco/anaconda3/lib/python3.6/site-packages/ipykernel_launcher.py:38: DataConversionWarning: A column-vector y was passed when a 1d array was expected. Please change the shape of y to (n_samples,), for example using ravel().\n",
      "/home/francesco/anaconda3/lib/python3.6/site-packages/ipykernel_launcher.py:20: DataConversionWarning: A column-vector y was passed when a 1d array was expected. Please change the shape of y to (n_samples,), for example using ravel().\n"
     ]
    },
    {
     "name": "stdout",
     "output_type": "stream",
     "text": [
      "0.7\n"
     ]
    },
    {
     "name": "stderr",
     "output_type": "stream",
     "text": [
      "/home/francesco/anaconda3/lib/python3.6/site-packages/ipykernel_launcher.py:20: DataConversionWarning: A column-vector y was passed when a 1d array was expected. Please change the shape of y to (n_samples,), for example using ravel().\n"
     ]
    },
    {
     "name": "stdout",
     "output_type": "stream",
     "text": [
      "0.7\n",
      "AVG: BMAC score: 0.7000 (+/- 0.0000)\n"
     ]
    },
    {
     "name": "stderr",
     "output_type": "stream",
     "text": [
      "/home/francesco/anaconda3/lib/python3.6/site-packages/ipykernel_launcher.py:38: DataConversionWarning: A column-vector y was passed when a 1d array was expected. Please change the shape of y to (n_samples,), for example using ravel().\n",
      "/home/francesco/anaconda3/lib/python3.6/site-packages/ipykernel_launcher.py:20: DataConversionWarning: A column-vector y was passed when a 1d array was expected. Please change the shape of y to (n_samples,), for example using ravel().\n"
     ]
    },
    {
     "name": "stdout",
     "output_type": "stream",
     "text": [
      "0.8541666666666666\n"
     ]
    },
    {
     "name": "stderr",
     "output_type": "stream",
     "text": [
      "/home/francesco/anaconda3/lib/python3.6/site-packages/ipykernel_launcher.py:20: DataConversionWarning: A column-vector y was passed when a 1d array was expected. Please change the shape of y to (n_samples,), for example using ravel().\n"
     ]
    },
    {
     "name": "stdout",
     "output_type": "stream",
     "text": [
      "0.8386111111111111\n",
      "AVG: BMAC score: 0.8464 (+/- 0.0078)\n"
     ]
    },
    {
     "name": "stderr",
     "output_type": "stream",
     "text": [
      "/home/francesco/anaconda3/lib/python3.6/site-packages/ipykernel_launcher.py:38: DataConversionWarning: A column-vector y was passed when a 1d array was expected. Please change the shape of y to (n_samples,), for example using ravel().\n"
     ]
    },
    {
     "name": "stdout",
     "output_type": "stream",
     "text": [
      "Test ensemble number:  19\n",
      "All vs all\n"
     ]
    },
    {
     "name": "stderr",
     "output_type": "stream",
     "text": [
      "/home/francesco/anaconda3/lib/python3.6/site-packages/ipykernel_launcher.py:20: DataConversionWarning: A column-vector y was passed when a 1d array was expected. Please change the shape of y to (n_samples,), for example using ravel().\n"
     ]
    },
    {
     "name": "stdout",
     "output_type": "stream",
     "text": [
      "0.6503703703703704\n"
     ]
    },
    {
     "name": "stderr",
     "output_type": "stream",
     "text": [
      "/home/francesco/anaconda3/lib/python3.6/site-packages/ipykernel_launcher.py:20: DataConversionWarning: A column-vector y was passed when a 1d array was expected. Please change the shape of y to (n_samples,), for example using ravel().\n"
     ]
    },
    {
     "name": "stdout",
     "output_type": "stream",
     "text": [
      "0.637962962962963\n",
      "AVG: BMAC score: 0.6442 (+/- 0.0062)\n"
     ]
    },
    {
     "name": "stderr",
     "output_type": "stream",
     "text": [
      "/home/francesco/anaconda3/lib/python3.6/site-packages/ipykernel_launcher.py:38: DataConversionWarning: A column-vector y was passed when a 1d array was expected. Please change the shape of y to (n_samples,), for example using ravel().\n"
     ]
    },
    {
     "name": "stdout",
     "output_type": "stream",
     "text": [
      "1 vs all\n",
      "1 vs 1\n"
     ]
    },
    {
     "name": "stderr",
     "output_type": "stream",
     "text": [
      "/home/francesco/anaconda3/lib/python3.6/site-packages/ipykernel_launcher.py:20: DataConversionWarning: A column-vector y was passed when a 1d array was expected. Please change the shape of y to (n_samples,), for example using ravel().\n"
     ]
    },
    {
     "name": "stdout",
     "output_type": "stream",
     "text": [
      "0.7786111111111111\n"
     ]
    },
    {
     "name": "stderr",
     "output_type": "stream",
     "text": [
      "/home/francesco/anaconda3/lib/python3.6/site-packages/ipykernel_launcher.py:20: DataConversionWarning: A column-vector y was passed when a 1d array was expected. Please change the shape of y to (n_samples,), for example using ravel().\n"
     ]
    },
    {
     "name": "stdout",
     "output_type": "stream",
     "text": [
      "0.778888888888889\n",
      "AVG: BMAC score: 0.7788 (+/- 0.0001)\n"
     ]
    },
    {
     "name": "stderr",
     "output_type": "stream",
     "text": [
      "/home/francesco/anaconda3/lib/python3.6/site-packages/ipykernel_launcher.py:38: DataConversionWarning: A column-vector y was passed when a 1d array was expected. Please change the shape of y to (n_samples,), for example using ravel().\n",
      "/home/francesco/anaconda3/lib/python3.6/site-packages/ipykernel_launcher.py:20: DataConversionWarning: A column-vector y was passed when a 1d array was expected. Please change the shape of y to (n_samples,), for example using ravel().\n"
     ]
    },
    {
     "name": "stdout",
     "output_type": "stream",
     "text": [
      "0.6950000000000001\n"
     ]
    },
    {
     "name": "stderr",
     "output_type": "stream",
     "text": [
      "/home/francesco/anaconda3/lib/python3.6/site-packages/ipykernel_launcher.py:20: DataConversionWarning: A column-vector y was passed when a 1d array was expected. Please change the shape of y to (n_samples,), for example using ravel().\n"
     ]
    },
    {
     "name": "stdout",
     "output_type": "stream",
     "text": [
      "0.7150000000000001\n",
      "AVG: BMAC score: 0.7050 (+/- 0.0100)\n"
     ]
    },
    {
     "name": "stderr",
     "output_type": "stream",
     "text": [
      "/home/francesco/anaconda3/lib/python3.6/site-packages/ipykernel_launcher.py:38: DataConversionWarning: A column-vector y was passed when a 1d array was expected. Please change the shape of y to (n_samples,), for example using ravel().\n",
      "/home/francesco/anaconda3/lib/python3.6/site-packages/ipykernel_launcher.py:20: DataConversionWarning: A column-vector y was passed when a 1d array was expected. Please change the shape of y to (n_samples,), for example using ravel().\n"
     ]
    },
    {
     "name": "stdout",
     "output_type": "stream",
     "text": [
      "0.8508333333333333\n"
     ]
    },
    {
     "name": "stderr",
     "output_type": "stream",
     "text": [
      "/home/francesco/anaconda3/lib/python3.6/site-packages/ipykernel_launcher.py:20: DataConversionWarning: A column-vector y was passed when a 1d array was expected. Please change the shape of y to (n_samples,), for example using ravel().\n"
     ]
    },
    {
     "name": "stdout",
     "output_type": "stream",
     "text": [
      "0.8388888888888888\n",
      "AVG: BMAC score: 0.8449 (+/- 0.0060)\n"
     ]
    },
    {
     "name": "stderr",
     "output_type": "stream",
     "text": [
      "/home/francesco/anaconda3/lib/python3.6/site-packages/ipykernel_launcher.py:38: DataConversionWarning: A column-vector y was passed when a 1d array was expected. Please change the shape of y to (n_samples,), for example using ravel().\n"
     ]
    },
    {
     "name": "stdout",
     "output_type": "stream",
     "text": [
      "Test ensemble number:  20\n",
      "All vs all\n"
     ]
    },
    {
     "name": "stderr",
     "output_type": "stream",
     "text": [
      "/home/francesco/anaconda3/lib/python3.6/site-packages/ipykernel_launcher.py:20: DataConversionWarning: A column-vector y was passed when a 1d array was expected. Please change the shape of y to (n_samples,), for example using ravel().\n"
     ]
    },
    {
     "name": "stdout",
     "output_type": "stream",
     "text": [
      "0.6564814814814816\n"
     ]
    },
    {
     "name": "stderr",
     "output_type": "stream",
     "text": [
      "/home/francesco/anaconda3/lib/python3.6/site-packages/ipykernel_launcher.py:20: DataConversionWarning: A column-vector y was passed when a 1d array was expected. Please change the shape of y to (n_samples,), for example using ravel().\n"
     ]
    },
    {
     "name": "stdout",
     "output_type": "stream",
     "text": [
      "0.6433333333333333\n",
      "AVG: BMAC score: 0.6499 (+/- 0.0066)\n"
     ]
    },
    {
     "name": "stderr",
     "output_type": "stream",
     "text": [
      "/home/francesco/anaconda3/lib/python3.6/site-packages/ipykernel_launcher.py:38: DataConversionWarning: A column-vector y was passed when a 1d array was expected. Please change the shape of y to (n_samples,), for example using ravel().\n"
     ]
    },
    {
     "name": "stdout",
     "output_type": "stream",
     "text": [
      "1 vs all\n",
      "1 vs 1\n"
     ]
    },
    {
     "name": "stderr",
     "output_type": "stream",
     "text": [
      "/home/francesco/anaconda3/lib/python3.6/site-packages/ipykernel_launcher.py:20: DataConversionWarning: A column-vector y was passed when a 1d array was expected. Please change the shape of y to (n_samples,), for example using ravel().\n"
     ]
    },
    {
     "name": "stdout",
     "output_type": "stream",
     "text": [
      "0.7863888888888889\n"
     ]
    },
    {
     "name": "stderr",
     "output_type": "stream",
     "text": [
      "/home/francesco/anaconda3/lib/python3.6/site-packages/ipykernel_launcher.py:20: DataConversionWarning: A column-vector y was passed when a 1d array was expected. Please change the shape of y to (n_samples,), for example using ravel().\n"
     ]
    },
    {
     "name": "stdout",
     "output_type": "stream",
     "text": [
      "0.7705555555555555\n",
      "AVG: BMAC score: 0.7785 (+/- 0.0079)\n"
     ]
    },
    {
     "name": "stderr",
     "output_type": "stream",
     "text": [
      "/home/francesco/anaconda3/lib/python3.6/site-packages/ipykernel_launcher.py:38: DataConversionWarning: A column-vector y was passed when a 1d array was expected. Please change the shape of y to (n_samples,), for example using ravel().\n",
      "/home/francesco/anaconda3/lib/python3.6/site-packages/ipykernel_launcher.py:20: DataConversionWarning: A column-vector y was passed when a 1d array was expected. Please change the shape of y to (n_samples,), for example using ravel().\n"
     ]
    },
    {
     "name": "stdout",
     "output_type": "stream",
     "text": [
      "0.7183333333333333\n"
     ]
    },
    {
     "name": "stderr",
     "output_type": "stream",
     "text": [
      "/home/francesco/anaconda3/lib/python3.6/site-packages/ipykernel_launcher.py:20: DataConversionWarning: A column-vector y was passed when a 1d array was expected. Please change the shape of y to (n_samples,), for example using ravel().\n"
     ]
    },
    {
     "name": "stdout",
     "output_type": "stream",
     "text": [
      "0.7033333333333334\n",
      "AVG: BMAC score: 0.7108 (+/- 0.0075)\n"
     ]
    },
    {
     "name": "stderr",
     "output_type": "stream",
     "text": [
      "/home/francesco/anaconda3/lib/python3.6/site-packages/ipykernel_launcher.py:38: DataConversionWarning: A column-vector y was passed when a 1d array was expected. Please change the shape of y to (n_samples,), for example using ravel().\n",
      "/home/francesco/anaconda3/lib/python3.6/site-packages/ipykernel_launcher.py:20: DataConversionWarning: A column-vector y was passed when a 1d array was expected. Please change the shape of y to (n_samples,), for example using ravel().\n"
     ]
    },
    {
     "name": "stdout",
     "output_type": "stream",
     "text": [
      "0.8474999999999999\n"
     ]
    },
    {
     "name": "stderr",
     "output_type": "stream",
     "text": [
      "/home/francesco/anaconda3/lib/python3.6/site-packages/ipykernel_launcher.py:20: DataConversionWarning: A column-vector y was passed when a 1d array was expected. Please change the shape of y to (n_samples,), for example using ravel().\n"
     ]
    },
    {
     "name": "stdout",
     "output_type": "stream",
     "text": [
      "0.8366666666666667\n",
      "AVG: BMAC score: 0.8421 (+/- 0.0054)\n"
     ]
    },
    {
     "name": "stderr",
     "output_type": "stream",
     "text": [
      "/home/francesco/anaconda3/lib/python3.6/site-packages/ipykernel_launcher.py:38: DataConversionWarning: A column-vector y was passed when a 1d array was expected. Please change the shape of y to (n_samples,), for example using ravel().\n"
     ]
    },
    {
     "name": "stdout",
     "output_type": "stream",
     "text": [
      "Test ensemble number:  21\n"
     ]
    },
    {
     "data": {
      "image/png": "[encoded data removed]",
      "text/plain": [
       "<Figure size 432x288 with 1 Axes>"
      ]
     },
     "metadata": {},
     "output_type": "display_data"
    }
   ],
   "source": [
    "ensembles_predictions = []\n",
    "ensembles_predictions_0_vs_all = []\n",
    "ensembles_predictions_1_vs_all = []\n",
    "ensembles_predictions_2_vs_all = []\n",
    "\n",
    "ensembles_predictions_0_vs_1 = []\n",
    "ensembles_predictions_0_vs_2 = []\n",
    "ensembles_predictions_1_vs_2 = []\n",
    "\n",
    "corr_test_ensemble = 0\n",
    "for X_train in X_train_ensembles:\n",
    "    X_test = X_test_ensembles[corr_test_ensemble]\n",
    "    #all vs all\n",
    "    print(\"All vs all\")\n",
    "    preds = train_BRFC(X_train = X_train,Y_train = Y_train, X_test = X_test)\n",
    "    ensembles_predictions.append(preds)\n",
    "    #1 vs all\n",
    "    print(\"1 vs all\")\n",
    "    \"\"\"preds_0_vs_all = train_BRFC(X_train = X_train,Y_train = Y_0_vs_all, X_test = X_test)\n",
    "    ensembles_predictions_0_vs_all.append(preds_0_vs_all)\n",
    "    preds_1_vs_all = train_BRFC(X_train = X_train,Y_train = Y_1_vs_all, X_test = X_test)\n",
    "    ensembles_predictions_1_vs_all.append(preds_1_vs_all)\n",
    "    preds_2_vs_all = train_BRFC(X_train = X_train,Y_train = Y_2_vs_all, X_test = X_test)\n",
    "    ensembles_predictions_2_vs_all.append(preds_2_vs_all)\"\"\"\n",
    "    #1 vs 1\n",
    "    print(\"1 vs 1\")\n",
    "    preds_0_vs_1 = train_BRFC(X_train = X_train_0_1_ensembles[corr_test_ensemble],Y_train = Y_train_0_1, X_test = X_test)\n",
    "    ensembles_predictions_0_vs_1.append(preds_0_vs_1)\n",
    "    preds_0_vs_2 = train_BRFC(X_train = X_train_0_2_ensembles[corr_test_ensemble],Y_train = Y_train_0_2, X_test = X_test)\n",
    "    ensembles_predictions_0_vs_2.append(preds_0_vs_2)\n",
    "    preds_1_vs_2 = train_BRFC(X_train = X_train_1_2_ensembles[corr_test_ensemble],Y_train = Y_train_1_2, X_test = X_test)\n",
    "    ensembles_predictions_1_vs_2.append(preds_1_vs_2)\n",
    "\n",
    "    #preds = train_EEC(X_train = X_train,Y_train = Y_train, X_test = X_test)\n",
    "    #ensembles_predictions.append(preds)\n",
    "    corr_test_ensemble = corr_test_ensemble + 1\n",
    "    print(\"Test ensemble number: \", corr_test_ensemble)\n",
    "    "
   ]
  },
  {
   "cell_type": "code",
   "execution_count": 247,
   "metadata": {},
   "outputs": [
    {
     "name": "stdout",
     "output_type": "stream",
     "text": [
      "4100\n",
      "[[43, 5, 36], [54, 25, 8], [42, 63, 0], [29, 63, 13], [21, 0, 63], [44, 24, 18], [37, 11, 37], [21, 0, 63], [42, 31, 21], [37, 63, 5], [58, 21, 5], [28, 55, 21], [21, 63, 21], [40, 63, 2], [40, 63, 2], [30, 9, 49], [51, 30, 12], [42, 63, 0], [40, 48, 15], [21, 0, 63], [29, 52, 22], [42, 63, 0], [40, 0, 44], [32, 63, 10], [53, 6, 25], [42, 63, 0], [42, 63, 0], [24, 0, 60], [42, 63, 0], [42, 63, 0], [21, 0, 63], [42, 63, 0], [42, 63, 0], [42, 63, 0], [42, 63, 0], [42, 63, 0], [42, 21, 21], [32, 63, 10], [42, 63, 0], [42, 63, 0], [21, 0, 63], [38, 39, 21], [42, 63, 0], [30, 63, 12], [42, 63, 0], [26, 0, 58], [26, 63, 16], [46, 38, 11], [25, 1, 59], [37, 63, 5], [42, 63, 0], [45, 53, 7], [42, 9, 33], [24, 0, 60], [57, 21, 6], [26, 0, 58], [41, 63, 1], [22, 0, 62], [42, 63, 0], [44, 61, 0], [21, 0, 63], [28, 0, 56], [41, 20, 29], [42, 63, 0], [42, 63, 0], [39, 63, 3], [42, 63, 0], [40, 63, 2], [28, 55, 21], [21, 0, 63], [42, 63, 0], [41, 63, 1], [35, 0, 49], [41, 63, 1], [40, 63, 2], [42, 63, 0], [42, 63, 0], [42, 63, 0], [55, 47, 1], [42, 63, 0], [59, 29, 3], [42, 0, 42], [42, 63, 0], [41, 63, 1], [42, 63, 0], [21, 0, 63], [26, 63, 16], [26, 56, 23], [42, 63, 0], [42, 63, 0], [42, 63, 0], [46, 13, 25], [39, 63, 3], [42, 25, 21], [42, 1, 41], [57, 27, 5], [55, 41, 0], [41, 63, 1], [48, 55, 0], [42, 63, 0], [21, 0, 63], [53, 23, 9], [23, 2, 61], [41, 63, 1], [42, 63, 0], [36, 38, 23], [54, 19, 11], [22, 0, 62], [21, 0, 63], [40, 63, 2], [42, 63, 0], [42, 63, 0], [42, 0, 42], [42, 63, 0], [21, 0, 63], [48, 56, 1], [51, 21, 12], [42, 1, 41], [34, 2, 49], [41, 9, 34], [46, 59, 0], [42, 20, 22], [42, 63, 0], [29, 55, 21], [21, 1, 63], [29, 0, 55], [42, 63, 0], [42, 63, 0], [28, 43, 31], [48, 28, 13], [42, 63, 0], [44, 30, 19], [42, 63, 0], [44, 24, 19], [42, 63, 0], [33, 56, 16], [34, 0, 50], [42, 63, 0], [26, 62, 17], [32, 63, 10], [37, 0, 47], [36, 43, 21], [44, 61, 0], [21, 0, 63], [42, 63, 0], [42, 63, 0], [40, 63, 2], [32, 31, 34], [54, 22, 9], [21, 0, 63], [42, 63, 0], [28, 7, 52], [53, 10, 21], [27, 57, 21], [27, 57, 21], [38, 4, 42], [38, 34, 23], [40, 63, 2], [42, 51, 12], [42, 63, 0], [42, 63, 0], [27, 17, 45], [42, 63, 0], [42, 63, 0], [57, 22, 6], [42, 63, 0], [42, 63, 0], [21, 0, 63], [40, 63, 2], [41, 62, 2], [41, 19, 29], [27, 63, 15], [25, 60, 20], [42, 63, 0], [42, 63, 0], [42, 63, 0], [42, 22, 22], [44, 61, 0], [42, 63, 0], [42, 63, 0], [27, 54, 21], [61, 24, 2], [46, 57, 2], [34, 0, 50], [42, 63, 0], [42, 63, 0], [43, 59, 3], [46, 17, 21], [42, 63, 0], [39, 63, 3], [40, 63, 2], [42, 63, 0], [41, 32, 21], [22, 1, 61], [47, 33, 18], [56, 13, 15], [41, 63, 1], [51, 32, 12], [59, 11, 16], [49, 32, 14], [21, 0, 63], [47, 21, 16], [21, 63, 21], [43, 5, 39], [37, 0, 47], [26, 56, 22], [42, 63, 0], [21, 0, 63], [39, 42, 21], [60, 35, 0], [21, 0, 63], [40, 37, 21], [41, 63, 1], [21, 0, 63], [42, 63, 0], [21, 0, 63], [41, 0, 43], [44, 9, 35], [27, 57, 21], [56, 21, 7], [21, 0, 63], [44, 10, 30], [42, 63, 0], [51, 0, 33], [22, 62, 21], [49, 22, 14], [21, 20, 59], [42, 63, 0], [42, 63, 0], [42, 0, 42], [50, 52, 2], [42, 63, 0], [42, 63, 0], [43, 7, 34], [43, 19, 25], [57, 30, 4], [40, 63, 2], [43, 3, 38], [32, 63, 10], [42, 63, 0], [35, 63, 7], [51, 39, 9], [35, 31, 31], [21, 0, 63], [31, 51, 22], [39, 63, 3], [22, 0, 62], [42, 63, 0], [29, 63, 13], [42, 63, 0], [21, 0, 63], [37, 63, 5], [47, 28, 15], [40, 27, 22], [27, 63, 15], [42, 63, 0], [22, 63, 20], [42, 4, 38], [21, 0, 63], [42, 63, 0], [21, 0, 63], [55, 21, 8], [28, 56, 21], [42, 63, 0], [60, 27, 3], [42, 63, 0], [21, 63, 21], [42, 63, 0], [26, 63, 16], [25, 0, 59], [38, 63, 4], [41, 38, 21], [21, 0, 63], [46, 6, 32], [42, 63, 0], [42, 63, 0], [42, 63, 0], [28, 63, 14], [42, 63, 0], [37, 3, 44], [21, 0, 63], [21, 0, 63], [42, 63, 0], [44, 12, 28], [42, 63, 0], [21, 0, 63], [54, 21, 11], [21, 20, 63], [42, 63, 0], [42, 63, 0], [42, 29, 19], [42, 63, 0], [22, 62, 21], [44, 60, 0], [40, 18, 27], [38, 63, 4], [42, 63, 0], [58, 23, 5], [42, 63, 0], [25, 61, 19], [24, 0, 60], [21, 0, 63], [21, 63, 21], [63, 21, 0], [21, 0, 63], [38, 63, 4], [58, 21, 5], [42, 63, 0], [28, 61, 16], [40, 63, 2], [32, 63, 10], [40, 63, 2], [58, 22, 5], [42, 63, 0], [46, 32, 16], [32, 26, 33], [42, 63, 0], [41, 63, 1], [54, 44, 2], [56, 7, 21], [41, 20, 28], [42, 63, 0], [39, 63, 3], [62, 22, 2], [37, 44, 21], [22, 0, 62], [42, 63, 0], [61, 28, 0], [42, 63, 0], [42, 63, 0], [42, 1, 41], [42, 30, 21], [42, 63, 0], [24, 0, 60], [37, 63, 5], [42, 63, 0], [42, 63, 0], [36, 63, 6], [29, 63, 13], [31, 46, 25], [40, 45, 17], [42, 63, 0], [28, 63, 14], [34, 63, 8], [30, 0, 54], [21, 0, 63], [40, 38, 20], [42, 63, 0], [37, 30, 33], [40, 18, 27], [21, 0, 63], [23, 0, 61], [42, 63, 0], [38, 0, 46], [26, 63, 16], [42, 63, 0], [26, 63, 16], [39, 0, 45], [40, 21, 26], [48, 26, 14], [57, 21, 6], [42, 63, 0], [42, 63, 0], [34, 1, 49], [57, 37, 1], [37, 55, 13], [22, 63, 20], [42, 63, 0], [42, 63, 0], [42, 63, 0], [42, 63, 0], [39, 63, 3], [54, 33, 5], [42, 63, 0], [61, 32, 1], [21, 0, 63], [42, 63, 0], [42, 63, 0], [39, 32, 26], [42, 63, 0], [42, 63, 0], [25, 52, 28], [34, 63, 8], [21, 0, 63], [42, 63, 0], [33, 63, 9], [54, 46, 0], [27, 57, 21], [42, 63, 0], [48, 53, 3], [39, 0, 45], [42, 63, 0], [42, 29, 21], [21, 0, 63], [39, 0, 45], [42, 4, 38], [42, 63, 0], [26, 46, 31], [26, 63, 16], [28, 0, 56], [31, 0, 53], [42, 63, 0], [42, 63, 0], [54, 24, 9], [52, 21, 11], [42, 63, 0], [21, 0, 63], [62, 28, 0], [42, 63, 0], [42, 63, 0], [42, 63, 0], [44, 61, 0], [38, 0, 46], [46, 38, 17], [44, 7, 33], [41, 22, 21], [28, 60, 17], [24, 0, 60], [34, 18, 36], [42, 22, 21], [24, 62, 19], [38, 63, 4], [21, 0, 63], [45, 8, 32], [42, 63, 0], [35, 63, 7], [21, 0, 63], [21, 63, 21], [21, 0, 63], [38, 63, 4], [21, 0, 63], [22, 0, 62], [45, 34, 15], [42, 63, 0], [42, 63, 0], [59, 26, 4], [36, 48, 21], [59, 31, 0], [58, 43, 0], [42, 63, 0], [39, 63, 3], [55, 35, 5], [32, 36, 29], [42, 63, 0], [41, 63, 1], [35, 63, 7], [55, 47, 0], [25, 19, 55], [40, 20, 27], [42, 63, 0], [24, 63, 18], [45, 15, 24], [32, 63, 10], [38, 17, 31], [42, 63, 0], [42, 63, 0], [42, 63, 0], [21, 0, 63], [23, 63, 19], [40, 63, 2], [28, 0, 56], [42, 63, 0], [22, 63, 20], [36, 63, 6], [42, 63, 0], [24, 13, 55], [37, 0, 47], [21, 0, 63], [41, 1, 42], [43, 1, 40], [21, 0, 63], [42, 36, 20], [58, 20, 6], [42, 63, 0], [21, 0, 63], [42, 63, 0], [40, 0, 44], [21, 0, 63], [42, 63, 0], [21, 0, 63], [63, 21, 0], [39, 2, 43], [62, 35, 0], [40, 63, 2], [55, 48, 0], [42, 63, 0], [22, 0, 62], [21, 0, 63], [42, 63, 0], [30, 0, 54], [42, 63, 0], [41, 63, 1], [37, 3, 44], [45, 14, 25], [39, 63, 3], [42, 44, 16], [55, 21, 8], [21, 60, 24], [42, 63, 0], [41, 24, 22], [55, 5, 24], [33, 63, 9], [42, 63, 0], [45, 0, 39], [42, 23, 21], [41, 63, 1], [41, 63, 1], [40, 0, 44], [42, 63, 0], [63, 23, 0], [29, 0, 55], [40, 63, 2], [43, 62, 0], [38, 63, 4], [21, 63, 21], [29, 63, 13], [49, 20, 15], [37, 0, 47], [39, 2, 43], [54, 29, 8], [42, 63, 0], [42, 63, 0], [41, 63, 1], [21, 0, 63], [39, 0, 45], [40, 46, 16], [42, 63, 0], [60, 35, 0], [22, 63, 20], [55, 37, 5], [60, 24, 3], [23, 0, 61], [21, 0, 63], [61, 38, 2], [21, 63, 21], [40, 33, 22], [37, 0, 47], [21, 63, 21], [42, 63, 0], [49, 43, 9], [56, 21, 7], [39, 9, 36], [35, 4, 45], [42, 15, 27], [42, 63, 0], [53, 46, 0], [21, 3, 63], [54, 21, 9], [43, 21, 20], [21, 63, 21], [22, 0, 62], [63, 21, 0], [42, 63, 0], [41, 63, 1], [25, 0, 59], [42, 63, 0], [42, 63, 0], [45, 16, 23], [42, 63, 0], [21, 0, 63], [22, 0, 62], [38, 46, 19], [42, 63, 0], [26, 0, 58], [46, 13, 25], [44, 2, 38], [62, 33, 0], [62, 28, 1], [42, 63, 0], [40, 63, 2], [42, 63, 0], [42, 63, 0], [39, 63, 3], [21, 0, 63], [56, 22, 7], [43, 15, 26], [41, 11, 32], [33, 46, 23], [31, 0, 53], [58, 23, 5], [42, 63, 0], [42, 63, 0], [42, 63, 0], [42, 63, 0], [41, 12, 31], [42, 63, 0], [41, 62, 2], [41, 63, 1], [33, 62, 10], [59, 25, 4], [21, 0, 63], [34, 63, 8], [43, 0, 41], [42, 63, 0], [41, 63, 1], [21, 0, 63], [42, 63, 0], [21, 0, 63], [41, 34, 22], [29, 63, 13], [23, 63, 19], [21, 6, 63], [42, 63, 0], [31, 53, 21], [46, 20, 18], [39, 33, 21], [63, 32, 0], [42, 63, 0], [43, 52, 10], [48, 28, 13], [42, 63, 0], [41, 63, 1], [42, 63, 0], [34, 40, 26], [21, 0, 63], [39, 63, 3], [42, 63, 0], [42, 63, 0], [21, 0, 63], [45, 11, 28], [21, 0, 63], [31, 0, 53], [42, 63, 0], [21, 0, 63], [42, 63, 0], [42, 63, 0], [34, 1, 49], [42, 63, 0], [37, 63, 5], [45, 0, 39], [45, 51, 4], [42, 2, 40], [28, 63, 14], [22, 0, 62], [45, 21, 18], [21, 0, 63], [41, 63, 1], [42, 63, 0], [34, 60, 11], [42, 15, 27], [21, 0, 63], [41, 63, 1], [33, 0, 51], [42, 63, 0], [63, 24, 0], [42, 63, 0], [62, 33, 0], [41, 63, 1], [42, 37, 18], [42, 63, 0], [53, 27, 8], [41, 63, 1], [41, 7, 36], [21, 0, 63], [27, 9, 52], [42, 63, 0], [37, 63, 5], [33, 21, 39], [31, 63, 11], [62, 31, 0], [41, 63, 1], [42, 63, 0], [42, 63, 0], [38, 63, 4], [25, 53, 27], [21, 0, 63], [43, 6, 35], [34, 44, 24], [22, 60, 23], [31, 63, 11], [40, 63, 2], [55, 43, 0], [37, 40, 21], [54, 21, 10], [21, 0, 63], [35, 63, 7], [57, 21, 6], [56, 42, 1], [41, 63, 1], [32, 2, 51], [42, 63, 0], [42, 63, 0], [21, 63, 21], [57, 20, 7], [42, 63, 0], [57, 27, 6], [34, 46, 22], [42, 63, 0], [42, 63, 0], [26, 1, 57], [42, 63, 0], [42, 63, 0], [22, 63, 20], [22, 1, 62], [58, 33, 2], [42, 63, 0], [42, 63, 0], [38, 63, 4], [42, 63, 0], [44, 38, 18], [42, 63, 0], [21, 0, 63], [39, 21, 27], [42, 63, 0], [27, 0, 57], [42, 63, 0], [42, 63, 0], [21, 2, 63], [34, 0, 50], [40, 25, 26], [59, 21, 4], [28, 56, 21], [22, 63, 20], [39, 0, 45], [42, 63, 0], [37, 63, 5], [40, 63, 2], [40, 63, 2], [21, 0, 63], [41, 0, 43], [27, 3, 57], [33, 25, 37], [35, 63, 7], [42, 63, 0], [42, 6, 36], [42, 63, 0], [42, 63, 0], [30, 0, 54], [21, 0, 63], [25, 58, 22], [38, 59, 8], [59, 25, 4], [41, 63, 1], [21, 0, 63], [21, 0, 63], [21, 63, 21], [23, 0, 61], [42, 63, 0], [42, 63, 0], [32, 63, 10], [42, 63, 0], [44, 15, 25], [21, 0, 63], [42, 63, 0], [30, 63, 12], [21, 63, 21], [42, 63, 0], [42, 63, 0], [41, 63, 1], [21, 0, 63], [45, 60, 0], [30, 52, 21], [42, 63, 0], [39, 48, 17], [40, 12, 34], [27, 0, 57], [63, 21, 0], [21, 0, 63], [34, 2, 49], [23, 1, 61], [41, 63, 1], [40, 63, 2], [21, 0, 63], [21, 0, 63], [41, 25, 21], [42, 63, 0], [40, 63, 2], [22, 0, 62], [48, 23, 15], [42, 63, 0], [30, 63, 12], [42, 63, 0], [42, 63, 0], [38, 0, 46], [57, 44, 0], [41, 0, 43], [22, 0, 62], [42, 7, 35], [21, 0, 63], [43, 0, 41], [49, 21, 14], [21, 0, 63], [42, 63, 0], [39, 0, 45], [42, 63, 0], [31, 53, 20], [42, 63, 0], [43, 21, 20], [57, 41, 1], [42, 63, 0], [54, 35, 6], [42, 63, 0], [42, 63, 0], [29, 63, 13], [46, 30, 17], [27, 63, 15], [44, 20, 21], [42, 63, 0], [41, 63, 1], [24, 60, 21], [54, 21, 9], [23, 61, 21], [28, 63, 14], [55, 0, 29], [42, 10, 32], [44, 58, 2], [42, 63, 0], [28, 0, 56], [42, 63, 0], [42, 63, 0], [57, 42, 0], [39, 31, 24], [42, 18, 27], [21, 0, 63], [42, 63, 0], [24, 0, 60], [40, 1, 43], [42, 63, 0], [42, 63, 0], [41, 63, 1], [21, 0, 63], [28, 0, 56], [42, 63, 0], [41, 63, 1], [42, 63, 0], [44, 60, 1], [23, 0, 61], [42, 63, 0], [31, 63, 11], [25, 0, 59], [51, 29, 14], [56, 20, 8], [32, 0, 52], [21, 0, 63], [22, 0, 62], [28, 63, 14], [31, 0, 53], [42, 13, 31], [42, 63, 0], [59, 40, 0], [42, 63, 0], [21, 63, 21], [29, 28, 45], [21, 63, 21], [40, 63, 2], [21, 63, 21], [42, 63, 0], [21, 0, 63], [22, 0, 62], [21, 63, 21], [28, 56, 20], [42, 63, 0], [21, 11, 63], [60, 27, 3], [22, 0, 62], [27, 63, 15], [24, 0, 60], [42, 63, 0], [27, 57, 21], [28, 3, 55], [40, 0, 44], [21, 0, 63], [40, 63, 2], [21, 0, 63], [21, 0, 63], [22, 62, 21], [42, 63, 0], [21, 0, 63], [35, 63, 7], [28, 57, 20], [54, 37, 6], [38, 38, 21], [38, 7, 42], [42, 63, 0], [41, 63, 1], [54, 44, 0], [29, 0, 55], [23, 55, 27], [21, 0, 63], [28, 63, 14], [21, 10, 62], [42, 63, 0], [41, 63, 1], [41, 14, 30], [42, 63, 0], [32, 34, 34], [54, 13, 17], [22, 0, 62], [38, 63, 4], [42, 63, 0], [21, 63, 21], [26, 7, 55], [41, 63, 1], [46, 17, 22], [42, 63, 0], [63, 22, 0], [42, 63, 0], [21, 0, 63], [34, 58, 12], [57, 24, 5], [33, 1, 50], [21, 0, 63], [38, 63, 4], [42, 63, 0], [41, 63, 1], [30, 63, 12], [43, 23, 21], [40, 30, 21], [42, 63, 0], [42, 63, 0], [42, 63, 0], [23, 0, 61], [41, 63, 1], [42, 63, 0], [36, 0, 48], [23, 60, 22], [21, 0, 63], [35, 47, 21], [34, 63, 8], [42, 63, 0], [42, 63, 0], [41, 62, 2], [41, 31, 20], [21, 0, 63], [29, 63, 13], [42, 63, 0], [24, 63, 18], [35, 2, 48], [53, 50, 2], [22, 1, 62], [21, 2, 63], [21, 0, 63], [21, 0, 63], [33, 8, 44], [42, 63, 0], [56, 43, 1], [23, 0, 61], [42, 63, 0], [21, 0, 63], [63, 21, 0], [48, 55, 2], [39, 53, 11], [27, 57, 21], [37, 63, 5], [21, 0, 63], [42, 63, 0], [21, 0, 63], [25, 0, 59], [42, 63, 0], [59, 35, 1], [39, 62, 4], [42, 63, 0], [22, 63, 20], [53, 21, 10], [42, 63, 0], [38, 2, 44], [59, 21, 4], [21, 0, 63], [42, 63, 0], [41, 63, 1], [37, 63, 5], [48, 18, 18], [26, 45, 33], [28, 21, 44], [29, 53, 21], [21, 0, 63], [38, 63, 4], [30, 63, 12], [42, 63, 0], [41, 4, 39], [61, 30, 0], [47, 21, 17], [21, 1, 63], [40, 2, 42], [42, 63, 0], [42, 63, 0], [40, 31, 22], [38, 63, 4], [23, 1, 61], [33, 63, 9], [21, 23, 61], [36, 63, 6], [60, 30, 3], [60, 17, 7], [42, 28, 21], [42, 23, 21], [42, 63, 0], [42, 63, 0], [42, 63, 0], [42, 63, 0], [57, 46, 0], [42, 63, 0], [27, 61, 17], [43, 22, 22], [22, 0, 62], [42, 63, 0], [42, 63, 0], [21, 62, 22], [42, 63, 0], [42, 63, 0], [21, 63, 21], [25, 0, 59], [57, 26, 6], [55, 24, 8], [42, 63, 0], [36, 63, 6], [46, 20, 18], [29, 61, 15], [21, 0, 63], [21, 63, 21], [63, 28, 0], [42, 63, 0], [62, 30, 0], [30, 63, 12], [37, 63, 5], [54, 22, 9], [23, 0, 61], [41, 63, 1], [42, 63, 0], [39, 63, 3], [21, 0, 63], [42, 63, 0], [42, 58, 5], [63, 21, 0], [42, 63, 0], [42, 63, 0], [44, 3, 37], [59, 24, 4], [42, 63, 0], [21, 0, 63], [42, 6, 36], [42, 63, 0], [31, 63, 11], [42, 31, 20], [28, 0, 56], [42, 63, 0], [62, 22, 1], [36, 63, 6], [42, 2, 40], [21, 0, 63], [21, 0, 63], [22, 0, 62], [43, 14, 27], [21, 0, 63], [56, 22, 7], [21, 0, 63], [21, 0, 63], [21, 0, 63], [21, 63, 21], [37, 63, 5], [41, 63, 1], [47, 18, 19], [25, 57, 21], [24, 63, 18], [41, 15, 32], [59, 22, 4], [22, 0, 62], [41, 63, 1], [41, 63, 1], [29, 42, 32], [59, 43, 0], [42, 63, 0], [42, 63, 0], [41, 14, 30], [42, 63, 0], [30, 1, 54], [42, 63, 0], [58, 41, 0], [42, 63, 0], [25, 59, 21], [41, 63, 1], [32, 63, 10], [30, 0, 54], [56, 21, 7], [28, 11, 48], [42, 63, 0], [40, 50, 13], [30, 14, 47], [21, 0, 63], [41, 63, 1], [49, 54, 2], [21, 0, 63], [39, 26, 26], [61, 30, 0], [46, 44, 11], [25, 0, 59], [21, 63, 21], [42, 63, 0], [42, 63, 0], [21, 63, 21], [42, 63, 0], [42, 12, 30], [41, 63, 1], [42, 63, 0], [42, 63, 0], [23, 1, 61], [22, 62, 21], [32, 63, 10], [39, 0, 45], [44, 25, 18], [52, 21, 11], [42, 14, 28], [37, 56, 10], [42, 63, 0], [23, 63, 19], [42, 63, 0], [41, 63, 1], [42, 63, 0], [21, 0, 63], [42, 63, 0], [41, 63, 1], [28, 49, 28], [43, 62, 0], [23, 1, 61], [42, 16, 26], [41, 16, 29], [42, 63, 0], [33, 47, 24], [42, 63, 0], [23, 0, 61], [30, 52, 22], [58, 42, 0], [42, 63, 0], [42, 63, 0], [38, 63, 4], [32, 63, 10], [39, 63, 3], [40, 63, 2], [61, 32, 0], [38, 63, 4], [54, 22, 9], [36, 14, 38], [39, 63, 3], [28, 0, 56], [30, 38, 30], [42, 63, 0], [42, 63, 0], [23, 61, 21], [42, 63, 0], [42, 63, 0], [34, 63, 8], [42, 63, 0], [43, 14, 27], [42, 63, 0], [41, 25, 21], [39, 63, 3], [58, 20, 6], [27, 56, 21], [44, 0, 40], [37, 6, 41], [40, 63, 2], [44, 21, 19], [27, 63, 15], [32, 0, 52], [37, 0, 47], [41, 63, 1], [21, 63, 21], [39, 1, 44], [22, 0, 62], [21, 0, 63], [42, 63, 0], [31, 52, 21], [42, 10, 32], [31, 63, 11], [40, 62, 3], [43, 4, 37], [40, 62, 2], [58, 21, 7], [39, 2, 43], [22, 63, 20], [21, 0, 63], [42, 63, 0], [31, 50, 21], [42, 63, 0], [35, 56, 13], [42, 24, 22], [56, 29, 7], [59, 26, 4], [42, 63, 0], [21, 1, 63], [24, 63, 18], [30, 63, 12], [26, 8, 57], [45, 29, 18], [42, 63, 0], [40, 63, 2], [42, 63, 0], [39, 0, 45], [33, 63, 9], [34, 0, 50], [42, 63, 0], [42, 63, 0], [35, 20, 37], [41, 28, 20], [49, 14, 21], [26, 62, 17], [42, 63, 0], [28, 63, 14], [41, 25, 23], [38, 63, 4], [42, 63, 0], [42, 63, 0], [49, 15, 20], [43, 38, 17], [21, 0, 63], [31, 62, 11], [23, 61, 21], [63, 26, 0], [43, 21, 20], [38, 0, 46], [21, 0, 63], [31, 9, 50], [26, 0, 58], [26, 5, 56], [28, 63, 14], [62, 22, 1], [32, 0, 52], [42, 63, 0], [42, 23, 21], [45, 19, 20], [42, 63, 0], [42, 63, 0], [58, 27, 4], [40, 63, 2], [29, 54, 21], [42, 2, 40], [42, 63, 0], [42, 63, 0], [42, 63, 0], [42, 16, 29], [21, 0, 63], [36, 63, 6], [42, 63, 0], [42, 63, 0], [42, 63, 0], [50, 36, 12], [41, 1, 42], [42, 63, 0], [45, 19, 20], [22, 62, 21], [42, 63, 0], [31, 63, 11], [42, 63, 0], [42, 63, 0], [42, 63, 0], [42, 63, 0], [24, 58, 23], [42, 63, 0], [35, 63, 7], [54, 43, 1], [31, 63, 11], [30, 0, 54], [49, 31, 10], [42, 63, 0], [50, 27, 15], [42, 63, 0], [42, 63, 0], [42, 63, 0], [21, 0, 63], [33, 0, 51], [34, 30, 32], [30, 0, 54], [37, 0, 47], [59, 11, 14], [42, 63, 0], [42, 63, 0], [56, 30, 7], [24, 0, 60], [38, 3, 43], [42, 63, 0], [23, 0, 61], [21, 0, 63], [48, 17, 19], [63, 23, 0], [37, 18, 32], [41, 63, 1], [43, 3, 38], [33, 24, 37], [28, 63, 14], [31, 63, 11], [40, 63, 2], [42, 63, 0], [51, 19, 18], [42, 63, 0], [40, 35, 19], [29, 63, 13], [35, 63, 7], [40, 31, 22], [39, 40, 23], [21, 2, 63], [21, 0, 63], [49, 23, 12], [42, 63, 0], [42, 63, 0], [41, 63, 1], [42, 63, 0], [42, 63, 0], [42, 20, 24], [32, 1, 51], [29, 63, 13], [42, 63, 0], [21, 0, 63], [42, 63, 0], [40, 63, 2], [23, 63, 19], [42, 63, 0], [42, 63, 0], [21, 0, 63], [42, 63, 0], [45, 3, 36], [21, 63, 21], [28, 4, 53], [35, 47, 20], [21, 0, 63], [21, 63, 21], [42, 63, 0], [40, 21, 23], [21, 0, 63], [22, 1, 62], [42, 63, 0], [42, 63, 0], [41, 63, 1], [21, 0, 63], [21, 0, 63], [52, 13, 19], [28, 0, 56], [42, 63, 0], [42, 63, 0], [21, 0, 63], [42, 63, 0], [42, 63, 0], [42, 63, 0], [42, 63, 0], [43, 31, 20], [30, 54, 21], [39, 63, 3], [46, 59, 0], [25, 14, 56], [34, 37, 25], [42, 63, 0], [21, 0, 63], [26, 58, 21], [23, 0, 61], [51, 42, 7], [41, 63, 1], [31, 58, 16], [42, 63, 0], [42, 63, 0], [42, 63, 0], [40, 36, 21], [42, 63, 0], [45, 4, 35], [42, 63, 0], [42, 63, 0], [48, 56, 0], [22, 62, 21], [39, 63, 3], [21, 0, 63], [59, 21, 5], [42, 2, 40], [23, 63, 19], [34, 63, 8], [38, 39, 21], [42, 63, 0], [35, 0, 49], [29, 55, 21], [40, 63, 2], [40, 0, 44], [42, 26, 23], [23, 63, 19], [43, 11, 30], [50, 22, 20], [50, 23, 21], [42, 63, 0], [21, 0, 63], [63, 21, 1], [24, 63, 18], [42, 63, 0], [46, 0, 38], [41, 63, 1], [21, 63, 21], [44, 36, 11], [21, 0, 63], [38, 63, 4], [42, 63, 0], [41, 27, 22], [42, 63, 0], [26, 19, 49], [42, 27, 21], [57, 6, 21], [42, 63, 0], [42, 63, 0], [22, 62, 21], [22, 0, 62], [34, 55, 16], [42, 63, 0], [43, 19, 22], [42, 63, 0], [59, 33, 2], [38, 63, 4], [42, 63, 0], [39, 63, 3], [27, 55, 23], [45, 0, 39], [42, 63, 0], [21, 0, 63], [31, 25, 42], [42, 63, 0], [41, 62, 2], [32, 63, 10], [42, 63, 0], [26, 63, 16], [52, 21, 11], [29, 63, 13], [24, 32, 46], [22, 0, 62], [40, 63, 2], [23, 61, 21], [42, 63, 0], [21, 0, 63], [41, 63, 1], [35, 49, 21], [37, 63, 5], [30, 62, 13], [21, 0, 63], [37, 28, 24], [29, 63, 13], [42, 63, 0], [44, 61, 0], [21, 63, 21], [22, 0, 62], [39, 33, 22], [21, 63, 21], [51, 51, 0], [53, 22, 10], [41, 63, 1], [42, 63, 0], [41, 63, 1], [61, 21, 2], [42, 63, 0], [46, 40, 13], [22, 63, 20], [42, 63, 0], [42, 63, 0], [52, 29, 11], [27, 59, 18], [42, 63, 0], [42, 63, 0], [42, 63, 0], [32, 63, 10], [43, 62, 0], [42, 63, 0], [42, 63, 0], [55, 32, 7], [42, 63, 0], [22, 1, 62], [40, 62, 3], [31, 0, 53], [21, 61, 23], [37, 63, 5], [23, 63, 19], [58, 27, 5], [42, 25, 20], [43, 0, 41], [42, 63, 0], [21, 0, 63], [32, 60, 13], [61, 37, 1], [42, 63, 0], [42, 63, 0], [38, 63, 4], [35, 63, 7], [22, 63, 20], [34, 63, 8], [24, 0, 60], [42, 63, 0], [46, 32, 14], [35, 1, 49], [42, 63, 0], [21, 0, 63], [42, 63, 0], [31, 43, 25], [42, 63, 0], [42, 63, 0], [36, 61, 8], [38, 63, 4], [60, 24, 3], [63, 21, 0], [44, 39, 15], [37, 40, 24], [42, 20, 22], [22, 0, 62], [26, 63, 16], [42, 63, 0], [43, 14, 27], [29, 0, 55], [21, 63, 21], [40, 63, 2], [35, 63, 7], [42, 63, 0], [28, 22, 42], [28, 0, 56], [21, 0, 63], [42, 63, 0], [39, 39, 21], [42, 63, 0], [42, 63, 0], [44, 1, 39], [33, 51, 20], [54, 12, 18], [21, 0, 63], [43, 13, 28], [33, 53, 19], [42, 63, 0], [42, 63, 0], [39, 63, 3], [42, 63, 0], [42, 63, 0], [56, 28, 6], [21, 0, 63], [44, 59, 2], [57, 37, 2], [38, 1, 45], [43, 21, 20], [46, 21, 17], [27, 63, 15], [35, 2, 47], [37, 32, 23], [33, 1, 50], [42, 63, 0], [42, 63, 0], [42, 63, 0], [39, 63, 3], [42, 63, 0], [42, 63, 0], [42, 63, 0], [21, 0, 63], [46, 58, 0], [48, 21, 15], [42, 63, 0], [42, 63, 0], [33, 42, 25], [28, 9, 55], [42, 63, 0], [42, 63, 0], [60, 36, 0], [36, 63, 6], [42, 63, 0], [61, 34, 0], [24, 0, 60], [21, 12, 59], [21, 0, 63], [30, 56, 18], [35, 63, 7], [29, 56, 20], [61, 21, 2], [54, 20, 10], [24, 0, 60], [42, 63, 0], [32, 63, 10], [41, 10, 33], [42, 63, 0], [39, 43, 19], [41, 63, 1], [43, 62, 0], [42, 4, 38], [40, 63, 2], [48, 21, 15], [49, 18, 17], [42, 63, 0], [42, 63, 0], [24, 0, 60], [42, 63, 0], [35, 63, 7], [42, 63, 0], [34, 23, 40], [28, 1, 55], [39, 63, 3], [38, 63, 4], [30, 0, 54], [41, 63, 1], [42, 63, 0], [51, 6, 27], [42, 63, 0], [39, 24, 27], [43, 15, 26], [42, 63, 0], [38, 63, 4], [42, 63, 0], [42, 63, 0], [34, 49, 21], [21, 4, 63], [56, 42, 0], [41, 2, 41], [21, 63, 21], [23, 47, 35], [39, 0, 45], [42, 63, 0], [21, 63, 21], [42, 63, 0], [42, 2, 40], [45, 29, 16], [42, 63, 0], [21, 2, 63], [42, 63, 0], [42, 63, 0], [21, 0, 63], [42, 63, 0], [52, 52, 0], [58, 40, 0], [41, 63, 1], [41, 63, 1], [42, 63, 0], [40, 43, 19], [29, 0, 55], [42, 63, 0], [49, 20, 15], [23, 0, 61], [21, 63, 21], [42, 63, 0], [41, 63, 1], [21, 0, 63], [42, 63, 0], [39, 63, 3], [43, 61, 1], [26, 0, 58], [42, 63, 0], [42, 63, 0], [42, 63, 0], [23, 63, 19], [26, 63, 16], [24, 0, 60], [38, 18, 32], [36, 0, 48], [38, 27, 24], [43, 3, 38], [33, 63, 9], [23, 24, 55], [47, 32, 15], [21, 0, 63], [58, 18, 8], [42, 63, 0], [38, 63, 4], [22, 0, 62], [42, 10, 32], [25, 0, 59], [41, 63, 1], [42, 63, 0], [25, 63, 17], [44, 31, 17], [42, 63, 0], [42, 63, 0], [28, 51, 26], [40, 0, 44], [37, 46, 20], [27, 63, 15], [42, 28, 20], [42, 63, 0], [36, 56, 11], [36, 63, 6], [42, 63, 0], [59, 24, 4], [22, 0, 62], [42, 63, 0], [63, 22, 0], [42, 63, 0], [27, 0, 57], [42, 63, 0], [42, 63, 0], [42, 63, 0], [32, 0, 52], [42, 5, 37], [21, 0, 63], [42, 63, 0], [43, 3, 38], [42, 63, 0], [49, 18, 17], [32, 63, 10], [42, 63, 0], [37, 63, 5], [40, 63, 2], [42, 63, 0], [43, 62, 0], [39, 63, 3], [42, 63, 0], [21, 0, 63], [42, 63, 0], [49, 0, 35], [41, 63, 1], [28, 0, 56], [42, 27, 21], [43, 34, 19], [41, 63, 1], [61, 21, 2], [42, 19, 23], [42, 63, 0], [42, 63, 0], [35, 63, 7], [42, 63, 0], [24, 63, 18], [26, 63, 16], [42, 63, 0], [60, 30, 2], [42, 63, 0], [35, 35, 28], [21, 0, 63], [46, 36, 13], [44, 11, 29], [40, 0, 44], [21, 0, 63], [34, 0, 50], [21, 0, 63], [42, 63, 0], [43, 57, 4], [34, 1, 49], [39, 63, 3], [42, 63, 0], [41, 63, 1], [42, 63, 0], [42, 63, 0], [36, 0, 48], [44, 58, 3], [42, 63, 0], [45, 25, 18], [42, 63, 0], [25, 63, 17], [23, 61, 21], [21, 0, 63], [41, 0, 43], [41, 63, 1], [43, 14, 27], [38, 63, 4], [60, 21, 3], [40, 63, 2], [21, 1, 63], [42, 63, 0], [21, 0, 63], [41, 63, 1], [41, 15, 28], [40, 16, 32], [24, 63, 18], [21, 0, 63], [44, 9, 31], [40, 63, 2], [21, 0, 63], [42, 63, 0], [42, 63, 0], [42, 63, 0], [43, 8, 33], [42, 63, 0], [23, 0, 61], [50, 29, 16], [41, 2, 41], [42, 63, 0], [39, 44, 21], [27, 61, 17], [42, 63, 0], [35, 63, 7], [38, 63, 4], [21, 0, 63], [42, 63, 0], [21, 0, 63], [42, 63, 0], [29, 15, 54], [27, 0, 57], [26, 63, 16], [27, 63, 15], [41, 63, 1], [31, 0, 53], [56, 42, 1], [32, 22, 37], [42, 63, 0], [21, 0, 63], [35, 2, 48], [42, 63, 0], [42, 63, 0], [22, 33, 48], [36, 0, 48], [59, 21, 4], [25, 52, 28], [21, 0, 63], [21, 0, 63], [37, 29, 31], [42, 63, 0], [34, 2, 48], [41, 24, 25], [42, 6, 36], [41, 5, 38], [42, 63, 0], [42, 63, 0], [42, 63, 0], [23, 57, 25], [21, 63, 21], [42, 63, 0], [52, 50, 0], [42, 63, 0], [21, 0, 63], [42, 63, 0], [42, 63, 0], [36, 63, 6], [49, 30, 12], [42, 63, 0], [63, 23, 0], [42, 63, 0], [22, 0, 62], [42, 63, 0], [27, 0, 57], [42, 63, 0], [42, 63, 0], [42, 63, 0], [24, 0, 60], [42, 63, 0], [47, 21, 16], [25, 63, 17], [42, 63, 0], [59, 7, 18], [42, 63, 0], [42, 63, 0], [45, 0, 39], [39, 63, 3], [21, 0, 63], [42, 63, 0], [42, 63, 0], [53, 27, 8], [40, 0, 44], [37, 63, 5], [27, 0, 57], [41, 63, 1], [45, 25, 19], [56, 21, 7], [42, 63, 0], [51, 42, 8], [52, 21, 11], [58, 35, 4], [21, 63, 21], [42, 63, 0], [42, 63, 0], [42, 63, 0], [61, 21, 2], [30, 2, 52], [41, 0, 43], [40, 0, 44], [29, 63, 13], [38, 48, 15], [24, 30, 46], [42, 33, 20], [21, 0, 63], [28, 52, 23], [42, 63, 0], [23, 0, 61], [61, 38, 0], [31, 26, 41], [42, 63, 0], [22, 0, 62], [27, 63, 15], [21, 0, 63], [36, 30, 30], [21, 0, 63], [41, 63, 1], [33, 0, 51], [42, 6, 36], [42, 20, 22], [42, 63, 0], [25, 0, 59], [43, 9, 32], [23, 0, 61], [42, 22, 22], [21, 0, 63], [40, 63, 2], [48, 40, 12], [42, 63, 0], [40, 63, 2], [52, 45, 3], [21, 0, 63], [42, 63, 0], [21, 0, 63], [42, 63, 0], [41, 63, 1], [38, 63, 4], [34, 4, 47], [40, 3, 41], [22, 58, 24], [62, 22, 1], [29, 13, 50], [36, 3, 45], [42, 63, 0], [22, 0, 62], [21, 0, 63], [57, 21, 6], [42, 63, 0], [45, 21, 18], [40, 63, 2], [38, 1, 45], [21, 0, 63], [42, 63, 0], [42, 63, 0], [57, 21, 6], [42, 18, 24], [44, 60, 1], [42, 63, 0], [37, 43, 21], [42, 5, 37], [54, 34, 5], [21, 0, 63], [21, 0, 63], [22, 62, 21], [40, 0, 44], [52, 39, 6], [32, 35, 30], [22, 0, 62], [36, 50, 16], [42, 63, 0], [39, 63, 3], [38, 53, 12], [42, 63, 0], [40, 63, 2], [42, 63, 0], [39, 63, 3], [35, 0, 49], [43, 20, 21], [40, 63, 2], [39, 63, 3], [42, 63, 0], [21, 0, 63], [52, 22, 11], [41, 63, 1], [42, 63, 0], [42, 63, 0], [37, 63, 5], [21, 35, 49], [35, 0, 49], [42, 63, 0], [25, 0, 59], [26, 58, 21], [27, 22, 51], [23, 61, 21], [38, 32, 26], [61, 33, 1], [51, 22, 12], [31, 0, 53], [44, 11, 29], [42, 63, 0], [39, 0, 45], [42, 63, 0], [24, 63, 18], [42, 63, 0], [34, 0, 50], [38, 63, 4], [21, 0, 63], [42, 63, 0], [42, 63, 0], [58, 24, 5], [44, 17, 23], [31, 63, 11], [39, 27, 23], [42, 63, 0], [21, 0, 63], [26, 56, 22], [21, 63, 21], [22, 63, 20], [42, 63, 0], [41, 0, 43], [21, 0, 63], [53, 10, 21], [42, 23, 23], [22, 0, 62], [42, 63, 0], [33, 42, 22], [35, 63, 7], [42, 63, 0], [41, 63, 1], [41, 63, 1], [42, 63, 0], [39, 63, 3], [46, 11, 27], [21, 0, 63], [21, 0, 63], [41, 11, 32], [41, 63, 1], [56, 39, 4], [42, 63, 0], [33, 0, 51], [30, 0, 54], [42, 63, 0], [42, 63, 0], [49, 19, 18], [32, 63, 10], [26, 63, 16], [42, 63, 0], [44, 4, 36], [42, 63, 0], [22, 0, 62], [42, 63, 0], [21, 0, 63], [42, 63, 0], [33, 49, 20], [53, 46, 4], [43, 6, 35], [42, 63, 0], [30, 63, 12], [25, 62, 18], [21, 0, 63], [27, 63, 15], [42, 63, 0], [42, 63, 0], [26, 0, 58], [38, 1, 45], [41, 63, 1], [42, 63, 0], [24, 4, 58], [37, 63, 5], [21, 63, 21], [21, 0, 63], [42, 63, 0], [53, 51, 0], [42, 63, 0], [26, 48, 30], [21, 0, 63], [26, 63, 16], [55, 21, 8], [21, 63, 21], [42, 4, 38], [38, 63, 4], [52, 48, 3], [41, 63, 1], [42, 63, 0], [42, 63, 0], [38, 63, 4], [21, 0, 63], [22, 63, 20], [33, 6, 46], [42, 1, 41], [34, 5, 46], [42, 63, 0], [33, 20, 40], [38, 63, 4], [37, 63, 5], [37, 63, 5], [21, 27, 54], [42, 21, 21], [59, 21, 4], [42, 63, 0], [42, 63, 0], [42, 63, 0], [34, 0, 50], [50, 25, 13], [41, 0, 43], [30, 0, 54], [62, 26, 0], [41, 63, 1], [23, 61, 21], [58, 44, 0], [42, 63, 0], [30, 63, 12], [26, 0, 58], [62, 26, 0], [42, 63, 0], [48, 0, 36], [46, 26, 15], [30, 63, 12], [34, 44, 21], [22, 0, 62], [42, 3, 39], [55, 37, 3], [42, 63, 0], [33, 63, 9], [51, 31, 10], [42, 63, 0], [22, 62, 21], [42, 63, 0], [37, 0, 47], [42, 63, 0], [21, 0, 63], [21, 0, 63], [21, 0, 63], [21, 2, 63], [23, 63, 19], [21, 0, 63], [42, 63, 0], [55, 24, 8], [29, 0, 55], [44, 14, 26], [33, 63, 9], [33, 0, 51], [38, 40, 21], [26, 63, 16], [26, 0, 58], [36, 63, 6], [30, 63, 12], [50, 17, 18], [39, 63, 3], [41, 63, 1], [34, 63, 8], [24, 14, 56], [35, 63, 7], [42, 63, 0], [58, 41, 0], [49, 27, 14], [36, 0, 48], [42, 63, 0], [42, 32, 20], [23, 0, 61], [21, 0, 63], [26, 47, 32], [39, 39, 21], [63, 27, 0], [43, 21, 20], [42, 14, 28], [21, 63, 21], [21, 0, 63], [45, 23, 18], [38, 43, 22], [42, 63, 0], [42, 63, 0], [42, 21, 21], [41, 63, 1], [39, 1, 44], [40, 5, 39], [59, 29, 3], [34, 63, 8], [56, 47, 0], [21, 0, 63], [29, 0, 55], [26, 59, 20], [42, 63, 0], [41, 14, 30], [38, 63, 4], [28, 0, 56], [21, 63, 21], [40, 0, 44], [23, 0, 61], [54, 29, 7], [42, 15, 27], [63, 23, 0], [42, 0, 42], [39, 25, 24], [24, 60, 21], [40, 63, 2], [43, 55, 7], [42, 0, 42], [40, 13, 31], [43, 34, 18], [40, 63, 2], [28, 63, 14], [56, 26, 7], [21, 63, 21], [48, 29, 15], [45, 8, 31], [21, 0, 63], [40, 8, 38], [36, 45, 21], [24, 63, 18], [31, 53, 21], [27, 63, 15], [28, 0, 56], [21, 0, 63], [21, 63, 21], [23, 0, 61], [58, 26, 5], [24, 0, 60], [42, 63, 0], [42, 63, 0], [33, 0, 51], [46, 54, 4], [38, 63, 4], [21, 0, 63], [42, 63, 0], [43, 8, 33], [23, 61, 21], [38, 63, 4], [21, 0, 63], [36, 0, 48], [25, 63, 17], [43, 19, 24], [46, 34, 16], [37, 61, 6], [40, 63, 2], [62, 29, 0], [44, 61, 0], [42, 0, 42], [21, 0, 63], [45, 10, 29], [41, 63, 1], [42, 63, 0], [43, 22, 20], [21, 0, 63], [42, 63, 0], [42, 63, 0], [40, 12, 33], [42, 63, 0], [50, 0, 34], [42, 63, 0], [42, 63, 0], [41, 63, 1], [42, 63, 0], [21, 0, 63], [28, 63, 14], [30, 53, 19], [21, 0, 63], [36, 53, 12], [41, 18, 32], [42, 63, 0], [23, 0, 61], [42, 63, 0], [21, 0, 63], [44, 20, 20], [42, 63, 0], [42, 14, 28], [41, 63, 1], [32, 0, 52], [45, 49, 10], [42, 63, 0], [21, 0, 63], [42, 63, 0], [21, 0, 63], [22, 0, 62], [21, 0, 63], [42, 23, 22], [40, 63, 2], [42, 63, 0], [42, 36, 21], [48, 18, 18], [41, 0, 43], [41, 36, 21], [33, 52, 20], [42, 63, 0], [42, 63, 0], [42, 63, 0], [42, 63, 0], [38, 63, 4], [21, 0, 63], [53, 27, 10], [32, 52, 21], [21, 0, 63], [54, 21, 9], [29, 0, 55], [40, 63, 2], [63, 23, 0], [22, 1, 62], [39, 63, 3], [35, 1, 48], [61, 29, 0], [21, 0, 63], [41, 63, 1], [42, 19, 24], [42, 63, 0], [40, 32, 21], [42, 63, 0], [34, 0, 50], [38, 63, 4], [21, 0, 63], [50, 21, 13], [42, 63, 0], [60, 33, 1], [43, 53, 8], [23, 63, 19], [52, 50, 0], [42, 26, 21], [21, 0, 63], [42, 22, 21], [42, 63, 0], [21, 0, 63], [42, 63, 0], [42, 63, 0], [31, 41, 31], [42, 63, 0], [43, 18, 24], [42, 63, 0], [28, 56, 21], [42, 63, 0], [38, 0, 46], [21, 0, 63], [41, 63, 1], [42, 63, 0], [22, 63, 20], [21, 0, 63], [42, 63, 0], [27, 0, 57], [39, 37, 20], [25, 63, 17], [42, 63, 0], [42, 63, 0], [21, 0, 63], [35, 44, 22], [42, 63, 0], [53, 44, 4], [58, 18, 12], [25, 63, 17], [42, 63, 0], [45, 22, 19], [42, 63, 0], [42, 63, 0], [21, 0, 63], [42, 7, 35], [55, 21, 9], [44, 9, 31], [40, 2, 42], [40, 63, 2], [29, 38, 36], [27, 51, 25], [33, 63, 9], [23, 0, 61], [29, 63, 13], [25, 1, 59], [33, 63, 9], [42, 63, 0], [31, 8, 48], [21, 0, 63], [21, 1, 63], [42, 63, 0], [21, 63, 21], [31, 63, 11], [42, 63, 0], [21, 0, 63], [41, 0, 43], [44, 28, 19], [42, 22, 21], [21, 0, 63], [32, 29, 40], [42, 63, 0], [21, 0, 63], [41, 8, 35], [42, 63, 0], [36, 63, 6], [41, 50, 13], [22, 0, 62], [63, 23, 0], [34, 55, 16], [42, 0, 42], [45, 53, 3], [41, 0, 43], [27, 0, 57], [29, 63, 13], [26, 5, 55], [23, 0, 61], [42, 63, 0], [36, 63, 6], [41, 63, 1], [54, 24, 8], [50, 28, 13], [57, 41, 0], [42, 63, 0], [42, 63, 0], [42, 63, 0], [42, 20, 22], [54, 24, 9], [23, 61, 21], [48, 41, 14], [33, 0, 51], [26, 63, 16], [38, 0, 46], [42, 63, 0], [21, 37, 47], [31, 0, 53], [21, 63, 21], [42, 63, 0], [36, 63, 6], [42, 63, 0], [35, 59, 11], [28, 0, 56], [21, 0, 63], [42, 63, 0], [42, 63, 0], [21, 0, 63], [28, 0, 56], [39, 37, 21], [21, 0, 63], [21, 0, 63], [30, 7, 49], [25, 63, 17], [21, 0, 63], [28, 59, 18], [28, 0, 56], [39, 63, 3], [42, 22, 22], [42, 63, 0], [21, 0, 63], [45, 8, 31], [41, 63, 1], [52, 23, 11], [63, 24, 0], [42, 63, 0], [42, 63, 0], [24, 59, 22], [21, 0, 63], [36, 1, 47], [42, 15, 27], [28, 56, 21], [47, 7, 30], [21, 63, 21], [21, 0, 63], [36, 0, 48], [42, 2, 40], [21, 0, 63], [24, 60, 21], [21, 0, 63], [53, 22, 10], [22, 63, 20], [22, 0, 62], [37, 63, 5], [42, 63, 0], [41, 63, 1], [40, 3, 41], [23, 62, 20], [22, 63, 20], [46, 37, 15], [42, 63, 0], [39, 61, 5], [42, 63, 0], [42, 63, 0], [23, 0, 61], [29, 52, 23], [42, 63, 0], [22, 63, 20], [22, 63, 20], [42, 63, 0], [36, 48, 19], [42, 63, 0], [37, 63, 5], [62, 23, 0], [61, 23, 0], [45, 25, 17], [45, 59, 0], [33, 63, 9], [40, 63, 2], [32, 0, 52], [42, 0, 42], [42, 63, 0], [42, 0, 42], [41, 63, 1], [28, 0, 56], [42, 63, 0], [42, 7, 35], [42, 63, 0], [63, 21, 0], [46, 25, 17], [35, 41, 25], [42, 63, 0], [21, 0, 63], [42, 63, 0], [34, 63, 8], [42, 63, 0], [24, 0, 60], [22, 63, 20], [42, 63, 0], [41, 63, 1], [38, 7, 40], [41, 35, 21], [42, 63, 0], [50, 10, 24], [57, 36, 0], [42, 63, 0], [42, 63, 0], [42, 63, 0], [34, 63, 8], [21, 63, 21], [22, 0, 62], [45, 25, 16], [53, 17, 14], [21, 0, 63], [21, 1, 63], [60, 32, 0], [42, 63, 0], [43, 3, 38], [63, 23, 0], [39, 63, 3], [21, 0, 63], [47, 0, 37], [41, 63, 1], [26, 7, 56], [37, 40, 22], [42, 63, 0], [55, 4, 25], [40, 63, 2], [21, 0, 63], [42, 63, 0], [50, 53, 0], [21, 0, 63], [27, 63, 15], [21, 0, 63], [42, 63, 0], [47, 46, 10], [42, 18, 24], [40, 39, 21], [42, 63, 0], [61, 35, 0], [43, 23, 20], [39, 34, 21], [42, 63, 0], [33, 51, 19], [51, 17, 16], [42, 63, 0], [62, 27, 1], [42, 63, 0], [38, 63, 4], [42, 22, 22], [42, 63, 0], [21, 11, 63], [33, 63, 9], [41, 63, 1], [45, 3, 36], [42, 63, 0], [46, 23, 17], [51, 46, 3], [21, 1, 63], [53, 21, 10], [42, 63, 0], [21, 0, 63], [42, 63, 0], [42, 63, 0], [21, 0, 63], [42, 63, 0], [23, 63, 19], [28, 53, 24], [42, 63, 0], [21, 0, 63], [39, 38, 21], [42, 63, 0], [40, 63, 2], [21, 0, 63], [42, 63, 0], [21, 63, 21], [42, 28, 20], [42, 63, 0], [21, 0, 63], [35, 1, 48], [22, 62, 21], [36, 63, 6], [38, 63, 4], [42, 63, 0], [42, 63, 0], [46, 58, 0], [37, 63, 5], [39, 63, 3], [42, 63, 0], [39, 42, 19], [59, 42, 0], [58, 33, 3], [47, 0, 37], [54, 11, 19], [40, 63, 2], [23, 62, 20], [54, 43, 0], [42, 63, 0], [21, 0, 63], [34, 63, 8], [61, 34, 0], [42, 63, 0], [25, 8, 57], [39, 2, 43], [42, 63, 0], [42, 10, 32], [24, 55, 25], [30, 63, 12], [42, 63, 0], [42, 0, 42], [26, 0, 58], [42, 26, 20], [40, 0, 44], [42, 63, 0], [41, 63, 1], [21, 33, 51], [27, 63, 15], [31, 53, 21], [21, 0, 63], [38, 63, 4], [42, 63, 0], [23, 26, 53], [40, 63, 2], [42, 63, 0], [21, 63, 21], [32, 63, 10], [52, 22, 11], [42, 19, 23], [42, 63, 0], [43, 18, 23], [27, 0, 57], [42, 63, 0], [27, 57, 21], [23, 60, 22], [43, 21, 21], [42, 63, 0], [46, 2, 36], [30, 0, 54], [36, 63, 6], [55, 28, 5], [42, 63, 0], [21, 0, 63], [41, 63, 1], [42, 63, 0], [42, 18, 24], [42, 63, 0], [41, 63, 1], [43, 62, 0], [58, 25, 5], [54, 17, 13], [28, 55, 21], [42, 63, 0], [22, 0, 62], [62, 26, 1], [43, 0, 41], [25, 63, 17], [42, 63, 0], [42, 63, 0], [41, 14, 29], [21, 1, 63], [42, 63, 0], [27, 63, 15], [62, 32, 0], [21, 0, 63], [38, 12, 35], [42, 63, 0], [42, 63, 0], [42, 63, 0], [59, 38, 0], [26, 63, 16], [21, 0, 63], [42, 63, 0], [40, 2, 42], [42, 63, 0], [42, 63, 0], [21, 0, 63], [42, 63, 0], [42, 63, 0], [41, 63, 1], [51, 32, 11], [33, 63, 9], [21, 63, 21], [32, 63, 10], [35, 0, 49], [42, 63, 0], [42, 63, 0], [21, 0, 63], [42, 63, 0], [39, 0, 45], [34, 63, 8], [41, 63, 1], [41, 36, 19], [42, 10, 32], [39, 25, 31], [43, 0, 41], [40, 32, 20], [40, 16, 31], [42, 63, 0], [37, 63, 5], [42, 63, 0], [21, 0, 63], [39, 1, 44], [42, 63, 0], [21, 0, 63], [24, 63, 18], [21, 0, 63], [54, 40, 5], [42, 63, 0], [62, 21, 1], [58, 21, 5], [41, 62, 2], [38, 10, 39], [27, 63, 15], [42, 13, 30], [33, 49, 22], [28, 63, 14], [23, 0, 61], [42, 21, 21], [30, 28, 39], [21, 0, 63], [42, 63, 0], [27, 57, 21], [21, 0, 63], [43, 18, 23], [53, 20, 11], [42, 63, 0], [21, 0, 63], [22, 62, 21], [37, 63, 5], [60, 21, 3], [24, 63, 18], [25, 54, 24], [42, 63, 0], [21, 0, 63], [34, 63, 8], [42, 63, 0], [24, 0, 60], [42, 63, 0], [39, 63, 3], [35, 0, 49], [42, 63, 0], [42, 63, 0], [23, 0, 61], [24, 62, 19], [42, 33, 21], [32, 63, 10], [31, 2, 51], [29, 18, 54], [42, 63, 0], [42, 63, 0], [42, 63, 0], [36, 0, 48], [42, 63, 0], [21, 0, 63], [32, 0, 52], [51, 22, 12], [61, 30, 1], [41, 63, 1], [58, 21, 5], [63, 24, 0], [56, 41, 3], [36, 57, 11], [36, 2, 46], [42, 63, 0], [41, 63, 1], [42, 63, 0], [22, 50, 33], [40, 63, 2], [35, 63, 7], [42, 63, 0], [22, 0, 62], [42, 63, 0], [21, 0, 63], [42, 19, 27], [42, 2, 40], [31, 60, 14], [40, 63, 2], [21, 0, 63], [42, 63, 0], [42, 63, 0], [62, 25, 1], [36, 63, 6], [52, 40, 5], [51, 21, 12], [51, 52, 0], [42, 63, 0], [47, 25, 16], [42, 63, 0], [42, 63, 0], [45, 22, 18], [26, 0, 58], [28, 63, 14], [49, 55, 0], [34, 63, 8], [21, 0, 63], [34, 0, 50], [30, 51, 24], [60, 29, 1], [30, 15, 48], [36, 63, 6], [40, 63, 2], [24, 63, 18], [42, 63, 0], [27, 63, 15], [37, 54, 13], [21, 0, 63], [43, 36, 20], [38, 37, 21], [28, 22, 47], [38, 59, 7], [30, 63, 12], [44, 12, 28], [21, 0, 63], [22, 0, 62], [41, 0, 43], [42, 63, 0], [42, 63, 0], [21, 0, 63], [42, 21, 22], [30, 44, 28], [27, 63, 15], [42, 63, 0], [50, 1, 33], [25, 2, 59], [42, 63, 0], [39, 63, 3], [42, 63, 0], [29, 0, 55], [40, 23, 25], [34, 34, 31], [39, 0, 45], [34, 0, 50], [39, 21, 29], [25, 63, 17], [32, 63, 10], [42, 63, 0], [41, 63, 1], [21, 0, 63], [40, 13, 33], [24, 63, 18], [21, 0, 63], [35, 39, 27], [28, 0, 56], [42, 11, 31], [42, 63, 0], [32, 2, 51], [42, 63, 0], [42, 63, 0], [40, 63, 2], [40, 63, 2], [40, 63, 2], [21, 63, 21], [25, 63, 17], [21, 0, 63], [42, 63, 0], [30, 0, 54], [42, 63, 0], [22, 0, 62], [34, 63, 8], [21, 0, 63], [21, 0, 63], [30, 0, 54], [42, 63, 0], [21, 0, 63], [42, 63, 0], [42, 63, 0], [46, 59, 0], [21, 0, 63], [38, 63, 4], [30, 0, 54], [39, 1, 44], [52, 53, 0], [21, 0, 63], [53, 37, 10], [27, 16, 57], [33, 0, 51], [41, 63, 1], [45, 23, 20], [21, 0, 63], [50, 36, 13], [42, 63, 0], [21, 0, 63], [50, 26, 13], [41, 63, 1], [42, 63, 0], [21, 0, 63], [38, 19, 31], [42, 63, 0], [25, 0, 59], [42, 63, 0], [21, 5, 63], [29, 32, 38], [52, 22, 11], [42, 63, 0], [21, 0, 63], [40, 63, 2], [23, 0, 61], [42, 63, 0], [42, 22, 21], [30, 63, 12], [26, 46, 33], [41, 63, 1], [34, 49, 21], [42, 63, 0], [34, 63, 8], [42, 63, 0], [61, 34, 0], [31, 63, 11], [42, 63, 0], [55, 44, 0], [41, 63, 1], [21, 0, 63], [21, 0, 63], [45, 60, 0], [42, 63, 0], [40, 43, 18], [42, 63, 0], [42, 63, 0], [27, 0, 57], [21, 0, 63], [43, 22, 20], [33, 49, 21], [27, 63, 15], [23, 0, 61], [21, 0, 63], [36, 35, 25], [41, 15, 30], [30, 0, 54], [42, 63, 0], [33, 63, 9], [23, 0, 61], [38, 18, 31], [41, 19, 26], [42, 18, 24], [26, 0, 58], [32, 54, 18], [24, 0, 60], [51, 11, 22], [38, 0, 46], [42, 63, 0], [48, 55, 0], [45, 18, 23], [42, 63, 0], [43, 2, 39], [41, 28, 21], [39, 42, 20], [42, 19, 24], [21, 0, 63], [25, 63, 17], [22, 63, 20], [49, 43, 9], [37, 63, 5], [41, 63, 1], [43, 21, 20], [42, 63, 0], [42, 63, 0], [42, 63, 0], [54, 21, 9], [40, 0, 44], [35, 63, 7], [42, 63, 0], [46, 58, 1], [42, 63, 0], [21, 0, 63], [42, 63, 0], [42, 63, 0], [42, 63, 0], [54, 48, 0], [31, 0, 53], [27, 63, 15], [42, 63, 0], [42, 63, 0], [36, 43, 21], [21, 0, 63], [42, 9, 33], [29, 63, 13], [44, 15, 25], [42, 63, 0], [41, 63, 1], [23, 0, 61], [21, 0, 63], [42, 63, 0], [37, 44, 21], [26, 0, 58], [21, 63, 21], [21, 63, 21], [38, 63, 4], [21, 0, 63], [46, 22, 17], [40, 63, 2], [40, 12, 32], [22, 0, 62], [42, 63, 0], [42, 15, 27], [56, 22, 7], [42, 63, 0], [23, 1, 61], [37, 17, 32], [32, 0, 52], [50, 21, 13], [41, 0, 43], [42, 63, 0], [25, 2, 59], [34, 0, 50], [22, 0, 62], [33, 63, 9], [24, 63, 18], [21, 31, 51], [21, 0, 63], [42, 63, 0], [50, 53, 0], [24, 0, 60], [42, 18, 24], [43, 1, 40], [21, 0, 63], [59, 23, 4], [29, 35, 37], [59, 25, 4], [42, 9, 33], [38, 63, 4], [42, 63, 0], [42, 63, 0], [24, 63, 18], [42, 63, 0], [35, 38, 25], [42, 5, 37], [42, 63, 0], [55, 34, 4], [39, 63, 3], [21, 63, 21], [42, 63, 0], [36, 0, 48], [42, 63, 0], [53, 24, 10], [21, 0, 63], [22, 45, 38], [36, 42, 19], [22, 63, 20], [33, 62, 10], [40, 3, 41], [42, 63, 0], [42, 63, 0], [30, 63, 12], [28, 6, 54], [35, 1, 48], [42, 63, 0], [42, 63, 0], [21, 63, 21], [39, 63, 3], [21, 0, 63], [42, 63, 0], [38, 34, 25], [21, 0, 63], [42, 63, 0], [42, 63, 0], [39, 33, 22], [41, 63, 1], [41, 3, 40], [22, 0, 62], [36, 42, 25], [36, 63, 6], [42, 22, 21], [48, 50, 7], [42, 63, 0], [42, 63, 0], [42, 63, 0], [32, 63, 10], [53, 21, 10], [42, 63, 0], [33, 2, 49], [37, 63, 5], [30, 15, 47], [21, 63, 21], [42, 63, 0], [51, 22, 12], [39, 63, 3], [42, 63, 0], [48, 2, 34], [42, 63, 0], [21, 0, 63], [21, 0, 63], [42, 63, 0], [21, 1, 63], [30, 2, 54], [42, 63, 0], [45, 60, 0], [42, 63, 0], [42, 63, 0], [22, 63, 20], [23, 61, 21], [55, 21, 8], [38, 0, 46], [39, 22, 31], [21, 0, 63], [21, 0, 63], [24, 0, 60], [42, 63, 0], [23, 1, 61], [42, 63, 0], [42, 63, 0], [42, 63, 0], [42, 63, 0], [42, 63, 0], [42, 63, 0], [42, 63, 0], [22, 0, 62], [21, 0, 63], [42, 63, 0], [42, 63, 0], [38, 63, 4], [28, 0, 56], [22, 61, 22], [42, 5, 37], [25, 0, 59], [60, 36, 1], [36, 63, 6], [43, 23, 22], [37, 63, 5], [42, 63, 0], [42, 63, 0], [27, 56, 22], [42, 63, 0], [42, 63, 0], [59, 26, 4], [46, 57, 0], [42, 63, 0], [23, 0, 61], [38, 63, 4], [41, 15, 28], [29, 0, 55], [42, 50, 8], [40, 14, 30], [42, 4, 38], [42, 63, 0], [42, 63, 0], [32, 0, 52], [42, 63, 0], [24, 0, 60], [41, 63, 1], [42, 63, 0], [42, 63, 0], [40, 63, 2], [21, 0, 63], [38, 63, 4], [36, 0, 48], [42, 63, 0], [42, 63, 0], [42, 63, 0], [42, 63, 0], [21, 0, 63], [21, 63, 21], [33, 63, 9], [28, 0, 56], [40, 58, 6], [42, 63, 0], [42, 63, 0], [40, 35, 21], [24, 1, 60], [54, 45, 2], [60, 21, 3], [42, 63, 0], [40, 63, 2], [21, 18, 61], [42, 63, 0], [25, 58, 21], [26, 0, 58], [26, 0, 58], [42, 63, 0], [41, 0, 43], [44, 11, 29], [21, 0, 63], [38, 4, 42], [46, 55, 1], [41, 63, 1], [52, 49, 0], [50, 55, 0], [42, 63, 0], [42, 63, 0], [42, 63, 0], [28, 23, 46], [35, 1, 49], [42, 63, 0], [42, 23, 21], [21, 0, 63], [42, 3, 39], [42, 63, 0], [25, 59, 21], [21, 0, 63], [23, 63, 19], [22, 63, 20], [27, 51, 27], [39, 28, 25], [42, 36, 20], [40, 63, 2], [21, 0, 63], [22, 0, 62], [42, 49, 10], [42, 63, 0], [47, 58, 0], [47, 20, 17], [42, 63, 0], [24, 63, 18], [36, 63, 6], [42, 63, 0], [62, 27, 0], [42, 63, 0], [37, 58, 10], [63, 30, 0], [30, 48, 25], [63, 21, 0], [32, 0, 52], [60, 18, 6], [42, 63, 0], [42, 63, 0], [42, 63, 0], [31, 0, 53], [21, 0, 63], [47, 2, 35], [31, 3, 51], [47, 15, 22], [40, 63, 2], [42, 63, 0], [42, 63, 0], [23, 0, 61], [42, 63, 0], [30, 63, 12], [55, 34, 6], [42, 63, 0], [39, 39, 21], [30, 63, 12], [26, 32, 42], [21, 63, 21], [44, 20, 23], [29, 62, 14], [42, 63, 0], [21, 0, 63], [27, 63, 15], [21, 0, 63], [27, 63, 15], [22, 5, 62], [24, 63, 18], [42, 63, 0], [42, 63, 0], [23, 63, 19], [21, 0, 63], [24, 62, 19], [34, 52, 17], [21, 0, 63], [52, 9, 23], [23, 0, 61], [42, 63, 0], [42, 22, 21], [42, 63, 0], [42, 63, 0], [41, 63, 1], [45, 44, 11], [52, 44, 5], [62, 22, 0], [21, 0, 63], [42, 63, 0], [21, 23, 59], [28, 63, 14], [42, 63, 0], [21, 0, 63], [42, 63, 0], [47, 58, 0], [38, 0, 46], [36, 63, 6], [42, 63, 0], [27, 0, 57], [27, 58, 20], [40, 63, 2], [41, 63, 1], [22, 0, 62], [42, 63, 0], [51, 14, 19], [44, 25, 19], [21, 0, 63], [21, 0, 63], [42, 63, 0], [21, 63, 21], [42, 63, 0], [40, 63, 2], [61, 29, 1], [42, 63, 0], [42, 63, 0], [62, 21, 1], [32, 43, 26], [21, 63, 21], [42, 63, 0], [24, 60, 21], [47, 23, 16], [41, 63, 1], [53, 23, 10], [24, 0, 60], [42, 63, 0], [40, 63, 2], [42, 63, 0], [36, 63, 6], [21, 0, 63], [29, 63, 13], [42, 63, 0], [41, 1, 42], [42, 63, 0], [32, 35, 32], [21, 0, 63], [42, 63, 0], [30, 14, 49], [42, 63, 0], [21, 21, 63], [33, 53, 19], [58, 41, 1], [34, 39, 29], [21, 0, 63], [22, 0, 62], [42, 63, 0], [21, 0, 63], [42, 63, 0], [42, 63, 0], [21, 0, 63], [43, 62, 0], [42, 63, 0], [49, 50, 3], [42, 63, 0], [42, 63, 0], [37, 63, 5], [62, 23, 1], [21, 63, 21], [42, 5, 37], [23, 0, 61], [38, 16, 34], [33, 0, 51], [51, 44, 6], [42, 63, 0], [31, 23, 44], [42, 63, 0], [60, 31, 1], [42, 63, 0], [49, 29, 14], [31, 0, 53], [42, 63, 0], [39, 39, 22], [42, 63, 0], [42, 63, 0], [42, 63, 0], [49, 14, 21], [28, 38, 35], [34, 63, 8], [42, 63, 0], [25, 0, 59], [42, 63, 0], [60, 32, 0], [41, 63, 1], [42, 3, 39], [21, 0, 63], [42, 63, 0], [45, 15, 24], [41, 63, 1], [29, 4, 52], [32, 63, 10], [34, 6, 48], [46, 57, 0], [27, 0, 57], [42, 17, 25], [42, 63, 0], [41, 63, 1], [42, 63, 0], [46, 21, 17], [35, 47, 21], [28, 0, 56], [32, 63, 10], [42, 63, 0], [29, 63, 13], [42, 63, 0], [42, 63, 0], [42, 63, 0], [21, 0, 63], [44, 29, 17], [42, 63, 0], [38, 1, 45], [42, 63, 0], [42, 63, 0], [38, 2, 44], [21, 0, 63], [41, 63, 1], [35, 63, 7], [22, 62, 21], [62, 28, 0], [42, 63, 0], [31, 18, 41], [40, 63, 2], [42, 63, 0], [28, 63, 14], [36, 1, 48], [22, 50, 33], [25, 3, 59], [42, 63, 0], [31, 0, 53], [41, 63, 1], [42, 63, 0], [38, 63, 4], [57, 21, 6], [42, 63, 0], [21, 0, 63], [42, 63, 0], [46, 0, 38], [37, 63, 5], [38, 63, 4], [21, 0, 63], [26, 0, 58], [42, 63, 0], [44, 2, 38], [42, 31, 19], [42, 63, 0], [48, 6, 30], [28, 63, 14], [42, 63, 0], [21, 63, 21], [42, 31, 21], [42, 35, 21], [41, 0, 43], [42, 63, 0], [41, 63, 1], [39, 63, 3], [42, 63, 0], [40, 63, 2], [21, 0, 63], [42, 63, 0], [42, 63, 0], [42, 63, 0], [63, 22, 0], [40, 63, 2], [42, 63, 0], [42, 63, 0], [42, 63, 0], [42, 63, 0], [42, 63, 0], [42, 63, 0], [42, 63, 0], [33, 15, 45], [35, 63, 7], [29, 50, 21], [45, 48, 8], [49, 15, 20], [21, 40, 44], [42, 63, 0], [28, 63, 14], [41, 38, 18], [35, 63, 7], [26, 0, 58], [47, 21, 16], [54, 18, 12], [21, 0, 63], [40, 14, 30], [44, 21, 19], [40, 21, 30], [42, 63, 0], [22, 0, 62], [42, 63, 0], [42, 63, 0], [21, 0, 63], [42, 63, 0], [26, 0, 58], [43, 21, 21], [21, 0, 63], [21, 0, 63], [24, 0, 60], [36, 63, 6], [41, 63, 1], [43, 0, 41], [22, 63, 20], [57, 21, 7], [39, 0, 45], [26, 3, 57], [29, 63, 13], [42, 63, 0], [34, 45, 20], [42, 63, 0], [41, 63, 1], [28, 3, 54], [33, 47, 23], [38, 63, 4], [22, 62, 21], [41, 63, 1], [42, 63, 0], [40, 63, 2], [42, 63, 0], [46, 21, 17], [42, 63, 0], [45, 18, 21], [40, 38, 20], [41, 0, 43], [28, 63, 14], [24, 62, 19], [42, 7, 35], [42, 63, 0], [26, 60, 19], [29, 20, 50], [21, 0, 63], [38, 44, 21], [42, 63, 0], [43, 0, 41], [22, 0, 62], [40, 63, 2], [21, 0, 63], [40, 62, 3], [21, 63, 21], [28, 0, 56], [61, 21, 2], [21, 62, 22], [28, 63, 14], [31, 63, 11], [33, 63, 9], [42, 63, 0], [21, 0, 63], [42, 63, 0], [60, 32, 0], [27, 56, 21], [41, 26, 21], [41, 53, 11], [42, 63, 0], [42, 63, 0], [30, 48, 26], [36, 63, 6], [43, 37, 19], [40, 11, 33], [41, 2, 41], [42, 63, 0], [21, 0, 63], [39, 32, 27], [42, 63, 0], [42, 63, 0], [40, 63, 2], [27, 57, 21], [42, 63, 0], [53, 33, 8], [41, 63, 1], [39, 63, 3], [42, 63, 0], [21, 0, 63], [63, 27, 0], [46, 31, 16], [40, 63, 2], [22, 1, 62], [40, 63, 2], [21, 0, 63], [31, 32, 37], [42, 63, 0], [42, 63, 0], [40, 34, 19], [39, 63, 3], [59, 23, 4], [23, 0, 61], [48, 3, 33], [39, 63, 3], [38, 63, 4], [24, 12, 59], [50, 9, 25], [23, 0, 61], [38, 63, 4], [46, 5, 33], [42, 63, 0], [27, 57, 21], [46, 59, 0], [42, 63, 0], [27, 0, 57], [21, 0, 63], [22, 62, 21], [36, 63, 6], [21, 0, 63], [22, 0, 62], [42, 63, 0], [35, 6, 46], [57, 29, 6], [40, 63, 2], [42, 63, 0], [41, 47, 11], [41, 63, 1], [51, 34, 11], [42, 63, 0], [32, 5, 49], [42, 63, 0], [21, 0, 63], [41, 63, 1], [30, 63, 12], [42, 63, 0], [35, 46, 21], [40, 34, 24], [42, 63, 0], [63, 21, 0], [34, 63, 8], [40, 0, 44], [30, 8, 51], [42, 28, 21], [39, 63, 3], [60, 21, 3], [34, 63, 8], [40, 22, 27], [25, 13, 59], [42, 63, 0], [42, 63, 0], [42, 63, 0], [25, 0, 59], [40, 63, 2], [42, 63, 0], [42, 63, 0], [35, 63, 7], [21, 0, 63], [35, 63, 7], [42, 63, 0], [42, 63, 0], [34, 63, 8], [33, 0, 51], [29, 0, 55], [42, 63, 0], [29, 54, 21], [47, 20, 18], [50, 4, 30], [21, 0, 63], [21, 0, 63], [42, 63, 0], [22, 4, 62], [42, 63, 0], [41, 29, 21], [42, 21, 21], [21, 0, 63], [35, 63, 7], [45, 10, 29], [46, 58, 0], [22, 63, 20], [40, 63, 2], [21, 0, 63], [41, 45, 16], [41, 63, 1], [26, 11, 56], [40, 0, 44], [38, 35, 24], [42, 15, 27], [42, 63, 0], [41, 0, 43], [24, 0, 60], [32, 63, 10], [44, 22, 19], [29, 52, 23], [23, 0, 61], [42, 20, 22], [21, 63, 21], [21, 0, 63], [29, 8, 55], [42, 63, 0], [42, 63, 0], [32, 47, 25], [41, 1, 42], [22, 0, 62], [42, 63, 0], [42, 63, 0], [27, 56, 21], [21, 0, 63], [42, 63, 0], [32, 0, 52], [42, 63, 0], [42, 63, 0], [23, 2, 61], [42, 63, 0], [21, 0, 63], [40, 0, 44], [42, 63, 0], [21, 0, 63], [42, 63, 0], [50, 29, 13], [21, 0, 63], [42, 63, 0], [21, 63, 21], [42, 26, 21], [42, 63, 0], [41, 28, 23], [62, 25, 0], [42, 63, 0], [21, 0, 63], [46, 0, 38], [42, 63, 0], [49, 50, 2], [43, 61, 1], [21, 0, 63], [42, 63, 0], [40, 47, 16], [36, 63, 6], [42, 63, 0], [42, 63, 0], [42, 63, 0], [21, 63, 21], [42, 63, 0], [33, 63, 9], [32, 51, 20], [25, 0, 59], [42, 63, 0], [60, 36, 0], [42, 17, 32], [30, 0, 54], [36, 1, 47], [42, 63, 0], [46, 32, 17], [40, 33, 22], [35, 0, 49], [42, 63, 0], [21, 0, 63], [44, 37, 16], [39, 63, 3], [38, 0, 46], [39, 63, 3], [22, 0, 62], [43, 0, 41], [54, 21, 9], [32, 38, 29], [42, 63, 0], [42, 63, 0], [42, 63, 0], [42, 63, 0], [42, 63, 0], [45, 12, 27], [40, 19, 32], [23, 0, 61], [42, 63, 0], [39, 63, 3], [23, 63, 19], [25, 63, 17], [21, 0, 63], [42, 22, 21], [32, 38, 31], [42, 63, 0], [30, 63, 12], [57, 38, 3], [21, 0, 63], [42, 63, 0], [35, 63, 7], [22, 0, 62], [33, 1, 50], [52, 50, 1], [39, 63, 3], [41, 63, 1], [25, 63, 17], [22, 11, 59], [22, 63, 20], [21, 0, 63], [42, 16, 26], [50, 30, 13], [21, 0, 63], [42, 63, 0], [42, 3, 39], [42, 63, 0], [22, 62, 21], [42, 63, 0], [21, 0, 63], [23, 0, 61], [21, 63, 21], [37, 63, 5], [29, 60, 16], [58, 38, 0], [21, 0, 63], [38, 39, 21], [40, 63, 2], [42, 63, 0], [23, 0, 61], [21, 0, 63], [50, 9, 25], [30, 63, 12], [57, 42, 2], [50, 46, 3], [30, 4, 50], [42, 63, 0], [29, 47, 29], [42, 63, 0], [42, 63, 0], [43, 3, 38], [63, 21, 0], [45, 1, 38], [22, 63, 20], [42, 63, 0], [42, 63, 0], [39, 19, 29], [42, 63, 0], [42, 63, 0], [42, 63, 0], [24, 63, 18], [42, 63, 0], [35, 3, 47], [42, 63, 0], [25, 63, 17], [43, 20, 21], [26, 0, 58], [30, 0, 54], [50, 37, 10], [42, 63, 0], [63, 32, 0], [29, 50, 24], [40, 63, 2], [61, 21, 2], [47, 58, 0], [47, 36, 14], [21, 25, 57], [63, 27, 0], [41, 63, 1], [42, 63, 0], [21, 0, 63], [40, 0, 44], [37, 63, 5], [39, 19, 29], [21, 0, 63], [38, 21, 32], [46, 0, 38], [55, 25, 8], [40, 2, 42], [42, 63, 0], [42, 63, 0], [46, 59, 0], [46, 56, 3], [54, 49, 1], [42, 63, 0], [55, 25, 7], [21, 0, 63], [31, 16, 46], [42, 63, 0], [21, 0, 63], [51, 50, 1], [39, 63, 3], [42, 63, 0], [28, 63, 14], [21, 0, 63], [33, 0, 51], [21, 0, 63], [42, 63, 0], [55, 45, 2], [22, 59, 24], [24, 8, 58], [42, 63, 0], [24, 0, 60], [25, 0, 59], [23, 0, 61], [42, 3, 39], [42, 63, 0], [42, 63, 0], [32, 63, 10], [37, 63, 5], [21, 63, 21], [41, 2, 41], [42, 63, 0], [44, 21, 19], [42, 63, 0], [38, 61, 6], [31, 0, 53], [32, 1, 51], [42, 63, 0], [58, 25, 5], [42, 63, 0], [42, 11, 32], [42, 32, 17], [45, 1, 38], [21, 0, 63], [41, 63, 1], [40, 63, 2], [55, 18, 11], [38, 63, 4], [41, 63, 1], [23, 0, 61], [21, 63, 21], [42, 63, 0], [22, 0, 62], [22, 0, 62], [21, 0, 63], [35, 63, 7], [38, 9, 37], [25, 63, 17], [21, 5, 63], [42, 63, 0], [42, 63, 0], [44, 21, 19], [22, 0, 62], [41, 63, 1], [21, 63, 21], [31, 50, 21], [42, 2, 40], [42, 63, 0], [42, 63, 0], [29, 0, 55], [54, 44, 5], [45, 3, 36], [31, 0, 53], [42, 63, 0], [42, 63, 0], [42, 63, 0], [24, 63, 18], [37, 9, 39], [61, 34, 0], [42, 63, 0], [63, 22, 0], [40, 63, 2], [35, 0, 49], [21, 0, 63], [21, 0, 63], [29, 0, 55], [42, 63, 0], [22, 0, 62], [42, 24, 21], [61, 22, 2], [42, 63, 0], [42, 63, 0], [27, 0, 57], [62, 24, 1], [22, 63, 20], [21, 0, 63], [42, 63, 0], [42, 63, 0], [27, 63, 15], [42, 63, 0], [21, 0, 63], [42, 63, 0], [42, 4, 38], [21, 0, 63], [59, 18, 8], [21, 0, 63], [21, 63, 21], [21, 0, 63], [35, 63, 7], [43, 14, 27], [36, 63, 6], [41, 14, 29], [61, 26, 0], [40, 63, 2], [42, 63, 0], [39, 0, 45], [43, 1, 41], [21, 0, 63], [21, 1, 63], [42, 63, 0], [42, 63, 0], [42, 63, 0], [27, 0, 57], [54, 20, 10], [21, 63, 21], [21, 0, 63], [42, 63, 0], [38, 63, 4], [29, 63, 13], [37, 31, 25], [22, 63, 20], [55, 25, 7], [41, 63, 1], [40, 63, 2], [52, 46, 0], [21, 0, 63], [42, 63, 0], [42, 63, 0], [45, 24, 18], [42, 63, 0], [42, 63, 0], [34, 18, 38], [42, 63, 0], [21, 0, 63], [43, 21, 20], [21, 0, 63], [42, 63, 0], [21, 0, 63], [42, 63, 0], [57, 39, 4], [31, 2, 51], [42, 63, 0], [30, 0, 54], [21, 0, 63], [21, 0, 63], [21, 0, 63], [42, 63, 0], [37, 63, 5], [21, 0, 63], [38, 7, 39], [50, 21, 13], [42, 63, 0], [42, 63, 0], [42, 63, 0], [42, 20, 22], [49, 25, 13], [42, 63, 0], [42, 63, 0], [42, 63, 0], [45, 10, 29], [23, 63, 19], [40, 13, 34], [23, 0, 61], [21, 0, 63], [41, 63, 1], [42, 21, 28], [36, 43, 21], [40, 63, 2], [21, 0, 63], [42, 63, 0], [63, 30, 0], [32, 0, 52], [21, 0, 63], [21, 63, 21], [42, 63, 0], [33, 63, 9], [42, 63, 0], [42, 63, 0], [42, 63, 0], [22, 0, 62], [40, 63, 2], [42, 63, 0], [21, 0, 63], [42, 63, 0], [42, 63, 0], [42, 63, 0], [42, 63, 0], [42, 63, 0], [21, 0, 63], [39, 19, 32], [42, 63, 0], [51, 17, 16], [42, 63, 0], [48, 34, 15], [41, 63, 1], [38, 63, 4], [44, 24, 19], [42, 63, 0], [41, 25, 21], [42, 63, 0], [21, 0, 63], [21, 0, 63], [42, 63, 0], [42, 63, 0], [34, 26, 34], [21, 0, 63], [45, 34, 17], [42, 63, 0], [53, 20, 11], [45, 15, 24], [21, 0, 63], [35, 36, 25], [23, 0, 61], [26, 63, 16], [26, 63, 16], [45, 22, 18], [39, 63, 3], [34, 0, 50], [42, 63, 0], [34, 58, 12], [23, 63, 19], [58, 17, 9], [29, 63, 13], [36, 63, 6], [21, 20, 60], [42, 63, 0], [42, 63, 0], [39, 63, 3], [31, 63, 11], [36, 0, 48], [22, 63, 20], [42, 63, 0], [42, 63, 0], [30, 63, 12], [26, 63, 16], [38, 24, 29], [41, 32, 20], [47, 28, 16], [37, 0, 47], [42, 63, 0], [42, 63, 0], [40, 63, 2], [42, 63, 0], [22, 62, 21], [41, 63, 1], [30, 51, 22], [28, 63, 14], [38, 63, 4], [33, 43, 21], [21, 0, 63], [25, 0, 59], [44, 20, 20], [22, 63, 20], [27, 16, 54], [42, 63, 0], [32, 62, 11], [39, 36, 22], [25, 63, 17], [27, 0, 57], [41, 2, 41], [24, 63, 18], [38, 63, 4], [32, 63, 10], [42, 63, 0], [49, 23, 14], [41, 2, 41], [42, 63, 0], [23, 61, 21], [43, 24, 20], [52, 27, 11], [37, 0, 47], [37, 3, 44], [42, 63, 0], [42, 63, 0], [48, 34, 9], [42, 63, 0], [42, 63, 0], [42, 32, 17], [39, 0, 45], [42, 63, 0], [55, 19, 10], [21, 0, 63], [42, 63, 0], [43, 62, 0], [27, 1, 57], [42, 63, 0], [25, 48, 30], [42, 63, 0], [34, 63, 8], [36, 0, 48], [42, 63, 0], [26, 15, 53], [42, 63, 0], [38, 63, 4], [42, 63, 0], [37, 4, 46], [55, 26, 8], [30, 10, 49], [21, 0, 63], [42, 63, 0], [41, 63, 1], [21, 0, 63], [21, 0, 63], [31, 47, 26], [63, 22, 0], [33, 0, 51], [42, 63, 0], [39, 63, 3], [28, 56, 21], [34, 0, 50], [42, 63, 0], [42, 51, 12], [21, 0, 63], [42, 63, 0], [21, 0, 63], [22, 63, 20], [35, 63, 7], [42, 63, 0], [41, 11, 32], [42, 63, 0], [23, 59, 23], [40, 58, 7], [42, 63, 0], [41, 63, 1], [48, 41, 11], [42, 63, 0], [40, 10, 35], [63, 23, 0], [42, 63, 0], [22, 62, 21]]\n"
     ]
    },
    {
     "name": "stdout",
     "output_type": "stream",
     "text": [
      "Here\n",
      "930\n",
      "2196\n",
      "930\n"
     ]
    }
   ],
   "source": [
    "total_test_samples = test_data.shape[0]\n",
    "final_enselmbles_predictions = []\n",
    "for i in range(total_test_samples):\n",
    "    final_enselmbles_predictions.append([0,0,0])\n",
    "\n",
    "print(total_test_samples)\n",
    "#print(ensembles_predictions)\n",
    "\n",
    "for preds_ensemble in ensembles_predictions:\n",
    "    pred_idx = 0\n",
    "    for pred in preds_ensemble:\n",
    "        final_enselmbles_predictions[pred_idx][int(pred)] = final_enselmbles_predictions[pred_idx][int(pred)] + 1\n",
    "        pred_idx = pred_idx + 1\n",
    "\n",
    "#1 vs all\n",
    "for preds_ensemble in ensembles_predictions_0_vs_1:\n",
    "    pred_idx = 0\n",
    "    for pred in preds_ensemble:\n",
    "        if pred == 1:\n",
    "            #Class 0 has been predicted\n",
    "            final_enselmbles_predictions[pred_idx][0] = final_enselmbles_predictions[pred_idx][0] + 1\n",
    "        pred_idx = pred_idx + 1\n",
    "for preds_ensemble in ensembles_predictions_1_vs_all:\n",
    "    pred_idx = 0\n",
    "    for pred in preds_ensemble:\n",
    "        if pred == 1:\n",
    "            #Class 1 has been predicted\n",
    "            final_enselmbles_predictions[pred_idx][1] = final_enselmbles_predictions[pred_idx][1] + 1\n",
    "        pred_idx = pred_idx + 1\n",
    "for preds_ensemble in ensembles_predictions_2_vs_all:\n",
    "    pred_idx = 0\n",
    "    for pred in preds_ensemble:\n",
    "        if pred == 1:\n",
    "            #Class 2 has been predicted\n",
    "            final_enselmbles_predictions[pred_idx][2] = final_enselmbles_predictions[pred_idx][2] + 1\n",
    "        pred_idx = pred_idx + 1\n",
    "\n",
    "#1 vs 1\n",
    "for preds_ensemble in ensembles_predictions_0_vs_1:\n",
    "    pred_idx = 0\n",
    "    for pred in preds_ensemble:\n",
    "        final_enselmbles_predictions[pred_idx][int(pred)] = final_enselmbles_predictions[pred_idx][int(pred)] + 1\n",
    "        pred_idx = pred_idx + 1\n",
    "for preds_ensemble in ensembles_predictions_0_vs_2:\n",
    "    pred_idx = 0\n",
    "    for pred in preds_ensemble:\n",
    "        final_enselmbles_predictions[pred_idx][int(pred)] = final_enselmbles_predictions[pred_idx][int(pred)] + 1\n",
    "        pred_idx = pred_idx + 1\n",
    "for preds_ensemble in ensembles_predictions_1_vs_2:\n",
    "    pred_idx = 0\n",
    "    for pred in preds_ensemble:\n",
    "        final_enselmbles_predictions[pred_idx][int(pred)] = final_enselmbles_predictions[pred_idx][int(pred)] + 1\n",
    "        pred_idx = pred_idx + 1\n",
    "        \n",
    "        \n",
    "\n",
    "print(final_enselmbles_predictions)\n",
    "\n",
    "predictions = []\n",
    "for vec_pred in final_enselmbles_predictions:\n",
    "    predictions.append(np.argmax(vec_pred))\n",
    "\n",
    "\n",
    "print(\"Here\")\n",
    "count_labels(predictions)\n",
    "\n",
    "make_submission(\"BigEnsemble_allvsall_1vs1_400feats_21RFBC.csv\",predictions)\n",
    "#900 31 rbf\n",
    "        \n",
    "    \n",
    "    "
   ]
  },
  {
   "cell_type": "code",
   "execution_count": null,
   "metadata": {},
   "outputs": [],
   "source": [
    "from imblearn.ensemble import EasyEnsembleClassifier\n",
    "\n",
    "BMAC = []\n",
    "\n",
    "kfold = StratifiedKFold(n_splits=10, shuffle=True, random_state=seed)\n",
    "for train, test in kfold.split(X_train_scaled, Y_train.values):\n",
    "    X = X_train_scaled[train]\n",
    "    Y = Y_train.values[train]\n",
    "    model = EasyEnsembleClassifier(random_state=seed)\n",
    "    model.fit(X, Y)\n",
    "    \n",
    "    X_test = X_train_scaled[test]\n",
    "    Y_true = Y_train.values[test]\n",
    "    Y_pred = model.predict(X_test)\n",
    "\n",
    "    # Accuracy score\n",
    "    cur_BMAC = balanced_accuracy_score(Y_true, Y_pred)\n",
    "    print(cur_BMAC)\n",
    "    BMAC.append(cur_BMAC)\n",
    "    \n",
    "print(\"AVG: BMAC score: %.4f (+/- %.4f)\" % (np.mean(BMAC), np.std(BMAC)))\n",
    "pred = model.predict(X_test_scaled)\n",
    "#make_submission('nk_easy_ensemble_classifier.csv', pred)"
   ]
  },
  {
   "cell_type": "code",
   "execution_count": 213,
   "metadata": {},
   "outputs": [
    {
     "name": "stdout",
     "output_type": "stream",
     "text": [
      "\n",
      "Class 0\n",
      "(600, 1000)\n",
      "(600, 1)\n",
      "\n",
      "Class 1\n",
      "(3600, 1000)\n",
      "(3600, 1)\n",
      "\n",
      "Class 2\n",
      "(600, 1000)\n",
      "(600, 1)\n",
      "\n",
      "Class 0 & 1\n",
      "(4200, 1000)\n",
      "(4200, 1)\n",
      "Train shape:  (4200, 1000)\n",
      "Test shape:  (4100, 1000)\n",
      "\n",
      "Class 0 & 2\n",
      "(1200, 1000)\n",
      "(1200, 1)\n",
      "Train shape:  (1200, 1000)\n",
      "Test shape:  (4100, 1000)\n",
      "\n",
      "Class 1 & 2\n",
      "(4200, 1000)\n",
      "(4200, 1)\n",
      "Train shape:  (4200, 1000)\n",
      "Test shape:  (4100, 1000)\n",
      "\n",
      "Class 0 vs all\n",
      "(4800, 1)\n",
      "\n",
      "Class 1 vs all\n",
      "(4800, 1)\n",
      "\n",
      "Class 2 vs all\n",
      "(4800, 1)\n"
     ]
    }
   ],
   "source": [
    "#Separate samples w.r.t training labels in {0,1,2}\n",
    "\n",
    "Y_train_0_idx = Y_train.index[Y_train['y'] == 0].tolist()\n",
    "Y_train_1_idx = Y_train.index[Y_train['y'] == 1].tolist()\n",
    "Y_train_2_idx = Y_train.index[Y_train['y'] == 2].tolist()\n",
    "\n",
    "#Select the corresponding samples ad group them per label\n",
    "\n",
    "#Y_train_1_idx = Y_train_1_idx[0:600]\n",
    "\n",
    "Y_train_0 = Y_train.ix[Y_train_0_idx]\n",
    "Y_train_1 = Y_train.ix[Y_train_1_idx]\n",
    "Y_train_2 = Y_train.ix[Y_train_2_idx]\n",
    "\n",
    "X_train_0 = train_data.ix[Y_train_0_idx]\n",
    "X_train_1 = train_data.ix[Y_train_1_idx]\n",
    "X_train_2 = train_data.ix[Y_train_2_idx]\n",
    "\n",
    "print(\"\\nClass 0\")\n",
    "print(X_train_0.shape)\n",
    "print(Y_train_0.shape)\n",
    "\"\"\"print(\"Mean: \", list(X_train_0.mean()))\"\"\"\n",
    "\n",
    "print(\"\\nClass 1\")\n",
    "print(X_train_1.shape)\n",
    "print(Y_train_1.shape)\n",
    "\"\"\"print(\"Mean: \", list(X_train_1.mean()))\"\"\"\n",
    "\n",
    "print(\"\\nClass 2\")\n",
    "print(X_train_2.shape)\n",
    "print(Y_train_2.shape)\n",
    "\"\"\"print(\"Mean: \", list(X_train_2.mean()))\"\"\"\n",
    "\n",
    "\n",
    "#Select samples by group of two labels\n",
    "\n",
    "indices_0_1 = list(np.union1d(Y_train_0_idx, Y_train_1_idx))\n",
    "X_train_0_1 = train_data.ix[indices_0_1]\n",
    "Y_train_0_1 = Y_train.ix[indices_0_1]\n",
    "\n",
    "indices_0_2 = list(np.union1d(Y_train_0_idx, Y_train_2_idx))\n",
    "X_train_0_2 = train_data.ix[indices_0_2]\n",
    "Y_train_0_2 = Y_train.ix[indices_0_2]\n",
    "\n",
    "indices_1_2 = list(np.union1d(Y_train_1_idx, Y_train_2_idx))\n",
    "X_train_1_2 = train_data.ix[indices_1_2]\n",
    "Y_train_1_2 = Y_train.ix[indices_1_2]\n",
    "\n",
    "#Print and scale data w.r.t the overall train data statistics (mean and covariance)\n",
    "print(\"\\nClass 0 & 1\")\n",
    "print(X_train_0_1.shape)\n",
    "print(Y_train_0_1.shape)\n",
    "X_train_0_1_scaled, X_test_scaled = scale_data_vs_all(X_train_0_1, test_data)\n",
    "\n",
    "print(\"\\nClass 0 & 2\")\n",
    "print(X_train_0_2.shape)\n",
    "print(Y_train_0_2.shape)\n",
    "X_train_0_2_scaled, X_test_scaled = scale_data_vs_all(X_train_0_2, test_data)\n",
    "\n",
    "print(\"\\nClass 1 & 2\")\n",
    "print(X_train_1_2.shape)\n",
    "print(Y_train_1_2.shape)\n",
    "X_train_1_2_scaled, X_test_scaled = scale_data_vs_all(X_train_1_2, test_data)\n",
    "\n",
    "\n",
    "Y_0_vs_all = Y_train.copy()\n",
    "Y_0_vs_all.ix[Y_train_0_idx] = 1\n",
    "Y_0_vs_all.ix[Y_train_1_idx] = 0\n",
    "Y_0_vs_all.ix[Y_train_2_idx] = 0\n",
    "\n",
    "Y_1_vs_all = Y_train.copy()\n",
    "Y_1_vs_all.ix[Y_train_0_idx] = 0\n",
    "Y_1_vs_all.ix[Y_train_1_idx] = 1\n",
    "Y_1_vs_all.ix[Y_train_2_idx] = 0\n",
    "\n",
    "Y_2_vs_all = Y_train.copy()\n",
    "Y_2_vs_all.ix[Y_train_0_idx] = 0\n",
    "Y_2_vs_all.ix[Y_train_1_idx] = 0\n",
    "Y_2_vs_all.ix[Y_train_2_idx] = 1\n",
    "\n",
    "print(\"\\nClass 0 vs all\")\n",
    "print(Y_0_vs_all.shape)\n",
    "\n",
    "print(\"\\nClass 1 vs all\")\n",
    "print(Y_1_vs_all.shape)\n",
    "\n",
    "print(\"\\nClass 2 vs all\")\n",
    "print(Y_2_vs_all.shape)\n",
    "\n"
   ]
  },
  {
   "cell_type": "code",
   "execution_count": 32,
   "metadata": {},
   "outputs": [
    {
     "data": {
      "image/png": "[encoded data removed]",
      "text/plain": [
       "<Figure size 432x288 with 1 Axes>"
      ]
     },
     "metadata": {},
     "output_type": "display_data"
    }
   ],
   "source": [
    "# 1 vs 1 philosophy\n",
    "#Extract the features to use with f_classification\n",
    "\n",
    "n_features_fc = 400\n",
    "\n",
    "features_l01_idx = f_classif(X_train_0_1_scaled, Y_train_0_1)[0]\n",
    "features_l12_idx = f_classif(X_train_1_2_scaled, Y_train_1_2)[0]\n",
    "features_l02_idx = f_classif(X_train_0_2_scaled, Y_train_0_2)[0]\n",
    "\n",
    "\n",
    "f_l01_list = np.asarray(list(features_l01_idx))\n",
    "f_l12_list = np.asarray(list(features_l12_idx))\n",
    "f_l02_list = np.asarray(list(features_l02_idx))\n",
    "\n",
    "\n",
    "plt.plot(-1*np.sort(-1*f_l01_list)); \n",
    "plt.plot(-1*np.sort(-1*f_l12_list)); \n",
    "plt.plot(-1*np.sort(-1*f_l02_list)); \n",
    "\n",
    "indices_fc_0_vs_1 = f_l01_list.argsort()[-n_features_fc:][::-1]\n",
    "indices_fc_1_vs_2 = f_l12_list.argsort()[-n_features_fc:][::-1]\n",
    "indices_fc_0_vs_2 = f_l02_list.argsort()[-n_features_fc:][::-1]\n",
    "\n",
    "#indices = f_list.argsort()[-n_features_fc:][::-1]"
   ]
  },
  {
   "cell_type": "code",
   "execution_count": 33,
   "metadata": {},
   "outputs": [
    {
     "data": {
      "image/png": "[encoded data removed]",
      "text/plain": [
       "<Figure size 432x288 with 1 Axes>"
      ]
     },
     "metadata": {},
     "output_type": "display_data"
    }
   ],
   "source": [
    "# 1 vs all philosophy\n",
    "#Extract the features to use with f_classification\n",
    "\n",
    "n_features_fc = 400\n",
    "\n",
    "\n",
    "features_scores_0_vs_all = f_classif(X_train_scaled, Y_0_vs_all)[0]\n",
    "features_scores_1_vs_all = f_classif(X_train_scaled, Y_1_vs_all)[0]\n",
    "features_scores_2_vs_all = f_classif(X_train_scaled, Y_2_vs_all)[0]\n",
    "\n",
    "#print(features_scores)\n",
    "f_l0_vs_all = np.asarray(list(features_scores_0_vs_all))\n",
    "f_l1_vs_all = np.asarray(list(features_scores_1_vs_all))\n",
    "f_l2_vs_all = np.asarray(list(features_scores_2_vs_all))\n",
    "\n",
    "plt.plot(-1*np.sort(-1*f_l0_vs_all), label='Labels 0 vs all'); #Hardest\n",
    "plt.plot(-1*np.sort(-1*f_l1_vs_all), label='Labels 1 vs all');\n",
    "plt.plot(-1*np.sort(-1*f_l2_vs_all), label='Labels 2 vs all');\n",
    "\n",
    "indices_fc_0_vs_all = f_l0_vs_all.argsort()[-n_features_fc:][::-1]\n",
    "indices_fc_1_vs_all = f_l1_vs_all.argsort()[-n_features_fc:][::-1]\n",
    "indices_fc_2_vs_all = f_l2_vs_all.argsort()[-n_features_fc:][::-1]\n"
   ]
  },
  {
   "cell_type": "code",
   "execution_count": 37,
   "metadata": {},
   "outputs": [
    {
     "name": "stdout",
     "output_type": "stream",
     "text": [
      "197\n",
      "603\n",
      "605\n",
      "608\n"
     ]
    }
   ],
   "source": [
    "idx_inters_0all_02 = list(set(indices_fc_0_vs_all).intersection(indices_fc_0_vs_2)) #Hardest, better make sure best features are in the selcted ones\n",
    "idx_union_0all_02 = list(set(indices_fc_0_vs_all).union(indices_fc_0_vs_2))\n",
    "\n",
    "print(len(idx_inters_0all_02))\n",
    "print(len(idx_union_0all_02))\n",
    "\n",
    "idx_union_0all_1all_02 = list(set(idx_union_0all_02).union(indices_fc_1_vs_all))\n",
    "print(len(idx_union_0all_1all_02))\n",
    "\n",
    "idx_union_0all_1all_2all_02 = list(set(idx_union_0all_1all_02).union(indices_fc_2_vs_all))\n",
    "print(len(idx_union_0all_1all_2all_02))"
   ]
  },
  {
   "cell_type": "code",
   "execution_count": 41,
   "metadata": {},
   "outputs": [
    {
     "name": "stdout",
     "output_type": "stream",
     "text": [
      "Shape of the train data after feature selection:  (4800, 608)\n",
      "Shape of the test data after feature selection:  (4100, 608)\n",
      "Train shape:  (4800, 608)\n",
      "Test shape:  (4100, 608)\n"
     ]
    }
   ],
   "source": [
    "indices = idx_union_0all_1all_2all_02\n",
    "\n",
    "X_train_subset = train_data[train_data.columns[indices]]\n",
    "X_test_subset = test_data[train_data.columns[indices]]\n",
    "\n",
    "print(\"Shape of the train data after feature selection: \", X_train_subset.shape)\n",
    "print(\"Shape of the test data after feature selection: \", X_test_subset.shape)\n",
    "\n",
    "X_train_subset_scaled, X_test_subset_scaled = scale_data(X_train_subset, X_test_subset)"
   ]
  }
 ],
 "metadata": {
  "kernelspec": {
   "display_name": "Python 3",
   "language": "python",
   "name": "python3"
  },
  "language_info": {
   "codemirror_mode": {
    "name": "ipython",
    "version": 3
   },
   "file_extension": ".py",
   "mimetype": "text/x-python",
   "name": "python",
   "nbconvert_exporter": "python",
   "pygments_lexer": "ipython3",
   "version": "3.6.5"
  }
 },
 "nbformat": 4,
 "nbformat_minor": 2
}
