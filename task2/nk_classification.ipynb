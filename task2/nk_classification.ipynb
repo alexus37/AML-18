{
 "cells": [
  {
   "cell_type": "code",
   "execution_count": null,
   "metadata": {},
   "outputs": [],
   "source": [
    "%matplotlib inline\n",
    "# packages to load \n",
    "# Check the versions of libraries\n",
    "# Python version\n",
    "import warnings\n",
    "warnings.filterwarnings('ignore')\n",
    "import sys\n",
    "print('Python: {}'.format(sys.version))\n",
    "\n",
    "import scipy\n",
    "print('scipy: {}'.format(scipy.__version__))\n",
    "\n",
    "import csv\n",
    "import numpy as np\n",
    "import pandas as pd\n",
    "from matplotlib import pyplot as plt\n",
    "\n",
    "from sklearn.model_selection import cross_val_score\n",
    "from sklearn.model_selection import StratifiedKFold\n",
    "\n",
    "from sklearn.metrics import accuracy_score\n",
    "from sklearn.metrics import balanced_accuracy_score\n",
    "\n",
    "# Importing metrics for evaluation\n",
    "from sklearn.metrics import confusion_matrix\n",
    "from sklearn.metrics import classification_report\n",
    "import random as rn\n",
    "import math\n",
    "\n",
    "from imblearn.ensemble import BalancedRandomForestClassifier\n",
    "from sklearn import svm\n",
    "from sklearn.ensemble import VotingClassifier\n",
    "from sklearn.metrics import balanced_accuracy_score\n",
    "from sklearn.metrics import confusion_matrix\n",
    "\n",
    "from itertools import product\n",
    "\n",
    "TRAIN_FILE_PATH = \"data/X_train.csv\"\n",
    "TARGET_FILE_PATH =  \"data/y_train.csv\"\n",
    "TEST_FILE_PATH = \"data/X_test.csv\"\n",
    "\n",
    "seed=42\n",
    "np.random.seed(seed)\n",
    "rn.seed(seed)\n"
   ]
  },
  {
   "cell_type": "code",
   "execution_count": 27,
   "metadata": {},
   "outputs": [],
   "source": [
    "#Load train and test set\n",
    "\n",
    "train_data = pd.read_csv(TRAIN_FILE_PATH)\n",
    "train_data.drop(\"id\", axis=1, inplace=True)\n",
    "\n",
    "Y_train = pd.read_csv(TARGET_FILE_PATH)\n",
    "Y_train.drop(\"id\", axis=1, inplace = True)\n",
    "\n",
    "test_data =  pd.read_csv(TEST_FILE_PATH)\n",
    "id_test = test_data.columns[0]\n",
    "test_data.drop(\"id\", axis=1, inplace=True)"
   ]
  },
  {
   "cell_type": "code",
   "execution_count": 3,
   "metadata": {},
   "outputs": [],
   "source": [
    "def make_submission(filename, predictions):\n",
    "    test_data =  pd.read_csv(TEST_FILE_PATH)\n",
    "    test_data[\"y\"] = predictions\n",
    "    test_data[[\"id\", \"y\"]].to_csv(\"submissions/\"+filename, index= False)\n",
    "\n",
    "\n",
    "def plot_confusion_matrix(cm, classes,\n",
    "                          normalize=False,\n",
    "                          title='Confusion matrix',\n",
    "                          cmap=plt.cm.Blues):\n",
    "    \"\"\"\n",
    "    This function prints and plots the confusion matrix.\n",
    "    Normalization can be applied by setting `normalize=True`.\n",
    "    \"\"\"\n",
    "    if normalize:\n",
    "        cm = cm.astype('float') / cm.sum(axis=1)[:, np.newaxis]\n",
    "        print(\"Normalized confusion matrix\")\n",
    "    else:\n",
    "        print('Confusion matrix, without normalization')\n",
    "\n",
    "    print(cm)\n",
    "\n",
    "    plt.imshow(cm, interpolation='nearest', cmap=cmap)\n",
    "    plt.title(title)\n",
    "    plt.colorbar()\n",
    "    tick_marks = np.arange(len(classes))\n",
    "    plt.xticks(tick_marks, classes, rotation=45)\n",
    "    plt.yticks(tick_marks, classes)\n",
    "\n",
    "    fmt = '.2f' if normalize else 'd'\n",
    "    thresh = cm.max() / 2.\n",
    "    for i, j in product(range(cm.shape[0]), range(cm.shape[1])):\n",
    "        plt.text(j, i, format(cm[i, j], fmt),\n",
    "                 horizontalalignment=\"center\",\n",
    "                 color=\"white\" if cm[i, j] > thresh else \"black\")\n",
    "\n",
    "    plt.ylabel('True label')\n",
    "    plt.xlabel('Predicted label')\n",
    "    plt.tight_layout()"
   ]
  },
  {
   "cell_type": "markdown",
   "metadata": {},
   "source": [
    "# SVM Overview"
   ]
  },
  {
   "cell_type": "code",
   "execution_count": 23,
   "metadata": {},
   "outputs": [
    {
     "name": "stdout",
     "output_type": "stream",
     "text": [
      "bmac0=0.6907407407407408 bmac1=0.6638888888888889 bmac2=0.6722222222222222 bmacEnsemble=0.6925925925925926 bmacRfc=0.6712962962962963\n",
      "bmac0=0.6749999999999999 bmac1=0.7074074074074074 bmac2=0.6749999999999999 bmacEnsemble=0.6777777777777777 bmacRfc=0.6731481481481482\n",
      "bmac0=0.6916666666666668 bmac1=0.7074074074074074 bmac2=0.6953703703703704 bmacEnsemble=0.6916666666666668 bmacRfc=0.6592592592592592\n",
      "bmac0=0.7398148148148148 bmac1=0.7138888888888889 bmac2=0.7305555555555556 bmacEnsemble=0.7490740740740741 bmacRfc=0.6749999999999999\n",
      "bmac0=0.7425925925925926 bmac1=0.7481481481481481 bmac2=0.7175925925925926 bmacEnsemble=0.7462962962962963 bmacRfc=0.7064814814814815\n",
      "bmac0=0.7324074074074075 bmac1=0.7101851851851851 bmac2=0.7416666666666666 bmacEnsemble=0.7351851851851853 bmacRfc=0.7111111111111111\n",
      "bmac0=0.674074074074074 bmac1=0.6666666666666666 bmac2=0.6925925925925926 bmacEnsemble=0.6777777777777777 bmacRfc=0.65\n",
      "bmac0=0.6898148148148149 bmac1=0.7083333333333334 bmac2=0.6768518518518518 bmacEnsemble=0.6851851851851851 bmacRfc=0.6462962962962963\n",
      "bmac0=0.7157407407407407 bmac1=0.725925925925926 bmac2=0.725925925925926 bmacEnsemble=0.7194444444444444 bmacRfc=0.6953703703703704\n",
      "bmac0=0.6398148148148148 bmac1=0.6462962962962963 bmac2=0.6768518518518518 bmacEnsemble=0.6425925925925926 bmacRfc=0.6435185185185186\n",
      "bmacs0: [0.6907407407407408, 0.6749999999999999, 0.6916666666666668, 0.7398148148148148, 0.7425925925925926, 0.7324074074074075, 0.674074074074074, 0.6898148148148149, 0.7157407407407407, 0.6398148148148148]\n",
      "bmacs1: [0.6638888888888889, 0.7074074074074074, 0.7074074074074074, 0.7138888888888889, 0.7481481481481481, 0.7101851851851851, 0.6666666666666666, 0.7083333333333334, 0.725925925925926, 0.6462962962962963]\n",
      "bmacs2: [0.6722222222222222, 0.6749999999999999, 0.6953703703703704, 0.7305555555555556, 0.7175925925925926, 0.7416666666666666, 0.6925925925925926, 0.6768518518518518, 0.725925925925926, 0.6768518518518518]\n",
      "bmacs_ensemble: [0.6925925925925926, 0.6777777777777777, 0.6916666666666668, 0.7490740740740741, 0.7462962962962963, 0.7351851851851853, 0.6777777777777777, 0.6851851851851851, 0.7194444444444444, 0.6425925925925926]\n",
      "bmacs_rfc: [0.6712962962962963, 0.6731481481481482, 0.6592592592592592, 0.6749999999999999, 0.7064814814814815, 0.7111111111111111, 0.65, 0.6462962962962963, 0.6953703703703704, 0.6435185185185186]\n",
      "AVG: BMAC0 score: 0.6992 (+/- 0.0314)\n",
      "AVG: BMAC1 score: 0.6998 (+/- 0.0296)\n",
      "AVG: BMAC2 score: 0.7005 (+/- 0.0249)\n",
      "AVG: BMAC_ENSEMBLE score: 0.7018 (+/- 0.0328)\n",
      "AVG: BMAC_RFC score: 0.6731 (+/- 0.0232)\n"
     ]
    }
   ],
   "source": [
    "X_train = train_data.values\n",
    "y_train = Y_train.values.ravel()\n",
    "\n",
    "\n",
    "bmacs0 = []\n",
    "bmacs1 = []\n",
    "bmacs2 = []\n",
    "bmacs_ensemble = []\n",
    "bmacs_rfc = []\n",
    "\n",
    "cmats0 = []\n",
    "cmats1 = []\n",
    "cmats2 = []\n",
    "cmats_ensemble = []\n",
    "cmats_rfc = []\n",
    "\n",
    "n_samples = y_train.shape[0]\n",
    "n_features = X_train.shape[1]\n",
    "    \n",
    "class_weight = n_samples / (3 * np.bincount((y_train).astype(int)))\n",
    "class_weights0 = {\n",
    "    0 : class_weight[0],\n",
    "    1 : class_weight[1],\n",
    "    2 : class_weight[2]\n",
    "}\n",
    "\n",
    "class_weights1 = { # tuned with bayesian optimization\n",
    "    0: 3.2734,\n",
    "    1: 0.6869,\n",
    "    2: 2.6268\n",
    "}\n",
    "\n",
    "class_weights2 = { # tuned with bayesian optimization\n",
    "    0 : 2.4720,\n",
    "    1 : 0.4549,\n",
    "    2 : 3.8704\n",
    "}               \n",
    "\n",
    "kfold = StratifiedKFold(n_splits=10, shuffle=True, random_state=seed)\n",
    "for train, test in kfold.split(X_train, y_train):\n",
    "    \n",
    "    X = X_train[train]\n",
    "    y = y_train[train]\n",
    "    \n",
    "    clf0 = svm.SVC(class_weight=class_weights0)\n",
    "    clf0.fit(X, y)\n",
    "    \n",
    "    clf1 = svm.SVC(class_weight=class_weights1)\n",
    "    clf1.fit(X, y)\n",
    "    \n",
    "    clf2 = svm.SVC(class_weight=class_weights2)\n",
    "    clf2.fit(X, y)\n",
    "    \n",
    "    clf_rfc = BalancedRandomForestClassifier(n_estimators=100, random_state=seed)\n",
    "    clf_rfc.fit(X, y)\n",
    "    \n",
    "    eclf = VotingClassifier(estimators=[('clf0', clf0), ('clf1', clf1), ('clf2', clf2)], voting='hard')\n",
    "    eclf.fit(X, y)\n",
    "    \n",
    "    X_valid = X_train[test]\n",
    "    y_valid_true = y_train[test]\n",
    "        \n",
    "    y_valid_pred0 = clf0.predict(X_valid)\n",
    "    y_valid_pred1 = clf1.predict(X_valid)\n",
    "    y_valid_pred2 = clf2.predict(X_valid)\n",
    "    y_valid_pred_ensemble = eclf.predict(X_valid)\n",
    "    y_valid_pred_rfc = clf_rfc.predict(X_valid)\n",
    "\n",
    "    cmat0 = confusion_matrix(y_valid_true, y_valid_pred0)\n",
    "    bmac0 = balanced_accuracy_score(y_valid_true, y_valid_pred0)\n",
    "    cmat1 = confusion_matrix(y_valid_true, y_valid_pred1)\n",
    "    bmac1 = balanced_accuracy_score(y_valid_true, y_valid_pred1)\n",
    "    cmat2 = confusion_matrix(y_valid_true, y_valid_pred2)\n",
    "    bmac2 = balanced_accuracy_score(y_valid_true, y_valid_pred2)\n",
    "    cmat_ensemble = confusion_matrix(y_valid_true, y_valid_pred_ensemble)\n",
    "    bmac_ensemble = balanced_accuracy_score(y_valid_true, y_valid_pred_ensemble)\n",
    "    cmat_rfc = confusion_matrix(y_valid_true, y_valid_pred_rfc)\n",
    "    bmac_rfc = balanced_accuracy_score(y_valid_true, y_valid_pred_rfc)\n",
    "\n",
    "    bmacs0.append(bmac0)\n",
    "    bmacs1.append(bmac1)\n",
    "    bmacs2.append(bmac2)\n",
    "    bmacs_ensemble.append(bmac_ensemble)\n",
    "    bmacs_rfc.append(bmac_rfc)\n",
    "    \n",
    "    print(f\"bmac0={bmac0} bmac1={bmac1} bmac2={bmac2} bmacEnsemble={bmac_ensemble} bmacRfc={bmac_rfc}\")\n",
    "    \n",
    "    cmats0.append(cmat0)\n",
    "    cmats1.append(cmat1)\n",
    "    cmats2.append(cmat2)\n",
    "    cmats_ensemble.append(cmat_ensemble)\n",
    "    cmats_rfc.append(cmat_rfc)\n",
    "    \n",
    "print(f\"bmacs0: {bmacs0}\")\n",
    "print(f\"bmacs1: {bmacs1}\")\n",
    "print(f\"bmacs2: {bmacs2}\")\n",
    "print(f\"bmacs_ensemble: {bmacs_ensemble}\")\n",
    "print(f\"bmacs_rfc: {bmacs_rfc}\")\n",
    "\n",
    "print(\"AVG: BMAC0 score: %.4f (+/- %.4f)\" % (np.mean(bmacs0), np.std(bmacs0)))\n",
    "print(\"AVG: BMAC1 score: %.4f (+/- %.4f)\" % (np.mean(bmacs1), np.std(bmacs1)))\n",
    "print(\"AVG: BMAC2 score: %.4f (+/- %.4f)\" % (np.mean(bmacs2), np.std(bmacs2)))\n",
    "print(\"AVG: BMAC_ENSEMBLE score: %.4f (+/- %.4f)\" % (np.mean(bmacs_ensemble), np.std(bmacs_ensemble)))\n",
    "print(\"AVG: BMAC_RFC score: %.4f (+/- %.4f)\" % (np.mean(bmacs_rfc), np.std(bmacs_rfc)))\n"
   ]
  },
  {
   "cell_type": "markdown",
   "metadata": {},
   "source": [
    "# Submission"
   ]
  },
  {
   "cell_type": "code",
   "execution_count": 31,
   "metadata": {},
   "outputs": [],
   "source": [
    "X_train = train_data.values\n",
    "y_train = Y_train.values.ravel()\n",
    "X_test = test_data.values\n",
    "\n",
    "class_weight = n_samples / (3 * np.bincount((y_train).astype(int)))\n",
    "class_weights0 = { # svc defaults: Cross Validation: BMAC: 0.6992 (+/- 0.0314)\n",
    "    0 : class_weight[0],\n",
    "    1 : class_weight[1],\n",
    "    2 : class_weight[2]\n",
    "}\n",
    "\n",
    "class_weights1 = { # tuned with bayesian optimization: Cross Validation: BMAC 0.7004 (+/- 0.0305)\n",
    "    0: 3.2734,\n",
    "    1: 0.6869,\n",
    "    2: 2.6268\n",
    "}\n",
    "\n",
    "class_weights2 = { # tuned with bayesian optimization: Cross Validation:  BMAC 0.7006 (+/- 0.0248)\n",
    "    0 : 2.4720,\n",
    "    1 : 0.4549,\n",
    "    2 : 3.8704\n",
    "}  \n",
    "\n",
    "clf0 = svm.SVC(class_weight=class_weights0)\n",
    "clf1 = svm.SVC(class_weight=class_weights1)\n",
    "clf2 = svm.SVC(class_weight=class_weights2)\n",
    "eclf = VotingClassifier(estimators=[('clf0', clf0), ('clf1', clf1), ('clf2', clf2)], voting='hard')\n",
    "\n",
    "eclf.fit(X_train, y_train)\n",
    "pred = eclf.predict(X_test)\n",
    "\n",
    "#  BMAC_ENSEMBLE score: 0.7018 std: 0.0328\n",
    "make_submission('nk_ensemble_svm_with different_weights.csv', pred)"
   ]
  },
  {
   "cell_type": "code",
   "execution_count": 32,
   "metadata": {},
   "outputs": [],
   "source": [
    "X_train = train_data.values\n",
    "y_train = Y_train.values.ravel()\n",
    "X_test = test_data.values\n",
    "\n",
    "\n",
    "class_weights2 = { # tuned with bayesian optimization:  BMAC 0.7006 (+/- 0.0248)\n",
    "    0 : 2.4720,\n",
    "    1 : 0.4549,\n",
    "    2 : 3.8704\n",
    "}  \n",
    "\n",
    "clf2 = svm.SVC(class_weight=class_weights2)\n",
    "clf2.fit(X_train, y_train)\n",
    "pred = clf2.predict(X_test)\n",
    "# score: 0.7005 std: 0.0249\n",
    "make_submission('nk_svm_bayesopt_weights_BMAC2.csv', pred)"
   ]
  },
  {
   "cell_type": "markdown",
   "metadata": {},
   "source": [
    "# Bayesian Optimization"
   ]
  },
  {
   "cell_type": "code",
   "execution_count": 20,
   "metadata": {},
   "outputs": [],
   "source": [
    "X_train = train_data.values\n",
    "y_train = Y_train.values.ravel()\n",
    "\n",
    "\n",
    "n_samples = y_train.shape[0]\n",
    "n_features = X_train.shape[1]\n",
    "\n",
    "def svm_cv(c0_weight=None, c1_weight=None, c2_weight=None, gamma=None):\n",
    "    \n",
    "    BMAC = []\n",
    "\n",
    "    if gamma is None:\n",
    "        1.0/n_features\n",
    "\n",
    "    if c0_weight is not None and c1_weight is not None and c2_weight is not None:\n",
    "        class_weights = {\n",
    "            0 : c0_weight,\n",
    "            1 : c1_weight,\n",
    "            2 : c2_weight\n",
    "        }\n",
    "    else:\n",
    "        #class_weight = n_samples / (3 * np.bincount((y_train).astype(int)))\n",
    "        class_weights = { # tuned with bayesian optimization\n",
    "            0 : 2.4720,\n",
    "            1 : 0.4549,\n",
    "            2 : 3.8704\n",
    "        }\n",
    "         \n",
    "    kfold = StratifiedKFold(n_splits=10, shuffle=True, random_state=seed)\n",
    "    for train, test in kfold.split(X_train, y_train):\n",
    "        X = X_train[train]\n",
    "        y = y_train[train]\n",
    "    \n",
    "        clf = svm.SVC(class_weight=class_weights, gamma=gamma)\n",
    "        clf.fit(X, y)\n",
    "    \n",
    "        X_valid = X_train[test]\n",
    "        y_valid_true = y_train[test]\n",
    "        \n",
    "        y_valid_pred = clf.predict(X_valid)\n",
    "\n",
    "        cmat = confusion_matrix(y_valid_true, y_valid_pred)\n",
    "        bmac = balanced_accuracy_score(y_valid_true, y_valid_pred)\n",
    " \n",
    "        BMAC.append(bmac)\n",
    "    \n",
    "    print(f\"bmacs: {BMAC}\")\n",
    "    print(\"AVG: BMAC score: %.4f (+/- %.4f)\" % (np.mean(BMAC), np.std(BMAC)))\n",
    "    return np.mean(BMAC)\n",
    "    "
   ]
  },
  {
   "cell_type": "markdown",
   "metadata": {},
   "source": [
    "### Bayesian Optimization: Train Class Weights"
   ]
  },
  {
   "cell_type": "code",
   "execution_count": 9,
   "metadata": {},
   "outputs": [
    {
     "name": "stdout",
     "output_type": "stream",
     "text": [
      "\u001b[31mInitialization\u001b[0m\n",
      "\u001b[94m-----------------------------------------------------------------------\u001b[0m\n",
      " Step |   Time |      Value |   c0_weight |   c1_weight |   c2_weight | \n",
      "bmacs: [0.6907407407407408, 0.6749999999999999, 0.6916666666666668, 0.7398148148148148, 0.7425925925925926, 0.7324074074074075, 0.674074074074074, 0.6898148148148149, 0.7157407407407407, 0.6398148148148148]\n",
      "AVG: BMAC score: 0.6992 (+/- 0.0314)\n",
      "    1 | 03m31s | \u001b[35m   0.69917\u001b[0m | \u001b[32m     2.6667\u001b[0m | \u001b[32m     0.4444\u001b[0m | \u001b[32m     2.6667\u001b[0m | \n",
      "bmacs: [0.5527777777777778, 0.5944444444444444, 0.5574074074074075, 0.5842592592592593, 0.5907407407407407, 0.5657407407407408, 0.5592592592592592, 0.524074074074074, 0.6185185185185186, 0.5185185185185185]\n",
      "AVG: BMAC score: 0.5666 (+/- 0.0297)\n",
      "    2 | 03m16s |    0.56657 |      2.5600 |      0.3964 |      0.6132 | \n",
      "bmacs: [0.6648148148148149, 0.6638888888888889, 0.6722222222222222, 0.6722222222222222, 0.6777777777777777, 0.7064814814814815, 0.6648148148148149, 0.674074074074074, 0.6990740740740741, 0.6453703703703703]\n",
      "AVG: BMAC score: 0.6741 (+/- 0.0167)\n",
      "    3 | 04m08s |    0.67407 |      5.7289 |      0.2104 |      5.8345 | \n",
      "bmacs: [0.6342592592592592, 0.6712962962962963, 0.6851851851851851, 0.7055555555555556, 0.6851851851851851, 0.6972222222222223, 0.6601851851851852, 0.6944444444444443, 0.6916666666666668, 0.6064814814814815]\n",
      "AVG: BMAC score: 0.6731 (+/- 0.0297)\n",
      "    4 | 02m55s |    0.67315 |      4.5260 |      1.7457 |      5.0784 | \n",
      "bmacs: [0.6342592592592592, 0.6555555555555556, 0.6666666666666666, 0.6657407407407407, 0.7074074074074074, 0.7231481481481481, 0.6472222222222223, 0.6657407407407407, 0.7064814814814815, 0.5814814814814815]\n",
      "AVG: BMAC score: 0.6654 (+/- 0.0390)\n",
      "    5 | 02m54s |    0.66537 |      3.7926 |      1.2421 |      1.6679 | \n",
      "bmacs: [0.5361111111111111, 0.5416666666666666, 0.5990740740740741, 0.5962962962962962, 0.5824074074074074, 0.5675925925925926, 0.5333333333333333, 0.5657407407407408, 0.6055555555555555, 0.537962962962963]\n",
      "AVG: BMAC score: 0.5666 (+/- 0.0268)\n",
      "    6 | 02m36s |    0.56657 |      1.3581 |      1.4453 |      1.5000 | \n",
      "\u001b[31mBayesian Optimization\u001b[0m\n",
      "\u001b[94m-----------------------------------------------------------------------\u001b[0m\n",
      " Step |   Time |      Value |   c0_weight |   c1_weight |   c2_weight | \n",
      "bmacs: [0.5981481481481481, 0.5509259259259259, 0.537962962962963, 0.5648148148148149, 0.5685185185185185, 0.5648148148148148, 0.5305555555555556, 0.5277777777777778, 0.5564814814814815, 0.5453703703703704]\n",
      "AVG: BMAC score: 0.5545 (+/- 0.0199)\n",
      "    7 | 04m15s |    0.55454 |      0.5000 |      0.1000 |      6.0000 | \n",
      "bmacs: [0.6546296296296297, 0.6648148148148149, 0.6324074074074074, 0.6425925925925925, 0.687962962962963, 0.6935185185185185, 0.6407407407407408, 0.6324074074074074, 0.7046296296296296, 0.601851851851852]\n",
      "AVG: BMAC score: 0.6556 (+/- 0.0305)\n",
      "    8 | 04m35s |    0.65556 |      6.0000 |      0.1000 |      2.6602 | \n",
      "bmacs: [0.6833333333333335, 0.6333333333333333, 0.6546296296296297, 0.687037037037037, 0.6990740740740741, 0.7055555555555556, 0.6518518518518519, 0.6731481481481482, 0.687962962962963, 0.6518518518518519]\n",
      "AVG: BMAC score: 0.6728 (+/- 0.0225)\n",
      "    9 | 04m38s |    0.67278 |      3.7996 |      0.1000 |      4.6267 | \n",
      "bmacs: [0.6305555555555556, 0.6731481481481482, 0.6666666666666666, 0.6749999999999999, 0.6749999999999999, 0.7148148148148148, 0.662962962962963, 0.6824074074074075, 0.6898148148148149, 0.5805555555555556]\n",
      "AVG: BMAC score: 0.6651 (+/- 0.0346)\n",
      "   10 | 02m59s |    0.66509 |      6.0000 |      2.0000 |      3.5826 | \n",
      "bmacs: [0.6305555555555555, 0.6898148148148149, 0.6981481481481481, 0.7027777777777778, 0.6777777777777777, 0.6990740740740741, 0.6768518518518519, 0.6916666666666665, 0.6981481481481482, 0.6138888888888889]\n",
      "AVG: BMAC score: 0.6779 (+/- 0.0293)\n",
      "   11 | 03m03s |    0.67787 |      6.0000 |      2.0000 |      6.0000 | \n",
      "bmacs: [0.5787037037037036, 0.6324074074074074, 0.6675925925925926, 0.6398148148148147, 0.6398148148148147, 0.6509259259259259, 0.5759259259259258, 0.6240740740740741, 0.6759259259259259, 0.5851851851851851]\n",
      "AVG: BMAC score: 0.6270 (+/- 0.0342)\n",
      "   12 | 02m51s |    0.62704 |      2.4832 |      2.0000 |      3.8770 | \n",
      "bmacs: [0.6712962962962963, 0.6722222222222222, 0.6657407407407406, 0.6703703703703704, 0.6990740740740741, 0.6990740740740741, 0.662962962962963, 0.6731481481481482, 0.7000000000000001, 0.6185185185185186]\n",
      "AVG: BMAC score: 0.6732 (+/- 0.0228)\n",
      "   13 | 04m38s |    0.67324 |      4.1252 |      0.1000 |      2.9181 | \n",
      "bmacs: [0.5083333333333333, 0.5333333333333333, 0.5277777777777778, 0.512037037037037, 0.5064814814814814, 0.5222222222222221, 0.5407407407407407, 0.5435185185185185, 0.5333333333333333, 0.5157407407407407]\n",
      "AVG: BMAC score: 0.5244 (+/- 0.0127)\n",
      "   14 | 02m51s |    0.52435 |      6.0000 |      2.0000 |      0.5000 | \n",
      "bmacs: [0.6092592592592593, 0.5583333333333333, 0.5453703703703704, 0.5555555555555556, 0.5712962962962963, 0.5657407407407408, 0.5481481481481482, 0.5351851851851852, 0.5712962962962963, 0.5564814814814815]\n",
      "AVG: BMAC score: 0.5617 (+/- 0.0192)\n",
      "   15 | 04m19s |    0.56167 |      0.5000 |      0.1000 |      3.2541 | \n",
      "bmacs: [0.6685185185185185, 0.7194444444444444, 0.6981481481481481, 0.6824074074074074, 0.724074074074074, 0.725, 0.6685185185185185, 0.6999999999999998, 0.7342592592592592, 0.6175925925925926]\n",
      "AVG: BMAC score: 0.6938 (+/- 0.0338)\n",
      "   16 | 03m25s |    0.69380 |      6.0000 |      0.9435 |      4.7048 | \n",
      "bmacs: [0.6435185185185185, 0.6768518518518518, 0.6935185185185185, 0.7074074074074074, 0.7314814814814815, 0.7129629629629629, 0.6712962962962963, 0.7074074074074074, 0.7055555555555556, 0.6175925925925926]\n",
      "AVG: BMAC score: 0.6868 (+/- 0.0331)\n",
      "   17 | 03m13s |    0.68676 |      3.4766 |      1.0308 |      3.2560 | \n",
      "bmacs: [0.6592592592592593, 0.6592592592592593, 0.687962962962963, 0.6962962962962962, 0.7138888888888889, 0.7148148148148148, 0.6768518518518518, 0.687037037037037, 0.7268518518518517, 0.662037037037037]\n",
      "AVG: BMAC score: 0.6884 (+/- 0.0233)\n",
      "   18 | 03m23s |    0.68843 |      3.4039 |      0.9091 |      6.0000 | \n",
      "bmacs: [0.6685185185185185, 0.6814814814814815, 0.688888888888889, 0.7138888888888889, 0.7351851851851853, 0.7185185185185184, 0.6675925925925926, 0.6990740740740741, 0.7055555555555556, 0.6490740740740741]\n",
      "AVG: BMAC score: 0.6928 (+/- 0.0253)\n",
      "   19 | 03m23s |    0.69278 |      4.8438 |      0.9791 |      6.0000 | \n",
      "bmacs: [0.6787037037037037, 0.6287037037037037, 0.6546296296296296, 0.6592592592592593, 0.6712962962962963, 0.7166666666666667, 0.6518518518518518, 0.6453703703703704, 0.7046296296296296, 0.6685185185185185]\n",
      "AVG: BMAC score: 0.6680 (+/- 0.0253)\n",
      "   20 | 04m40s |    0.66796 |      3.1435 |      0.1000 |      6.0000 | \n"
     ]
    },
    {
     "name": "stderr",
     "output_type": "stream",
     "text": [
      "C:\\Users\\nicok\\Miniconda3\\envs\\aml\\lib\\site-packages\\sklearn\\gaussian_process\\gpr.py:480: ConvergenceWarning: fmin_l_bfgs_b terminated abnormally with the  state: {'grad': array([-3.1483186e-05]), 'task': b'ABNORMAL_TERMINATION_IN_LNSRCH', 'funcalls': 54, 'nit': 6, 'warnflag': 2}\n",
      "  ConvergenceWarning)\n"
     ]
    },
    {
     "name": "stdout",
     "output_type": "stream",
     "text": [
      "bmacs: [0.6722222222222222, 0.662962962962963, 0.7037037037037037, 0.7111111111111111, 0.7092592592592593, 0.736111111111111, 0.6925925925925926, 0.6675925925925926, 0.7157407407407407, 0.6703703703703704]\n",
      "AVG: BMAC score: 0.6942 (+/- 0.0236)\n",
      "   21 | 03m52s |    0.69417 |      2.6241 |      0.3275 |      3.4418 | \n"
     ]
    },
    {
     "name": "stderr",
     "output_type": "stream",
     "text": [
      "C:\\Users\\nicok\\Miniconda3\\envs\\aml\\lib\\site-packages\\sklearn\\gaussian_process\\gpr.py:480: ConvergenceWarning: fmin_l_bfgs_b terminated abnormally with the  state: {'grad': array([3.32331667e-05]), 'task': b'ABNORMAL_TERMINATION_IN_LNSRCH', 'funcalls': 63, 'nit': 5, 'warnflag': 2}\n",
      "  ConvergenceWarning)\n"
     ]
    },
    {
     "name": "stdout",
     "output_type": "stream",
     "text": [
      "bmacs: [0.6574074074074073, 0.6824074074074075, 0.7092592592592593, 0.6972222222222223, 0.7194444444444444, 0.7055555555555556, 0.6851851851851851, 0.6962962962962962, 0.7166666666666668, 0.6268518518518519]\n",
      "AVG: BMAC score: 0.6896 (+/- 0.0272)\n",
      "   22 | 03m21s |    0.68963 |      6.0000 |      1.0934 |      6.0000 | \n",
      "bmacs: [0.6620370370370371, 0.6805555555555557, 0.7074074074074073, 0.7175925925925926, 0.7453703703703703, 0.7148148148148148, 0.6703703703703704, 0.6944444444444445, 0.7287037037037037, 0.6490740740740741]\n",
      "AVG: BMAC score: 0.6970 (+/- 0.0295)\n",
      "   23 | 03m24s |    0.69704 |      2.9239 |      0.6162 |      2.7001 | \n",
      "bmacs: [0.6962962962962962, 0.6398148148148148, 0.6666666666666666, 0.6824074074074074, 0.7101851851851851, 0.7055555555555556, 0.6629629629629629, 0.6675925925925926, 0.6898148148148149, 0.6527777777777778]\n",
      "AVG: BMAC score: 0.6774 (+/- 0.0220)\n",
      "   24 | 04m35s |    0.67741 |      2.8702 |      0.1000 |      2.8101 | \n",
      "bmacs: [0.6592592592592593, 0.712037037037037, 0.6888888888888888, 0.6962962962962963, 0.7203703703703704, 0.7277777777777779, 0.6777777777777777, 0.699074074074074, 0.736111111111111, 0.6203703703703703]\n",
      "AVG: BMAC score: 0.6938 (+/- 0.0330)\n",
      "   25 | 03m22s |    0.69380 |      5.3407 |      0.9113 |      3.6201 | \n",
      "bmacs: [0.6574074074074074, 0.649074074074074, 0.6962962962962963, 0.7212962962962962, 0.7305555555555555, 0.6935185185185185, 0.6833333333333332, 0.6916666666666668, 0.7277777777777779, 0.6657407407407407]\n",
      "AVG: BMAC score: 0.6917 (+/- 0.0273)\n",
      "   26 | 03m16s |    0.69167 |      2.4484 |      0.7694 |      3.1253 | \n",
      "bmacs: [0.6611111111111111, 0.7101851851851851, 0.7037037037037036, 0.6851851851851851, 0.7166666666666668, 0.7324074074074075, 0.6675925925925926, 0.6953703703703704, 0.7222222222222222, 0.6166666666666667]\n",
      "AVG: BMAC score: 0.6911 (+/- 0.0330)\n",
      "   27 | 03m31s |    0.69111 |      5.9881 |      0.7722 |      3.8971 | \n",
      "bmacs: [0.6657407407407407, 0.687962962962963, 0.6907407407407407, 0.6981481481481482, 0.7277777777777779, 0.7074074074074074, 0.6787037037037038, 0.6953703703703704, 0.7185185185185187, 0.6203703703703703]\n",
      "AVG: BMAC score: 0.6891 (+/- 0.0286)\n",
      "   28 | 03m23s |    0.68907 |      5.3622 |      0.9995 |      5.0052 | \n"
     ]
    },
    {
     "name": "stderr",
     "output_type": "stream",
     "text": [
      "C:\\Users\\nicok\\Miniconda3\\envs\\aml\\lib\\site-packages\\sklearn\\gaussian_process\\gpr.py:480: ConvergenceWarning: fmin_l_bfgs_b terminated abnormally with the  state: {'grad': array([-5.70747231e-05]), 'task': b'ABNORMAL_TERMINATION_IN_LNSRCH', 'funcalls': 54, 'nit': 6, 'warnflag': 2}\n",
      "  ConvergenceWarning)\n"
     ]
    },
    {
     "name": "stdout",
     "output_type": "stream",
     "text": [
      "bmacs: [0.6694444444444444, 0.6944444444444445, 0.6981481481481481, 0.7074074074074074, 0.7324074074074073, 0.7138888888888889, 0.6722222222222222, 0.7018518518518518, 0.7259259259259259, 0.6462962962962963]\n",
      "AVG: BMAC score: 0.6962 (+/- 0.0254)\n",
      "   29 | 03m17s |    0.69620 |      2.9973 |      0.7921 |      2.7707 | \n",
      "bmacs: [0.6648148148148149, 0.6685185185185185, 0.6907407407407408, 0.7203703703703704, 0.7074074074074074, 0.7138888888888889, 0.687037037037037, 0.6833333333333335, 0.7287037037037037, 0.6907407407407408]\n",
      "AVG: BMAC score: 0.6956 (+/- 0.0203)\n",
      "   30 | 03m29s |    0.69556 |      2.7416 |      0.6771 |      4.4712 | \n",
      "bmacs: [0.6749999999999999, 0.6592592592592593, 0.6907407407407408, 0.7259259259259259, 0.7129629629629629, 0.7157407407407407, 0.6703703703703704, 0.6962962962962963, 0.7222222222222223, 0.6731481481481483]\n",
      "AVG: BMAC score: 0.6942 (+/- 0.0229)\n",
      "   31 | 03m27s |    0.69417 |      2.8488 |      0.6594 |      3.6218 | \n",
      "bmacs: [0.6768518518518518, 0.686111111111111, 0.6592592592592593, 0.6787037037037037, 0.7175925925925926, 0.725, 0.6666666666666666, 0.687037037037037, 0.725, 0.5916666666666667]\n",
      "AVG: BMAC score: 0.6814 (+/- 0.0374)\n",
      "   32 | 03m19s |    0.68139 |      5.1916 |      0.9665 |      2.8468 | \n",
      "bmacs: [0.6592592592592593, 0.6685185185185185, 0.6861111111111112, 0.7129629629629631, 0.7185185185185187, 0.7092592592592593, 0.6759259259259259, 0.688888888888889, 0.7305555555555555, 0.6657407407407407]\n",
      "AVG: BMAC score: 0.6916 (+/- 0.0235)\n",
      "   33 | 03m25s |    0.69157 |      3.2648 |      0.8276 |      5.0373 | \n",
      "bmacs: [0.6583333333333333, 0.6842592592592592, 0.687962962962963, 0.7268518518518517, 0.7287037037037037, 0.7074074074074074, 0.6666666666666666, 0.7018518518518518, 0.7194444444444444, 0.6592592592592593]\n",
      "AVG: BMAC score: 0.6941 (+/- 0.0256)\n",
      "   34 | 03m25s |    0.69407 |      2.9371 |      0.6727 |      3.0793 | \n",
      "bmacs: [0.6583333333333333, 0.6842592592592593, 0.6990740740740741, 0.6944444444444445, 0.7037037037037037, 0.7148148148148148, 0.674074074074074, 0.6842592592592593, 0.7231481481481481, 0.6990740740740741]\n",
      "AVG: BMAC score: 0.6935 (+/- 0.0181)\n",
      "   35 | 03m32s |    0.69352 |      2.4197 |      0.5952 |      4.7020 | \n",
      "bmacs: [0.6157407407407407, 0.6564814814814814, 0.6787037037037037, 0.6675925925925926, 0.6537037037037037, 0.6842592592592592, 0.6333333333333333, 0.6490740740740741, 0.7018518518518518, 0.6546296296296297]\n",
      "AVG: BMAC score: 0.6595 (+/- 0.0237)\n",
      "   36 | 03m09s |    0.65954 |      2.5101 |      1.2158 |      5.9951 | \n",
      "bmacs: [0.6416666666666666, 0.7064814814814815, 0.6962962962962963, 0.687037037037037, 0.7194444444444444, 0.7064814814814815, 0.6675925925925927, 0.7101851851851851, 0.7287037037037036, 0.612037037037037]\n",
      "AVG: BMAC score: 0.6876 (+/- 0.0350)\n",
      "   37 | 03m17s |    0.68759 |      5.9975 |      1.2501 |      4.5995 | \n",
      "bmacs: [0.6712962962962963, 0.6750000000000002, 0.6972222222222223, 0.725925925925926, 0.7064814814814815, 0.7148148148148149, 0.6888888888888888, 0.6833333333333335, 0.7277777777777779, 0.6842592592592593]\n",
      "AVG: BMAC score: 0.6975 (+/- 0.0194)\n",
      "   38 | 03m29s |    0.69750 |      2.5083 |      0.6200 |      3.8851 | \n",
      "bmacs: [0.6648148148148149, 0.6666666666666666, 0.6935185185185185, 0.7194444444444444, 0.7259259259259259, 0.7148148148148148, 0.674074074074074, 0.7064814814814815, 0.7111111111111111, 0.6361111111111111]\n",
      "AVG: BMAC score: 0.6913 (+/- 0.0280)\n",
      "   39 | 03m19s |    0.69130 |      4.4460 |      1.1339 |      5.9953 | \n",
      "bmacs: [0.6703703703703704, 0.6722222222222222, 0.6962962962962963, 0.7222222222222223, 0.7027777777777778, 0.712037037037037, 0.6824074074074074, 0.6824074074074074, 0.7250000000000001, 0.6768518518518518]\n",
      "AVG: BMAC score: 0.6943 (+/- 0.0194)\n",
      "   40 | 03m33s |    0.69426 |      2.5662 |      0.5864 |      4.0052 | \n",
      "bmacs: [0.6657407407407407, 0.6796296296296296, 0.6990740740740741, 0.7138888888888889, 0.7342592592592592, 0.7148148148148148, 0.6712962962962963, 0.7027777777777778, 0.726851851851852, 0.6416666666666667]\n",
      "AVG: BMAC score: 0.6950 (+/- 0.0281)\n",
      "   41 | 03m16s |    0.69500 |      2.8263 |      0.7856 |      2.7027 | \n"
     ]
    },
    {
     "name": "stderr",
     "output_type": "stream",
     "text": [
      "C:\\Users\\nicok\\Miniconda3\\envs\\aml\\lib\\site-packages\\sklearn\\gaussian_process\\gpr.py:480: ConvergenceWarning: fmin_l_bfgs_b terminated abnormally with the  state: {'grad': array([3.19904857e-05]), 'task': b'ABNORMAL_TERMINATION_IN_LNSRCH', 'funcalls': 64, 'nit': 7, 'warnflag': 2}\n",
      "  ConvergenceWarning)\n"
     ]
    },
    {
     "name": "stdout",
     "output_type": "stream",
     "text": [
      "bmacs: [0.6657407407407407, 0.662962962962963, 0.6898148148148149, 0.7175925925925926, 0.7222222222222223, 0.7101851851851851, 0.6638888888888889, 0.6898148148148149, 0.7138888888888889, 0.6703703703703704]\n",
      "AVG: BMAC score: 0.6906 (+/- 0.0227)\n",
      "   42 | 03m25s |    0.69065 |      2.6841 |      0.6753 |      3.2887 | \n",
      "bmacs: [0.6675925925925926, 0.7157407407407407, 0.6916666666666668, 0.7138888888888889, 0.7305555555555556, 0.7129629629629631, 0.6648148148148149, 0.7111111111111111, 0.7287037037037036, 0.6425925925925925]\n",
      "AVG: BMAC score: 0.6980 (+/- 0.0285)\n",
      "   43 | 03m22s |    0.69796 |      3.1883 |      0.7287 |      2.5434 | \n"
     ]
    },
    {
     "name": "stderr",
     "output_type": "stream",
     "text": [
      "C:\\Users\\nicok\\Miniconda3\\envs\\aml\\lib\\site-packages\\sklearn\\gaussian_process\\gpr.py:480: ConvergenceWarning: fmin_l_bfgs_b terminated abnormally with the  state: {'grad': array([2.96386788e-05]), 'task': b'ABNORMAL_TERMINATION_IN_LNSRCH', 'funcalls': 48, 'nit': 2, 'warnflag': 2}\n",
      "  ConvergenceWarning)\n"
     ]
    },
    {
     "name": "stdout",
     "output_type": "stream",
     "text": [
      "bmacs: [0.6694444444444444, 0.7166666666666667, 0.6916666666666668, 0.7138888888888889, 0.737962962962963, 0.7148148148148149, 0.6657407407407407, 0.7111111111111111, 0.7287037037037036, 0.6425925925925925]\n",
      "AVG: BMAC score: 0.6993 (+/- 0.0292)\n",
      "   44 | 03m23s | \u001b[35m   0.69926\u001b[0m | \u001b[32m     3.2211\u001b[0m | \u001b[32m     0.7438\u001b[0m | \u001b[32m     2.5403\u001b[0m | \n",
      "bmacs: [0.6675925925925926, 0.7157407407407407, 0.6916666666666668, 0.7138888888888889, 0.7361111111111112, 0.712037037037037, 0.6638888888888889, 0.7101851851851851, 0.7287037037037036, 0.6425925925925925]\n",
      "AVG: BMAC score: 0.6982 (+/- 0.0292)\n",
      "   45 | 03m23s |    0.69824 |      3.2302 |      0.7255 |      2.5402 | \n",
      "bmacs: [0.6638888888888889, 0.7101851851851851, 0.6925925925925925, 0.7129629629629629, 0.7296296296296295, 0.7129629629629629, 0.6592592592592592, 0.7111111111111111, 0.724074074074074, 0.6453703703703704]\n",
      "AVG: BMAC score: 0.6962 (+/- 0.0281)\n",
      "   46 | 03m20s |    0.69620 |      3.0313 |      0.7759 |      2.5334 | \n",
      "bmacs: [0.6601851851851852, 0.7064814814814815, 0.6851851851851851, 0.7157407407407407, 0.7342592592592593, 0.7166666666666668, 0.6675925925925926, 0.7055555555555554, 0.7277777777777779, 0.6305555555555555]\n",
      "AVG: BMAC score: 0.6950 (+/- 0.0316)\n",
      "   47 | 03m25s |    0.69500 |      3.3889 |      0.7170 |      2.5812 | \n",
      "bmacs: [0.6749999999999999, 0.6953703703703704, 0.6935185185185185, 0.7138888888888889, 0.7314814814814815, 0.7148148148148148, 0.662962962962963, 0.6990740740740741, 0.7259259259259259, 0.6462962962962963]\n",
      "AVG: BMAC score: 0.6958 (+/- 0.0262)\n",
      "   48 | 03m19s |    0.69583 |      2.9060 |      0.7720 |      2.5014 | \n",
      "bmacs: [0.6611111111111111, 0.7046296296296296, 0.6916666666666668, 0.7083333333333334, 0.7351851851851853, 0.7129629629629631, 0.6638888888888889, 0.7083333333333334, 0.7342592592592593, 0.6407407407407407]\n",
      "AVG: BMAC score: 0.6961 (+/- 0.0300)\n",
      "   49 | 03m24s |    0.69611 |      3.1667 |      0.7212 |      2.7001 | \n",
      "bmacs: [0.6722222222222222, 0.6731481481481483, 0.687962962962963, 0.7175925925925926, 0.7203703703703703, 0.712037037037037, 0.6722222222222222, 0.6842592592592592, 0.737962962962963, 0.674074074074074]\n",
      "AVG: BMAC score: 0.6952 (+/- 0.0233)\n",
      "   50 | 03m34s |    0.69519 |      2.9078 |      0.6491 |      4.3357 | \n",
      "bmacs: [0.6518518518518518, 0.6759259259259259, 0.6898148148148149, 0.6972222222222223, 0.7092592592592593, 0.7037037037037036, 0.6675925925925926, 0.7101851851851851, 0.7185185185185184, 0.6166666666666667]\n",
      "AVG: BMAC score: 0.6841 (+/- 0.0300)\n",
      "   51 | 03m21s |    0.68407 |      5.3325 |      1.2677 |      6.0000 | \n",
      "bmacs: [0.6694444444444444, 0.6722222222222222, 0.6851851851851851, 0.7185185185185187, 0.7333333333333334, 0.7212962962962962, 0.6685185185185185, 0.7037037037037037, 0.7055555555555556, 0.6416666666666667]\n",
      "AVG: BMAC score: 0.6919 (+/- 0.0276)\n",
      "   52 | 03m31s |    0.69194 |      4.1748 |      0.8372 |      5.4544 | \n",
      "bmacs: [0.6638888888888889, 0.7074074074074074, 0.6935185185185185, 0.6916666666666668, 0.725, 0.7203703703703703, 0.6657407407407407, 0.7018518518518517, 0.7231481481481481, 0.625]\n",
      "AVG: BMAC score: 0.6918 (+/- 0.0303)\n",
      "   53 | 03m29s |    0.69176 |      5.0518 |      0.8925 |      4.1350 | \n",
      "bmacs: [0.6638888888888889, 0.6944444444444445, 0.6916666666666668, 0.7138888888888889, 0.725, 0.712037037037037, 0.6601851851851851, 0.6962962962962962, 0.725, 0.6407407407407407]\n",
      "AVG: BMAC score: 0.6923 (+/- 0.0274)\n",
      "   54 | 03m19s |    0.69231 |      2.9334 |      0.7671 |      2.5870 | \n",
      "bmacs: [0.6685185185185185, 0.6805555555555557, 0.6898148148148149, 0.725925925925926, 0.7203703703703703, 0.7305555555555556, 0.6870370370370371, 0.6759259259259259, 0.7314814814814815, 0.6898148148148149]\n",
      "AVG: BMAC score: 0.7000 (+/- 0.0231)\n",
      "   55 | 03m46s | \u001b[35m   0.70000\u001b[0m | \u001b[32m     2.4588\u001b[0m | \u001b[32m     0.4622\u001b[0m | \u001b[32m     4.2827\u001b[0m | \n",
      "bmacs: [0.6583333333333333, 0.6722222222222222, 0.687962962962963, 0.7037037037037037, 0.6981481481481481, 0.7333333333333334, 0.687037037037037, 0.6777777777777779, 0.725, 0.6944444444444445]\n",
      "AVG: BMAC score: 0.6938 (+/- 0.0217)\n",
      "   56 | 03m54s |    0.69380 |      2.3711 |      0.3584 |      4.3704 | \n"
     ]
    },
    {
     "name": "stderr",
     "output_type": "stream",
     "text": [
      "C:\\Users\\nicok\\Miniconda3\\envs\\aml\\lib\\site-packages\\sklearn\\gaussian_process\\gpr.py:480: ConvergenceWarning: fmin_l_bfgs_b terminated abnormally with the  state: {'grad': array([-6.47705981e-05]), 'task': b'ABNORMAL_TERMINATION_IN_LNSRCH', 'funcalls': 54, 'nit': 5, 'warnflag': 2}\n",
      "  ConvergenceWarning)\n",
      "C:\\Users\\nicok\\Miniconda3\\envs\\aml\\lib\\site-packages\\sklearn\\gaussian_process\\gpr.py:480: ConvergenceWarning: fmin_l_bfgs_b terminated abnormally with the  state: {'grad': array([-8.23745129e-05]), 'task': b'ABNORMAL_TERMINATION_IN_LNSRCH', 'funcalls': 55, 'nit': 6, 'warnflag': 2}\n",
      "  ConvergenceWarning)\n"
     ]
    },
    {
     "name": "stdout",
     "output_type": "stream",
     "text": [
      "bmacs: [0.6574074074074074, 0.6731481481481482, 0.6935185185185185, 0.712037037037037, 0.7074074074074074, 0.7175925925925926, 0.6749999999999999, 0.6851851851851851, 0.737037037037037, 0.6944444444444445]\n",
      "AVG: BMAC score: 0.6953 (+/- 0.0226)\n",
      "   57 | 03m32s |    0.69528 |      2.3555 |      0.6367 |      4.1343 | \n"
     ]
    },
    {
     "name": "stderr",
     "output_type": "stream",
     "text": [
      "C:\\Users\\nicok\\Miniconda3\\envs\\aml\\lib\\site-packages\\sklearn\\gaussian_process\\gpr.py:480: ConvergenceWarning: fmin_l_bfgs_b terminated abnormally with the  state: {'grad': array([6.04577435e-05]), 'task': b'ABNORMAL_TERMINATION_IN_LNSRCH', 'funcalls': 56, 'nit': 7, 'warnflag': 2}\n",
      "  ConvergenceWarning)\n",
      "C:\\Users\\nicok\\Miniconda3\\envs\\aml\\lib\\site-packages\\sklearn\\gaussian_process\\gpr.py:480: ConvergenceWarning: fmin_l_bfgs_b terminated abnormally with the  state: {'grad': array([-0.00013496]), 'task': b'ABNORMAL_TERMINATION_IN_LNSRCH', 'funcalls': 49, 'nit': 7, 'warnflag': 2}\n",
      "  ConvergenceWarning)\n"
     ]
    },
    {
     "name": "stdout",
     "output_type": "stream",
     "text": [
      "bmacs: [0.6749999999999999, 0.6768518518518518, 0.6935185185185185, 0.7175925925925926, 0.7027777777777778, 0.7240740740740742, 0.6944444444444445, 0.6722222222222222, 0.726851851851852, 0.6666666666666666]\n",
      "AVG: BMAC score: 0.6950 (+/- 0.0212)\n",
      "   58 | 03m40s |    0.69500 |      2.7554 |      0.5521 |      4.2600 | \n",
      "bmacs: [0.6648148148148149, 0.6685185185185185, 0.6935185185185185, 0.7083333333333334, 0.7046296296296296, 0.7277777777777779, 0.6712962962962963, 0.6787037037037037, 0.7277777777777779, 0.6907407407407407]\n",
      "AVG: BMAC score: 0.6936 (+/- 0.0220)\n",
      "   59 | 03m39s |    0.69361 |      2.6898 |      0.5730 |      4.6110 | \n",
      "bmacs: [0.6657407407407407, 0.7083333333333334, 0.6916666666666668, 0.712037037037037, 0.7398148148148148, 0.7129629629629631, 0.6620370370370371, 0.7129629629629629, 0.7342592592592593, 0.6407407407407407]\n",
      "AVG: BMAC score: 0.6981 (+/- 0.0308)\n",
      "   60 | 03m25s |    0.69806 |      3.3231 |      0.7279 |      2.7280 | \n"
     ]
    },
    {
     "name": "stderr",
     "output_type": "stream",
     "text": [
      "C:\\Users\\nicok\\Miniconda3\\envs\\aml\\lib\\site-packages\\sklearn\\gaussian_process\\gpr.py:480: ConvergenceWarning: fmin_l_bfgs_b terminated abnormally with the  state: {'grad': array([-0.00010608]), 'task': b'ABNORMAL_TERMINATION_IN_LNSRCH', 'funcalls': 54, 'nit': 5, 'warnflag': 2}\n",
      "  ConvergenceWarning)\n"
     ]
    },
    {
     "name": "stdout",
     "output_type": "stream",
     "text": [
      "bmacs: [0.6638888888888889, 0.7092592592592593, 0.6851851851851851, 0.7166666666666667, 0.7351851851851853, 0.7175925925925926, 0.6675925925925926, 0.7074074074074073, 0.7277777777777779, 0.6305555555555555]\n",
      "AVG: BMAC score: 0.6961 (+/- 0.0316)\n",
      "   61 | 03m25s |    0.69611 |      3.3520 |      0.7219 |      2.5945 | \n",
      "bmacs: [0.6685185185185185, 0.6638888888888889, 0.700925925925926, 0.7157407407407409, 0.7064814814814815, 0.7314814814814815, 0.6749999999999999, 0.6805555555555555, 0.7240740740740742, 0.6824074074074075]\n",
      "AVG: BMAC score: 0.6949 (+/- 0.0228)\n",
      "   62 | 03m37s |    0.69491 |      2.4517 |      0.5512 |      3.9590 | \n"
     ]
    },
    {
     "name": "stderr",
     "output_type": "stream",
     "text": [
      "C:\\Users\\nicok\\Miniconda3\\envs\\aml\\lib\\site-packages\\sklearn\\gaussian_process\\gpr.py:480: ConvergenceWarning: fmin_l_bfgs_b terminated abnormally with the  state: {'grad': array([0.00014209]), 'task': b'ABNORMAL_TERMINATION_IN_LNSRCH', 'funcalls': 56, 'nit': 7, 'warnflag': 2}\n",
      "  ConvergenceWarning)\n"
     ]
    },
    {
     "name": "stdout",
     "output_type": "stream",
     "text": [
      "bmacs: [0.6638888888888889, 0.6953703703703704, 0.6999999999999998, 0.7203703703703703, 0.7324074074074073, 0.7083333333333334, 0.6722222222222222, 0.6953703703703704, 0.7324074074074075, 0.6564814814814816]\n",
      "AVG: BMAC score: 0.6977 (+/- 0.0256)\n",
      "   63 | 03m28s |    0.69769 |      3.1015 |      0.6844 |      2.9293 | \n",
      "bmacs: [0.6527777777777778, 0.6962962962962963, 0.7000000000000001, 0.7148148148148148, 0.7416666666666666, 0.712037037037037, 0.6666666666666666, 0.6962962962962963, 0.7305555555555556, 0.6453703703703704]\n",
      "AVG: BMAC score: 0.6956 (+/- 0.0303)\n",
      "   64 | 03m28s |    0.69565 |      3.1434 |      0.6777 |      2.8559 | \n",
      "bmacs: [0.6638888888888889, 0.7083333333333334, 0.6851851851851851, 0.7175925925925926, 0.7351851851851853, 0.7185185185185187, 0.662962962962963, 0.7074074074074073, 0.7277777777777779, 0.6314814814814814]\n",
      "AVG: BMAC score: 0.6958 (+/- 0.0319)\n",
      "   65 | 03m26s |    0.69583 |      3.3318 |      0.7229 |      2.5937 | \n",
      "bmacs: [0.6564814814814816, 0.6962962962962963, 0.700925925925926, 0.7203703703703703, 0.7324074074074073, 0.7138888888888889, 0.6722222222222222, 0.6972222222222223, 0.7324074074074075, 0.6518518518518519]\n",
      "AVG: BMAC score: 0.6974 (+/- 0.0277)\n",
      "   66 | 03m29s |    0.69741 |      3.1160 |      0.6854 |      2.8617 | \n"
     ]
    },
    {
     "name": "stderr",
     "output_type": "stream",
     "text": [
      "C:\\Users\\nicok\\Miniconda3\\envs\\aml\\lib\\site-packages\\sklearn\\gaussian_process\\gpr.py:480: ConvergenceWarning: fmin_l_bfgs_b terminated abnormally with the  state: {'grad': array([-6.10874e-05]), 'task': b'ABNORMAL_TERMINATION_IN_LNSRCH', 'funcalls': 54, 'nit': 5, 'warnflag': 2}\n",
      "  ConvergenceWarning)\n",
      "C:\\Users\\nicok\\Miniconda3\\envs\\aml\\lib\\site-packages\\sklearn\\gaussian_process\\gpr.py:480: ConvergenceWarning: fmin_l_bfgs_b terminated abnormally with the  state: {'grad': array([5.95411854e-05]), 'task': b'ABNORMAL_TERMINATION_IN_LNSRCH', 'funcalls': 51, 'nit': 5, 'warnflag': 2}\n",
      "  ConvergenceWarning)\n"
     ]
    },
    {
     "name": "stdout",
     "output_type": "stream",
     "text": [
      "bmacs: [0.6583333333333333, 0.6953703703703704, 0.7101851851851851, 0.7203703703703703, 0.7407407407407408, 0.712037037037037, 0.6712962962962963, 0.6953703703703704, 0.7296296296296297, 0.6564814814814816]\n",
      "AVG: BMAC score: 0.6990 (+/- 0.0277)\n",
      "   67 | 03m30s |    0.69898 |      3.0506 |      0.6593 |      2.8485 | \n",
      "bmacs: [0.6657407407407407, 0.6944444444444445, 0.7037037037037036, 0.7083333333333334, 0.7407407407407408, 0.7055555555555556, 0.6749999999999999, 0.6981481481481482, 0.7287037037037037, 0.6518518518518519]\n",
      "AVG: BMAC score: 0.6972 (+/- 0.0258)\n",
      "   68 | 03m28s |    0.69722 |      3.0352 |      0.7090 |      2.8275 | \n",
      "bmacs: [0.6583333333333333, 0.6953703703703704, 0.7046296296296296, 0.7203703703703703, 0.736111111111111, 0.712037037037037, 0.6712962962962963, 0.6944444444444445, 0.7296296296296297, 0.6564814814814816]\n",
      "AVG: BMAC score: 0.6979 (+/- 0.0269)\n",
      "   69 | 03m28s |    0.69787 |      3.0848 |      0.6693 |      2.8807 | \n",
      "bmacs: [0.6648148148148149, 0.6925925925925926, 0.7037037037037036, 0.7083333333333334, 0.7407407407407408, 0.7092592592592591, 0.6749999999999999, 0.6990740740740741, 0.7287037037037037, 0.6518518518518519]\n",
      "AVG: BMAC score: 0.6974 (+/- 0.0261)\n",
      "   70 | 03m28s |    0.69741 |      3.0158 |      0.6961 |      2.8547 | \n",
      "bmacs: [0.6583333333333333, 0.6907407407407408, 0.6935185185185185, 0.7046296296296296, 0.7324074074074073, 0.7046296296296296, 0.6703703703703704, 0.7018518518518518, 0.7231481481481481, 0.649074074074074]\n",
      "AVG: BMAC score: 0.6929 (+/- 0.0254)\n",
      "   71 | 03m25s |    0.69287 |      3.0192 |      0.7372 |      2.7238 | \n",
      "bmacs: [0.6703703703703704, 0.6666666666666666, 0.6944444444444445, 0.7203703703703704, 0.7111111111111111, 0.7296296296296297, 0.674074074074074, 0.6777777777777777, 0.7296296296296297, 0.6694444444444444]\n",
      "AVG: BMAC score: 0.6944 (+/- 0.0247)\n",
      "   72 | 03m40s |    0.69435 |      2.7112 |      0.5698 |      4.0749 | \n",
      "bmacs: [0.6694444444444444, 0.7092592592592593, 0.686111111111111, 0.7138888888888889, 0.7259259259259259, 0.7185185185185187, 0.6638888888888889, 0.7037037037037036, 0.7287037037037036, 0.6314814814814814]\n",
      "AVG: BMAC score: 0.6951 (+/- 0.0300)\n",
      "   73 | 03m25s |    0.69509 |      3.4146 |      0.7557 |      2.6345 | \n",
      "bmacs: [0.6657407407407407, 0.6907407407407407, 0.6925925925925925, 0.686111111111111, 0.7231481481481481, 0.7305555555555555, 0.6731481481481483, 0.6935185185185185, 0.7314814814814814, 0.600925925925926]\n",
      "AVG: BMAC score: 0.6888 (+/- 0.0365)\n",
      "   74 | 03m27s |    0.68880 |      5.9992 |      1.0185 |      3.9124 | \n",
      "bmacs: [0.662962962962963, 0.6953703703703704, 0.6999999999999998, 0.7203703703703703, 0.7333333333333334, 0.7138888888888889, 0.6722222222222222, 0.6962962962962963, 0.7314814814814815, 0.6564814814814816]\n",
      "AVG: BMAC score: 0.6982 (+/- 0.0260)\n",
      "   75 | 03m27s |    0.69824 |      3.0734 |      0.6799 |      2.8889 | \n",
      "bmacs: [0.6638888888888889, 0.6953703703703704, 0.6999999999999998, 0.7212962962962962, 0.7388888888888889, 0.7148148148148148, 0.6722222222222222, 0.6972222222222223, 0.7314814814814815, 0.6564814814814816]\n",
      "AVG: BMAC score: 0.6992 (+/- 0.0268)\n",
      "   76 | 03m30s |    0.69917 |      3.0293 |      0.6794 |      2.8802 | \n",
      "bmacs: [0.6638888888888889, 0.6851851851851851, 0.6990740740740741, 0.7212962962962962, 0.7388888888888889, 0.7092592592592591, 0.6666666666666666, 0.6962962962962963, 0.7324074074074075, 0.6564814814814816]\n",
      "AVG: BMAC score: 0.6969 (+/- 0.0275)\n",
      "   77 | 03m29s |    0.69694 |      3.0067 |      0.6798 |      2.9092 | \n"
     ]
    },
    {
     "name": "stderr",
     "output_type": "stream",
     "text": [
      "C:\\Users\\nicok\\Miniconda3\\envs\\aml\\lib\\site-packages\\sklearn\\gaussian_process\\gpr.py:480: ConvergenceWarning: fmin_l_bfgs_b terminated abnormally with the  state: {'grad': array([-0.0003199]), 'task': b'ABNORMAL_TERMINATION_IN_LNSRCH', 'funcalls': 53, 'nit': 4, 'warnflag': 2}\n",
      "  ConvergenceWarning)\n"
     ]
    },
    {
     "name": "stdout",
     "output_type": "stream",
     "text": [
      "bmacs: [0.6648148148148149, 0.6814814814814815, 0.7037037037037036, 0.7138888888888889, 0.7351851851851853, 0.7046296296296296, 0.6694444444444444, 0.6962962962962963, 0.7287037037037037, 0.6518518518518519]\n",
      "AVG: BMAC score: 0.6950 (+/- 0.0262)\n",
      "   78 | 03m27s |    0.69500 |      2.9732 |      0.6971 |      2.8762 | \n",
      "bmacs: [0.6583333333333333, 0.7027777777777778, 0.7064814814814815, 0.7194444444444444, 0.7472222222222222, 0.7092592592592593, 0.6611111111111111, 0.7074074074074074, 0.7314814814814815, 0.6462962962962963]\n",
      "AVG: BMAC score: 0.6990 (+/- 0.0315)\n",
      "   79 | 03m29s |    0.69898 |      3.1030 |      0.6621 |      2.5556 | \n",
      "bmacs: [0.6592592592592593, 0.7138888888888889, 0.7018518518518518, 0.7212962962962962, 0.7481481481481481, 0.7101851851851851, 0.6666666666666666, 0.7092592592592593, 0.725925925925926, 0.6416666666666666]\n",
      "AVG: BMAC score: 0.6998 (+/- 0.0316)\n",
      "   80 | 03m30s |    0.69981 |      3.1763 |      0.6791 |      2.5248 | \n"
     ]
    },
    {
     "name": "stderr",
     "output_type": "stream",
     "text": [
      "C:\\Users\\nicok\\Miniconda3\\envs\\aml\\lib\\site-packages\\sklearn\\gaussian_process\\gpr.py:480: ConvergenceWarning: fmin_l_bfgs_b terminated abnormally with the  state: {'grad': array([-0.00018247]), 'task': b'ABNORMAL_TERMINATION_IN_LNSRCH', 'funcalls': 53, 'nit': 4, 'warnflag': 2}\n",
      "  ConvergenceWarning)\n"
     ]
    },
    {
     "name": "stdout",
     "output_type": "stream",
     "text": [
      "bmacs: [0.6638888888888889, 0.712037037037037, 0.7055555555555556, 0.7175925925925926, 0.7416666666666667, 0.7092592592592593, 0.6666666666666666, 0.7055555555555556, 0.725, 0.6444444444444445]\n",
      "AVG: BMAC score: 0.6992 (+/- 0.0291)\n",
      "   81 | 03m26s |    0.69917 |      3.1187 |      0.6536 |      2.4733 | \n",
      "bmacs: [0.6592592592592593, 0.7148148148148148, 0.6962962962962962, 0.7222222222222223, 0.7333333333333334, 0.725925925925926, 0.6685185185185185, 0.6916666666666668, 0.7296296296296297, 0.6259259259259259]\n",
      "AVG: BMAC score: 0.6968 (+/- 0.0339)\n",
      "   82 | 03m30s |    0.69676 |      3.2520 |      0.6326 |      2.4635 | \n"
     ]
    },
    {
     "name": "stderr",
     "output_type": "stream",
     "text": [
      "C:\\Users\\nicok\\Miniconda3\\envs\\aml\\lib\\site-packages\\sklearn\\gaussian_process\\gpr.py:480: ConvergenceWarning: fmin_l_bfgs_b terminated abnormally with the  state: {'grad': array([-4.45192224e-05]), 'task': b'ABNORMAL_TERMINATION_IN_LNSRCH', 'funcalls': 56, 'nit': 6, 'warnflag': 2}\n",
      "  ConvergenceWarning)\n"
     ]
    },
    {
     "name": "stdout",
     "output_type": "stream",
     "text": [
      "bmacs: [0.6620370370370371, 0.7046296296296296, 0.6925925925925925, 0.7194444444444444, 0.7305555555555556, 0.7074074074074074, 0.662962962962963, 0.712037037037037, 0.7333333333333334, 0.6472222222222223]\n",
      "AVG: BMAC score: 0.6972 (+/- 0.0287)\n",
      "   83 | 03m24s |    0.69722 |      3.0240 |      0.6929 |      2.5004 | \n",
      "bmacs: [0.6620370370370371, 0.7166666666666667, 0.7027777777777778, 0.7175925925925926, 0.7407407407407408, 0.7185185185185187, 0.6657407407407407, 0.7046296296296296, 0.7240740740740742, 0.6444444444444445]\n",
      "AVG: BMAC score: 0.6997 (+/- 0.0298)\n",
      "   84 | 03m28s |    0.69972 |      3.1749 |      0.6469 |      2.4989 | \n",
      "bmacs: [0.6638888888888889, 0.7083333333333334, 0.7064814814814815, 0.7185185185185184, 0.7425925925925926, 0.7148148148148148, 0.6666666666666666, 0.7083333333333334, 0.725, 0.6407407407407407]\n",
      "AVG: BMAC score: 0.6995 (+/- 0.0302)\n",
      "   85 | 03m27s |    0.69954 |      3.1458 |      0.6641 |      2.4619 | \n"
     ]
    },
    {
     "name": "stderr",
     "output_type": "stream",
     "text": [
      "C:\\Users\\nicok\\Miniconda3\\envs\\aml\\lib\\site-packages\\sklearn\\gaussian_process\\gpr.py:480: ConvergenceWarning: fmin_l_bfgs_b terminated abnormally with the  state: {'grad': array([0.00019701]), 'task': b'ABNORMAL_TERMINATION_IN_LNSRCH', 'funcalls': 55, 'nit': 7, 'warnflag': 2}\n",
      "  ConvergenceWarning)\n"
     ]
    },
    {
     "name": "stdout",
     "output_type": "stream",
     "text": [
      "bmacs: [0.6620370370370371, 0.7055555555555556, 0.7037037037037037, 0.7231481481481482, 0.7398148148148148, 0.7240740740740742, 0.6712962962962963, 0.6990740740740741, 0.7185185185185187, 0.6287037037037037]\n",
      "AVG: BMAC score: 0.6976 (+/- 0.0322)\n",
      "   86 | 03m27s |    0.69759 |      3.3200 |      0.6627 |      2.4435 | \n",
      "bmacs: [0.6638888888888889, 0.712037037037037, 0.7055555555555556, 0.7175925925925926, 0.7416666666666667, 0.7092592592592593, 0.6666666666666666, 0.7064814814814815, 0.725, 0.6444444444444445]\n",
      "AVG: BMAC score: 0.6993 (+/- 0.0291)\n",
      "   87 | 03m27s |    0.69926 |      3.1186 |      0.6542 |      2.4589 | \n",
      "bmacs: [0.6592592592592593, 0.7138888888888889, 0.6962962962962962, 0.7222222222222223, 0.7333333333333334, 0.725, 0.6722222222222222, 0.6916666666666668, 0.7240740740740742, 0.6259259259259259]\n",
      "AVG: BMAC score: 0.6964 (+/- 0.0330)\n",
      "   88 | 03m28s |    0.69639 |      3.2492 |      0.6278 |      2.4298 | \n",
      "bmacs: [0.6657407407407407, 0.7148148148148148, 0.6962962962962962, 0.7277777777777779, 0.7351851851851853, 0.712037037037037, 0.6620370370370371, 0.712037037037037, 0.7324074074074075, 0.6416666666666666]\n",
      "AVG: BMAC score: 0.7000 (+/- 0.0310)\n",
      "   89 | 03m26s |    0.70000 |      3.0511 |      0.6796 |      2.4701 | \n",
      "bmacs: [0.6675925925925926, 0.7157407407407407, 0.6925925925925925, 0.7148148148148148, 0.725925925925926, 0.7083333333333334, 0.6648148148148149, 0.7111111111111111, 0.7231481481481481, 0.6425925925925925]\n",
      "AVG: BMAC score: 0.6967 (+/- 0.0272)\n",
      "   90 | 03m24s |    0.69667 |      3.0196 |      0.6998 |      2.4263 | \n"
     ]
    },
    {
     "name": "stderr",
     "output_type": "stream",
     "text": [
      "C:\\Users\\nicok\\Miniconda3\\envs\\aml\\lib\\site-packages\\sklearn\\gaussian_process\\gpr.py:480: ConvergenceWarning: fmin_l_bfgs_b terminated abnormally with the  state: {'grad': array([6.59041541e-05]), 'task': b'ABNORMAL_TERMINATION_IN_LNSRCH', 'funcalls': 51, 'nit': 7, 'warnflag': 2}\n",
      "  ConvergenceWarning)\n"
     ]
    },
    {
     "name": "stdout",
     "output_type": "stream",
     "text": [
      "bmacs: [0.6666666666666666, 0.7157407407407407, 0.6916666666666668, 0.7194444444444444, 0.725, 0.7129629629629631, 0.6620370370370371, 0.7138888888888889, 0.7277777777777779, 0.6425925925925925]\n",
      "AVG: BMAC score: 0.6978 (+/- 0.0287)\n",
      "   91 | 03m25s |    0.69778 |      3.0525 |      0.6921 |      2.4351 | \n",
      "bmacs: [0.6611111111111111, 0.7101851851851851, 0.7027777777777778, 0.7175925925925926, 0.7388888888888889, 0.7185185185185187, 0.6657407407407407, 0.7027777777777778, 0.7240740740740742, 0.6388888888888888]\n",
      "AVG: BMAC score: 0.6981 (+/- 0.0304)\n",
      "   92 | 03m29s |    0.69806 |      3.1613 |      0.6393 |      2.4527 | \n",
      "bmacs: [0.6620370370370371, 0.7111111111111111, 0.6935185185185184, 0.7203703703703703, 0.737037037037037, 0.7287037037037036, 0.6657407407407407, 0.6898148148148149, 0.7277777777777779, 0.6287037037037037]\n",
      "AVG: BMAC score: 0.6965 (+/- 0.0335)\n",
      "   93 | 03m32s |    0.69648 |      3.2628 |      0.6071 |      2.4919 | \n"
     ]
    },
    {
     "name": "stderr",
     "output_type": "stream",
     "text": [
      "C:\\Users\\nicok\\Miniconda3\\envs\\aml\\lib\\site-packages\\sklearn\\gaussian_process\\gpr.py:480: ConvergenceWarning: fmin_l_bfgs_b terminated abnormally with the  state: {'grad': array([-6.78573924e-05]), 'task': b'ABNORMAL_TERMINATION_IN_LNSRCH', 'funcalls': 52, 'nit': 5, 'warnflag': 2}\n",
      "  ConvergenceWarning)\n",
      "C:\\Users\\nicok\\Miniconda3\\envs\\aml\\lib\\site-packages\\sklearn\\gaussian_process\\gpr.py:480: ConvergenceWarning: fmin_l_bfgs_b terminated abnormally with the  state: {'grad': array([-0.00011067]), 'task': b'ABNORMAL_TERMINATION_IN_LNSRCH', 'funcalls': 54, 'nit': 6, 'warnflag': 2}\n",
      "  ConvergenceWarning)\n"
     ]
    },
    {
     "name": "stdout",
     "output_type": "stream",
     "text": [
      "bmacs: [0.6620370370370371, 0.7111111111111111, 0.6925925925925925, 0.7157407407407407, 0.7314814814814815, 0.7083333333333334, 0.6638888888888889, 0.712037037037037, 0.7231481481481481, 0.6481481481481481]\n",
      "AVG: BMAC score: 0.6969 (+/- 0.0274)\n",
      "   94 | 03m23s |    0.69685 |      2.9609 |      0.7000 |      2.4909 | \n"
     ]
    },
    {
     "name": "stderr",
     "output_type": "stream",
     "text": [
      "C:\\Users\\nicok\\Miniconda3\\envs\\aml\\lib\\site-packages\\sklearn\\gaussian_process\\gpr.py:480: ConvergenceWarning: fmin_l_bfgs_b terminated abnormally with the  state: {'grad': array([-0.00015451]), 'task': b'ABNORMAL_TERMINATION_IN_LNSRCH', 'funcalls': 52, 'nit': 4, 'warnflag': 2}\n",
      "  ConvergenceWarning)\n"
     ]
    },
    {
     "name": "stdout",
     "output_type": "stream",
     "text": [
      "bmacs: [0.6601851851851852, 0.7055555555555556, 0.6972222222222221, 0.7231481481481482, 0.7333333333333334, 0.7185185185185187, 0.6712962962962963, 0.6972222222222223, 0.7185185185185187, 0.6277777777777778]\n",
      "AVG: BMAC score: 0.6953 (+/- 0.0313)\n",
      "   95 | 03m29s |    0.69528 |      3.2813 |      0.6530 |      2.4664 | \n",
      "bmacs: [0.6648148148148149, 0.712037037037037, 0.6925925925925925, 0.7157407407407407, 0.7333333333333334, 0.7092592592592593, 0.6657407407407407, 0.7138888888888889, 0.7231481481481481, 0.6481481481481481]\n",
      "AVG: BMAC score: 0.6979 (+/- 0.0273)\n",
      "   96 | 03m24s |    0.69787 |      2.9994 |      0.7191 |      2.5102 | \n",
      "bmacs: [0.6685185185185185, 0.7046296296296296, 0.6898148148148149, 0.7111111111111111, 0.735185185185185, 0.7101851851851851, 0.6638888888888889, 0.7166666666666667, 0.724074074074074, 0.6444444444444445]\n",
      "AVG: BMAC score: 0.6969 (+/- 0.0278)\n",
      "   97 | 03m23s |    0.69685 |      2.9520 |      0.7437 |      2.5139 | \n",
      "bmacs: [0.6666666666666666, 0.687962962962963, 0.6981481481481481, 0.7203703703703703, 0.7351851851851853, 0.7083333333333334, 0.6638888888888889, 0.6981481481481482, 0.7277777777777779, 0.6472222222222223]\n",
      "AVG: BMAC score: 0.6954 (+/- 0.0276)\n",
      "   98 | 03m26s |    0.69537 |      2.9300 |      0.6843 |      2.5348 | \n",
      "bmacs: [0.6694444444444444, 0.7148148148148148, 0.6925925925925925, 0.712037037037037, 0.7416666666666667, 0.7148148148148148, 0.6583333333333333, 0.7111111111111111, 0.7129629629629629, 0.6287037037037037]\n",
      "AVG: BMAC score: 0.6956 (+/- 0.0320)\n",
      "   99 | 03m22s |    0.69565 |      3.2078 |      0.8035 |      2.5573 | \n"
     ]
    },
    {
     "name": "stderr",
     "output_type": "stream",
     "text": [
      "C:\\Users\\nicok\\Miniconda3\\envs\\aml\\lib\\site-packages\\sklearn\\gaussian_process\\gpr.py:480: ConvergenceWarning: fmin_l_bfgs_b terminated abnormally with the  state: {'grad': array([5.96802216e-05]), 'task': b'ABNORMAL_TERMINATION_IN_LNSRCH', 'funcalls': 57, 'nit': 7, 'warnflag': 2}\n",
      "  ConvergenceWarning)\n",
      "C:\\Users\\nicok\\Miniconda3\\envs\\aml\\lib\\site-packages\\sklearn\\gaussian_process\\gpr.py:480: ConvergenceWarning: fmin_l_bfgs_b terminated abnormally with the  state: {'grad': array([0.00026771]), 'task': b'ABNORMAL_TERMINATION_IN_LNSRCH', 'funcalls': 55, 'nit': 7, 'warnflag': 2}\n",
      "  ConvergenceWarning)\n"
     ]
    },
    {
     "name": "stdout",
     "output_type": "stream",
     "text": [
      "bmacs: [0.6583333333333333, 0.7037037037037037, 0.6999999999999998, 0.7157407407407407, 0.7425925925925926, 0.7175925925925926, 0.6657407407407407, 0.6962962962962963, 0.7333333333333334, 0.6398148148148148]\n",
      "AVG: BMAC score: 0.6973 (+/- 0.0316)\n",
      "  100 | 03m33s |    0.69731 |      3.1746 |      0.6092 |      2.6176 | \n",
      "bmacs: [0.6620370370370371, 0.7018518518518518, 0.6972222222222223, 0.7157407407407407, 0.7472222222222222, 0.7203703703703703, 0.6638888888888889, 0.6953703703703704, 0.7333333333333334, 0.6453703703703704]\n",
      "AVG: BMAC score: 0.6982 (+/- 0.0312)\n",
      "  101 | 03m32s |    0.69824 |      3.1173 |      0.5898 |      2.6502 | \n",
      "bmacs: [0.6592592592592593, 0.7138888888888889, 0.7018518518518517, 0.7166666666666667, 0.7435185185185186, 0.7157407407407407, 0.6694444444444444, 0.6990740740740741, 0.7231481481481481, 0.6416666666666667]\n",
      "AVG: BMAC score: 0.6984 (+/- 0.0302)\n",
      "  102 | 03m30s |    0.69843 |      3.2016 |      0.6326 |      2.5677 | \n"
     ]
    },
    {
     "name": "stderr",
     "output_type": "stream",
     "text": [
      "C:\\Users\\nicok\\Miniconda3\\envs\\aml\\lib\\site-packages\\sklearn\\gaussian_process\\gpr.py:480: ConvergenceWarning: fmin_l_bfgs_b terminated abnormally with the  state: {'grad': array([-8.40504763e-05]), 'task': b'ABNORMAL_TERMINATION_IN_LNSRCH', 'funcalls': 52, 'nit': 4, 'warnflag': 2}\n",
      "  ConvergenceWarning)\n"
     ]
    },
    {
     "name": "stdout",
     "output_type": "stream",
     "text": [
      "bmacs: [0.6537037037037038, 0.7027777777777778, 0.7027777777777778, 0.7166666666666667, 0.7435185185185186, 0.7166666666666667, 0.6638888888888889, 0.7027777777777778, 0.7287037037037037, 0.6425925925925926]\n",
      "AVG: BMAC score: 0.6974 (+/- 0.0316)\n",
      "  103 | 03m30s |    0.69741 |      3.1360 |      0.6321 |      2.5962 | \n",
      "bmacs: [0.6537037037037038, 0.7064814814814815, 0.6999999999999998, 0.7157407407407407, 0.7425925925925926, 0.7194444444444444, 0.6666666666666666, 0.6972222222222223, 0.7333333333333334, 0.6416666666666667]\n",
      "AVG: BMAC score: 0.6977 (+/- 0.0319)\n",
      "  104 | 03m32s |    0.69769 |      3.1552 |      0.6168 |      2.6364 | \n"
     ]
    },
    {
     "name": "stderr",
     "output_type": "stream",
     "text": [
      "C:\\Users\\nicok\\Miniconda3\\envs\\aml\\lib\\site-packages\\sklearn\\gaussian_process\\gpr.py:480: ConvergenceWarning: fmin_l_bfgs_b terminated abnormally with the  state: {'grad': array([6.10213676e-05]), 'task': b'ABNORMAL_TERMINATION_IN_LNSRCH', 'funcalls': 51, 'nit': 7, 'warnflag': 2}\n",
      "  ConvergenceWarning)\n"
     ]
    },
    {
     "name": "stdout",
     "output_type": "stream",
     "text": [
      "bmacs: [0.6564814814814816, 0.6935185185185185, 0.7046296296296296, 0.7166666666666667, 0.7462962962962963, 0.712037037037037, 0.6601851851851852, 0.6944444444444445, 0.7296296296296297, 0.6435185185185185]\n",
      "AVG: BMAC score: 0.6957 (+/- 0.0317)\n",
      "  105 | 03m30s |    0.69574 |      2.9946 |      0.6314 |      2.6060 | \n",
      "bmacs: [0.662962962962963, 0.7111111111111111, 0.7046296296296296, 0.7166666666666667, 0.7518518518518519, 0.7129629629629629, 0.6657407407407407, 0.7055555555555556, 0.7240740740740742, 0.6444444444444445]\n",
      "AVG: BMAC score: 0.7000 (+/- 0.0309)\n",
      "  106 | 03m29s |    0.70000 |      3.2583 |      0.6661 |      2.6144 | \n",
      "bmacs: [0.6648148148148149, 0.7074074074074074, 0.6962962962962963, 0.7203703703703703, 0.7333333333333334, 0.7166666666666668, 0.6666666666666666, 0.7037037037037036, 0.7203703703703704, 0.6305555555555555]\n",
      "AVG: BMAC score: 0.6960 (+/- 0.0305)\n",
      "  107 | 03m27s |    0.69602 |      3.3487 |      0.6991 |      2.5311 | \n",
      "bmacs: [0.6611111111111111, 0.7046296296296296, 0.7037037037037036, 0.7166666666666667, 0.7453703703703703, 0.7166666666666667, 0.6648148148148149, 0.7046296296296296, 0.7287037037037037, 0.649074074074074]\n",
      "AVG: BMAC score: 0.6995 (+/- 0.0297)\n",
      "  108 | 03m31s |    0.69954 |      3.1309 |      0.6440 |      2.6719 | \n",
      "bmacs: [0.6555555555555556, 0.7037037037037037, 0.7018518518518517, 0.7166666666666667, 0.7444444444444445, 0.7166666666666667, 0.6648148148148149, 0.7027777777777778, 0.7287037037037037, 0.6435185185185185]\n",
      "AVG: BMAC score: 0.6979 (+/- 0.0312)\n",
      "  109 | 03m31s |    0.69787 |      3.1864 |      0.6456 |      2.7095 | \n"
     ]
    },
    {
     "name": "stderr",
     "output_type": "stream",
     "text": [
      "C:\\Users\\nicok\\Miniconda3\\envs\\aml\\lib\\site-packages\\sklearn\\gaussian_process\\gpr.py:480: ConvergenceWarning: fmin_l_bfgs_b terminated abnormally with the  state: {'grad': array([-0.00013599]), 'task': b'ABNORMAL_TERMINATION_IN_LNSRCH', 'funcalls': 52, 'nit': 4, 'warnflag': 2}\n",
      "  ConvergenceWarning)\n"
     ]
    },
    {
     "name": "stdout",
     "output_type": "stream",
     "text": [
      "bmacs: [0.6537037037037038, 0.7027777777777778, 0.6999999999999998, 0.7166666666666667, 0.7435185185185186, 0.7157407407407407, 0.6685185185185185, 0.6981481481481482, 0.7277777777777779, 0.6416666666666667]\n",
      "AVG: BMAC score: 0.6969 (+/- 0.0310)\n",
      "  110 | 03m32s |    0.69685 |      3.1893 |      0.6299 |      2.6667 | \n",
      "bmacs: [0.6564814814814816, 0.7046296296296296, 0.7046296296296296, 0.7166666666666667, 0.7453703703703703, 0.7166666666666667, 0.6657407407407407, 0.7055555555555556, 0.7305555555555556, 0.649074074074074]\n",
      "AVG: BMAC score: 0.6995 (+/- 0.0305)\n",
      "  111 | 03m31s |    0.69954 |      3.0703 |      0.6376 |      2.5885 | \n",
      "bmacs: [0.6537037037037037, 0.688888888888889, 0.6990740740740741, 0.7111111111111111, 0.737037037037037, 0.7194444444444444, 0.6685185185185185, 0.6935185185185185, 0.7277777777777779, 0.6425925925925926]\n",
      "AVG: BMAC score: 0.6942 (+/- 0.0298)\n",
      "  112 | 03m32s |    0.69417 |      3.0529 |      0.6121 |      2.6841 | \n",
      "bmacs: [0.6601851851851852, 0.7074074074074074, 0.6962962962962963, 0.7203703703703703, 0.7435185185185186, 0.7166666666666668, 0.6675925925925926, 0.7037037037037036, 0.725925925925926, 0.6305555555555555]\n",
      "AVG: BMAC score: 0.6972 (+/- 0.0327)\n",
      "  113 | 03m24s |    0.69722 |      3.3018 |      0.6974 |      2.5642 | \n",
      "bmacs: [0.6722222222222222, 0.7129629629629629, 0.6898148148148149, 0.7111111111111111, 0.7342592592592593, 0.712037037037037, 0.6638888888888889, 0.7111111111111111, 0.7175925925925926, 0.6435185185185185]\n",
      "AVG: BMAC score: 0.6969 (+/- 0.0270)\n",
      "  114 | 03m24s |    0.69685 |      3.1919 |      0.7738 |      2.5287 | \n",
      "bmacs: [0.6666666666666666, 0.7083333333333334, 0.6898148148148149, 0.7111111111111111, 0.7342592592592593, 0.7111111111111111, 0.6629629629629629, 0.7111111111111111, 0.7231481481481481, 0.6435185185185185]\n",
      "AVG: BMAC score: 0.6962 (+/- 0.0279)\n",
      "  115 | 03m20s |    0.69620 |      3.1144 |      0.7641 |      2.5368 | \n",
      "bmacs: [0.6583333333333333, 0.7185185185185184, 0.700925925925926, 0.7157407407407407, 0.7435185185185186, 0.7185185185185187, 0.6666666666666666, 0.6972222222222223, 0.7277777777777779, 0.6416666666666667]\n",
      "AVG: BMAC score: 0.6989 (+/- 0.0314)\n",
      "  116 | 03m33s |    0.69889 |      3.1653 |      0.6142 |      2.5353 | \n",
      "bmacs: [0.6601851851851852, 0.7055555555555556, 0.6972222222222221, 0.7231481481481482, 0.7333333333333334, 0.7175925925925926, 0.674074074074074, 0.6953703703703704, 0.7185185185185187, 0.6268518518518519]\n",
      "AVG: BMAC score: 0.6952 (+/- 0.0312)\n",
      "  117 | 03m30s |    0.69519 |      3.2714 |      0.6470 |      2.4468 | \n",
      "bmacs: [0.6564814814814816, 0.6935185185185185, 0.7046296296296296, 0.7166666666666667, 0.7407407407407408, 0.7166666666666667, 0.6657407407407407, 0.6990740740740741, 0.7296296296296297, 0.6435185185185185]\n",
      "AVG: BMAC score: 0.6967 (+/- 0.0305)\n",
      "  118 | 03m31s |    0.69667 |      3.0336 |      0.6360 |      2.6408 | \n",
      "bmacs: [0.6583333333333333, 0.6731481481481482, 0.6953703703703704, 0.712037037037037, 0.7083333333333334, 0.712037037037037, 0.6722222222222222, 0.687962962962963, 0.737037037037037, 0.6953703703703704]\n",
      "AVG: BMAC score: 0.6952 (+/- 0.0222)\n",
      "  119 | 03m32s |    0.69519 |      2.3673 |      0.6533 |      4.2495 | \n",
      "bmacs: [0.6555555555555556, 0.6972222222222223, 0.6962962962962962, 0.7148148148148148, 0.7379629629629628, 0.7138888888888889, 0.6675925925925926, 0.6972222222222223, 0.7324074074074075, 0.6462962962962963]\n",
      "AVG: BMAC score: 0.6959 (+/- 0.0295)\n",
      "  120 | 03m29s |    0.69593 |      2.9890 |      0.6619 |      2.6714 | \n",
      "bmacs: [0.6638888888888889, 0.7074074074074074, 0.7074074074074074, 0.7138888888888889, 0.7537037037037037, 0.7101851851851851, 0.6666666666666666, 0.7083333333333334, 0.725925925925926, 0.6462962962962963]\n",
      "AVG: BMAC score: 0.7004 (+/- 0.0305)\n",
      "  121 | 03m29s | \u001b[35m   0.70037\u001b[0m | \u001b[32m     3.2734\u001b[0m | \u001b[32m     0.6869\u001b[0m | \u001b[32m     2.6268\u001b[0m | \n",
      "bmacs: [0.6648148148148149, 0.7074074074074074, 0.7018518518518518, 0.7148148148148148, 0.7425925925925926, 0.7166666666666668, 0.6666666666666666, 0.7037037037037036, 0.725925925925926, 0.6305555555555555]\n",
      "AVG: BMAC score: 0.6975 (+/- 0.0319)\n",
      "  122 | 03m28s |    0.69750 |      3.3304 |      0.6962 |      2.5883 | \n",
      "bmacs: [0.6592592592592593, 0.7129629629629629, 0.7018518518518518, 0.7148148148148148, 0.7481481481481481, 0.7111111111111112, 0.6675925925925926, 0.7092592592592593, 0.725925925925926, 0.6462962962962963]\n",
      "AVG: BMAC score: 0.6997 (+/- 0.0303)\n",
      "  123 | 03m28s |    0.69972 |      3.3091 |      0.7005 |      2.6519 | \n"
     ]
    },
    {
     "name": "stderr",
     "output_type": "stream",
     "text": [
      "C:\\Users\\nicok\\Miniconda3\\envs\\aml\\lib\\site-packages\\sklearn\\gaussian_process\\gpr.py:480: ConvergenceWarning: fmin_l_bfgs_b terminated abnormally with the  state: {'grad': array([-0.00031787]), 'task': b'ABNORMAL_TERMINATION_IN_LNSRCH', 'funcalls': 55, 'nit': 6, 'warnflag': 2}\n",
      "  ConvergenceWarning)\n",
      "C:\\Users\\nicok\\Miniconda3\\envs\\aml\\lib\\site-packages\\sklearn\\gaussian_process\\gpr.py:480: ConvergenceWarning: fmin_l_bfgs_b terminated abnormally with the  state: {'grad': array([7.97453267e-05]), 'task': b'ABNORMAL_TERMINATION_IN_LNSRCH', 'funcalls': 49, 'nit': 6, 'warnflag': 2}\n",
      "  ConvergenceWarning)\n",
      "C:\\Users\\nicok\\Miniconda3\\envs\\aml\\lib\\site-packages\\sklearn\\gaussian_process\\gpr.py:480: ConvergenceWarning: fmin_l_bfgs_b terminated abnormally with the  state: {'grad': array([0.00013498]), 'task': b'ABNORMAL_TERMINATION_IN_LNSRCH', 'funcalls': 53, 'nit': 7, 'warnflag': 2}\n",
      "  ConvergenceWarning)\n"
     ]
    },
    {
     "name": "stdout",
     "output_type": "stream",
     "text": [
      "bmacs: [0.6638888888888889, 0.7064814814814815, 0.7000000000000001, 0.7129629629629629, 0.7416666666666667, 0.7157407407407407, 0.6657407407407407, 0.700925925925926, 0.725, 0.6342592592592592]\n",
      "AVG: BMAC score: 0.6967 (+/- 0.0308)\n",
      "  124 | 03m30s |    0.69667 |      3.3812 |      0.6900 |      2.6239 | \n",
      "bmacs: [0.6592592592592593, 0.7138888888888889, 0.7018518518518518, 0.7148148148148148, 0.7481481481481481, 0.7101851851851851, 0.6675925925925926, 0.7092592592592593, 0.725925925925926, 0.6462962962962963]\n",
      "AVG: BMAC score: 0.6997 (+/- 0.0303)\n",
      "  125 | 03m28s |    0.69972 |      3.2820 |      0.6986 |      2.6422 | \n",
      "bmacs: [0.6722222222222222, 0.7175925925925926, 0.6925925925925925, 0.7157407407407407, 0.7333333333333334, 0.7111111111111111, 0.6666666666666666, 0.7148148148148148, 0.7231481481481481, 0.6435185185185185]\n",
      "AVG: BMAC score: 0.6991 (+/- 0.0277)\n",
      "  126 | 03m25s |    0.69907 |      3.2222 |      0.7599 |      2.6119 | \n",
      "bmacs: [0.6666666666666666, 0.7148148148148148, 0.686111111111111, 0.7138888888888889, 0.7296296296296297, 0.7129629629629631, 0.662962962962963, 0.7037037037037036, 0.7287037037037036, 0.637037037037037]\n",
      "AVG: BMAC score: 0.6956 (+/- 0.0296)\n",
      "  127 | 03m26s |    0.69565 |      3.3329 |      0.7348 |      2.6106 | \n"
     ]
    },
    {
     "name": "stderr",
     "output_type": "stream",
     "text": [
      "C:\\Users\\nicok\\Miniconda3\\envs\\aml\\lib\\site-packages\\sklearn\\gaussian_process\\gpr.py:480: ConvergenceWarning: fmin_l_bfgs_b terminated abnormally with the  state: {'grad': array([0.00013951]), 'task': b'ABNORMAL_TERMINATION_IN_LNSRCH', 'funcalls': 60, 'nit': 8, 'warnflag': 2}\n",
      "  ConvergenceWarning)\n"
     ]
    },
    {
     "name": "stdout",
     "output_type": "stream",
     "text": [
      "bmacs: [0.6555555555555556, 0.7101851851851851, 0.7046296296296296, 0.7166666666666667, 0.7453703703703703, 0.7166666666666667, 0.6648148148148149, 0.7055555555555556, 0.7287037037037037, 0.6435185185185185]\n",
      "AVG: BMAC score: 0.6992 (+/- 0.0316)\n",
      "  128 | 03m31s |    0.69917 |      3.2080 |      0.6571 |      2.7184 | \n",
      "bmacs: [0.6537037037037037, 0.6916666666666668, 0.6999999999999998, 0.7111111111111111, 0.7435185185185186, 0.7166666666666667, 0.6638888888888889, 0.6962962962962963, 0.7277777777777779, 0.6370370370370371]\n",
      "AVG: BMAC score: 0.6942 (+/- 0.0320)\n",
      "  129 | 03m32s |    0.69417 |      3.1967 |      0.6419 |      2.7639 | \n"
     ]
    },
    {
     "name": "stderr",
     "output_type": "stream",
     "text": [
      "C:\\Users\\nicok\\Miniconda3\\envs\\aml\\lib\\site-packages\\sklearn\\gaussian_process\\gpr.py:480: ConvergenceWarning: fmin_l_bfgs_b terminated abnormally with the  state: {'grad': array([-0.00048724]), 'task': b'ABNORMAL_TERMINATION_IN_LNSRCH', 'funcalls': 46, 'nit': 4, 'warnflag': 2}\n",
      "  ConvergenceWarning)\n"
     ]
    },
    {
     "name": "stdout",
     "output_type": "stream",
     "text": [
      "bmacs: [0.6694444444444444, 0.7138888888888889, 0.6907407407407407, 0.7111111111111111, 0.7398148148148148, 0.7129629629629629, 0.6583333333333333, 0.7111111111111111, 0.7175925925925926, 0.6324074074074074]\n",
      "AVG: BMAC score: 0.6957 (+/- 0.0311)\n",
      "  130 | 03m25s |    0.69574 |      3.1738 |      0.7817 |      2.5118 | \n",
      "bmacs: [0.6527777777777778, 0.6935185185185185, 0.6990740740740741, 0.7157407407407407, 0.7425925925925926, 0.7166666666666668, 0.6657407407407407, 0.6916666666666668, 0.7333333333333334, 0.6407407407407407]\n",
      "AVG: BMAC score: 0.6952 (+/- 0.0320)\n",
      "  131 | 03m34s |    0.69519 |      3.1387 |      0.6106 |      2.6928 | \n",
      "bmacs: [0.6638888888888889, 0.7092592592592593, 0.6916666666666668, 0.7111111111111111, 0.7296296296296295, 0.7138888888888889, 0.6583333333333333, 0.7111111111111111, 0.724074074074074, 0.6388888888888888]\n",
      "AVG: BMAC score: 0.6952 (+/- 0.0293)\n",
      "  132 | 03m23s |    0.69519 |      3.1400 |      0.7852 |      2.5712 | \n",
      "bmacs: [0.6611111111111111, 0.7055555555555556, 0.6972222222222221, 0.7231481481481482, 0.7333333333333334, 0.7185185185185187, 0.6657407407407407, 0.6981481481481481, 0.7185185185185187, 0.6277777777777778]\n",
      "AVG: BMAC score: 0.6949 (+/- 0.0317)\n",
      "  133 | 03m30s |    0.69491 |      3.2642 |      0.6549 |      2.4633 | \n",
      "bmacs: [0.6592592592592593, 0.6916666666666668, 0.6999999999999998, 0.7166666666666667, 0.7435185185185186, 0.7166666666666667, 0.662962962962963, 0.6962962962962963, 0.7277777777777779, 0.6481481481481481]\n",
      "AVG: BMAC score: 0.6963 (+/- 0.0298)\n",
      "  134 | 03m32s |    0.69630 |      3.0853 |      0.6252 |      2.6394 | \n",
      "bmacs: [0.6694444444444444, 0.7092592592592593, 0.6925925925925925, 0.712037037037037, 0.7296296296296295, 0.7138888888888889, 0.6583333333333333, 0.7111111111111111, 0.724074074074074, 0.6398148148148147]\n",
      "AVG: BMAC score: 0.6960 (+/- 0.0286)\n",
      "  135 | 03m24s |    0.69602 |      3.1888 |      0.7991 |      2.6058 | \n"
     ]
    },
    {
     "name": "stderr",
     "output_type": "stream",
     "text": [
      "C:\\Users\\nicok\\Miniconda3\\envs\\aml\\lib\\site-packages\\sklearn\\gaussian_process\\gpr.py:480: ConvergenceWarning: fmin_l_bfgs_b terminated abnormally with the  state: {'grad': array([9.69367647e-05]), 'task': b'ABNORMAL_TERMINATION_IN_LNSRCH', 'funcalls': 51, 'nit': 7, 'warnflag': 2}\n",
      "  ConvergenceWarning)\n"
     ]
    },
    {
     "name": "stdout",
     "output_type": "stream",
     "text": [
      "bmacs: [0.6574074074074074, 0.6944444444444445, 0.7046296296296296, 0.7111111111111111, 0.7407407407407408, 0.712037037037037, 0.6712962962962963, 0.6935185185185185, 0.7296296296296297, 0.6435185185185185]\n",
      "AVG: BMAC score: 0.6958 (+/- 0.0292)\n",
      "  136 | 03m32s |    0.69583 |      3.0506 |      0.6447 |      2.6981 | \n",
      "bmacs: [0.6564814814814816, 0.6990740740740741, 0.7027777777777778, 0.7111111111111111, 0.7398148148148147, 0.7166666666666667, 0.6648148148148149, 0.6990740740740741, 0.7287037037037037, 0.6435185185185185]\n",
      "AVG: BMAC score: 0.6962 (+/- 0.0300)\n",
      "  137 | 03m32s |    0.69620 |      3.1472 |      0.6504 |      2.7358 | \n",
      "bmacs: [0.6620370370370371, 0.7055555555555556, 0.6981481481481481, 0.7175925925925926, 0.7388888888888889, 0.7185185185185187, 0.6657407407407407, 0.6981481481481481, 0.7240740740740742, 0.6333333333333333]\n",
      "AVG: BMAC score: 0.6962 (+/- 0.0311)\n",
      "  138 | 03m30s |    0.69620 |      3.3141 |      0.6649 |      2.5259 | \n"
     ]
    },
    {
     "name": "stderr",
     "output_type": "stream",
     "text": [
      "C:\\Users\\nicok\\Miniconda3\\envs\\aml\\lib\\site-packages\\sklearn\\gaussian_process\\gpr.py:480: ConvergenceWarning: fmin_l_bfgs_b terminated abnormally with the  state: {'grad': array([-0.00022221]), 'task': b'ABNORMAL_TERMINATION_IN_LNSRCH', 'funcalls': 55, 'nit': 7, 'warnflag': 2}\n",
      "  ConvergenceWarning)\n"
     ]
    },
    {
     "name": "stdout",
     "output_type": "stream",
     "text": [
      "bmacs: [0.6574074074074074, 0.6925925925925925, 0.6962962962962962, 0.7212962962962962, 0.7444444444444445, 0.7111111111111112, 0.6620370370370371, 0.6981481481481482, 0.7324074074074075, 0.6462962962962963]\n",
      "AVG: BMAC score: 0.6962 (+/- 0.0311)\n",
      "  139 | 03m26s |    0.69620 |      2.9966 |      0.6677 |      2.6180 | \n",
      "bmacs: [0.674074074074074, 0.6731481481481483, 0.6916666666666668, 0.7231481481481482, 0.7027777777777778, 0.712037037037037, 0.6833333333333332, 0.6851851851851851, 0.725925925925926, 0.6777777777777777]\n",
      "AVG: BMAC score: 0.6949 (+/- 0.0189)\n",
      "  140 | 03m38s |    0.69491 |      2.6868 |      0.6239 |      4.2404 | \n",
      "bmacs: [0.6611111111111111, 0.7083333333333334, 0.6898148148148149, 0.7101851851851851, 0.7342592592592593, 0.7111111111111111, 0.6685185185185185, 0.7101851851851851, 0.7231481481481481, 0.6435185185185185]\n",
      "AVG: BMAC score: 0.6960 (+/- 0.0278)\n",
      "  141 | 03m25s |    0.69602 |      3.1420 |      0.7688 |      2.6087 | \n",
      "bmacs: [0.6601851851851852, 0.7148148148148148, 0.6962962962962962, 0.7231481481481482, 0.7333333333333334, 0.7175925925925926, 0.674074074074074, 0.6916666666666668, 0.7240740740740742, 0.6259259259259259]\n",
      "AVG: BMAC score: 0.6961 (+/- 0.0323)\n",
      "  142 | 03m32s |    0.69611 |      3.3016 |      0.6433 |      2.4768 | \n",
      "bmacs: [0.6555555555555556, 0.6925925925925926, 0.6999999999999998, 0.7111111111111111, 0.7398148148148147, 0.7166666666666667, 0.6703703703703704, 0.6981481481481482, 0.7277777777777779, 0.6435185185185185]\n",
      "AVG: BMAC score: 0.6956 (+/- 0.0294)\n",
      "  143 | 03m31s |    0.69556 |      3.0985 |      0.6371 |      2.7263 | \n"
     ]
    },
    {
     "name": "stderr",
     "output_type": "stream",
     "text": [
      "C:\\Users\\nicok\\Miniconda3\\envs\\aml\\lib\\site-packages\\sklearn\\gaussian_process\\gpr.py:480: ConvergenceWarning: fmin_l_bfgs_b terminated abnormally with the  state: {'grad': array([-0.00031007]), 'task': b'ABNORMAL_TERMINATION_IN_LNSRCH', 'funcalls': 48, 'nit': 5, 'warnflag': 2}\n",
      "  ConvergenceWarning)\n"
     ]
    },
    {
     "name": "stdout",
     "output_type": "stream",
     "text": [
      "bmacs: [0.6601851851851852, 0.6935185185185185, 0.6972222222222223, 0.7194444444444444, 0.7407407407407408, 0.7074074074074074, 0.6620370370370371, 0.7000000000000001, 0.7333333333333334, 0.6462962962962963]\n",
      "AVG: BMAC score: 0.6960 (+/- 0.0300)\n",
      "  144 | 03m28s |    0.69602 |      3.0116 |      0.6888 |      2.6362 | \n",
      "bmacs: [0.6694444444444444, 0.7157407407407407, 0.686111111111111, 0.7138888888888889, 0.7259259259259259, 0.7138888888888889, 0.6666666666666666, 0.7055555555555556, 0.7287037037037036, 0.637037037037037]\n",
      "AVG: BMAC score: 0.6963 (+/- 0.0287)\n",
      "  145 | 03m27s |    0.69630 |      3.3483 |      0.7595 |      2.6179 | \n",
      "bmacs: [0.6611111111111111, 0.674074074074074, 0.6944444444444445, 0.7092592592592593, 0.7055555555555556, 0.7342592592592593, 0.6731481481481482, 0.6907407407407407, 0.725925925925926, 0.6935185185185185]\n",
      "AVG: BMAC score: 0.6962 (+/- 0.0221)\n",
      "  146 | 03m42s |    0.69620 |      2.3847 |      0.5312 |      4.0874 | \n",
      "bmacs: [0.6601851851851852, 0.6981481481481482, 0.7018518518518518, 0.7212962962962962, 0.7416666666666666, 0.7111111111111112, 0.6620370370370371, 0.7092592592592593, 0.7314814814814815, 0.6518518518518518]\n",
      "AVG: BMAC score: 0.6989 (+/- 0.0295)\n",
      "  147 | 03m30s |    0.69889 |      3.0065 |      0.6609 |      2.5548 | \n",
      "bmacs: [0.6592592592592593, 0.7138888888888889, 0.7018518518518517, 0.7166666666666667, 0.737962962962963, 0.7175925925925926, 0.6694444444444444, 0.7018518518518518, 0.7287037037037037, 0.6425925925925926]\n",
      "AVG: BMAC score: 0.6990 (+/- 0.0299)\n",
      "  148 | 03m32s |    0.69898 |      3.0707 |      0.6202 |      2.4850 | \n",
      "bmacs: [0.6527777777777778, 0.7064814814814815, 0.700925925925926, 0.7157407407407407, 0.7425925925925926, 0.7194444444444444, 0.6675925925925926, 0.6972222222222223, 0.7333333333333334, 0.6472222222222223]\n",
      "AVG: BMAC score: 0.6983 (+/- 0.0310)\n",
      "  149 | 03m34s |    0.69833 |      3.0816 |      0.6049 |      2.5532 | \n",
      "bmacs: [0.6583333333333333, 0.7074074074074074, 0.7064814814814815, 0.7175925925925926, 0.7472222222222222, 0.7092592592592593, 0.6611111111111111, 0.7064814814814815, 0.7305555555555556, 0.6444444444444445]\n",
      "AVG: BMAC score: 0.6989 (+/- 0.0317)\n",
      "  150 | 03m30s |    0.69889 |      3.0681 |      0.6517 |      2.5145 | \n",
      "bmacs: [0.6583333333333333, 0.7185185185185184, 0.7018518518518517, 0.7157407407407407, 0.737962962962963, 0.7203703703703704, 0.6694444444444444, 0.6972222222222223, 0.7231481481481481, 0.6416666666666667]\n",
      "AVG: BMAC score: 0.6984 (+/- 0.0301)\n",
      "  151 | 03m31s |    0.69843 |      3.1147 |      0.6134 |      2.4541 | \n",
      "bmacs: [0.6592592592592593, 0.7129629629629629, 0.7018518518518517, 0.7157407407407407, 0.737962962962963, 0.725925925925926, 0.6694444444444444, 0.6972222222222223, 0.7240740740740742, 0.6361111111111111]\n",
      "AVG: BMAC score: 0.6981 (+/- 0.0312)\n",
      "  152 | 03m33s |    0.69806 |      3.1365 |      0.6175 |      2.4590 | \n"
     ]
    },
    {
     "name": "stderr",
     "output_type": "stream",
     "text": [
      "C:\\Users\\nicok\\Miniconda3\\envs\\aml\\lib\\site-packages\\sklearn\\gaussian_process\\gpr.py:480: ConvergenceWarning: fmin_l_bfgs_b terminated abnormally with the  state: {'grad': array([-0.00064311]), 'task': b'ABNORMAL_TERMINATION_IN_LNSRCH', 'funcalls': 61, 'nit': 6, 'warnflag': 2}\n",
      "  ConvergenceWarning)\n"
     ]
    },
    {
     "name": "stdout",
     "output_type": "stream",
     "text": [
      "bmacs: [0.6592592592592593, 0.7092592592592593, 0.6972222222222221, 0.7175925925925926, 0.7333333333333334, 0.7175925925925926, 0.6694444444444444, 0.6935185185185185, 0.7240740740740742, 0.6268518518518519]\n",
      "AVG: BMAC score: 0.6948 (+/- 0.0318)\n",
      "  153 | 03m33s |    0.69481 |      3.1885 |      0.6335 |      2.4277 | \n",
      "bmacs: [0.6611111111111111, 0.6916666666666668, 0.6962962962962962, 0.7157407407407407, 0.7379629629629628, 0.7166666666666668, 0.6675925925925926, 0.6981481481481482, 0.7324074074074075, 0.6518518518518519]\n",
      "AVG: BMAC score: 0.6969 (+/- 0.0281)\n",
      "  154 | 03m30s |    0.69694 |      2.9472 |      0.6594 |      2.6248 | \n",
      "bmacs: [0.6611111111111111, 0.7046296296296296, 0.6925925925925925, 0.7138888888888889, 0.7305555555555556, 0.7074074074074074, 0.6638888888888889, 0.712037037037037, 0.7333333333333334, 0.6472222222222223]\n",
      "AVG: BMAC score: 0.6967 (+/- 0.0283)\n",
      "  155 | 03m28s |    0.69667 |      3.0269 |      0.6946 |      2.5154 | \n",
      "bmacs: [0.6564814814814816, 0.6888888888888888, 0.7046296296296296, 0.7111111111111111, 0.7407407407407408, 0.712037037037037, 0.6601851851851852, 0.6935185185185185, 0.7287037037037037, 0.6435185185185185]\n",
      "AVG: BMAC score: 0.6940 (+/- 0.0304)\n",
      "  156 | 03m32s |    0.69398 |      3.0112 |      0.6352 |      2.6623 | \n",
      "bmacs: [0.6648148148148149, 0.7064814814814815, 0.7000000000000001, 0.7185185185185184, 0.7324074074074075, 0.7148148148148148, 0.6666666666666666, 0.7027777777777778, 0.7194444444444444, 0.6240740740740741]\n",
      "AVG: BMAC score: 0.6950 (+/- 0.0315)\n",
      "  157 | 03m29s |    0.69500 |      3.3224 |      0.6838 |      2.5024 | \n",
      "bmacs: [0.6694444444444444, 0.7092592592592593, 0.6916666666666668, 0.7111111111111111, 0.7296296296296295, 0.7138888888888889, 0.6583333333333333, 0.7111111111111111, 0.724074074074074, 0.6388888888888888]\n",
      "AVG: BMAC score: 0.6957 (+/- 0.0288)\n",
      "  158 | 03m25s |    0.69574 |      3.1446 |      0.7835 |      2.5574 | \n"
     ]
    },
    {
     "name": "stderr",
     "output_type": "stream",
     "text": [
      "C:\\Users\\nicok\\Miniconda3\\envs\\aml\\lib\\site-packages\\sklearn\\gaussian_process\\gpr.py:480: ConvergenceWarning: fmin_l_bfgs_b terminated abnormally with the  state: {'grad': array([0.00010628]), 'task': b'ABNORMAL_TERMINATION_IN_LNSRCH', 'funcalls': 53, 'nit': 8, 'warnflag': 2}\n",
      "  ConvergenceWarning)\n",
      "C:\\Users\\nicok\\Miniconda3\\envs\\aml\\lib\\site-packages\\sklearn\\gaussian_process\\gpr.py:480: ConvergenceWarning: fmin_l_bfgs_b terminated abnormally with the  state: {'grad': array([-0.0001517]), 'task': b'ABNORMAL_TERMINATION_IN_LNSRCH', 'funcalls': 53, 'nit': 6, 'warnflag': 2}\n",
      "  ConvergenceWarning)\n"
     ]
    },
    {
     "name": "stdout",
     "output_type": "stream",
     "text": [
      "bmacs: [0.6537037037037037, 0.6833333333333332, 0.6990740740740741, 0.7111111111111111, 0.737037037037037, 0.7138888888888889, 0.674074074074074, 0.688888888888889, 0.7277777777777779, 0.6425925925925926]\n",
      "AVG: BMAC score: 0.6931 (+/- 0.0292)\n",
      "  159 | 03m32s |    0.69315 |      3.0521 |      0.6156 |      2.7003 | \n",
      "bmacs: [0.6657407407407407, 0.6851851851851851, 0.6842592592592592, 0.7203703703703703, 0.7129629629629629, 0.7416666666666667, 0.6907407407407408, 0.6842592592592593, 0.7296296296296297, 0.687037037037037]\n",
      "AVG: BMAC score: 0.7002 (+/- 0.0231)\n",
      "  160 | 03m47s |    0.70019 |      2.5309 |      0.4476 |      4.3579 | \n",
      "bmacs: [0.6601851851851852, 0.6731481481481482, 0.687962962962963, 0.7046296296296296, 0.7037037037037037, 0.7407407407407408, 0.6953703703703704, 0.6722222222222222, 0.7305555555555556, 0.688888888888889]\n",
      "AVG: BMAC score: 0.6957 (+/- 0.0241)\n",
      "  161 | 03m58s |    0.69574 |      2.4872 |      0.3711 |      4.3872 | \n",
      "bmacs: [0.6657407407407407, 0.6759259259259259, 0.6842592592592592, 0.7111111111111111, 0.7055555555555556, 0.7333333333333334, 0.6814814814814815, 0.6750000000000002, 0.7296296296296297, 0.6898148148148149]\n",
      "AVG: BMAC score: 0.6952 (+/- 0.0223)\n",
      "  162 | 03m41s |    0.69519 |      2.5727 |      0.5093 |      4.6548 | \n",
      "bmacs: [0.6611111111111111, 0.6759259259259259, 0.6907407407407408, 0.7129629629629629, 0.7074074074074074, 0.7435185185185186, 0.6935185185185185, 0.6824074074074075, 0.737962962962963, 0.6851851851851851]\n",
      "AVG: BMAC score: 0.6991 (+/- 0.0251)\n",
      "  163 | 03m56s |    0.69907 |      2.4567 |      0.3851 |      4.1136 | \n",
      "bmacs: [0.6564814814814816, 0.6796296296296296, 0.6935185185185185, 0.7166666666666667, 0.7129629629629629, 0.7462962962962963, 0.700925925925926, 0.6833333333333332, 0.7231481481481482, 0.6861111111111112]\n",
      "AVG: BMAC score: 0.6999 (+/- 0.0244)\n",
      "  164 | 03m53s |    0.69991 |      2.4391 |      0.3961 |      4.1317 | \n"
     ]
    },
    {
     "name": "stderr",
     "output_type": "stream",
     "text": [
      "C:\\Users\\nicok\\Miniconda3\\envs\\aml\\lib\\site-packages\\sklearn\\gaussian_process\\gpr.py:480: ConvergenceWarning: fmin_l_bfgs_b terminated abnormally with the  state: {'grad': array([0.00010327]), 'task': b'ABNORMAL_TERMINATION_IN_LNSRCH', 'funcalls': 51, 'nit': 7, 'warnflag': 2}\n",
      "  ConvergenceWarning)\n"
     ]
    },
    {
     "name": "stdout",
     "output_type": "stream",
     "text": [
      "bmacs: [0.6555555555555556, 0.6759259259259259, 0.6888888888888888, 0.7064814814814815, 0.7074074074074074, 0.7416666666666667, 0.6925925925925925, 0.6759259259259259, 0.7324074074074073, 0.6898148148148149]\n",
      "AVG: BMAC score: 0.6967 (+/- 0.0249)\n",
      "  165 | 03m56s |    0.69667 |      2.3772 |      0.3760 |      4.1744 | \n",
      "bmacs: [0.6592592592592593, 0.674074074074074, 0.687962962962963, 0.7046296296296296, 0.7046296296296296, 0.7462962962962963, 0.6953703703703704, 0.6787037037037038, 0.7324074074074075, 0.6898148148148149]\n",
      "AVG: BMAC score: 0.6973 (+/- 0.0249)\n",
      "  166 | 03m58s |    0.69731 |      2.3925 |      0.3636 |      4.1100 | \n",
      "bmacs: [0.6611111111111111, 0.6694444444444444, 0.6888888888888888, 0.7101851851851851, 0.6981481481481482, 0.7416666666666667, 0.7027777777777778, 0.6731481481481482, 0.7333333333333334, 0.6842592592592593]\n",
      "AVG: BMAC score: 0.6963 (+/- 0.0252)\n",
      "  167 | 03m58s |    0.69630 |      2.5274 |      0.3764 |      4.1908 | \n",
      "bmacs: [0.6592592592592593, 0.6759259259259259, 0.6898148148148148, 0.7222222222222223, 0.7148148148148148, 0.7231481481481482, 0.6759259259259259, 0.6796296296296296, 0.7231481481481482, 0.700925925925926]\n",
      "AVG: BMAC score: 0.6965 (+/- 0.0224)\n",
      "  168 | 03m47s |    0.69648 |      2.2751 |      0.4720 |      4.1469 | \n",
      "bmacs: [0.6731481481481482, 0.6749999999999999, 0.6907407407407408, 0.7398148148148148, 0.7175925925925926, 0.737037037037037, 0.6925925925925926, 0.6768518518518518, 0.725925925925926, 0.674074074074074]\n",
      "AVG: BMAC score: 0.7003 (+/- 0.0258)\n",
      "  169 | 03m49s |    0.70028 |      2.6344 |      0.4758 |      4.0739 | \n",
      "bmacs: [0.6685185185185185, 0.6777777777777777, 0.6851851851851851, 0.7314814814814815, 0.7092592592592593, 0.7296296296296297, 0.6981481481481482, 0.6787037037037037, 0.7203703703703704, 0.6675925925925926]\n",
      "AVG: BMAC score: 0.6967 (+/- 0.0234)\n",
      "  170 | 03m53s |    0.69667 |      2.6185 |      0.4345 |      4.1030 | \n",
      "bmacs: [0.6648148148148149, 0.6777777777777777, 0.687037037037037, 0.7259259259259259, 0.7092592592592593, 0.736111111111111, 0.6981481481481482, 0.6796296296296296, 0.7231481481481482, 0.674074074074074]\n",
      "AVG: BMAC score: 0.6976 (+/- 0.0235)\n",
      "  171 | 03m52s |    0.69759 |      2.5398 |      0.4304 |      3.9960 | \n"
     ]
    },
    {
     "name": "stderr",
     "output_type": "stream",
     "text": [
      "C:\\Users\\nicok\\Miniconda3\\envs\\aml\\lib\\site-packages\\sklearn\\gaussian_process\\gpr.py:480: ConvergenceWarning: fmin_l_bfgs_b terminated abnormally with the  state: {'grad': array([-0.00012494]), 'task': b'ABNORMAL_TERMINATION_IN_LNSRCH', 'funcalls': 48, 'nit': 6, 'warnflag': 2}\n",
      "  ConvergenceWarning)\n"
     ]
    },
    {
     "name": "stdout",
     "output_type": "stream",
     "text": [
      "bmacs: [0.6583333333333333, 0.6675925925925926, 0.686111111111111, 0.7101851851851851, 0.7027777777777778, 0.7388888888888889, 0.6888888888888888, 0.6777777777777777, 0.7351851851851853, 0.6814814814814815]\n",
      "AVG: BMAC score: 0.6947 (+/- 0.0255)\n",
      "  172 | 04m00s |    0.69472 |      2.5190 |      0.3621 |      4.2383 | \n"
     ]
    },
    {
     "name": "stderr",
     "output_type": "stream",
     "text": [
      "C:\\Users\\nicok\\Miniconda3\\envs\\aml\\lib\\site-packages\\sklearn\\gaussian_process\\gpr.py:480: ConvergenceWarning: fmin_l_bfgs_b terminated abnormally with the  state: {'grad': array([-0.00056947]), 'task': b'ABNORMAL_TERMINATION_IN_LNSRCH', 'funcalls': 52, 'nit': 3, 'warnflag': 2}\n",
      "  ConvergenceWarning)\n"
     ]
    },
    {
     "name": "stdout",
     "output_type": "stream",
     "text": [
      "bmacs: [0.6638888888888889, 0.6712962962962963, 0.6962962962962963, 0.7222222222222222, 0.7194444444444444, 0.7324074074074075, 0.6861111111111112, 0.6842592592592593, 0.7277777777777779, 0.6898148148148149]\n",
      "AVG: BMAC score: 0.6994 (+/- 0.0232)\n",
      "  173 | 03m43s |    0.69935 |      2.3428 |      0.4663 |      3.9007 | \n",
      "bmacs: [0.6685185185185185, 0.6712962962962963, 0.6972222222222223, 0.7175925925925926, 0.7203703703703703, 0.7361111111111112, 0.6814814814814815, 0.6833333333333332, 0.7296296296296297, 0.6851851851851851]\n",
      "AVG: BMAC score: 0.6991 (+/- 0.0236)\n",
      "  174 | 03m36s |    0.69907 |      2.3440 |      0.4890 |      3.8993 | \n",
      "bmacs: [0.6675925925925926, 0.674074074074074, 0.700925925925926, 0.7148148148148148, 0.7055555555555556, 0.7361111111111112, 0.674074074074074, 0.6916666666666668, 0.7287037037037037, 0.6851851851851851]\n",
      "AVG: BMAC score: 0.6979 (+/- 0.0224)\n",
      "  175 | 03m32s |    0.69787 |      2.3598 |      0.5354 |      3.9650 | \n",
      "bmacs: [0.6574074074074074, 0.6722222222222222, 0.6935185185185184, 0.7148148148148148, 0.7111111111111111, 0.725925925925926, 0.6768518518518518, 0.6824074074074075, 0.725925925925926, 0.6925925925925925]\n",
      "AVG: BMAC score: 0.6953 (+/- 0.0223)\n",
      "  176 | 03m42s |    0.69528 |      2.3021 |      0.5042 |      3.9748 | \n",
      "bmacs: [0.6722222222222222, 0.6749999999999999, 0.6953703703703704, 0.7305555555555556, 0.7175925925925926, 0.7416666666666666, 0.6925925925925926, 0.6768518518518518, 0.725925925925926, 0.6777777777777777]\n",
      "AVG: BMAC score: 0.7006 (+/- 0.0248)\n",
      "  177 | 04m51s | \u001b[35m   0.70056\u001b[0m | \u001b[32m     2.4720\u001b[0m | \u001b[32m     0.4549\u001b[0m | \u001b[32m     3.8704\u001b[0m | \n",
      "bmacs: [0.6712962962962963, 0.6768518518518518, 0.6944444444444445, 0.7222222222222223, 0.7185185185185184, 0.7324074074074073, 0.6907407407407407, 0.6731481481481482, 0.7277777777777779, 0.6731481481481482]\n",
      "AVG: BMAC score: 0.6981 (+/- 0.0235)\n",
      "  178 | 521m35s |    0.69806 |      2.4619 |      0.4792 |      3.8359 | \n",
      "bmacs: [0.6722222222222222, 0.6759259259259259, 0.6907407407407408, 0.7305555555555556, 0.7175925925925926, 0.737037037037037, 0.6981481481481482, 0.6768518518518518, 0.725925925925926, 0.6722222222222222]\n",
      "AVG: BMAC score: 0.6997 (+/- 0.0246)\n",
      "  179 | 03m44s |    0.69972 |      2.4809 |      0.4584 |      3.8353 | \n"
     ]
    },
    {
     "name": "stderr",
     "output_type": "stream",
     "text": [
      "C:\\Users\\nicok\\Miniconda3\\envs\\aml\\lib\\site-packages\\sklearn\\gaussian_process\\gpr.py:480: ConvergenceWarning: fmin_l_bfgs_b terminated abnormally with the  state: {'grad': array([-0.00017978]), 'task': b'ABNORMAL_TERMINATION_IN_LNSRCH', 'funcalls': 46, 'nit': 3, 'warnflag': 2}\n",
      "  ConvergenceWarning)\n"
     ]
    },
    {
     "ename": "KeyboardInterrupt",
     "evalue": "",
     "output_type": "error",
     "traceback": [
      "\u001b[1;31m---------------------------------------------------------------------------\u001b[0m",
      "\u001b[1;31mKeyboardInterrupt\u001b[0m                         Traceback (most recent call last)",
      "\u001b[1;32m<ipython-input-9-93ffbebf2436>\u001b[0m in \u001b[0;36m<module>\u001b[1;34m\u001b[0m\n\u001b[0;32m     15\u001b[0m \u001b[0mgp_params\u001b[0m \u001b[1;33m=\u001b[0m \u001b[1;33m{\u001b[0m\u001b[1;34m'alpha'\u001b[0m\u001b[1;33m:\u001b[0m \u001b[1;36m1e-5\u001b[0m\u001b[1;33m}\u001b[0m\u001b[1;33m\u001b[0m\u001b[0m\n\u001b[0;32m     16\u001b[0m \u001b[1;33m\u001b[0m\u001b[0m\n\u001b[1;32m---> 17\u001b[1;33m \u001b[0mBO\u001b[0m\u001b[1;33m.\u001b[0m\u001b[0mmaximize\u001b[0m\u001b[1;33m(\u001b[0m\u001b[0mn_iter\u001b[0m\u001b[1;33m=\u001b[0m\u001b[1;36m200\u001b[0m\u001b[1;33m,\u001b[0m \u001b[1;33m**\u001b[0m\u001b[0mgp_params\u001b[0m\u001b[1;33m)\u001b[0m\u001b[1;33m\u001b[0m\u001b[0m\n\u001b[0m\u001b[0;32m     18\u001b[0m \u001b[1;33m\u001b[0m\u001b[0m\n\u001b[0;32m     19\u001b[0m \u001b[0mprint\u001b[0m\u001b[1;33m(\u001b[0m\u001b[0mBO\u001b[0m\u001b[1;33m.\u001b[0m\u001b[0mres\u001b[0m\u001b[1;33m[\u001b[0m\u001b[1;34m'max'\u001b[0m\u001b[1;33m]\u001b[0m\u001b[1;33m)\u001b[0m\u001b[1;33m\u001b[0m\u001b[0m\n",
      "\u001b[1;32m~\\Miniconda3\\envs\\aml\\lib\\site-packages\\bayes_opt\\bayesian_optimization.py\u001b[0m in \u001b[0;36mmaximize\u001b[1;34m(self, init_points, n_iter, acq, kappa, xi, **gp_params)\u001b[0m\n\u001b[0;32m    299\u001b[0m                             \u001b[0mbounds\u001b[0m\u001b[1;33m=\u001b[0m\u001b[0mself\u001b[0m\u001b[1;33m.\u001b[0m\u001b[0mspace\u001b[0m\u001b[1;33m.\u001b[0m\u001b[0mbounds\u001b[0m\u001b[1;33m,\u001b[0m\u001b[1;33m\u001b[0m\u001b[0m\n\u001b[0;32m    300\u001b[0m                             \u001b[0mrandom_state\u001b[0m\u001b[1;33m=\u001b[0m\u001b[0mself\u001b[0m\u001b[1;33m.\u001b[0m\u001b[0mrandom_state\u001b[0m\u001b[1;33m,\u001b[0m\u001b[1;33m\u001b[0m\u001b[0m\n\u001b[1;32m--> 301\u001b[1;33m                             **self._acqkw)\n\u001b[0m\u001b[0;32m    302\u001b[0m \u001b[1;33m\u001b[0m\u001b[0m\n\u001b[0;32m    303\u001b[0m             \u001b[1;31m# Keep track of total number of iterations\u001b[0m\u001b[1;33m\u001b[0m\u001b[1;33m\u001b[0m\u001b[0m\n",
      "\u001b[1;32m~\\Miniconda3\\envs\\aml\\lib\\site-packages\\bayes_opt\\helpers.py\u001b[0m in \u001b[0;36macq_max\u001b[1;34m(ac, gp, y_max, bounds, random_state, n_warmup, n_iter)\u001b[0m\n\u001b[0;32m     58\u001b[0m                        \u001b[0mx_try\u001b[0m\u001b[1;33m.\u001b[0m\u001b[0mreshape\u001b[0m\u001b[1;33m(\u001b[0m\u001b[1;36m1\u001b[0m\u001b[1;33m,\u001b[0m \u001b[1;33m-\u001b[0m\u001b[1;36m1\u001b[0m\u001b[1;33m)\u001b[0m\u001b[1;33m,\u001b[0m\u001b[1;33m\u001b[0m\u001b[0m\n\u001b[0;32m     59\u001b[0m                        \u001b[0mbounds\u001b[0m\u001b[1;33m=\u001b[0m\u001b[0mbounds\u001b[0m\u001b[1;33m,\u001b[0m\u001b[1;33m\u001b[0m\u001b[0m\n\u001b[1;32m---> 60\u001b[1;33m                        method=\"L-BFGS-B\")\n\u001b[0m\u001b[0;32m     61\u001b[0m \u001b[1;33m\u001b[0m\u001b[0m\n\u001b[0;32m     62\u001b[0m         \u001b[1;31m# Store it if better than previous minimum(maximum).\u001b[0m\u001b[1;33m\u001b[0m\u001b[1;33m\u001b[0m\u001b[0m\n",
      "\u001b[1;32m~\\Miniconda3\\envs\\aml\\lib\\site-packages\\scipy\\optimize\\_minimize.py\u001b[0m in \u001b[0;36mminimize\u001b[1;34m(fun, x0, args, method, jac, hess, hessp, bounds, constraints, tol, callback, options)\u001b[0m\n\u001b[0;32m    601\u001b[0m     \u001b[1;32melif\u001b[0m \u001b[0mmeth\u001b[0m \u001b[1;33m==\u001b[0m \u001b[1;34m'l-bfgs-b'\u001b[0m\u001b[1;33m:\u001b[0m\u001b[1;33m\u001b[0m\u001b[0m\n\u001b[0;32m    602\u001b[0m         return _minimize_lbfgsb(fun, x0, args, jac, bounds,\n\u001b[1;32m--> 603\u001b[1;33m                                 callback=callback, **options)\n\u001b[0m\u001b[0;32m    604\u001b[0m     \u001b[1;32melif\u001b[0m \u001b[0mmeth\u001b[0m \u001b[1;33m==\u001b[0m \u001b[1;34m'tnc'\u001b[0m\u001b[1;33m:\u001b[0m\u001b[1;33m\u001b[0m\u001b[0m\n\u001b[0;32m    605\u001b[0m         return _minimize_tnc(fun, x0, args, jac, bounds, callback=callback,\n",
      "\u001b[1;32m~\\Miniconda3\\envs\\aml\\lib\\site-packages\\scipy\\optimize\\lbfgsb.py\u001b[0m in \u001b[0;36m_minimize_lbfgsb\u001b[1;34m(fun, x0, args, jac, bounds, disp, maxcor, ftol, gtol, eps, maxfun, maxiter, iprint, callback, maxls, **unknown_options)\u001b[0m\n\u001b[0;32m    333\u001b[0m             \u001b[1;31m# until the completion of the current minimization iteration.\u001b[0m\u001b[1;33m\u001b[0m\u001b[1;33m\u001b[0m\u001b[0m\n\u001b[0;32m    334\u001b[0m             \u001b[1;31m# Overwrite f and g:\u001b[0m\u001b[1;33m\u001b[0m\u001b[1;33m\u001b[0m\u001b[0m\n\u001b[1;32m--> 335\u001b[1;33m             \u001b[0mf\u001b[0m\u001b[1;33m,\u001b[0m \u001b[0mg\u001b[0m \u001b[1;33m=\u001b[0m \u001b[0mfunc_and_grad\u001b[0m\u001b[1;33m(\u001b[0m\u001b[0mx\u001b[0m\u001b[1;33m)\u001b[0m\u001b[1;33m\u001b[0m\u001b[0m\n\u001b[0m\u001b[0;32m    336\u001b[0m         \u001b[1;32melif\u001b[0m \u001b[0mtask_str\u001b[0m\u001b[1;33m.\u001b[0m\u001b[0mstartswith\u001b[0m\u001b[1;33m(\u001b[0m\u001b[1;34mb'NEW_X'\u001b[0m\u001b[1;33m)\u001b[0m\u001b[1;33m:\u001b[0m\u001b[1;33m\u001b[0m\u001b[0m\n\u001b[0;32m    337\u001b[0m             \u001b[1;31m# new iteration\u001b[0m\u001b[1;33m\u001b[0m\u001b[1;33m\u001b[0m\u001b[0m\n",
      "\u001b[1;32m~\\Miniconda3\\envs\\aml\\lib\\site-packages\\scipy\\optimize\\lbfgsb.py\u001b[0m in \u001b[0;36mfunc_and_grad\u001b[1;34m(x)\u001b[0m\n\u001b[0;32m    279\u001b[0m         \u001b[1;32mdef\u001b[0m \u001b[0mfunc_and_grad\u001b[0m\u001b[1;33m(\u001b[0m\u001b[0mx\u001b[0m\u001b[1;33m)\u001b[0m\u001b[1;33m:\u001b[0m\u001b[1;33m\u001b[0m\u001b[0m\n\u001b[0;32m    280\u001b[0m             \u001b[0mf\u001b[0m \u001b[1;33m=\u001b[0m \u001b[0mfun\u001b[0m\u001b[1;33m(\u001b[0m\u001b[0mx\u001b[0m\u001b[1;33m,\u001b[0m \u001b[1;33m*\u001b[0m\u001b[0margs\u001b[0m\u001b[1;33m)\u001b[0m\u001b[1;33m\u001b[0m\u001b[0m\n\u001b[1;32m--> 281\u001b[1;33m             \u001b[0mg\u001b[0m \u001b[1;33m=\u001b[0m \u001b[0m_approx_fprime_helper\u001b[0m\u001b[1;33m(\u001b[0m\u001b[0mx\u001b[0m\u001b[1;33m,\u001b[0m \u001b[0mfun\u001b[0m\u001b[1;33m,\u001b[0m \u001b[0mepsilon\u001b[0m\u001b[1;33m,\u001b[0m \u001b[0margs\u001b[0m\u001b[1;33m=\u001b[0m\u001b[0margs\u001b[0m\u001b[1;33m,\u001b[0m \u001b[0mf0\u001b[0m\u001b[1;33m=\u001b[0m\u001b[0mf\u001b[0m\u001b[1;33m)\u001b[0m\u001b[1;33m\u001b[0m\u001b[0m\n\u001b[0m\u001b[0;32m    282\u001b[0m             \u001b[1;32mreturn\u001b[0m \u001b[0mf\u001b[0m\u001b[1;33m,\u001b[0m \u001b[0mg\u001b[0m\u001b[1;33m\u001b[0m\u001b[0m\n\u001b[0;32m    283\u001b[0m     \u001b[1;32melse\u001b[0m\u001b[1;33m:\u001b[0m\u001b[1;33m\u001b[0m\u001b[0m\n",
      "\u001b[1;32m~\\Miniconda3\\envs\\aml\\lib\\site-packages\\scipy\\optimize\\optimize.py\u001b[0m in \u001b[0;36m_approx_fprime_helper\u001b[1;34m(xk, f, epsilon, args, f0)\u001b[0m\n\u001b[0;32m    661\u001b[0m         \u001b[0mei\u001b[0m\u001b[1;33m[\u001b[0m\u001b[0mk\u001b[0m\u001b[1;33m]\u001b[0m \u001b[1;33m=\u001b[0m \u001b[1;36m1.0\u001b[0m\u001b[1;33m\u001b[0m\u001b[0m\n\u001b[0;32m    662\u001b[0m         \u001b[0md\u001b[0m \u001b[1;33m=\u001b[0m \u001b[0mepsilon\u001b[0m \u001b[1;33m*\u001b[0m \u001b[0mei\u001b[0m\u001b[1;33m\u001b[0m\u001b[0m\n\u001b[1;32m--> 663\u001b[1;33m         \u001b[0mgrad\u001b[0m\u001b[1;33m[\u001b[0m\u001b[0mk\u001b[0m\u001b[1;33m]\u001b[0m \u001b[1;33m=\u001b[0m \u001b[1;33m(\u001b[0m\u001b[0mf\u001b[0m\u001b[1;33m(\u001b[0m\u001b[1;33m*\u001b[0m\u001b[1;33m(\u001b[0m\u001b[1;33m(\u001b[0m\u001b[0mxk\u001b[0m \u001b[1;33m+\u001b[0m \u001b[0md\u001b[0m\u001b[1;33m,\u001b[0m\u001b[1;33m)\u001b[0m \u001b[1;33m+\u001b[0m \u001b[0margs\u001b[0m\u001b[1;33m)\u001b[0m\u001b[1;33m)\u001b[0m \u001b[1;33m-\u001b[0m \u001b[0mf0\u001b[0m\u001b[1;33m)\u001b[0m \u001b[1;33m/\u001b[0m \u001b[0md\u001b[0m\u001b[1;33m[\u001b[0m\u001b[0mk\u001b[0m\u001b[1;33m]\u001b[0m\u001b[1;33m\u001b[0m\u001b[0m\n\u001b[0m\u001b[0;32m    664\u001b[0m         \u001b[0mei\u001b[0m\u001b[1;33m[\u001b[0m\u001b[0mk\u001b[0m\u001b[1;33m]\u001b[0m \u001b[1;33m=\u001b[0m \u001b[1;36m0.0\u001b[0m\u001b[1;33m\u001b[0m\u001b[0m\n\u001b[0;32m    665\u001b[0m     \u001b[1;32mreturn\u001b[0m \u001b[0mgrad\u001b[0m\u001b[1;33m\u001b[0m\u001b[0m\n",
      "\u001b[1;32m~\\Miniconda3\\envs\\aml\\lib\\site-packages\\scipy\\optimize\\optimize.py\u001b[0m in \u001b[0;36mfunction_wrapper\u001b[1;34m(*wrapper_args)\u001b[0m\n\u001b[0;32m    291\u001b[0m     \u001b[1;32mdef\u001b[0m \u001b[0mfunction_wrapper\u001b[0m\u001b[1;33m(\u001b[0m\u001b[1;33m*\u001b[0m\u001b[0mwrapper_args\u001b[0m\u001b[1;33m)\u001b[0m\u001b[1;33m:\u001b[0m\u001b[1;33m\u001b[0m\u001b[0m\n\u001b[0;32m    292\u001b[0m         \u001b[0mncalls\u001b[0m\u001b[1;33m[\u001b[0m\u001b[1;36m0\u001b[0m\u001b[1;33m]\u001b[0m \u001b[1;33m+=\u001b[0m \u001b[1;36m1\u001b[0m\u001b[1;33m\u001b[0m\u001b[0m\n\u001b[1;32m--> 293\u001b[1;33m         \u001b[1;32mreturn\u001b[0m \u001b[0mfunction\u001b[0m\u001b[1;33m(\u001b[0m\u001b[1;33m*\u001b[0m\u001b[1;33m(\u001b[0m\u001b[0mwrapper_args\u001b[0m \u001b[1;33m+\u001b[0m \u001b[0margs\u001b[0m\u001b[1;33m)\u001b[0m\u001b[1;33m)\u001b[0m\u001b[1;33m\u001b[0m\u001b[0m\n\u001b[0m\u001b[0;32m    294\u001b[0m \u001b[1;33m\u001b[0m\u001b[0m\n\u001b[0;32m    295\u001b[0m     \u001b[1;32mreturn\u001b[0m \u001b[0mncalls\u001b[0m\u001b[1;33m,\u001b[0m \u001b[0mfunction_wrapper\u001b[0m\u001b[1;33m\u001b[0m\u001b[0m\n",
      "\u001b[1;32m~\\Miniconda3\\envs\\aml\\lib\\site-packages\\bayes_opt\\helpers.py\u001b[0m in \u001b[0;36m<lambda>\u001b[1;34m(x)\u001b[0m\n\u001b[0;32m     55\u001b[0m     \u001b[1;32mfor\u001b[0m \u001b[0mx_try\u001b[0m \u001b[1;32min\u001b[0m \u001b[0mx_seeds\u001b[0m\u001b[1;33m:\u001b[0m\u001b[1;33m\u001b[0m\u001b[0m\n\u001b[0;32m     56\u001b[0m         \u001b[1;31m# Find the minimum of minus the acquisition function\u001b[0m\u001b[1;33m\u001b[0m\u001b[1;33m\u001b[0m\u001b[0m\n\u001b[1;32m---> 57\u001b[1;33m         res = minimize(lambda x: -ac(x.reshape(1, -1), gp=gp, y_max=y_max),\n\u001b[0m\u001b[0;32m     58\u001b[0m                        \u001b[0mx_try\u001b[0m\u001b[1;33m.\u001b[0m\u001b[0mreshape\u001b[0m\u001b[1;33m(\u001b[0m\u001b[1;36m1\u001b[0m\u001b[1;33m,\u001b[0m \u001b[1;33m-\u001b[0m\u001b[1;36m1\u001b[0m\u001b[1;33m)\u001b[0m\u001b[1;33m,\u001b[0m\u001b[1;33m\u001b[0m\u001b[0m\n\u001b[0;32m     59\u001b[0m                        \u001b[0mbounds\u001b[0m\u001b[1;33m=\u001b[0m\u001b[0mbounds\u001b[0m\u001b[1;33m,\u001b[0m\u001b[1;33m\u001b[0m\u001b[0m\n",
      "\u001b[1;32m~\\Miniconda3\\envs\\aml\\lib\\site-packages\\bayes_opt\\helpers.py\u001b[0m in \u001b[0;36mutility\u001b[1;34m(self, x, gp, y_max)\u001b[0m\n\u001b[0;32m     93\u001b[0m     \u001b[1;32mdef\u001b[0m \u001b[0mutility\u001b[0m\u001b[1;33m(\u001b[0m\u001b[0mself\u001b[0m\u001b[1;33m,\u001b[0m \u001b[0mx\u001b[0m\u001b[1;33m,\u001b[0m \u001b[0mgp\u001b[0m\u001b[1;33m,\u001b[0m \u001b[0my_max\u001b[0m\u001b[1;33m)\u001b[0m\u001b[1;33m:\u001b[0m\u001b[1;33m\u001b[0m\u001b[0m\n\u001b[0;32m     94\u001b[0m         \u001b[1;32mif\u001b[0m \u001b[0mself\u001b[0m\u001b[1;33m.\u001b[0m\u001b[0mkind\u001b[0m \u001b[1;33m==\u001b[0m \u001b[1;34m'ucb'\u001b[0m\u001b[1;33m:\u001b[0m\u001b[1;33m\u001b[0m\u001b[0m\n\u001b[1;32m---> 95\u001b[1;33m             \u001b[1;32mreturn\u001b[0m \u001b[0mself\u001b[0m\u001b[1;33m.\u001b[0m\u001b[0m_ucb\u001b[0m\u001b[1;33m(\u001b[0m\u001b[0mx\u001b[0m\u001b[1;33m,\u001b[0m \u001b[0mgp\u001b[0m\u001b[1;33m,\u001b[0m \u001b[0mself\u001b[0m\u001b[1;33m.\u001b[0m\u001b[0mkappa\u001b[0m\u001b[1;33m)\u001b[0m\u001b[1;33m\u001b[0m\u001b[0m\n\u001b[0m\u001b[0;32m     96\u001b[0m         \u001b[1;32mif\u001b[0m \u001b[0mself\u001b[0m\u001b[1;33m.\u001b[0m\u001b[0mkind\u001b[0m \u001b[1;33m==\u001b[0m \u001b[1;34m'ei'\u001b[0m\u001b[1;33m:\u001b[0m\u001b[1;33m\u001b[0m\u001b[0m\n\u001b[0;32m     97\u001b[0m             \u001b[1;32mreturn\u001b[0m \u001b[0mself\u001b[0m\u001b[1;33m.\u001b[0m\u001b[0m_ei\u001b[0m\u001b[1;33m(\u001b[0m\u001b[0mx\u001b[0m\u001b[1;33m,\u001b[0m \u001b[0mgp\u001b[0m\u001b[1;33m,\u001b[0m \u001b[0my_max\u001b[0m\u001b[1;33m,\u001b[0m \u001b[0mself\u001b[0m\u001b[1;33m.\u001b[0m\u001b[0mxi\u001b[0m\u001b[1;33m)\u001b[0m\u001b[1;33m\u001b[0m\u001b[0m\n",
      "\u001b[1;32m~\\Miniconda3\\envs\\aml\\lib\\site-packages\\bayes_opt\\helpers.py\u001b[0m in \u001b[0;36m_ucb\u001b[1;34m(x, gp, kappa)\u001b[0m\n\u001b[0;32m    101\u001b[0m     \u001b[1;33m@\u001b[0m\u001b[0mstaticmethod\u001b[0m\u001b[1;33m\u001b[0m\u001b[0m\n\u001b[0;32m    102\u001b[0m     \u001b[1;32mdef\u001b[0m \u001b[0m_ucb\u001b[0m\u001b[1;33m(\u001b[0m\u001b[0mx\u001b[0m\u001b[1;33m,\u001b[0m \u001b[0mgp\u001b[0m\u001b[1;33m,\u001b[0m \u001b[0mkappa\u001b[0m\u001b[1;33m)\u001b[0m\u001b[1;33m:\u001b[0m\u001b[1;33m\u001b[0m\u001b[0m\n\u001b[1;32m--> 103\u001b[1;33m         \u001b[0mmean\u001b[0m\u001b[1;33m,\u001b[0m \u001b[0mstd\u001b[0m \u001b[1;33m=\u001b[0m \u001b[0mgp\u001b[0m\u001b[1;33m.\u001b[0m\u001b[0mpredict\u001b[0m\u001b[1;33m(\u001b[0m\u001b[0mx\u001b[0m\u001b[1;33m,\u001b[0m \u001b[0mreturn_std\u001b[0m\u001b[1;33m=\u001b[0m\u001b[1;32mTrue\u001b[0m\u001b[1;33m)\u001b[0m\u001b[1;33m\u001b[0m\u001b[0m\n\u001b[0m\u001b[0;32m    104\u001b[0m         \u001b[1;32mreturn\u001b[0m \u001b[0mmean\u001b[0m \u001b[1;33m+\u001b[0m \u001b[0mkappa\u001b[0m \u001b[1;33m*\u001b[0m \u001b[0mstd\u001b[0m\u001b[1;33m\u001b[0m\u001b[0m\n\u001b[0;32m    105\u001b[0m \u001b[1;33m\u001b[0m\u001b[0m\n",
      "\u001b[1;32m~\\Miniconda3\\envs\\aml\\lib\\site-packages\\sklearn\\gaussian_process\\gpr.py\u001b[0m in \u001b[0;36mpredict\u001b[1;34m(self, X, return_std, return_cov)\u001b[0m\n\u001b[0;32m    330\u001b[0m                 \u001b[1;32mreturn\u001b[0m \u001b[0my_mean\u001b[0m\u001b[1;33m\u001b[0m\u001b[0m\n\u001b[0;32m    331\u001b[0m         \u001b[1;32melse\u001b[0m\u001b[1;33m:\u001b[0m  \u001b[1;31m# Predict based on GP posterior\u001b[0m\u001b[1;33m\u001b[0m\u001b[0m\n\u001b[1;32m--> 332\u001b[1;33m             \u001b[0mK_trans\u001b[0m \u001b[1;33m=\u001b[0m \u001b[0mself\u001b[0m\u001b[1;33m.\u001b[0m\u001b[0mkernel_\u001b[0m\u001b[1;33m(\u001b[0m\u001b[0mX\u001b[0m\u001b[1;33m,\u001b[0m \u001b[0mself\u001b[0m\u001b[1;33m.\u001b[0m\u001b[0mX_train_\u001b[0m\u001b[1;33m)\u001b[0m\u001b[1;33m\u001b[0m\u001b[0m\n\u001b[0m\u001b[0;32m    333\u001b[0m             \u001b[0my_mean\u001b[0m \u001b[1;33m=\u001b[0m \u001b[0mK_trans\u001b[0m\u001b[1;33m.\u001b[0m\u001b[0mdot\u001b[0m\u001b[1;33m(\u001b[0m\u001b[0mself\u001b[0m\u001b[1;33m.\u001b[0m\u001b[0malpha_\u001b[0m\u001b[1;33m)\u001b[0m  \u001b[1;31m# Line 4 (y_mean = f_star)\u001b[0m\u001b[1;33m\u001b[0m\u001b[0m\n\u001b[0;32m    334\u001b[0m             \u001b[0my_mean\u001b[0m \u001b[1;33m=\u001b[0m \u001b[0mself\u001b[0m\u001b[1;33m.\u001b[0m\u001b[0m_y_train_mean\u001b[0m \u001b[1;33m+\u001b[0m \u001b[0my_mean\u001b[0m  \u001b[1;31m# undo normal.\u001b[0m\u001b[1;33m\u001b[0m\u001b[0m\n",
      "\u001b[1;32m~\\Miniconda3\\envs\\aml\\lib\\site-packages\\sklearn\\gaussian_process\\kernels.py\u001b[0m in \u001b[0;36m__call__\u001b[1;34m(self, X, Y, eval_gradient)\u001b[0m\n\u001b[0;32m   1336\u001b[0m                 raise ValueError(\n\u001b[0;32m   1337\u001b[0m                     \"Gradient can only be evaluated when Y is None.\")\n\u001b[1;32m-> 1338\u001b[1;33m             dists = cdist(X / length_scale, Y / length_scale,\n\u001b[0m\u001b[0;32m   1339\u001b[0m                           metric='euclidean')\n\u001b[0;32m   1340\u001b[0m \u001b[1;33m\u001b[0m\u001b[0m\n",
      "\u001b[1;31mKeyboardInterrupt\u001b[0m: "
     ]
    }
   ],
   "source": [
    "# Bayesian Optimization\n",
    "from bayes_opt import BayesianOptimization\n",
    "\n",
    "BO = BayesianOptimization(\n",
    "        svm_cv,\n",
    "        {'c0_weight': (0.5, 6), \n",
    "         'c1_weight': (0.1, 2), \n",
    "         'c2_weight': (0.5, 6)},\n",
    "      random_state=seed\n",
    ")\n",
    "BO.explore({'c0_weight': [2.6666666666666665], \n",
    "              'c1_weight':[0.4444444444444444], \n",
    "              'c2_weight':[2.666666666666666],\n",
    "            })\n",
    "\n",
    "gp_params = {'alpha': 1e-5}\n",
    "\n",
    "BO.maximize(n_iter=200, **gp_params)\n",
    "  \n",
    "print(BO.res['max'])\n",
    "print(BO.res['all'])"
   ]
  },
  {
   "cell_type": "markdown",
   "metadata": {},
   "source": [
    "### Bayesian Optimization: Train SVM Gamma"
   ]
  },
  {
   "cell_type": "code",
   "execution_count": null,
   "metadata": {},
   "outputs": [],
   "source": [
    "# Bayesian Optimization\n",
    "from bayes_opt import BayesianOptimization\n",
    "\n",
    "BO = BayesianOptimization(\n",
    "        svm_cv,\n",
    "        {'gamma': (0.00001, 0.01)},\n",
    "      random_state=seed\n",
    ")\n",
    "\n",
    "BO.explore({'gamma': [1.0/n_features] })\n",
    "\n",
    "gp_params = {'alpha': 1e-5}\n",
    "\n",
    "BO.maximize(n_iter=200, **gp_params)\n",
    "  \n",
    "print(BO.res['max'])\n",
    "print(BO.res['all'])"
   ]
  }
 ],
 "metadata": {
  "kernelspec": {
   "display_name": "Python 3",
   "language": "python",
   "name": "python3"
  },
  "language_info": {
   "codemirror_mode": {
    "name": "ipython",
    "version": 3
   },
   "file_extension": ".py",
   "mimetype": "text/x-python",
   "name": "python",
   "nbconvert_exporter": "python",
   "pygments_lexer": "ipython3",
   "version": "3.6.6"
  }
 },
 "nbformat": 4,
 "nbformat_minor": 2
}
