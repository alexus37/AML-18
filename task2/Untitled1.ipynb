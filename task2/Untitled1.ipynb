{
 "cells": [
  {
   "cell_type": "code",
   "execution_count": 26,
   "metadata": {},
   "outputs": [],
   "source": [
    "%matplotlib inline\n",
    "import csv\n",
    "import numpy as np\n",
    "from sklearn.metrics import mean_squared_error\n",
    "import pandas as pd\n",
    "from matplotlib import pyplot as plt\n",
    "import seaborn as sns\n",
    "from sklearn.decomposition import PCA\n",
    "from sklearn.feature_selection import RFE, f_regression\n",
    "from sklearn.linear_model import (LinearRegression, Ridge, Lasso, RandomizedLasso)\n",
    "from sklearn.preprocessing import MinMaxScaler\n",
    "from sklearn.ensemble import (RandomForestRegressor,RandomForestClassifier, IsolationForest)\n",
    "from sklearn.neural_network import MLPRegressor\n",
    "from sklearn.feature_selection import f_regression, f_classif\n",
    "from sklearn.preprocessing import StandardScaler\n",
    "from sklearn.model_selection import cross_val_score\n",
    "import random as rn\n",
    "import tensorflow as tf\n",
    "from keras import backend as K\n",
    "from sklearn.model_selection import StratifiedKFold\n",
    "import math\n",
    "from sklearn.neural_network import MLPClassifier\n",
    "from sklearn.feature_selection import chi2\n",
    "#from imblearn.ensemble import BalancedRandomForestClassifier\n",
    "\n",
    "\n",
    "TRAIN_FILE_PATH = \"data/X_train.csv\"\n",
    "TARGET_FILE_PATH =  \"data/y_train.csv\"\n",
    "TEST_FILE_PATH = \"data/X_test.csv\"\n",
    "\n",
    "seed=42\n",
    "np.random.seed(seed)\n",
    "rn.seed(seed)\n",
    "session_conf = tf.ConfigProto(intra_op_parallelism_threads=1,\n",
    "                              inter_op_parallelism_threads=1)\n",
    "\n",
    "\n",
    "\n",
    "# The below tf.set_random_seed() will make random number generation\n",
    "# in the TensorFlow backend have a well-defined initial state.\n",
    "# For further details, see:\n",
    "# https://www.tensorflow.org/api_docs/python/tf/set_random_seed\n",
    "\n",
    "tf.set_random_seed(seed)\n",
    "\n",
    "sess = tf.Session(graph=tf.get_default_graph(), config=session_conf)\n",
    "K.set_session(sess)\n",
    "\n"
   ]
  },
  {
   "cell_type": "code",
   "execution_count": 27,
   "metadata": {},
   "outputs": [],
   "source": [
    "#Load train and test set\n",
    "\n",
    "train_data = pd.read_csv(TRAIN_FILE_PATH)\n",
    "train_data.drop(train_data.columns[0], axis=1, inplace=True)\n",
    "\n",
    "Y_train = pd.read_csv(TARGET_FILE_PATH)\n",
    "Y_train.drop(Y_train.columns[0], axis=1, inplace = True)\n",
    "\n",
    "test_data =  pd.read_csv(TEST_FILE_PATH)\n",
    "id_test = test_data.columns[0]\n",
    "test_data.drop(test_data.columns[0], axis=1, inplace=True)"
   ]
  },
  {
   "cell_type": "code",
   "execution_count": 29,
   "metadata": {
    "scrolled": false
   },
   "outputs": [
    {
     "name": "stdout",
     "output_type": "stream",
     "text": [
      "\n",
      "Class 0\n",
      "(600, 1000)\n",
      "(600, 1)\n",
      "\n",
      "Class 1\n",
      "(3600, 1000)\n",
      "(3600, 1)\n",
      "\n",
      "Class 2\n",
      "(600, 1000)\n",
      "(600, 1)\n"
     ]
    },
    {
     "name": "stderr",
     "output_type": "stream",
     "text": [
      "/home/francesco/anaconda3/lib/python3.6/site-packages/ipykernel_launcher.py:9: DeprecationWarning: \n",
      ".ix is deprecated. Please use\n",
      ".loc for label based indexing or\n",
      ".iloc for positional indexing\n",
      "\n",
      "See the documentation here:\n",
      "http://pandas.pydata.org/pandas-docs/stable/indexing.html#ix-indexer-is-deprecated\n",
      "  if __name__ == '__main__':\n",
      "/home/francesco/anaconda3/lib/python3.6/site-packages/ipykernel_launcher.py:10: DeprecationWarning: \n",
      ".ix is deprecated. Please use\n",
      ".loc for label based indexing or\n",
      ".iloc for positional indexing\n",
      "\n",
      "See the documentation here:\n",
      "http://pandas.pydata.org/pandas-docs/stable/indexing.html#ix-indexer-is-deprecated\n",
      "  # Remove the CWD from sys.path while we load stuff.\n",
      "/home/francesco/anaconda3/lib/python3.6/site-packages/ipykernel_launcher.py:11: DeprecationWarning: \n",
      ".ix is deprecated. Please use\n",
      ".loc for label based indexing or\n",
      ".iloc for positional indexing\n",
      "\n",
      "See the documentation here:\n",
      "http://pandas.pydata.org/pandas-docs/stable/indexing.html#ix-indexer-is-deprecated\n",
      "  # This is added back by InteractiveShellApp.init_path()\n",
      "/home/francesco/anaconda3/lib/python3.6/site-packages/ipykernel_launcher.py:13: DeprecationWarning: \n",
      ".ix is deprecated. Please use\n",
      ".loc for label based indexing or\n",
      ".iloc for positional indexing\n",
      "\n",
      "See the documentation here:\n",
      "http://pandas.pydata.org/pandas-docs/stable/indexing.html#ix-indexer-is-deprecated\n",
      "  del sys.path[0]\n",
      "/home/francesco/anaconda3/lib/python3.6/site-packages/ipykernel_launcher.py:14: DeprecationWarning: \n",
      ".ix is deprecated. Please use\n",
      ".loc for label based indexing or\n",
      ".iloc for positional indexing\n",
      "\n",
      "See the documentation here:\n",
      "http://pandas.pydata.org/pandas-docs/stable/indexing.html#ix-indexer-is-deprecated\n",
      "  \n",
      "/home/francesco/anaconda3/lib/python3.6/site-packages/ipykernel_launcher.py:15: DeprecationWarning: \n",
      ".ix is deprecated. Please use\n",
      ".loc for label based indexing or\n",
      ".iloc for positional indexing\n",
      "\n",
      "See the documentation here:\n",
      "http://pandas.pydata.org/pandas-docs/stable/indexing.html#ix-indexer-is-deprecated\n",
      "  from ipykernel import kernelapp as app\n"
     ]
    },
    {
     "data": {
      "text/plain": [
       "'print(\"Mean: \", list(X_train_2.mean()))'"
      ]
     },
     "execution_count": 29,
     "metadata": {},
     "output_type": "execute_result"
    }
   ],
   "source": [
    "#Separate samples w.r.t training labels in {0,1,2}\n",
    "\n",
    "Y_train_0_idx = Y_train.index[Y_train['y'] == 0].tolist()\n",
    "Y_train_1_idx = Y_train.index[Y_train['y'] == 1].tolist()\n",
    "Y_train_2_idx = Y_train.index[Y_train['y'] == 2].tolist()\n",
    "\n",
    "#Select the corresponding samples ad group them per label\n",
    "\n",
    "Y_train_0 = Y_train.ix[Y_train_0_idx]\n",
    "Y_train_1 = Y_train.ix[Y_train_1_idx]\n",
    "Y_train_2 = Y_train.ix[Y_train_2_idx]\n",
    "\n",
    "X_train_0 = train_data.ix[Y_train_0_idx]\n",
    "X_train_1 = train_data.ix[Y_train_1_idx]\n",
    "X_train_2 = train_data.ix[Y_train_2_idx]\n",
    "\n",
    "print(\"\\nClass 0\")\n",
    "print(X_train_0.shape)\n",
    "print(Y_train_0.shape)\n",
    "\"\"\"print(\"Mean: \", list(X_train_0.mean()))\"\"\"\n",
    "\n",
    "print(\"\\nClass 1\")\n",
    "print(X_train_1.shape)\n",
    "print(Y_train_1.shape)\n",
    "\"\"\"print(\"Mean: \", list(X_train_1.mean()))\"\"\"\n",
    "\n",
    "print(\"\\nClass 2\")\n",
    "print(X_train_2.shape)\n",
    "print(Y_train_2.shape)\n",
    "\"\"\"print(\"Mean: \", list(X_train_2.mean()))\"\"\"\n"
   ]
  },
  {
   "cell_type": "code",
   "execution_count": 31,
   "metadata": {},
   "outputs": [
    {
     "name": "stderr",
     "output_type": "stream",
     "text": [
      "/home/francesco/anaconda3/lib/python3.6/site-packages/ipykernel_launcher.py:2: DeprecationWarning: \n",
      ".ix is deprecated. Please use\n",
      ".loc for label based indexing or\n",
      ".iloc for positional indexing\n",
      "\n",
      "See the documentation here:\n",
      "http://pandas.pydata.org/pandas-docs/stable/indexing.html#ix-indexer-is-deprecated\n",
      "  \n",
      "/home/francesco/anaconda3/lib/python3.6/site-packages/ipykernel_launcher.py:3: DeprecationWarning: \n",
      ".ix is deprecated. Please use\n",
      ".loc for label based indexing or\n",
      ".iloc for positional indexing\n",
      "\n",
      "See the documentation here:\n",
      "http://pandas.pydata.org/pandas-docs/stable/indexing.html#ix-indexer-is-deprecated\n",
      "  This is separate from the ipykernel package so we can avoid doing imports until\n",
      "/home/francesco/anaconda3/lib/python3.6/site-packages/ipykernel_launcher.py:4: DeprecationWarning: \n",
      ".ix is deprecated. Please use\n",
      ".loc for label based indexing or\n",
      ".iloc for positional indexing\n",
      "\n",
      "See the documentation here:\n",
      "http://pandas.pydata.org/pandas-docs/stable/indexing.html#ix-indexer-is-deprecated\n",
      "  after removing the cwd from sys.path.\n",
      "/home/francesco/anaconda3/lib/python3.6/site-packages/ipykernel_launcher.py:7: DeprecationWarning: \n",
      ".ix is deprecated. Please use\n",
      ".loc for label based indexing or\n",
      ".iloc for positional indexing\n",
      "\n",
      "See the documentation here:\n",
      "http://pandas.pydata.org/pandas-docs/stable/indexing.html#ix-indexer-is-deprecated\n",
      "  import sys\n",
      "/home/francesco/anaconda3/lib/python3.6/site-packages/ipykernel_launcher.py:8: DeprecationWarning: \n",
      ".ix is deprecated. Please use\n",
      ".loc for label based indexing or\n",
      ".iloc for positional indexing\n",
      "\n",
      "See the documentation here:\n",
      "http://pandas.pydata.org/pandas-docs/stable/indexing.html#ix-indexer-is-deprecated\n",
      "  \n",
      "/home/francesco/anaconda3/lib/python3.6/site-packages/ipykernel_launcher.py:9: DeprecationWarning: \n",
      ".ix is deprecated. Please use\n",
      ".loc for label based indexing or\n",
      ".iloc for positional indexing\n",
      "\n",
      "See the documentation here:\n",
      "http://pandas.pydata.org/pandas-docs/stable/indexing.html#ix-indexer-is-deprecated\n",
      "  if __name__ == '__main__':\n",
      "/home/francesco/anaconda3/lib/python3.6/site-packages/ipykernel_launcher.py:12: DeprecationWarning: \n",
      ".ix is deprecated. Please use\n",
      ".loc for label based indexing or\n",
      ".iloc for positional indexing\n",
      "\n",
      "See the documentation here:\n",
      "http://pandas.pydata.org/pandas-docs/stable/indexing.html#ix-indexer-is-deprecated\n",
      "  if sys.path[0] == '':\n",
      "/home/francesco/anaconda3/lib/python3.6/site-packages/ipykernel_launcher.py:13: DeprecationWarning: \n",
      ".ix is deprecated. Please use\n",
      ".loc for label based indexing or\n",
      ".iloc for positional indexing\n",
      "\n",
      "See the documentation here:\n",
      "http://pandas.pydata.org/pandas-docs/stable/indexing.html#ix-indexer-is-deprecated\n",
      "  del sys.path[0]\n",
      "/home/francesco/anaconda3/lib/python3.6/site-packages/ipykernel_launcher.py:14: DeprecationWarning: \n",
      ".ix is deprecated. Please use\n",
      ".loc for label based indexing or\n",
      ".iloc for positional indexing\n",
      "\n",
      "See the documentation here:\n",
      "http://pandas.pydata.org/pandas-docs/stable/indexing.html#ix-indexer-is-deprecated\n",
      "  \n"
     ]
    }
   ],
   "source": [
    "Y_0_vs_all = Y_train.copy()\n",
    "Y_0_vs_all.ix[Y_train_0_idx] = 1\n",
    "Y_0_vs_all.ix[Y_train_1_idx] = 0\n",
    "Y_0_vs_all.ix[Y_train_2_idx] = 0\n",
    "\n",
    "Y_1_vs_all = Y_train.copy()\n",
    "Y_1_vs_all.ix[Y_train_0_idx] = 0\n",
    "Y_1_vs_all.ix[Y_train_1_idx] = 1\n",
    "Y_1_vs_all.ix[Y_train_2_idx] = 0\n",
    "\n",
    "Y_2_vs_all = Y_train.copy()\n",
    "Y_2_vs_all.ix[Y_train_0_idx] = 0\n",
    "Y_2_vs_all.ix[Y_train_1_idx] = 0\n",
    "Y_2_vs_all.ix[Y_train_2_idx] = 1"
   ]
  },
  {
   "cell_type": "code",
   "execution_count": 32,
   "metadata": {},
   "outputs": [
    {
     "name": "stdout",
     "output_type": "stream",
     "text": [
      "\n",
      "Class 0 & 1\n",
      "(4200, 1000)\n",
      "(4200, 1)\n",
      "\n",
      "Class 0 & 2\n",
      "(1200, 1000)\n",
      "(1200, 1)\n",
      "\n",
      "Class 1 & 2\n",
      "(4200, 1000)\n",
      "(4200, 1)\n"
     ]
    },
    {
     "name": "stderr",
     "output_type": "stream",
     "text": [
      "/home/francesco/anaconda3/lib/python3.6/site-packages/ipykernel_launcher.py:4: DeprecationWarning: \n",
      ".ix is deprecated. Please use\n",
      ".loc for label based indexing or\n",
      ".iloc for positional indexing\n",
      "\n",
      "See the documentation here:\n",
      "http://pandas.pydata.org/pandas-docs/stable/indexing.html#ix-indexer-is-deprecated\n",
      "  after removing the cwd from sys.path.\n",
      "/home/francesco/anaconda3/lib/python3.6/site-packages/ipykernel_launcher.py:5: DeprecationWarning: \n",
      ".ix is deprecated. Please use\n",
      ".loc for label based indexing or\n",
      ".iloc for positional indexing\n",
      "\n",
      "See the documentation here:\n",
      "http://pandas.pydata.org/pandas-docs/stable/indexing.html#ix-indexer-is-deprecated\n",
      "  \"\"\"\n",
      "/home/francesco/anaconda3/lib/python3.6/site-packages/ipykernel_launcher.py:8: DeprecationWarning: \n",
      ".ix is deprecated. Please use\n",
      ".loc for label based indexing or\n",
      ".iloc for positional indexing\n",
      "\n",
      "See the documentation here:\n",
      "http://pandas.pydata.org/pandas-docs/stable/indexing.html#ix-indexer-is-deprecated\n",
      "  \n",
      "/home/francesco/anaconda3/lib/python3.6/site-packages/ipykernel_launcher.py:9: DeprecationWarning: \n",
      ".ix is deprecated. Please use\n",
      ".loc for label based indexing or\n",
      ".iloc for positional indexing\n",
      "\n",
      "See the documentation here:\n",
      "http://pandas.pydata.org/pandas-docs/stable/indexing.html#ix-indexer-is-deprecated\n",
      "  if __name__ == '__main__':\n",
      "/home/francesco/anaconda3/lib/python3.6/site-packages/ipykernel_launcher.py:12: DeprecationWarning: \n",
      ".ix is deprecated. Please use\n",
      ".loc for label based indexing or\n",
      ".iloc for positional indexing\n",
      "\n",
      "See the documentation here:\n",
      "http://pandas.pydata.org/pandas-docs/stable/indexing.html#ix-indexer-is-deprecated\n",
      "  if sys.path[0] == '':\n",
      "/home/francesco/anaconda3/lib/python3.6/site-packages/ipykernel_launcher.py:13: DeprecationWarning: \n",
      ".ix is deprecated. Please use\n",
      ".loc for label based indexing or\n",
      ".iloc for positional indexing\n",
      "\n",
      "See the documentation here:\n",
      "http://pandas.pydata.org/pandas-docs/stable/indexing.html#ix-indexer-is-deprecated\n",
      "  del sys.path[0]\n"
     ]
    }
   ],
   "source": [
    "#Select samples by group of two labels\n",
    "\n",
    "indices_0_1 = list(np.union1d(Y_train_0_idx, Y_train_1_idx))\n",
    "X_train_0_1 = train_data.ix[indices_0_1]\n",
    "Y_train_0_1 = Y_train.ix[indices_0_1]\n",
    "\n",
    "indices_0_2 = list(np.union1d(Y_train_0_idx, Y_train_2_idx))\n",
    "X_train_0_2 = train_data.ix[indices_0_2]\n",
    "Y_train_0_2 = Y_train.ix[indices_0_2]\n",
    "\n",
    "indices_1_2 = list(np.union1d(Y_train_1_idx, Y_train_2_idx))\n",
    "X_train_1_2 = train_data.ix[indices_1_2]\n",
    "Y_train_1_2 = Y_train.ix[indices_1_2]\n",
    "\n",
    "print(\"\\nClass 0 & 1\")\n",
    "print(X_train_0_1.shape)\n",
    "print(Y_train_0_1.shape)\n",
    "\n",
    "print(\"\\nClass 0 & 2\")\n",
    "print(X_train_0_2.shape)\n",
    "print(Y_train_0_2.shape)\n",
    "\n",
    "print(\"\\nClass 1 & 2\")\n",
    "print(X_train_1_2.shape)\n",
    "print(Y_train_1_2.shape)\n"
   ]
  },
  {
   "cell_type": "code",
   "execution_count": 33,
   "metadata": {},
   "outputs": [],
   "source": [
    "#Zero mean unit variance for train and test data\n",
    "def scale_data(train, test):\n",
    "    \n",
    "    print(\"Train shape: \", train.shape)\n",
    "    print(\"Test shape: \",test.shape)\n",
    "    \n",
    "    scaler = StandardScaler().fit(train, Y_train)\n",
    "    train = scaler.transform(train)\n",
    "    test = scaler.transform(test)\n",
    "   \n",
    "    return train, test"
   ]
  },
  {
   "cell_type": "code",
   "execution_count": 34,
   "metadata": {},
   "outputs": [
    {
     "name": "stdout",
     "output_type": "stream",
     "text": [
      "\n",
      "1 vs all\n",
      "Train shape:  (4800, 1000)\n",
      "Test shape:  (4100, 1000)\n",
      "(4800, 1000)\n",
      "(4100, 1000)\n"
     ]
    }
   ],
   "source": [
    "#Scale each class samles w.r.t its similar (in the same label)\n",
    "\n",
    "\"\"\"print(\"\\n1 vs 1\")\n",
    "X_train_0_1, test_data_mean_scaled = scale_data(X_train_0_1, test_data_mean)\n",
    "X_train_0_2, test_data_mean_scaled = scale_data(X_train_0_2, test_data_mean)\n",
    "X_train_1_2, test_data_mean_scaled = scale_data(X_train_1_2, test_data_mean)\n",
    "\"\"\"\n",
    "\n",
    "print(\"\\n1 vs all\")\n",
    "X_train, X_test = scale_data(train_data, test_data)\n",
    "print(X_train.shape)\n",
    "print(X_test.shape)"
   ]
  },
  {
   "cell_type": "code",
   "execution_count": 35,
   "metadata": {},
   "outputs": [
    {
     "name": "stdout",
     "output_type": "stream",
     "text": [
      "(4200, 1000)\n",
      "(4200, 1)\n"
     ]
    },
    {
     "name": "stderr",
     "output_type": "stream",
     "text": [
      "/home/francesco/anaconda3/lib/python3.6/site-packages/sklearn/utils/validation.py:578: DataConversionWarning: A column-vector y was passed when a 1d array was expected. Please change the shape of y to (n_samples, ), for example using ravel().\n",
      "  \n",
      "/home/francesco/anaconda3/lib/python3.6/site-packages/sklearn/utils/validation.py:578: DataConversionWarning: A column-vector y was passed when a 1d array was expected. Please change the shape of y to (n_samples, ), for example using ravel().\n",
      "  \n",
      "/home/francesco/anaconda3/lib/python3.6/site-packages/sklearn/utils/validation.py:578: DataConversionWarning: A column-vector y was passed when a 1d array was expected. Please change the shape of y to (n_samples, ), for example using ravel().\n",
      "  \n"
     ]
    },
    {
     "data": {
      "image/png": "[encoded data removed]",
      "text/plain": [
       "<Figure size 432x288 with 1 Axes>"
      ]
     },
     "metadata": {},
     "output_type": "display_data"
    }
   ],
   "source": [
    "#Extract the features to use with f_classification\n",
    "# 1 vs 1 label\n",
    "\n",
    "n_features_fr = 200\n",
    "\n",
    "print(X_train_0_1.shape)\n",
    "print(Y_train_0_1.shape)\n",
    "\n",
    "features_scores_01 = f_classif(X_train_0_1, Y_train_0_1)[0]\n",
    "features_scores_02 = f_classif(X_train_0_2, Y_train_0_2)[0]\n",
    "features_scores_12 = f_classif(X_train_1_2, Y_train_1_2)[0]\n",
    "\n",
    "#print(features_scores)\n",
    "y_01 = list(features_scores_01)\n",
    "y_02 = list(features_scores_02)\n",
    "y_12 = list(features_scores_12)\n",
    "\n",
    "#print(y)\n",
    "fc_selection_01 = np.asarray(y_01)\n",
    "fc_selection_02 = np.asarray(y_02)\n",
    "fc_selection_12 = np.asarray(y_12)\n",
    "\n",
    "plt.plot(-1*np.sort(-1*fc_selection_01), label='Labels 0 vs 1'); #Easiest\n",
    "plt.plot(-1*np.sort(-1*fc_selection_12), label='Labels 1 vs 2');\n",
    "plt.plot(-1*np.sort(-1*fc_selection_02), label='Labels 0 vs 2'); #Most difficult\n",
    "\n",
    "indices_fc_01 = fc_selection_01.argsort()[-n_features_fr:][::-1]\n",
    "indices_fc_12 = fc_selection_12.argsort()[-n_features_fr:][::-1]\n",
    "indices_fc_02 = fc_selection_02.argsort()[-n_features_fr:][::-1]\n",
    "\n",
    "#print(indices_fr)\n",
    "#print(len(indices_fr))"
   ]
  },
  {
   "cell_type": "code",
   "execution_count": 36,
   "metadata": {},
   "outputs": [
    {
     "name": "stdout",
     "output_type": "stream",
     "text": [
      "(4800, 1000)\n",
      "(4800, 1)\n",
      "Total features selected in common (intersection) between 0 vs 2 and 0 vs all approach:  37\n"
     ]
    },
    {
     "name": "stderr",
     "output_type": "stream",
     "text": [
      "/home/francesco/anaconda3/lib/python3.6/site-packages/sklearn/utils/validation.py:578: DataConversionWarning: A column-vector y was passed when a 1d array was expected. Please change the shape of y to (n_samples, ), for example using ravel().\n",
      "  \n",
      "/home/francesco/anaconda3/lib/python3.6/site-packages/sklearn/utils/validation.py:578: DataConversionWarning: A column-vector y was passed when a 1d array was expected. Please change the shape of y to (n_samples, ), for example using ravel().\n",
      "  \n",
      "/home/francesco/anaconda3/lib/python3.6/site-packages/sklearn/utils/validation.py:578: DataConversionWarning: A column-vector y was passed when a 1d array was expected. Please change the shape of y to (n_samples, ), for example using ravel().\n",
      "  \n"
     ]
    },
    {
     "data": {
      "image/png": "[encoded data removed]",
      "text/plain": [
       "<Figure size 432x288 with 1 Axes>"
      ]
     },
     "metadata": {},
     "output_type": "display_data"
    }
   ],
   "source": [
    "# 1 vs all philosophy\n",
    "#Extract the features to use with f_classification\n",
    "\n",
    "n_features_fc = 200\n",
    "\n",
    "print(X_train.shape)\n",
    "print(Y_0_vs_all.shape)\n",
    "#print(Y_0_vs_all)\n",
    "\n",
    "features_scores_0_vs_all = f_classif(X_train, Y_0_vs_all)[0]\n",
    "#print(features_scores_0_vs_all)\n",
    "features_scores_1_vs_all = f_classif(X_train, Y_1_vs_all)[0]\n",
    "features_scores_2_vs_all = f_classif(X_train, Y_2_vs_all)[0]\n",
    "\n",
    "#print(features_scores)\n",
    "y_0_vs_all = list(features_scores_0_vs_all)\n",
    "y_1_vs_all = list(features_scores_1_vs_all)\n",
    "y_2_vs_all = list(features_scores_2_vs_all)\n",
    "\n",
    "#print(y)\n",
    "f_0_vs_all = np.asarray(y_0_vs_all)\n",
    "f_1_vs_all = np.asarray(y_1_vs_all)\n",
    "f_2_vs_all = np.asarray(y_2_vs_all)\n",
    "\n",
    "plt.plot(-1*np.sort(-1*f_0_vs_all), label='Labels 0 vs all'); #Hardest\n",
    "plt.plot(-1*np.sort(-1*f_1_vs_all), label='Labels 1 vs all');\n",
    "plt.plot(-1*np.sort(-1*f_2_vs_all), label='Labels 0 vs all');\n",
    "\n",
    "indices_fc_0_vs_all = f_0_vs_all.argsort()[-n_features_fc:][::-1]\n",
    "indices_fc_1_vs_all = f_1_vs_all.argsort()[-n_features_fc:][::-1]\n",
    "indices_fc_2_vs_all = f_2_vs_all.argsort()[-n_features_fc:][::-1]\n",
    "\n",
    "#print(indices_fr)\n",
    "#print(len(indices_fr))\n",
    "\n",
    "\"\"\"print(len(indices_fc_0_vs_all))\n",
    "print(len(myarray_02))\n",
    "print(indices_fc_0_vs_all[0:50])\n",
    "print(myarray_02[0:50])\"\"\"\n",
    "\n",
    "indices_see = list(set(indices_fc_0_vs_all).intersection(indices_fc_02))\n",
    "print(\"Total features selected in common (intersection) between 0 vs 2 and 0 vs all approach: \",len(indices_see))\n"
   ]
  },
  {
   "cell_type": "code",
   "execution_count": 37,
   "metadata": {},
   "outputs": [
    {
     "name": "stdout",
     "output_type": "stream",
     "text": [
      "Total indices selected:  281\n",
      "Train shape:  (4800, 281)\n",
      "Test shape:  (4100, 281)\n"
     ]
    }
   ],
   "source": [
    "#Extract the feature selected from dataset\n",
    "\n",
    "#indices = list(set(indices_fr_0_vs_all).intersection(indices_fr_1_vs_all).intersection(indices_fr_2_vs_all))\n",
    "indices = list(set(indices_fc_0_vs_all).union(indices_fc_1_vs_all).union(indices_fc_2_vs_all))\n",
    "\n",
    "#print(indices)\n",
    "\n",
    "print(\"Total indices selected: \",len(indices))\n",
    "\n",
    "X_train_subset = train_data[train_data.columns[indices]]\n",
    "X_test_subset = test_data[train_data.columns[indices]]\n",
    "\n",
    "#Scale data\n",
    "\n",
    "X_train_subset, X_test_subset = scale_data(X_train_subset, X_test_subset)"
   ]
  },
  {
   "cell_type": "code",
   "execution_count": 13,
   "metadata": {},
   "outputs": [],
   "source": [
    "def from_class_to_vec(y_list):\n",
    "    \n",
    "    Y_vec_list = []\n",
    "    print(\"length of list passed \",len(y_list))\n",
    "    \n",
    "    for value in y_list:\n",
    "        if value == 0.0:\n",
    "            Y_vec_list.append([1,0])\n",
    "        if value == 1.0:\n",
    "            Y_vec_list.append([0,1])\n",
    "            \n",
    "    #print(\"Example binary vector \",Y_vec_0_vs_all)\n",
    "    return np.array(Y_vec_list)\n"
   ]
  },
  {
   "cell_type": "code",
   "execution_count": 23,
   "metadata": {},
   "outputs": [
    {
     "name": "stdout",
     "output_type": "stream",
     "text": [
      "length of list passed  4800\n",
      "length of list passed  4800\n",
      "length of list passed  4800\n",
      "\n",
      "Final shapes of class vectors:\n",
      "(4800, 2)\n",
      "(4800, 2)\n",
      "(4800, 2)\n"
     ]
    }
   ],
   "source": [
    "# From labels to probability vectors\n",
    "\n",
    "y_list = list(Y_0_vs_all['y'])\n",
    "Y_vec_0_vs_all = from_class_to_vec(y_list)\n",
    "\n",
    "y_list = list(Y_1_vs_all['y'])\n",
    "Y_vec_1_vs_all = from_class_to_vec(y_list)\n",
    "\n",
    "y_list = list(Y_2_vs_all['y'])\n",
    "Y_vec_2_vs_all = from_class_to_vec(y_list)\n",
    "\n",
    "print(\"\\nFinal shapes of class vectors:\")\n",
    "print(Y_vec_0_vs_all.shape)\n",
    "print(Y_vec_1_vs_all.shape)\n",
    "print(Y_vec_2_vs_all.shape)\n"
   ]
  },
  {
   "cell_type": "code",
   "execution_count": 25,
   "metadata": {},
   "outputs": [
    {
     "ename": "NameError",
     "evalue": "name 'indices' is not defined",
     "output_type": "error",
     "traceback": [
      "\u001b[0;31m---------------------------------------------------------------------------\u001b[0m",
      "\u001b[0;31mNameError\u001b[0m                                 Traceback (most recent call last)",
      "\u001b[0;32m<ipython-input-25-1457233ed4da>\u001b[0m in \u001b[0;36m<module>\u001b[0;34m()\u001b[0m\n\u001b[1;32m     23\u001b[0m \u001b[0;31m# Parameters\u001b[0m\u001b[0;34m\u001b[0m\u001b[0;34m\u001b[0m\u001b[0m\n\u001b[1;32m     24\u001b[0m \u001b[0;34m\u001b[0m\u001b[0m\n\u001b[0;32m---> 25\u001b[0;31m \u001b[0minput_dimensions\u001b[0m \u001b[0;34m=\u001b[0m \u001b[0mlen\u001b[0m\u001b[0;34m(\u001b[0m\u001b[0mindices\u001b[0m\u001b[0;34m)\u001b[0m\u001b[0;34m\u001b[0m\u001b[0m\n\u001b[0m\u001b[1;32m     26\u001b[0m \u001b[0mlambda_reg\u001b[0m \u001b[0;34m=\u001b[0m \u001b[0;36m10\u001b[0m\u001b[0;34m\u001b[0m\u001b[0m\n\u001b[1;32m     27\u001b[0m \u001b[0mnum_epochs\u001b[0m \u001b[0;34m=\u001b[0m \u001b[0;36m100\u001b[0m\u001b[0;34m\u001b[0m\u001b[0m\n",
      "\u001b[0;31mNameError\u001b[0m: name 'indices' is not defined"
     ]
    }
   ],
   "source": [
    "from keras.models import Sequential\n",
    "from keras.layers import Dense\n",
    "from keras.layers import LeakyReLU\n",
    "from keras.optimizers import Adam\n",
    "from keras.layers import Dropout\n",
    "from keras import regularizers\n",
    "from keras import initializers\n",
    "from keras.losses import *\n",
    " #from sklearn.metrics import balanced_accuracy_score\n",
    "\n",
    "def coeff_determination(y_true, y_pred):\n",
    "    from keras import backend as K\n",
    "    SS_res =  K.sum(K.square( y_true-y_pred ))\n",
    "    SS_tot = K.sum(K.square( y_true - K.mean(y_true) ) )\n",
    "    return ( 1 - SS_res/(SS_tot + K.epsilon()) )\n",
    "\n",
    "def bmac_metric(y_true, y_pred):\n",
    "    TPR =  tf.metrics.recall(y_true, y_pred)\n",
    "    #SS_tot = K.sum(K.square( y_true - K.mean(y_true) ) )\n",
    "    return TPR\n",
    "\n",
    "# fix random seed for reproducibility\n",
    "# Parameters\n",
    "\n",
    "input_dimensions = len(indices)\n",
    "lambda_reg = 10\n",
    "num_epochs = 100\n",
    "dropout = 0\n",
    "\n",
    "#kfold = StratifiedKFold(n_splits=10, shuffle=True, random_state=seed)\n",
    "#cvscores = []\n",
    "\n",
    "optimizer = Adam(lr=0.1, beta_1=0.9, beta_2=0.999, epsilon=None, decay=0.0, amsgrad=False)\n",
    "print(\"Input dimensions: \", input_dimensions)\n",
    "\n",
    "#for train, test in kfold.split(X_train_subset, Y):\n",
    "# create model\n",
    "def nn_model():\n",
    "    \n",
    "    model = Sequential()\n",
    "    model.add(Dense(200, input_dim= input_dimensions, kernel_regularizer = regularizers.l1(lambda_reg)))\n",
    "    model.add(LeakyReLU(alpha=0.1))\n",
    "    model.add(Dropout(rate = dropout))\n",
    "    model.add(Dense(200, input_dim= input_dimensions, kernel_regularizer = regularizers.l1(lambda_reg)))\n",
    "    model.add(LeakyReLU(alpha=0.1))\n",
    "    model.add(Dropout(rate = dropout))\n",
    "    model.add(Dense(100, input_dim= input_dimensions, kernel_regularizer = regularizers.l1(lambda_reg)))\n",
    "    model.add(LeakyReLU(alpha=0.1))\n",
    "    model.add(Dropout(rate = dropout))\n",
    "    \n",
    "    model.add(Dense(2, kernel_regularizer = regularizers.l1(lambda_reg), activation = 'softmax'))\n",
    "\n",
    "    model.compile(loss='binary_crossentropy', optimizer=optimizer, metrics=[coeff_determination])\n",
    "    \n",
    "    return model"
   ]
  },
  {
   "cell_type": "code",
   "execution_count": 24,
   "metadata": {},
   "outputs": [
    {
     "ename": "NameError",
     "evalue": "name 'nn_model' is not defined",
     "output_type": "error",
     "traceback": [
      "\u001b[0;31m---------------------------------------------------------------------------\u001b[0m",
      "\u001b[0;31mNameError\u001b[0m                                 Traceback (most recent call last)",
      "\u001b[0;32m<ipython-input-24-e699d74e2877>\u001b[0m in \u001b[0;36m<module>\u001b[0;34m()\u001b[0m\n\u001b[1;32m      3\u001b[0m \u001b[0;31m# 0 vs all -> fit new model\u001b[0m\u001b[0;34m\u001b[0m\u001b[0;34m\u001b[0m\u001b[0m\n\u001b[1;32m      4\u001b[0m \u001b[0;34m\u001b[0m\u001b[0m\n\u001b[0;32m----> 5\u001b[0;31m \u001b[0mmodel_0_vs_all\u001b[0m \u001b[0;34m=\u001b[0m \u001b[0mnn_model\u001b[0m\u001b[0;34m(\u001b[0m\u001b[0;34m)\u001b[0m\u001b[0;34m\u001b[0m\u001b[0m\n\u001b[0m\u001b[1;32m      6\u001b[0m \u001b[0mmodel_1_vs_all\u001b[0m \u001b[0;34m=\u001b[0m \u001b[0mnn_model\u001b[0m\u001b[0;34m(\u001b[0m\u001b[0;34m)\u001b[0m\u001b[0;34m\u001b[0m\u001b[0m\n\u001b[1;32m      7\u001b[0m \u001b[0mmodel_2_vs_all\u001b[0m \u001b[0;34m=\u001b[0m \u001b[0mnn_model\u001b[0m\u001b[0;34m(\u001b[0m\u001b[0;34m)\u001b[0m\u001b[0;34m\u001b[0m\u001b[0m\n",
      "\u001b[0;31mNameError\u001b[0m: name 'nn_model' is not defined"
     ]
    }
   ],
   "source": [
    "# Fit the models\n",
    "\n",
    "# 0 vs all -> fit new model\n",
    "\n",
    "model_0_vs_all = nn_model()\n",
    "model_1_vs_all = nn_model()\n",
    "model_2_vs_all = nn_model()\n",
    "\n",
    "model_0_vs_all.fit(x=X_train_subset, y=Y_vec_0_vs_all, epochs=num_epochs, verbose=2, validation_split=0.1, shuffle=True, \n",
    "          steps_per_epoch=100, initial_epoch=0, validation_steps=5)\n",
    "\n",
    "model_1_vs_all.fit(x=X_train_subset, y=Y_vec_1_vs_all, epochs=num_epochs, verbose=2, validation_split=0.1, shuffle=True, \n",
    "          steps_per_epoch=100, initial_epoch=0, validation_steps=5)\n",
    "\n",
    "model_2_vs_all.fit(x=X_train_subset, y=Y_vec_2_vs_all, epochs=num_epochs, verbose=2, validation_split=0.1, shuffle=True, \n",
    "          steps_per_epoch=100, initial_epoch=0, validation_steps=5)\n",
    "\n",
    "\n"
   ]
  },
  {
   "cell_type": "code",
   "execution_count": 222,
   "metadata": {},
   "outputs": [
    {
     "name": "stdout",
     "output_type": "stream",
     "text": [
      "0.875\n",
      "0.8729166666666667\n",
      "0.8833333333333333\n",
      "0.8770833333333333\n",
      "0.8708333333333333\n",
      "0.875\n",
      "0.875\n",
      "0.8770833333333333\n",
      "0.8854166666666666\n",
      "0.8770833333333333\n",
      "AVG: BMAC score: 0.8769 (+/- 0.0042)\n"
     ]
    },
    {
     "name": "stderr",
     "output_type": "stream",
     "text": [
      "/home/francesco/anaconda3/lib/python3.6/site-packages/ipykernel_launcher.py:32: DataConversionWarning: A column-vector y was passed when a 1d array was expected. Please change the shape of y to (n_samples,), for example using ravel().\n"
     ]
    },
    {
     "data": {
      "image/png": "[encoded data removed]",
      "text/plain": [
       "<Figure size 432x288 with 1 Axes>"
      ]
     },
     "metadata": {},
     "output_type": "display_data"
    }
   ],
   "source": [
    "from sklearn.metrics import accuracy_score\n",
    "from sklearn.metrics import *\n",
    "\n",
    "BMAC = []\n",
    "\n",
    "kfold = StratifiedKFold(n_splits=10, shuffle=True, random_state=seed)\n",
    "\n",
    "Y_0_vs_all_list = Y_0_vs_all['y']\n",
    "\n",
    "for train, test in kfold.split(X_train_subset, Y_0_vs_all_list ):\n",
    "    X = X_train_subset[train]\n",
    "    Y = Y_0_vs_all_list[train]\n",
    "\n",
    "    model = RandomForestClassifier(n_estimators=100, random_state=seed)\n",
    "    model.fit(X, Y)\n",
    "    \n",
    "    plt.plot((-1*np.sort(-1*np.asarray(model.feature_importances_))))\n",
    "    \n",
    "    X_test = X_train_subset[test]\n",
    "    Y_true = Y_0_vs_all_list.values[test]\n",
    "    Y_pred = model.predict(X_test)\n",
    "\n",
    "    # Summary of the predictions made by the classifier\n",
    "    #print(classification_report(X_test, Y_pred))\n",
    "    #print(confusion_matrix(Y_test, Y_pred))\n",
    "    # Accuracy score\n",
    "    cur_BMAC = accuracy_score(Y_true, Y_pred)\n",
    "    print(cur_BMAC)\n",
    "    BMAC.append(cur_BMAC)\n",
    "    \n",
    "print(\"AVG: BMAC score: %.4f (+/- %.4f)\" % (np.mean(BMAC), np.std(BMAC)))\n",
    "model.fit(X_train_subset, Y_train.values) # train on all data\n",
    "pred = model.predict(X_test_subset)\n",
    "#make_submission('nk_balanced_random_forest_classifier.csv', pred)"
   ]
  },
  {
   "cell_type": "code",
   "execution_count": 178,
   "metadata": {},
   "outputs": [
    {
     "name": "stdout",
     "output_type": "stream",
     "text": [
      "19\n"
     ]
    }
   ],
   "source": [
    "c = 0\n",
    "for val in pred:\n",
    "    if val == 0:\n",
    "        c = c+1\n",
    "print(c)"
   ]
  },
  {
   "cell_type": "code",
   "execution_count": null,
   "metadata": {},
   "outputs": [],
   "source": []
  }
 ],
 "metadata": {
  "kernelspec": {
   "display_name": "Python 3",
   "language": "python",
   "name": "python3"
  },
  "language_info": {
   "codemirror_mode": {
    "name": "ipython",
    "version": 3
   },
   "file_extension": ".py",
   "mimetype": "text/x-python",
   "name": "python",
   "nbconvert_exporter": "python",
   "pygments_lexer": "ipython3",
   "version": "3.6.5"
  }
 },
 "nbformat": 4,
 "nbformat_minor": 2
}
