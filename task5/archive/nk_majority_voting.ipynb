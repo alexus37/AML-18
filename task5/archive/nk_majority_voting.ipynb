{
 "cells": [
  {
   "cell_type": "code",
   "execution_count": 1,
   "metadata": {
    "colab": {
     "base_uri": "https://localhost:8080/",
     "height": 232
    },
    "colab_type": "code",
    "executionInfo": {
     "elapsed": 72939,
     "status": "ok",
     "timestamp": 1544773556192,
     "user": {
      "displayName": "Nicolas Küchler",
      "photoUrl": "",
      "userId": "14773896024539807174"
     },
     "user_tz": -60
    },
    "id": "uwo4KEC1FRx6",
    "outputId": "2878c3b6-e905-494a-dc3d-0aafa6deccb5"
   },
   "outputs": [
    {
     "name": "stdout",
     "output_type": "stream",
     "text": [
      "E: Package 'python-software-properties' has no installation candidate\n",
      "Selecting previously unselected package google-drive-ocamlfuse.\n",
      "(Reading database ... 110377 files and directories currently installed.)\n",
      "Preparing to unpack .../google-drive-ocamlfuse_0.7.1-0ubuntu3~ubuntu18.04.1_amd64.deb ...\n",
      "Unpacking google-drive-ocamlfuse (0.7.1-0ubuntu3~ubuntu18.04.1) ...\n",
      "Setting up google-drive-ocamlfuse (0.7.1-0ubuntu3~ubuntu18.04.1) ...\n",
      "Processing triggers for man-db (2.8.3-2ubuntu0.1) ...\n",
      "Please, open the following URL in a web browser: https://accounts.google.com/o/oauth2/auth?client_id=32555940559.apps.googleusercontent.com&redirect_uri=urn%3Aietf%3Awg%3Aoauth%3A2.0%3Aoob&scope=https%3A%2F%2Fwww.googleapis.com%2Fauth%2Fdrive&response_type=code&access_type=offline&approval_prompt=force\n",
      "··········\n",
      "Please, open the following URL in a web browser: https://accounts.google.com/o/oauth2/auth?client_id=32555940559.apps.googleusercontent.com&redirect_uri=urn%3Aietf%3Awg%3Aoauth%3A2.0%3Aoob&scope=https%3A%2F%2Fwww.googleapis.com%2Fauth%2Fdrive&response_type=code&access_type=offline&approval_prompt=force\n",
      "Please enter the verification code: Access token retrieved correctly.\n"
     ]
    }
   ],
   "source": [
    "#@title Import Data\n",
    "#@markdown - upload the folder aml-task5 into your google drive\n",
    "#@markdown - change the runtime to gpu (is faster than tpu)\n",
    "#@markdown - run this cell to import the data (to see the code: right mouse click / form / show code )\n",
    "\n",
    "\n",
    "# First remember to change runtime to GPU !!\n",
    "\n",
    "!apt-get install -y -qq software-properties-common python-software-properties module-init-tools\n",
    "!add-apt-repository -y ppa:alessandro-strada/ppa 2>&1 > /dev/null\n",
    "!apt-get update -qq 2>&1 > /dev/null\n",
    "!apt-get -y install -qq google-drive-ocamlfuse fuse\n",
    "from google.colab import auth\n",
    "auth.authenticate_user()\n",
    "from oauth2client.client import GoogleCredentials\n",
    "creds = GoogleCredentials.get_application_default()\n",
    "import getpass\n",
    "!google-drive-ocamlfuse -headless -id={creds.client_id} -secret={creds.client_secret} < /dev/null 2>&1 | grep URL\n",
    "vcode = getpass.getpass()\n",
    "!echo {vcode} | google-drive-ocamlfuse -headless -id={creds.client_id} -secret={creds.client_secret}\n",
    "\n",
    "#COLAB\n",
    "!mkdir -p drive\n",
    "!google-drive-ocamlfuse drive"
   ]
  },
  {
   "cell_type": "code",
   "execution_count": null,
   "metadata": {
    "colab": {},
    "colab_type": "code",
    "id": "2I9lR51hFWZG"
   },
   "outputs": [],
   "source": [
    "import os\n",
    "#Upload on drive fist the data folder called \"data\"\n",
    "os.chdir(\"/content/drive/aml-task5\")"
   ]
  },
  {
   "cell_type": "code",
   "execution_count": 3,
   "metadata": {
    "colab": {
     "base_uri": "https://localhost:8080/",
     "height": 265
    },
    "colab_type": "code",
    "executionInfo": {
     "elapsed": 25991,
     "status": "ok",
     "timestamp": 1544773587524,
     "user": {
      "displayName": "Nicolas Küchler",
      "photoUrl": "",
      "userId": "14773896024539807174"
     },
     "user_tz": -60
    },
    "id": "iZfccEhBfQra",
    "outputId": "c4457a87-3db1-486b-8906-018aaf008da6"
   },
   "outputs": [
    {
     "name": "stdout",
     "output_type": "stream",
     "text": [
      "Requirement already satisfied: cvxopt in /usr/local/lib/python3.6/dist-packages (1.2.2)\n",
      "Collecting pystruct\n",
      "\u001b[?25l  Downloading https://files.pythonhosted.org/packages/65/42/763411d5025534699b84f596df89f79b3f044b362bf299e3f649900710f2/pystruct-0.3.2.tar.gz (5.6MB)\n",
      "\u001b[K    100% |████████████████████████████████| 5.6MB 7.3MB/s \n",
      "\u001b[?25hCollecting ad3 (from pystruct)\n",
      "\u001b[?25l  Downloading https://files.pythonhosted.org/packages/5a/5c/0ac91c3ac9af74030c38461df521aaf8c4f2f1da59af11093f63716664da/ad3-2.2.1-cp36-cp36m-manylinux1_x86_64.whl (668kB)\n",
      "\u001b[K    100% |████████████████████████████████| 675kB 23.0MB/s \n",
      "\u001b[?25hRequirement already satisfied: numpy in /usr/local/lib/python3.6/dist-packages (from pystruct) (1.14.6)\n",
      "Building wheels for collected packages: pystruct\n",
      "  Running setup.py bdist_wheel for pystruct ... \u001b[?25ldone\n",
      "\u001b[?25h  Stored in directory: /root/.cache/pip/wheels/d4/47/c8/18233d60780a14437cf42d8598ba553c0fefc832c0827c42fe\n",
      "Successfully built pystruct\n",
      "Installing collected packages: ad3, pystruct\n",
      "Successfully installed ad3-2.2.1 pystruct-0.3.2\n"
     ]
    }
   ],
   "source": [
    "!pip install cvxopt\n",
    "!pip install pystruct"
   ]
  },
  {
   "cell_type": "code",
   "execution_count": null,
   "metadata": {
    "colab": {},
    "colab_type": "code",
    "id": "icV9GFBBBDES"
   },
   "outputs": [],
   "source": [
    "import sys\n",
    "import os\n",
    "\n",
    "import pandas as pd\n",
    "import numpy as np\n",
    "import natsort\n",
    "import random as rn\n",
    "from tqdm import tqdm_notebook as tqdm\n",
    "import tensorflow as tf\n",
    "#import pyeeg\n",
    "\n",
    "from scipy import signal\n",
    "from scipy.signal import (welch, medfilt, wiener,savgol_filter)\n",
    "from scipy.integrate import simps\n",
    "\n",
    "import matplotlib.pyplot as plt\n",
    "\n",
    "#Keras\n",
    "\n",
    "#Sklearn\n",
    "from sklearn import preprocessing\n",
    "from sklearn.preprocessing import StandardScaler\n",
    "from sklearn.gaussian_process import GaussianProcessClassifier\n",
    "from sklearn.gaussian_process.kernels import RBF\n",
    "from sklearn.neural_network import MLPRegressor\n",
    "from sklearn.svm import (SVC, SVR)\n",
    "from sklearn.tree import DecisionTreeRegressor\n",
    "from sklearn.ensemble import (RandomForestClassifier, GradientBoostingClassifier)\n",
    "from sklearn.linear_model import LogisticRegression\n",
    "from sklearn.neural_network import MLPClassifier\n",
    "from sklearn.feature_selection import SelectFromModel\n",
    "from sklearn.utils.class_weight import compute_class_weight\n",
    "from sklearn.preprocessing import OneHotEncoder\n",
    "\n",
    "from sklearn.linear_model import LogisticRegression\n",
    "from sklearn.model_selection import cross_val_score\n",
    "from sklearn.model_selection import (StratifiedKFold, KFold)\n",
    "\n",
    "from sklearn.metrics import (accuracy_score, make_scorer, balanced_accuracy_score, roc_auc_score, mean_squared_error)\n",
    "\n",
    "from sklearn.model_selection import GridSearchCV\n",
    "\n",
    "from sklearn.manifold import TSNE\n",
    "import warnings\n",
    "warnings.simplefilter(action='ignore', category=FutureWarning)\n",
    "\n",
    "from keras.models import Sequential\n",
    "from keras.layers import LSTM, Dense\n",
    "\n",
    "from sklearn.metrics import confusion_matrix\n",
    "\n",
    "from pystruct.models import ChainCRF\n",
    "from pystruct.learners import FrankWolfeSSVM\n",
    "from pystruct.learners import OneSlackSSVM\n",
    "\n",
    "from sklearn.ensemble import VotingClassifier\n",
    "\n",
    "from statistics import median\n",
    "seed=42\n",
    "np.random.seed(seed)\n",
    "rn.seed(seed)\n",
    "tf.set_random_seed(seed)\n",
    "dir_path = os.getcwd()\n",
    "# https://en.wikipedia.org/wiki/Neural_oscillation\n",
    "SAMPLE_PER_SEC = 128\n",
    "SAMPLE_PER_RAT = 21600\n",
    "DELTA_WAVE = [1, 4]\n",
    "THETA_WAVE = [4, 8]\n",
    "ALPHA_WAVE = [7.5, 12.5]\n",
    "BETA_WAVE = [13, 30]\n",
    "TOTAL_ENERGY = [0, 64]\n",
    "# not used\n",
    "LOW_GAMMA_WAVE = [30, 70]\n",
    "HIGH_GAMMA_WAVE = [70, 150]\n",
    "\n",
    "EPSILON =  0.0002\n",
    "FILTER_WINDOW = 5"
   ]
  },
  {
   "cell_type": "code",
   "execution_count": null,
   "metadata": {
    "colab": {},
    "colab_type": "code",
    "id": "VBgHZ_9FBDEg"
   },
   "outputs": [],
   "source": [
    "from keras import backend as K\n",
    "def weighted_categorical_crossentropy(weights):\n",
    "    \"\"\"\n",
    "    A weighted version of keras.objectives.categorical_crossentropy\n",
    "    \n",
    "    Variables:\n",
    "        weights: numpy array of shape (C,) where C is the number of classes\n",
    "    \n",
    "    Usage:\n",
    "        weights = np.array([0.5,2,10]) # Class one at 0.5, class 2 twice the normal weights, class 3 10x.\n",
    "        loss = weighted_categorical_crossentropy(weights)\n",
    "        model.compile(loss=loss,optimizer='adam')\n",
    "    \"\"\"\n",
    "    \n",
    "    weights = K.variable(weights)\n",
    "        \n",
    "    def loss(y_true, y_pred):\n",
    "        # scale predictions so that the class probas of each sample sum to 1\n",
    "        y_pred /= K.sum(y_pred, axis=-1, keepdims=True)\n",
    "        # clip to prevent NaN's and Inf's\n",
    "        y_pred = K.clip(y_pred, K.epsilon(), 1 - K.epsilon())\n",
    "        # calc\n",
    "        loss = y_true * K.log(y_pred) * weights\n",
    "        loss = -K.sum(loss, -1)\n",
    "        return loss\n",
    "    \n",
    "    return loss\n",
    "def check_for_floats(Array):\n",
    "    for row in Array:\n",
    "        for el in row:\n",
    "            if isinstance(el, float):\n",
    "                print(el)\n",
    "                \n",
    "def from_label_to_vec(labels):\n",
    "    labels_vec = []\n",
    "    for l in labels:\n",
    "        if l == 1:\n",
    "            labels_vec.append([1,0,0])\n",
    "        elif l == 2:\n",
    "            labels_vec.append([0,1,0])\n",
    "        elif l == 3:\n",
    "            labels_vec.append([0,0,1])\n",
    "    return np.array(labels_vec)\n",
    "\n",
    "                \n",
    "def from_vec_to_labels(vecs):\n",
    "    labels = []\n",
    "    for v in vecs:\n",
    "        if v[0] == 1:\n",
    "            labels.append(1)\n",
    "        elif v[1] == 1:\n",
    "            labels.append(2)\n",
    "        elif v[2] == 1:\n",
    "            labels.append(3)\n",
    "    return labels\n",
    "  \n",
    "def count_labels(labels):\n",
    "    classes_cnt = [0,0,0]\n",
    "    for l in labels:\n",
    "        classes_cnt[l-1]+=1\n",
    "    print(classes_cnt)"
   ]
  },
  {
   "cell_type": "code",
   "execution_count": 7,
   "metadata": {
    "colab": {
     "base_uri": "https://localhost:8080/",
     "height": 69
    },
    "colab_type": "code",
    "executionInfo": {
     "elapsed": 23655,
     "status": "ok",
     "timestamp": 1544773745334,
     "user": {
      "displayName": "Nicolas Küchler",
      "photoUrl": "",
      "userId": "14773896024539807174"
     },
     "user_tz": -60
    },
    "id": "peT34VsgBDEn",
    "outputId": "b352e9bb-1136-4a79-8e43-de0af5c0b5af"
   },
   "outputs": [
    {
     "name": "stdout",
     "output_type": "stream",
     "text": [
      "X train final shape ->  (64800, 49)\n",
      "X test final shape ->  (43200, 49)\n",
      "X total shape ->  (108000, 49)\n"
     ]
    }
   ],
   "source": [
    "# LOAD THE FEATURES FROM CSV\n",
    "X_train = pd.read_csv(\"features/all_combined_train.csv\").values\n",
    "y_train = np.ravel(pd.read_csv(\"features/all_combined_label.csv\").values)\n",
    "X_test = pd.read_csv(\"features/all_combined_test.csv\").values\n",
    "\n",
    "print(\"X train final shape -> \",X_train.shape)\n",
    "print(\"X test final shape -> \",X_test.shape)\n",
    "#Fit scaler on all data\n",
    "X_total = np.concatenate((X_train, X_test))\n",
    "print(\"X total shape -> \", X_total.shape)\n",
    "\n",
    "scaler = StandardScaler().fit(X_total)\n",
    "\n",
    "data_dim = X_train.shape[1]\n",
    "timesteps = SAMPLE_PER_RAT\n",
    "num_classes = 3\n",
    "batch_size = 32"
   ]
  },
  {
   "cell_type": "code",
   "execution_count": 11,
   "metadata": {
    "colab": {
     "base_uri": "https://localhost:8080/",
     "height": 406
    },
    "colab_type": "code",
    "executionInfo": {
     "elapsed": 2308251,
     "status": "error",
     "timestamp": 1544777865881,
     "user": {
      "displayName": "Nicolas Küchler",
      "photoUrl": "",
      "userId": "14773896024539807174"
     },
     "user_tz": -60
    },
    "id": "B2XgM6ctlVa_",
    "outputId": "52cebd52-6ae4-415b-ef3c-e88b0719e06c"
   },
   "outputs": [
    {
     "name": "stdout",
     "output_type": "stream",
     "text": [
      "Starting CRF...\n",
      "CRF unique predictions[1. 2. 3.]\n",
      "Running SVC...\n",
      "SVC unique predictions[1. 2. 3.]\n",
      "Running LSTM...\n",
      "  start fold\n",
      "  start fold\n",
      "  start fold\n",
      "LSTM unique predictions[1. 2. 3.]\n",
      "Starting Voting Filtered...\n"
     ]
    },
    {
     "ename": "NameError",
     "evalue": "ignored",
     "output_type": "error",
     "traceback": [
      "\u001b[0;31m---------------------------------------------------------------------------\u001b[0m",
      "\u001b[0;31mNameError\u001b[0m                                 Traceback (most recent call last)",
      "\u001b[0;32m<ipython-input-11-1a20fc4e53ad>\u001b[0m in \u001b[0;36m<module>\u001b[0;34m()\u001b[0m\n\u001b[1;32m    109\u001b[0m \u001b[0mprint\u001b[0m\u001b[0;34m(\u001b[0m\u001b[0;34m\"Starting Voting Filtered...\"\u001b[0m\u001b[0;34m)\u001b[0m\u001b[0;34m\u001b[0m\u001b[0;34m\u001b[0m\u001b[0m\n\u001b[1;32m    110\u001b[0m \u001b[0my_pred_filtered_voting\u001b[0m \u001b[0;34m=\u001b[0m \u001b[0mnp\u001b[0m\u001b[0;34m.\u001b[0m\u001b[0marray\u001b[0m\u001b[0;34m(\u001b[0m\u001b[0;34m[\u001b[0m\u001b[0;34m]\u001b[0m\u001b[0;34m)\u001b[0m\u001b[0;34m\u001b[0m\u001b[0;34m\u001b[0m\u001b[0m\n\u001b[0;32m--> 111\u001b[0;31m \u001b[0;32mfor\u001b[0m \u001b[0mi\u001b[0m \u001b[0;32min\u001b[0m \u001b[0mrange\u001b[0m\u001b[0;34m(\u001b[0m\u001b[0;36m0\u001b[0m\u001b[0;34m,\u001b[0m\u001b[0my_pred_crf_filtered\u001b[0m\u001b[0;34m.\u001b[0m\u001b[0mshape\u001b[0m\u001b[0;34m[\u001b[0m\u001b[0;36m0\u001b[0m\u001b[0;34m]\u001b[0m\u001b[0;34m)\u001b[0m\u001b[0;34m:\u001b[0m\u001b[0;34m\u001b[0m\u001b[0;34m\u001b[0m\u001b[0m\n\u001b[0m\u001b[1;32m    112\u001b[0m   \u001b[0my_pred_filtered_voting\u001b[0m \u001b[0;34m=\u001b[0m \u001b[0mnp\u001b[0m\u001b[0;34m.\u001b[0m\u001b[0mappend\u001b[0m\u001b[0;34m(\u001b[0m\u001b[0my_pred_filtered_voting\u001b[0m\u001b[0;34m,\u001b[0m \u001b[0mmedian\u001b[0m\u001b[0;34m(\u001b[0m\u001b[0;34m[\u001b[0m\u001b[0my_pred_filtered_svc\u001b[0m\u001b[0;34m[\u001b[0m\u001b[0mi\u001b[0m\u001b[0;34m]\u001b[0m\u001b[0;34m,\u001b[0m  \u001b[0my_pred_filtered_lstm\u001b[0m\u001b[0;34m[\u001b[0m\u001b[0mi\u001b[0m\u001b[0;34m]\u001b[0m\u001b[0;34m,\u001b[0m \u001b[0my_pred_filtered_crf\u001b[0m\u001b[0;34m[\u001b[0m\u001b[0mi\u001b[0m\u001b[0;34m]\u001b[0m\u001b[0;34m]\u001b[0m\u001b[0;34m)\u001b[0m\u001b[0;34m)\u001b[0m\u001b[0;34m\u001b[0m\u001b[0;34m\u001b[0m\u001b[0m\n\u001b[1;32m    113\u001b[0m \u001b[0my_pred_filtered_voting\u001b[0m \u001b[0;34m=\u001b[0m \u001b[0mmedfilt\u001b[0m\u001b[0;34m(\u001b[0m\u001b[0my_pred_filtered_voting\u001b[0m\u001b[0;34m,\u001b[0m \u001b[0mFILTER_WINDOW\u001b[0m\u001b[0;34m)\u001b[0m\u001b[0;34m\u001b[0m\u001b[0;34m\u001b[0m\u001b[0m\n",
      "\u001b[0;31mNameError\u001b[0m: name 'y_pred_crf_filtered' is not defined"
     ]
    }
   ],
   "source": [
    "# CRF\n",
    "\n",
    "print(\"Starting CRF...\")\n",
    "\n",
    "weights_crf = compute_class_weight(\"balanced\", classes, y_train)\n",
    "weights_crf[0] = weights_crf[0]+2.5\n",
    "weights_crf[1] = weights_crf[1]+1.5\n",
    "\n",
    "X_train_crf = X_train.reshape(3, -1, 49)\n",
    "y_train_crf = y_train.reshape(3,-1) -1\n",
    "    \n",
    "X_test_crf = X_test.reshape(2, -1, 49)\n",
    "\n",
    "model = ChainCRF(class_weight=weights_crf)\n",
    "ssvm = OneSlackSSVM(model=model, C=0.1, max_iter=2000)\n",
    "    \n",
    "ssvm.fit(X_train_crf, y_train_crf)   \n",
    "   \n",
    "y_pred_crf = ssvm.predict(X_test_crf)\n",
    "y_pred_crf = np.asarray(y_pred_crf).reshape(-1) + 1  \n",
    "y_pred_filtered_crf = medfilt(y_pred_crf, FILTER_WINDOW)\n",
    "\n",
    "\n",
    "print(f\"CRF unique predictions{np.unique(y_pred_filtered_crf)}\")\n",
    "\n",
    "\n",
    "# SVC\n",
    "print(\"Running SVC...\")\n",
    "X_train_scaled = scaler.transform(X_train)\n",
    "X_test_scaled = scaler.transform(X_test)\n",
    "\n",
    "svc = SVC(class_weight=\"balanced\", random_state=seed, C=0.01, verbose=False, gamma=0.0004)\n",
    "svc.fit(X_train_scaled, y_train)\n",
    "\n",
    "y_pred_svc = svc.predict(X_test_scaled)      \n",
    "y_pred_filtered_svc = medfilt(y_pred_svc, FILTER_WINDOW)\n",
    "\n",
    "print(f\"SVC unique predictions{np.unique(y_pred_filtered_svc)}\")\n",
    "\n",
    "# LSTM\n",
    "print(\"Running LSTM...\")\n",
    "kfold = KFold(n_splits=3, shuffle=False, random_state=seed)\n",
    "EPOCHS=20\n",
    "classes = np.array([1,2,3])\n",
    "weights = compute_class_weight(\"balanced\", classes, y_train)\n",
    "cw = dict(zip(np.array([0,1,2]), weights))\n",
    "lstm_predictions = []\n",
    "\n",
    "\n",
    "X_test_scaled = scaler.transform(X_test)\n",
    "X_test_scaled_lstm = np.reshape(X_test_scaled, (2 * timesteps, 1, data_dim))\n",
    "\n",
    "for train, valid in kfold.split(X_train):\n",
    "    print(\"  start fold\")\n",
    "    X_train_fold = X_train[train]\n",
    "    y_train_fold = y_train[train]\n",
    "    \n",
    "    X_valid_fold = X_train[valid]\n",
    "    y_valid_fold = y_train[valid]\n",
    "\n",
    "    X_train_fold_scaled = scaler.transform(X_train_fold)\n",
    "    X_valid_fold_scaled = scaler.transform(X_valid_fold)\n",
    "    \n",
    "    \n",
    "    X_train_fold_scaled_lstm = np.reshape(X_train_fold_scaled, (2 * timesteps, 1, data_dim))\n",
    "    y_train_fold_lstm = from_label_to_vec(y_train_fold)\n",
    "    \n",
    "    X_valid_fold_scaled_lstm= np.reshape(X_valid_fold_scaled, (timesteps, 1, data_dim))\n",
    "    y_valid_fold_lstm = from_label_to_vec(y_valid_fold)\n",
    "\n",
    "\n",
    "    model = Sequential()\n",
    "    model.add(LSTM(32, dropout=0.2, recurrent_dropout=0.2, return_sequences=True, stateful=True, batch_input_shape=(batch_size, 1, data_dim)))\n",
    "    model.add(LSTM(32, dropout=0.2, recurrent_dropout=0.2, return_sequences=True, stateful=True))\n",
    "    model.add(LSTM(32, dropout=0.2, recurrent_dropout=0.2, stateful=True))\n",
    "    model.add(Dense(num_classes, activation='softmax'))\n",
    "    \n",
    "\n",
    "    model.compile(loss=weighted_categorical_crossentropy(weights),\n",
    "                  optimizer='rmsprop',\n",
    "                  metrics=['accuracy'])\n",
    "    \n",
    "    model.fit(X_train_fold_scaled_lstm, y_train_fold_lstm,\n",
    "              class_weight=cw,\n",
    "              verbose=0,\n",
    "              batch_size=batch_size, epochs=EPOCHS, shuffle=False,\n",
    "              validation_data=(X_valid_fold_scaled_lstm, y_valid_fold_lstm))\n",
    "    \n",
    "    \n",
    "    \n",
    "    y_pred_lstm = model.predict(X_test_scaled_lstm)\n",
    "     \n",
    "    lstm_predictions.append(y_pred_lstm)\n",
    "\n",
    "    \n",
    "y_pred_lstm = (lstm_predictions[0] + lstm_predictions[1] + lstm_predictions[2])/3.0\n",
    "labels = []\n",
    "for p in y_pred_lstm:\n",
    "    labels.append(np.argmax(p)+1)\n",
    "    y_pred_lstm = np.array(labels)   \n",
    "    \n",
    "y_pred_filtered_lstm = medfilt(y_pred_lstm, FILTER_WINDOW)\n",
    "\n",
    "print(f\"LSTM unique predictions{np.unique(y_pred_filtered_lstm)}\")\n",
    "\n",
    "\n",
    "\n",
    "# Voting\n",
    "\n",
    "print(\"Starting Voting Filtered...\")\n",
    "y_pred_filtered_voting = np.array([])\n",
    "for i in range(0,y_pred_filtered_crf.shape[0]):\n",
    "  y_pred_filtered_voting = np.append(y_pred_filtered_voting, median([y_pred_filtered_svc[i],  y_pred_filtered_lstm[i], y_pred_filtered_crf[i]]))\n",
    "y_pred_filtered_voting = medfilt(y_pred_filtered_voting, FILTER_WINDOW)\n",
    "\n",
    "\n",
    "submission_name = \"nk_svc_lstm_crf_voting.csv\"\n",
    "\n",
    "\n",
    "y_pred_df = pd.DataFrame(y_pred_filtered_voting)\n",
    "y_pred_df = y_pred_df.assign(Id=list(range(y_pred_filtered_voting.shape[0])))\n",
    "y_pred_df.columns = ['y', 'Id']\n",
    "y_pred_df[\"y\"].plot()\n",
    "submission_folder = os.path.join(dir_path,\"submissions/\")\n",
    "csv_file = submission_folder + submission_name\n",
    "\n",
    "with open(csv_file, 'w') as csv:\n",
    "    y_pred_df.to_csv(csv,index = False)\n"
   ]
  },
  {
   "cell_type": "code",
   "execution_count": 13,
   "metadata": {
    "colab": {
     "base_uri": "https://localhost:8080/",
     "height": 364
    },
    "colab_type": "code",
    "executionInfo": {
     "elapsed": 5816,
     "status": "ok",
     "timestamp": 1544778037091,
     "user": {
      "displayName": "Nicolas Küchler",
      "photoUrl": "",
      "userId": "14773896024539807174"
     },
     "user_tz": -60
    },
    "id": "LC4betYt8Vxn",
    "outputId": "7ee011c8-4a45-43da-f609-58394be1906e"
   },
   "outputs": [
    {
     "name": "stdout",
     "output_type": "stream",
     "text": [
      "Starting Voting Filtered...\n"
     ]
    },
    {
     "data": {
      "image/png": "[encoded data removed]",
      "text/plain": [
       "<matplotlib.figure.Figure at 0x7f94ef691e80>"
      ]
     },
     "metadata": {
      "tags": []
     },
     "output_type": "display_data"
    }
   ],
   "source": [
    "# Voting\n",
    "\n",
    "print(\"Starting Voting Filtered...\")\n",
    "y_pred_filtered_voting = np.array([])\n",
    "for i in range(0,y_pred_filtered_crf.shape[0]):\n",
    "  y_pred_filtered_voting = np.append(y_pred_filtered_voting, median([y_pred_filtered_svc[i],  y_pred_filtered_lstm[i], y_pred_filtered_crf[i]]))\n",
    "y_pred_filtered_voting = medfilt(y_pred_filtered_voting, FILTER_WINDOW)\n",
    "\n",
    "\n",
    "submission_name = \"nk_svc_lstm_crf_voting.csv\"\n",
    "\n",
    "\n",
    "y_pred_df = pd.DataFrame(y_pred_filtered_voting)\n",
    "y_pred_df = y_pred_df.assign(Id=list(range(y_pred_filtered_voting.shape[0])))\n",
    "y_pred_df.columns = ['y', 'Id']\n",
    "y_pred_df[\"y\"].plot()\n",
    "submission_folder = os.path.join(dir_path,\"submissions/\")\n",
    "csv_file = submission_folder + submission_name\n",
    "\n",
    "with open(csv_file, 'w') as csv:\n",
    "    y_pred_df.to_csv(csv,index = False)"
   ]
  },
  {
   "cell_type": "code",
   "execution_count": 18,
   "metadata": {
    "colab": {
     "base_uri": "https://localhost:8080/",
     "height": 1929
    },
    "colab_type": "code",
    "executionInfo": {
     "elapsed": 2551676,
     "status": "ok",
     "timestamp": 1544744067091,
     "user": {
      "displayName": "Nicolas Küchler",
      "photoUrl": "",
      "userId": "14773896024539807174"
     },
     "user_tz": -60
    },
    "id": "PGc_mCvoerKb",
    "outputId": "36204a28-abd3-4a60-b27d-8d8d4c62e8a4"
   },
   "outputs": [
    {
     "name": "stdout",
     "output_type": "stream",
     "text": [
      "Start\n",
      "Starting SVC...\n",
      "Finished SVC:   bmac=0.8858631345326128   bmac_median=0.9075200817090381\n"
     ]
    },
    {
     "data": {
      "text/plain": [
       "array([[10106,   449,   685],\n",
       "       [  148,  7141,  1364],\n",
       "       [   12,   102,  1593]])"
      ]
     },
     "metadata": {
      "tags": []
     },
     "output_type": "display_data"
    },
    {
     "data": {
      "text/plain": [
       "array([[9831, 1020,  389],\n",
       "       [  56, 7849,  748],\n",
       "       [   4,   97, 1606]])"
      ]
     },
     "metadata": {
      "tags": []
     },
     "output_type": "display_data"
    },
    {
     "name": "stdout",
     "output_type": "stream",
     "text": [
      "Starting LSTM...\n",
      "Finished LSTM:   bmac=0.8944464650941707    bmac_median=0.888562111058869\n"
     ]
    },
    {
     "data": {
      "text/plain": [
       "array([[9923, 1208,  109],\n",
       "       [  27, 8407,  219],\n",
       "       [   5,  287, 1415]])"
      ]
     },
     "metadata": {
      "tags": []
     },
     "output_type": "display_data"
    },
    {
     "data": {
      "text/plain": [
       "array([[9558, 1648,   34],\n",
       "       [   8, 8591,   54],\n",
       "       [   1,  302, 1404]])"
      ]
     },
     "metadata": {
      "tags": []
     },
     "output_type": "display_data"
    },
    {
     "name": "stdout",
     "output_type": "stream",
     "text": [
      "Starting CRF...\n",
      "Finished CRF:   bmac=0.9191672188086186    bmac_median=0.9144489483575372\n"
     ]
    },
    {
     "data": {
      "text/plain": [
       "array([[10149,   837,   254],\n",
       "       [  130,  8307,   216],\n",
       "       [    2,   178,  1527]])"
      ]
     },
     "metadata": {
      "tags": []
     },
     "output_type": "display_data"
    },
    {
     "data": {
      "text/plain": [
       "array([[9977, 1008,  255],\n",
       "       [ 115, 8322,  216],\n",
       "       [   2,  179, 1526]])"
      ]
     },
     "metadata": {
      "tags": []
     },
     "output_type": "display_data"
    },
    {
     "name": "stdout",
     "output_type": "stream",
     "text": [
      "Starting Voting...\n",
      "Finished Voting:   bmac=0.9196135248424303      bmac_median=0.9143732572075053\n"
     ]
    },
    {
     "data": {
      "text/plain": [
       "array([[10078,   971,   191],\n",
       "       [   63,  8282,   308],\n",
       "       [    5,   157,  1545]])"
      ]
     },
     "metadata": {
      "tags": []
     },
     "output_type": "display_data"
    },
    {
     "name": "stdout",
     "output_type": "stream",
     "text": [
      "Starting Voting Filtered...\n",
      "Finished Voting Filtered:   bmac=0.9139164048019713      bmac_median=0.9130829799610746\n"
     ]
    },
    {
     "data": {
      "text/plain": [
       "array([[9762, 1341,  137],\n",
       "       [  42, 8423,  188],\n",
       "       [   1,  170, 1536]])"
      ]
     },
     "metadata": {
      "tags": []
     },
     "output_type": "display_data"
    },
    {
     "name": "stdout",
     "output_type": "stream",
     "text": [
      "Starting SVC...\n",
      "Finished SVC:   bmac=0.9241334563924996   bmac_median=0.9563048047050052\n"
     ]
    },
    {
     "data": {
      "text/plain": [
       "array([[10508,   766,   575],\n",
       "       [    6,  8198,   443],\n",
       "       [    6,    63,  1035]])"
      ]
     },
     "metadata": {
      "tags": []
     },
     "output_type": "display_data"
    },
    {
     "data": {
      "text/plain": [
       "array([[10816,   904,   129],\n",
       "       [    1,  8424,   222],\n",
       "       [    0,    20,  1084]])"
      ]
     },
     "metadata": {
      "tags": []
     },
     "output_type": "display_data"
    },
    {
     "name": "stdout",
     "output_type": "stream",
     "text": [
      "Starting LSTM...\n",
      "Finished LSTM:   bmac=0.9350669982659703    bmac_median=0.9465728426940787\n"
     ]
    },
    {
     "data": {
      "text/plain": [
       "array([[11093,   704,    52],\n",
       "       [    8,  8462,   177],\n",
       "       [    5,   116,   983]])"
      ]
     },
     "metadata": {
      "tags": []
     },
     "output_type": "display_data"
    },
    {
     "data": {
      "text/plain": [
       "array([[11027,   807,    15],\n",
       "       [    0,  8558,    89],\n",
       "       [    1,    88,  1015]])"
      ]
     },
     "metadata": {
      "tags": []
     },
     "output_type": "display_data"
    },
    {
     "name": "stdout",
     "output_type": "stream",
     "text": [
      "Starting CRF...\n",
      "Finished CRF:   bmac=0.9674336032299259    bmac_median=0.9646370834918754\n"
     ]
    },
    {
     "data": {
      "text/plain": [
       "array([[11416,   432,     1],\n",
       "       [   54,  8267,   326],\n",
       "       [   13,     6,  1085]])"
      ]
     },
     "metadata": {
      "tags": []
     },
     "output_type": "display_data"
    },
    {
     "data": {
      "text/plain": [
       "array([[11307,   539,     3],\n",
       "       [   47,  8274,   326],\n",
       "       [   10,     9,  1085]])"
      ]
     },
     "metadata": {
      "tags": []
     },
     "output_type": "display_data"
    },
    {
     "name": "stdout",
     "output_type": "stream",
     "text": [
      "Starting Voting...\n",
      "Finished Voting:   bmac=0.9523878898241213      bmac_median=0.9622796383986114\n"
     ]
    },
    {
     "data": {
      "text/plain": [
       "array([[11165,   642,    42],\n",
       "       [    4,  8381,   262],\n",
       "       [    5,    55,  1044]])"
      ]
     },
     "metadata": {
      "tags": []
     },
     "output_type": "display_data"
    },
    {
     "name": "stdout",
     "output_type": "stream",
     "text": [
      "Starting Voting Filtered...\n",
      "Finished Voting Filtered:   bmac=0.9626128225033582      bmac_median=0.9631283344376027\n"
     ]
    },
    {
     "data": {
      "text/plain": [
       "array([[11069,   765,    15],\n",
       "       [    1,  8450,   196],\n",
       "       [    1,    25,  1078]])"
      ]
     },
     "metadata": {
      "tags": []
     },
     "output_type": "display_data"
    },
    {
     "name": "stdout",
     "output_type": "stream",
     "text": [
      "Starting SVC...\n",
      "Finished SVC:   bmac=0.9057169022654078   bmac_median=0.9461163916621486\n"
     ]
    },
    {
     "data": {
      "text/plain": [
       "array([[10930,    27,    68],\n",
       "       [  565,  7322,  1946],\n",
       "       [   11,     3,   728]])"
      ]
     },
     "metadata": {
      "tags": []
     },
     "output_type": "display_data"
    },
    {
     "data": {
      "text/plain": [
       "array([[10928,    59,    38],\n",
       "       [  320,  8330,  1183],\n",
       "       [    0,     0,   742]])"
      ]
     },
     "metadata": {
      "tags": []
     },
     "output_type": "display_data"
    },
    {
     "name": "stdout",
     "output_type": "stream",
     "text": [
      "Starting LSTM...\n",
      "Finished LSTM:   bmac=0.9170151647314992    bmac_median=0.948894659671605\n"
     ]
    },
    {
     "data": {
      "text/plain": [
       "array([[10969,    11,    45],\n",
       "       [  890,  7594,  1349],\n",
       "       [    7,     5,   730]])"
      ]
     },
     "metadata": {
      "tags": []
     },
     "output_type": "display_data"
    },
    {
     "data": {
      "text/plain": [
       "array([[10926,    42,    57],\n",
       "       [  547,  8480,   806],\n",
       "       [    2,     3,   737]])"
      ]
     },
     "metadata": {
      "tags": []
     },
     "output_type": "display_data"
    },
    {
     "name": "stdout",
     "output_type": "stream",
     "text": [
      "Starting CRF...\n",
      "Finished CRF:   bmac=0.943890911710063    bmac_median=0.9504078627055192\n"
     ]
    },
    {
     "data": {
      "text/plain": [
       "array([[11008,     4,    13],\n",
       "       [ 1074,  8193,   566],\n",
       "       [    0,     0,   742]])"
      ]
     },
     "metadata": {
      "tags": []
     },
     "output_type": "display_data"
    },
    {
     "data": {
      "text/plain": [
       "array([[10978,    31,    16],\n",
       "       [  858,  8412,   563],\n",
       "       [    0,     0,   742]])"
      ]
     },
     "metadata": {
      "tags": []
     },
     "output_type": "display_data"
    },
    {
     "name": "stdout",
     "output_type": "stream",
     "text": [
      "Starting Voting...\n",
      "Finished Voting:   bmac=0.9285656580497786      bmac_median=0.955358108530371\n"
     ]
    },
    {
     "data": {
      "text/plain": [
       "array([[11004,     9,    12],\n",
       "       [  749,  7824,  1260],\n",
       "       [    3,     3,   736]])"
      ]
     },
     "metadata": {
      "tags": []
     },
     "output_type": "display_data"
    },
    {
     "name": "stdout",
     "output_type": "stream",
     "text": [
      "Starting Voting Filtered...\n",
      "Finished Voting Filtered:   bmac=0.954921080763797      bmac_median=0.9570677417943911\n"
     ]
    },
    {
     "data": {
      "text/plain": [
       "array([[10949,    47,    29],\n",
       "       [  496,  8571,   766],\n",
       "       [    0,     0,   742]])"
      ]
     },
     "metadata": {
      "tags": []
     },
     "output_type": "display_data"
    },
    {
     "name": "stdout",
     "output_type": "stream",
     "text": [
      "================================================================================\n",
      "================================================================================\n",
      "================================================================================\n",
      "DEFAULT 0.924203064567119 +/- 0.026768125976249342\n",
      "GAMMA = 0.0004 0.9401296487697763 +/- 0.02925282597198205\n",
      "GAMMA = 0.0004 C=0.1 0.9434637293201353 +/- 0.0257096513820207\n",
      "GAMMA = 0.0004 C=0.01 0.930809065681996 +/- 0.022307773367821106\n",
      "LSTM BMAC avg score 0.9237825755034632 +/- 0.029030537234862867\n"
     ]
    }
   ],
   "source": [
    "\n",
    "\n",
    "# CROSS VALDATION\n",
    "kfold = KFold(n_splits=3, shuffle=False, random_state=seed)\n",
    "\n",
    "print(\"Start\")\n",
    "EPOCHS=20\n",
    "classes = np.array([1,2,3])\n",
    "weights = compute_class_weight(\"balanced\", classes, y_train)\n",
    "cw = dict(zip(np.array([0,1,2]), weights))\n",
    "\n",
    "clf_scores_avg = []\n",
    "clf_scores_std = []\n",
    "\n",
    "\n",
    "bmac_d = {\n",
    "    \"svc\":[],\n",
    "    \"lstm\":[],\n",
    "    \"crf\":[],\n",
    "    \"voting\":[]\n",
    "}\n",
    "\n",
    "clf_d = {\n",
    "    \"svc\":[],\n",
    "    \"lstm\":[],\n",
    "    \"crf\":[]\n",
    "}\n",
    "\n",
    "conf_d = {\n",
    "    \"svc\":[],\n",
    "    \"lstm\":[],\n",
    "    \"crf\":[],\n",
    "    \"voting\":[]\n",
    "}\n",
    "\n",
    "predictions_d = {\n",
    "    \"svc\":[],\n",
    "    \"lstm\":[],\n",
    "    \"crf\":[],\n",
    "    \"voting\":[]\n",
    "}\n",
    "\n",
    "weights_crf = compute_class_weight(\"balanced\", classes, y_train)\n",
    "weights_crf[0] = weights_crf[0]+2.5\n",
    "weights_crf[1] = weights_crf[1]+1.5\n",
    "\n",
    "\n",
    "for train, valid in kfold.split(X_train):\n",
    "    # get the folds\n",
    "    X_train_fold = X_train[train]\n",
    "    y_train_fold = y_train[train]\n",
    "    \n",
    "    X_valid_fold = X_train[valid]\n",
    "    y_valid_fold = y_train[valid]\n",
    "\n",
    "    X_train_fold_scaled = scaler.transform(X_train_fold)\n",
    "    X_valid_fold_scaled = scaler.transform(X_valid_fold)\n",
    "    \n",
    "    \n",
    "    ### SVC\n",
    "    print(\"Starting SVC...\")\n",
    "    svc = SVC(class_weight=\"balanced\", \n",
    "          random_state=seed, \n",
    "          C=0.01,\n",
    "          verbose=False,\n",
    "          gamma=0.0004)\n",
    "    \n",
    "    svc.fit(X_train_fold_scaled, y_train_fold)\n",
    "    y_pred_svc = svc.predict(X_valid_fold_scaled)      \n",
    "    \n",
    "    bmac = balanced_accuracy_score(y_valid_fold, y_pred_svc)\n",
    "    conf = confusion_matrix(y_valid_fold, y_pred_svc)\n",
    "    \n",
    "    y_pred_svc_filtered = medfilt(y_pred_svc, FILTER_WINDOW)\n",
    "    bmac_median =  balanced_accuracy_score(y_valid_fold,  y_pred_svc_filtered)\n",
    "    conf_median = confusion_matrix(y_valid_fold,  y_pred_svc_filtered)\n",
    "    \n",
    "    bmac_d['svc'].append(bmac)\n",
    "    clf_d['svc'].append(clf)\n",
    "    conf_d['svc'].append(conf)\n",
    "    predictions_d['svc'].append(y_pred_svc)\n",
    "    \n",
    "    print(f\"Finished SVC:   bmac={bmac}   bmac_median={bmac_median}\")\n",
    "    display(conf)\n",
    "    display(conf_median)\n",
    "    \n",
    "    ### LSTM \n",
    "    print(\"Starting LSTM...\")\n",
    "    X_train_fold_scaled_lstm = np.reshape(X_train_fold_scaled, (2 * timesteps, 1, data_dim))\n",
    "    y_train_fold_lstm = from_label_to_vec(y_train_fold)\n",
    "    \n",
    "    X_valid_fold_scaled_lstm= np.reshape(X_valid_fold_scaled, (timesteps, 1, data_dim))\n",
    "    y_valid_fold_lstm = from_label_to_vec(y_valid_fold)\n",
    "\n",
    "\n",
    "    model = Sequential()\n",
    "    model.add(LSTM(32, dropout=0.2, recurrent_dropout=0.2, return_sequences=True, stateful=True, batch_input_shape=(batch_size, 1, data_dim)))\n",
    "    model.add(LSTM(32, dropout=0.2, recurrent_dropout=0.2, return_sequences=True, stateful=True))\n",
    "    model.add(LSTM(32, dropout=0.2, recurrent_dropout=0.2, stateful=True))\n",
    "    model.add(Dense(num_classes, activation='softmax'))\n",
    "    \n",
    "\n",
    "    model.compile(loss=weighted_categorical_crossentropy(weights),\n",
    "                  optimizer='rmsprop',\n",
    "                  metrics=['accuracy', 'categorical_accuracy'])\n",
    "    \n",
    "    model.fit(X_train_fold_scaled_lstm, y_train_fold_lstm,\n",
    "              class_weight=cw,\n",
    "              verbose=0,\n",
    "              batch_size=batch_size, epochs=EPOCHS, shuffle=False,\n",
    "              validation_data=(X_valid_fold_scaled_lstm, y_valid_fold_lstm))\n",
    "    \n",
    "    \n",
    "    y_pred_lstm = model.predict(X_valid_fold_scaled_lstm)\n",
    "    labels = []\n",
    "    for p in y_pred_lstm:\n",
    "        labels.append(np.argmax(p)+1)\n",
    "    y_pred_lstm = np.array(labels)\n",
    "\n",
    "    \n",
    "    bmac = balanced_accuracy_score(y_valid_fold, y_pred_lstm)\n",
    "    conf = confusion_matrix(y_valid_fold, y_pred_lstm)\n",
    "    \n",
    "    y_pred_lstm_filtered = medfilt(y_pred_lstm, FILTER_WINDOW)\n",
    "    bmac_median =  balanced_accuracy_score(y_valid_fold,  y_pred_lstm_filtered)\n",
    "    conf_median = confusion_matrix(y_valid_fold,  y_pred_lstm_filtered)\n",
    "    \n",
    "    bmac_d['lstm'].append(bmac)\n",
    "    clf_d['lstm'].append(model)\n",
    "    conf_d['lstm'].append(conf)\n",
    "    predictions_d['lstm'].append(y_pred_lstm)\n",
    "    \n",
    "    print(f\"Finished LSTM:   bmac={bmac}    bmac_median={bmac_median}\")\n",
    "    display(conf)\n",
    "    display(conf_median)\n",
    "   \n",
    "  \n",
    "  \n",
    "    ### CRF\n",
    "    print(\"Starting CRF...\")\n",
    "    X_train_fold_crf = X_train_fold.reshape(2, -1, 49)\n",
    "    y_train_fold_crf = y_train_fold.reshape(2,-1) -1\n",
    "    \n",
    "    X_valid_fold_crf = X_valid_fold.reshape(1, -1, 49)\n",
    "    y_valid_fold_crf = y_valid_fold.reshape(1,-1) -1\n",
    "\n",
    "    \n",
    "    model = ChainCRF(class_weight=weights_crf)\n",
    "    ssvm = OneSlackSSVM(model=model, C=0.1, max_iter=2000)\n",
    "    \n",
    "    ssvm.fit(X_train_fold_crf, y_train_fold_crf)   \n",
    "   \n",
    "    y_pred_crf = ssvm.predict(X_valid_fold_crf)\n",
    "    y_pred_crf = np.asarray(y_pred_crf).reshape(-1) + 1  \n",
    "\n",
    "    bmac = balanced_accuracy_score(y_valid_fold, y_pred_crf)\n",
    "    conf = confusion_matrix(y_valid_fold, y_pred_crf)\n",
    " \n",
    "    \n",
    "    y_pred_crf_filtered = medfilt(y_pred_crf, FILTER_WINDOW)\n",
    "    bmac_median =  balanced_accuracy_score(y_valid_fold,  y_pred_crf_filtered)\n",
    "    conf_median = confusion_matrix(y_valid_fold,  y_pred_crf_filtered)\n",
    "    \n",
    "    bmac_d['crf'].append(bmac)\n",
    "    clf_d['crf'].append(ssvm)\n",
    "    conf_d['crf'].append(conf)\n",
    "    predictions_d['crf'].append(y_pred_crf)\n",
    "    \n",
    "    print(f\"Finished CRF:   bmac={bmac}    bmac_median={bmac_median}\")\n",
    "    display(conf)\n",
    "    display(conf_median)\n",
    "    \n",
    "    print(\"Starting Voting...\")\n",
    "    \n",
    "    y_pred_majority = np.array([])\n",
    "    for i in range(0,y_pred_svc.shape[0]):\n",
    "      y_pred_majority = np.append(y_pred_majority, median([y_pred_svc[i],  y_pred_lstm[i], y_pred_crf[i]]))\n",
    "\n",
    "    bmac = balanced_accuracy_score(y_valid_fold, y_pred_majority)\n",
    "    conf = confusion_matrix(y_valid_fold, y_pred_majority)\n",
    "\n",
    "    y_pred_majority_filtered = medfilt(y_pred_majority, FILTER_WINDOW)\n",
    "    bmac_median =  balanced_accuracy_score(y_valid_fold,  y_pred_majority_filtered)\n",
    "    conf_median = confusion_matrix(y_valid_fold,  y_pred_majority_filtered)\n",
    "\n",
    "    bmac_d['voting'].append(bmac)\n",
    "    conf_d['voting'].append(conf)\n",
    "    predictions_d['voting'].append(y_pred_majority)\n",
    "\n",
    "    print(f\"Finished Voting:   bmac={bmac}      bmac_median={bmac_median}\")\n",
    "    display(conf)\n",
    "    display(conf_median)\n",
    "    \n",
    "    print(\"Starting Voting Filtered...\")\n",
    "    y_pred_majority_filtered = np.array([])\n",
    "    for i in range(0,y_pred_svc.shape[0]):\n",
    "      y_pred_majority_filtered = np.append(y_pred_majority_filtered, median([y_pred_svc_filtered[i],  y_pred_lstm_filtered[i], y_pred_crf_filtered[i]]))\n",
    "\n",
    "    bmac = balanced_accuracy_score(y_valid_fold, y_pred_majority_filtered)\n",
    "    conf = confusion_matrix(y_valid_fold, y_pred_majority_filtered)\n",
    "\n",
    "    y_pred_majority_filtered = medfilt(y_pred_majority_filtered, FILTER_WINDOW)\n",
    "    bmac_median =  balanced_accuracy_score(y_valid_fold,  y_pred_majority_filtered)\n",
    "    conf_median = confusion_matrix(y_valid_fold,  y_pred_majority_filtered)\n",
    "\n",
    "    print(f\"Finished Voting Filtered:   bmac={bmac}      bmac_median={bmac_median}\")\n",
    "    display(conf)\n",
    "    display(conf_median)\n",
    "    \n",
    "    \n",
    "    \n",
    "    \n",
    "\n",
    "\n",
    "print(\"================================================================================\")\n",
    "\n",
    "#print(f\"LSTM BMAC avg score {clf_scores_avg[0]} +/- {clf_scores_std[0]}\" )\n",
    "\n",
    "print(\"================================================================================\")\n",
    "print(\"================================================================================\")\n",
    "\n",
    "print(\"DEFAULT 0.924203064567119 +/- 0.026768125976249342\")\n",
    "print(\"GAMMA = 0.0004 0.9401296487697763 +/- 0.02925282597198205\")\n",
    "print(\"GAMMA = 0.0004 C=0.1 0.9434637293201353 +/- 0.0257096513820207\")\n",
    "print(\"GAMMA = 0.0004 C=0.01 0.930809065681996 +/- 0.022307773367821106\")\n",
    "print(\"LSTM BMAC avg score 0.9237825755034632 +/- 0.029030537234862867\")"
   ]
  },
  {
   "cell_type": "code",
   "execution_count": null,
   "metadata": {
    "colab": {},
    "colab_type": "code",
    "id": "SKNcwc62BDE4"
   },
   "outputs": [],
   "source": [
    "#Scale, fit, predict\n",
    "X_train_scaled = scaler.transform(X_train)\n",
    "X_test_scaled = scaler.transform(X_test)"
   ]
  },
  {
   "cell_type": "code",
   "execution_count": null,
   "metadata": {
    "colab": {
     "base_uri": "https://localhost:8080/",
     "height": 416
    },
    "colab_type": "code",
    "executionInfo": {
     "elapsed": 5970,
     "status": "ok",
     "timestamp": 1544658476639,
     "user": {
      "displayName": "Nicolas Küchler",
      "photoUrl": "",
      "userId": "14773896024539807174"
     },
     "user_tz": -60
    },
    "id": "TgC3deDGBDFG",
    "outputId": "8a3a8f0c-2f56-4c40-bc72-be706104b343"
   },
   "outputs": [
    {
     "name": "stdout",
     "output_type": "stream",
     "text": [
      "Class 1: 18323\n",
      "Class 2: 22787\n",
      "Class 3: 2090\n"
     ]
    },
    {
     "data": {
      "text/plain": [
       "'\\nClass 1: 23933\\nClass 2: 18553\\nClass 3: 714\\n'"
      ]
     },
     "execution_count": 34,
     "metadata": {
      "tags": []
     },
     "output_type": "execute_result"
    },
    {
     "data": {
      "image/png": "[encoded data removed]",
      "text/plain": [
       "<matplotlib.figure.Figure at 0x7f527a95eb00>"
      ]
     },
     "metadata": {
      "tags": []
     },
     "output_type": "display_data"
    }
   ],
   "source": [
    "submission_name = \"nk_LSTM_all.csv\"\n",
    "\n",
    "print(f\"Class 1: {np.sum(y_pred_filtered == 1)}\")\n",
    "print(f\"Class 2: {np.sum(y_pred_filtered == 2)}\")\n",
    "print(f\"Class 3: {np.sum(y_pred_filtered == 3)}\")\n",
    "\n",
    "y_pred_df = pd.DataFrame(y_pred_filtered)\n",
    "y_pred_df = y_pred_df.assign(Id=list(range(y_pred_filtered.shape[0])))\n",
    "y_pred_df.columns = ['y', 'Id']\n",
    "y_pred_df[\"y\"].plot()\n",
    "submission_folder = os.path.join(dir_path,\"submissions/\")\n",
    "csv_file = submission_folder + submission_name\n",
    "\n",
    "with open(csv_file, 'w') as csv:\n",
    "    y_pred_df.to_csv(csv,index = False)\n",
    "    \n",
    "\"\"\"\n",
    "Class 1: 23933\n",
    "Class 2: 18553\n",
    "Class 3: 714\n",
    "\"\"\""
   ]
  },
  {
   "cell_type": "code",
   "execution_count": null,
   "metadata": {
    "colab": {
     "base_uri": "https://localhost:8080/",
     "height": 34
    },
    "colab_type": "code",
    "executionInfo": {
     "elapsed": 3968,
     "status": "ok",
     "timestamp": 1544658336954,
     "user": {
      "displayName": "Nicolas Küchler",
      "photoUrl": "",
      "userId": "14773896024539807174"
     },
     "user_tz": -60
    },
    "id": "fV3F5456BDFO",
    "outputId": "3b0cc698-18c6-46ed-b6ba-3d9c0eb163c7"
   },
   "outputs": [
    {
     "name": "stdout",
     "output_type": "stream",
     "text": [
      "data  features\tnk_LSTM.ipynb\n"
     ]
    }
   ],
   "source": [
    "!ls"
   ]
  }
 ],
 "metadata": {
  "accelerator": "GPU",
  "colab": {
   "collapsed_sections": [],
   "name": "nk_LSTM.ipynb",
   "provenance": [],
   "version": "0.3.2"
  },
  "kernelspec": {
   "display_name": "Python 3",
   "language": "python",
   "name": "python3"
  },
  "language_info": {
   "codemirror_mode": {
    "name": "ipython",
    "version": 3
   },
   "file_extension": ".py",
   "mimetype": "text/x-python",
   "name": "python",
   "nbconvert_exporter": "python",
   "pygments_lexer": "ipython3",
   "version": "3.5.2"
  }
 },
 "nbformat": 4,
 "nbformat_minor": 2
}
