{
 "cells": [
  {
   "cell_type": "code",
   "execution_count": 31,
   "metadata": {},
   "outputs": [],
   "source": [
    "import sys\n",
    "import os\n",
    "\n",
    "import pandas as pd\n",
    "import numpy as np\n",
    "import natsort\n",
    "import random as rn\n",
    "from tqdm import tqdm_notebook as tqdm\n",
    "import tensorflow as tf\n",
    "import pyeeg\n",
    "\n",
    "from scipy import signal\n",
    "from scipy.signal import (welch, medfilt, wiener,savgol_filter)\n",
    "from scipy.integrate import simps\n",
    "\n",
    "import matplotlib.pyplot as plt\n",
    "\n",
    "#Keras\n",
    "\n",
    "#Sklearn\n",
    "from sklearn import preprocessing\n",
    "from sklearn.preprocessing import StandardScaler\n",
    "from sklearn.gaussian_process import GaussianProcessClassifier\n",
    "from sklearn.gaussian_process.kernels import RBF\n",
    "from sklearn.neural_network import MLPRegressor\n",
    "from sklearn.svm import (SVC, SVR)\n",
    "from sklearn.tree import DecisionTreeRegressor\n",
    "from sklearn.ensemble import (RandomForestClassifier, GradientBoostingClassifier)\n",
    "from sklearn.linear_model import LogisticRegression\n",
    "from sklearn.neural_network import MLPClassifier\n",
    "from sklearn.feature_selection import SelectFromModel\n",
    "from sklearn.utils.class_weight import compute_class_weight\n",
    "\n",
    "from sklearn.linear_model import LogisticRegression\n",
    "from sklearn.model_selection import cross_val_score\n",
    "from sklearn.model_selection import (StratifiedKFold, KFold)\n",
    "\n",
    "from sklearn.metrics import accuracy_score\n",
    "from sklearn.metrics import balanced_accuracy_score\n",
    "from sklearn.metrics import roc_auc_score\n",
    "from sklearn.metrics import mean_squared_error\n",
    "\n",
    "from sklearn.manifold import TSNE\n",
    "import warnings\n",
    "warnings.simplefilter(action='ignore', category=FutureWarning)\n",
    "\n",
    "seed=42\n",
    "np.random.seed(seed)\n",
    "rn.seed(seed)\n",
    "tf.set_random_seed(seed)\n",
    "dir_path = os.getcwd()\n",
    "# https://en.wikipedia.org/wiki/Neural_oscillation\n",
    "SAMPLE_PER_SEC = 128\n",
    "DELTA_WAVE = [1, 4]\n",
    "THETA_WAVE = [4, 8]\n",
    "ALPHA_WAVE = [7.5, 12.5]\n",
    "BETA_WAVE = [13, 30]\n",
    "TOTAL_ENERGY = [0, 64]\n",
    "# not used\n",
    "LOW_GAMMA_WAVE = [30, 70]\n",
    "HIGH_GAMMA_WAVE = [70, 150]\n",
    "\n",
    "EPSILON =  0.0002\n",
    "FILTER_WINDOW = 5"
   ]
  },
  {
   "cell_type": "code",
   "execution_count": 70,
   "metadata": {},
   "outputs": [],
   "source": [
    "def get_train_from_csv(csv_file):\n",
    "    '''\n",
    "    get a numpy array y of labels. the order follows the id of 4 second sample. \n",
    "    argument: relative path to the csv_file from the source folder.\n",
    "    '''\n",
    "    csv_file = os.path.join(dir_path, csv_file)\n",
    "    print(f\"Reading {csv_file}\")\n",
    "    with open(csv_file, 'r') as csvfile:\n",
    "        train_reader = pd.read_csv(csvfile)\n",
    "        train_reader.drop(labels=\"Id\", axis=1, inplace=True)\n",
    "        \n",
    "        \n",
    "    return train_reader.values\n",
    "\n",
    "def get_target_from_csv(csv_file):\n",
    "    '''\n",
    "    get a numpy array y of labels. the order follows the id of 4 second sample. \n",
    "    argument: relative path to the csv_file from the source folder.\n",
    "    '''\n",
    "    csv_file = os.path.join(dir_path,csv_file)\n",
    "    with open(csv_file, 'r') as csvfile:\n",
    "        label_reader = pd.read_csv(csvfile)\n",
    "        #print(\"Labels: \", label_reader['id'])\n",
    "        y = label_reader['y']\n",
    "        \n",
    "    y = np.array(y)\n",
    "    return y\n",
    "\n",
    "def get_features_emg(X):\n",
    "    all_featues = []\n",
    "    for i in tqdm(range(X.shape[0])):\n",
    "        features = list()\n",
    "        # https://ieeexplore.ieee.org/document/7748960\n",
    "        x_i = X[i,:]\n",
    "        # Root Mean Square (RMS): RMS of EMG\n",
    "        features.append(mean_squared_error(x_i, np.zeros(x_i.shape)))\n",
    "        \n",
    "        #Integrated Absolute Value (IAV)\n",
    "        features.append(np.sum(np.abs(x_i)))\n",
    "        \n",
    "        # Mean Absolute Value (MAV): MAV feature can be expressed as\n",
    "        features.append(np.mean(x_i))\n",
    "        \n",
    "        # TBD:\n",
    "        # Modified Mean Absolute Value type 1\n",
    "        # Modified Mean Absolute Value type 2\n",
    "        \n",
    "        # Simple Square Integral (SSI): SSI is calculated as\n",
    "        features.append(np.sum(x_i ** 2))\n",
    "        \n",
    "        # Variance (VAR): VAR is calculated as\n",
    "        features.append(np.var(x_i))\n",
    "        \n",
    "        #The 3rd, 4th and 5th temporal moments\n",
    "        features.append(np.mean(x_i ** 3))\n",
    "        features.append(np.mean(x_i ** 4))\n",
    "        features.append(np.mean(x_i ** 5))\n",
    "        \n",
    "        # TBD\n",
    "        # v-Order \n",
    "        \n",
    "        # Waveform Length\n",
    "        features.append(np.sum(np.abs(np.diff(x_i))))\n",
    "        \n",
    "        # Average Amplitude Change\n",
    "        features.append(np.mean(np.abs(np.diff(x_i))))\n",
    "        \n",
    "        # Difference Absolute Standard Deviation Value\n",
    "        features.append(np.sqrt(np.mean(np.power(np.diff(x_i), 2))))\n",
    "        \n",
    "        # AX BASIC FEATUERS\n",
    "        features.append(np.std(x_i))\n",
    "        features.append(np.min(x_i))\n",
    "        features.append(np.max(x_i))\n",
    "        features.append(np.sum(np.abs(x_i) > EPSILON))\n",
    "        \n",
    "        \n",
    "        \n",
    "        all_featues.append(features)\n",
    "    return np.array(all_featues)\n",
    "\n",
    "def get_features_eeg(X):\n",
    "    all_featues = []\n",
    "    # NOT SURE ABOUT THIS VALUES \n",
    "    # LETS DOUBLE CHECK\n",
    "    K_MAX = 6\n",
    "    SAMPLE_PER_SEC = 32\n",
    "    FREQ_BANDS = list(range(16))\n",
    "    TAU = 16\n",
    "    # embedding dimension\n",
    "    DE = 32\n",
    "    \n",
    "    for i in tqdm(range(X.shape[0])):\n",
    "        features = list()\n",
    "        # http://pyeeg.sourceforge.net/\n",
    "        x_i = X[i,:]\n",
    "        \n",
    "        # Power Spectral Intensity (PSI) and Relative Intensity Ratio (RIR)\tbin_power()\tTwo 1-D vectors\n",
    "        \n",
    "        \n",
    "        # Petrosian Fractal Dimension (PFD)\tpdf()\tA scalar\n",
    "        features.append(pyeeg.pfd(x_i))\n",
    "        \n",
    "        # Higuchi Fractal Dimension (HFD)\thfd()\tA scalar\n",
    "        features.append(pyeeg.hfd(x_i, K_MAX))\n",
    "        \n",
    "        # Hjorth mobility and complexity\thjorth()\tTwo scalars\n",
    "        \n",
    "        # Spectral Entropy (Shannon's entropy of RIRs)\tspectral_entropy()\tA scalar\n",
    "        #features.append(pyeeg.spectral_entropy(x_i, FREQ_BANDS, SAMPLE_PER_SEC))\n",
    "        \n",
    "        # SVD Entropy\tsvd_entropy()\tA scalar\n",
    "        #features.append(pyeeg.svd_entropy(x_i, TAU, DE))\n",
    "        \n",
    "        # Fisher Information\tfisher_info()\tA scalar\n",
    "        features.append(pyeeg.fisher_info(x_i, TAU, DE))\n",
    "          \n",
    "        # Detrended Fluctuation Analysis (DFA)\tdfa()\tA scalar\n",
    "        features.append(pyeeg.dfa(x_i))\n",
    "        \n",
    "        # Hurst Exponent (Hurst)\thurst()\tA scalar\n",
    "        #features.append(pyeeg.hurst(x_i))\n",
    "        \n",
    "        # AX BASIC FEATUERS\n",
    "        features.append(np.mean(x_i))\n",
    "        features.append(np.std(x_i))\n",
    "        features.append(np.min(x_i))\n",
    "        features.append(np.max(x_i))\n",
    "        features.append(np.sum(np.abs(x_i) > EPSILON))\n",
    "        \n",
    "        \"\"\"\n",
    "            DELTA_WAVE = [1, 4]\n",
    "            THETA_WAVE = [4, 8]\n",
    "            ALPHA_WAVE = [7.5, 12.5]\n",
    "            BETA_WAVE = [13, 30]\n",
    "        \"\"\"\n",
    "        delta = bandpower(x_i, DELTA_WAVE)\n",
    "        theta = bandpower(x_i, THETA_WAVE)\n",
    "        alpha = bandpower(x_i, ALPHA_WAVE)\n",
    "        beta = bandpower(x_i, BETA_WAVE)\n",
    "        total_energy = bandpower(x_i, TOTAL_ENERGY)\n",
    "        \n",
    "        \n",
    "        features.append(delta)\n",
    "        features.append(theta)\n",
    "        features.append(alpha)\n",
    "        features.append(beta)\n",
    "        \n",
    "        \n",
    "        features.append(delta / total_energy)\n",
    "        features.append(theta / total_energy)\n",
    "        features.append(alpha / total_energy)\n",
    "        features.append(beta / total_energy)\n",
    "        \n",
    "        \n",
    "        \n",
    "        all_featues.append(features)\n",
    "    return np.array(all_featues)\n",
    "\n",
    "\n",
    "def get_data_of_rat(X, y, i):\n",
    "    sample_cnt = int(X.shape[0] / 3)\n",
    "    if i == 0:\n",
    "        return X[:sample_cnt, :], y[:sample_cnt]\n",
    "    if i == 1:\n",
    "        return X[sample_cnt: 2 * sample_cnt, :], y[sample_cnt: 2 * sample_cnt]\n",
    "    if i == 2:\n",
    "        return X[2 * sample_cnt:, :], y[2 * sample_cnt:]\n",
    "    \n",
    "    \n",
    "def bandpower(data, band, window_sec=4, relative=False):\n",
    "    \"\"\"Compute the average power of the signal x in a specific frequency band.\n",
    "\n",
    "    Parameters\n",
    "    ----------\n",
    "    data : 1d-array\n",
    "        Input signal in the time-domain.\n",
    "    band : list\n",
    "        Lower and upper frequencies of the band of interest.\n",
    "    window_sec : float\n",
    "        Length of each window in seconds.\n",
    "        If None, window_sec = (1 / min(band)) * 2\n",
    "    relative : boolean\n",
    "        If True, return the relative power (= divided by the total power of the signal).\n",
    "        If False (default), return the absolute power.\n",
    "\n",
    "    Return\n",
    "    ------\n",
    "    bp : float\n",
    "        Absolute or relative band power.\n",
    "\n",
    "    Examples\n",
    "    ------\n",
    "    1. Absolute and relative power in the delta band\n",
    "        >>> delta = bandpower(data, 100, [0.5, 4])\n",
    "        >>> delta_relative = bandpower(data, 100, [0.5, 4], relative=True)\n",
    "\n",
    "    2. Delta / beta ratio\n",
    "        >>> window_sec = 4\n",
    "        >>> delta = bandpower(data, 100, [0.5, 4], window_sec)\n",
    "        >>> beta = bandpower(data, 100, [12, 30], window_sec)\n",
    "        >>> db_ratio = delta / beta\n",
    "    \"\"\"\n",
    "    \n",
    "    band = np.asarray(band)\n",
    "    low, high = band\n",
    "\n",
    "    # Compute the modified periodogram (Welch)\n",
    "    if window_sec is not None:\n",
    "        nperseg = window_sec * SAMPLE_PER_SEC\n",
    "    else:\n",
    "        nperseg = (2 / low) * SAMPLE_PER_SEC\n",
    "\n",
    "    freqs, psd = welch(data, SAMPLE_PER_SEC, nperseg=nperseg, scaling='density')\n",
    "\n",
    "    # Find closest indices of band in frequency vector\n",
    "    idx_band = np.logical_and(freqs >= low, freqs < high)\n",
    "\n",
    "    # Integral approximation of the spectrum using Simpson's rule.\n",
    "    bp = simps(psd[idx_band], freqs[idx_band])\n",
    "\n",
    "    if relative:\n",
    "        bp /= simps(psd, freqs)\n",
    "    return bp\n",
    "\n",
    "def remove_impossible_transitions(y_pred):\n",
    "    last = y_pred[0]\n",
    "    cnt = 0\n",
    "    for i in range(1, y_pred.shape[0]):\n",
    "        cur = y_pred[i]\n",
    "        if last == 1 and cur == 3:\n",
    "            y_pred[i - 1] = 2\n",
    "            #break\n",
    "        last = cur\n",
    "    return y_pred"
   ]
  },
  {
   "cell_type": "code",
   "execution_count": 7,
   "metadata": {},
   "outputs": [
    {
     "name": "stdout",
     "output_type": "stream",
     "text": [
      "Reading /home/ax/master/2018_02/ml/task5/data/train/train_emg.csv\n",
      "Reading /home/ax/master/2018_02/ml/task5/data/train/train_eeg1.csv\n",
      "Reading /home/ax/master/2018_02/ml/task5/data/train/train_eeg2.csv\n",
      "Reading /home/ax/master/2018_02/ml/task5/data/test/test_emg.csv\n",
      "Reading /home/ax/master/2018_02/ml/task5/data/test/test_eeg1.csv\n",
      "Reading /home/ax/master/2018_02/ml/task5/data/test/test_eeg2.csv\n",
      "Class 1: 34114\n",
      "Class 2: 27133\n",
      "Class 3: 3553\n"
     ]
    }
   ],
   "source": [
    "# Load the data\n",
    "# train\n",
    "train_emg = os.path.join(dir_path,\"data/train/train_emg.csv\")\n",
    "train_eeg_1 = os.path.join(dir_path,\"data/train/train_eeg1.csv\")\n",
    "train_eeg_2 = os.path.join(dir_path,\"data/train/train_eeg2.csv\")\n",
    "\n",
    "# trest\n",
    "test_emg = os.path.join(dir_path,\"data/test/test_emg.csv\")\n",
    "test_eeg_1 = os.path.join(dir_path,\"data/test/test_eeg1.csv\")\n",
    "test_eeg_2 = os.path.join(dir_path,\"data/test/test_eeg2.csv\")\n",
    "\n",
    "# labels\n",
    "train_target = os.path.join(dir_path,'data/train/train_labels.csv')\n",
    "\n",
    "x_train_emg = get_train_from_csv(train_emg) #List of numpy arrays\n",
    "x_train_eeg_1 = get_train_from_csv(train_eeg_1) #List of numpy arrays\n",
    "x_train_eeg_2 = get_train_from_csv(train_eeg_2) #List of numpy arrays\n",
    "y_train = get_target_from_csv(train_target) #Numpy array of labels\n",
    "\n",
    "x_test_emg = get_train_from_csv(test_emg) #List of numpy arrays\n",
    "x_test_eeg_1 = get_train_from_csv(test_eeg_1) #List of numpy arrays\n",
    "x_test_eeg_2 = get_train_from_csv(test_eeg_2) #List of numpy arrays\n",
    "\n",
    "print(f\"Class 1: {np.sum(y_train == 1)}\")\n",
    "print(f\"Class 2: {np.sum(y_train == 2)}\")\n",
    "print(f\"Class 3: {np.sum(y_train == 3)}\")"
   ]
  },
  {
   "cell_type": "code",
   "execution_count": 61,
   "metadata": {},
   "outputs": [
    {
     "name": "stdout",
     "output_type": "stream",
     "text": [
      "#1: transitions from 1 to 3 found\n"
     ]
    }
   ],
   "source": [
    "last = y_train[0]\n",
    "cnt = 0\n",
    "for i in range(1, y_train.shape[0]):\n",
    "    cur = y_train[i]\n",
    "    if last == 1 and cur == 3:\n",
    "        cnt += 1\n",
    "        #break\n",
    "    last = cur\n",
    "print(f\"#{cnt}: transitions from 1 to 3 found\")"
   ]
  },
  {
   "cell_type": "code",
   "execution_count": 10,
   "metadata": {},
   "outputs": [
    {
     "name": "stdout",
     "output_type": "stream",
     "text": [
      "Computing features for training set ..\n"
     ]
    },
    {
     "data": {
      "application/vnd.jupyter.widget-view+json": {
       "model_id": "2bcb595490964c73b1ce009ae658cbcd",
       "version_major": 2,
       "version_minor": 0
      },
      "text/plain": [
       "HBox(children=(IntProgress(value=0, max=64800), HTML(value='')))"
      ]
     },
     "metadata": {},
     "output_type": "display_data"
    },
    {
     "name": "stdout",
     "output_type": "stream",
     "text": [
      "\n"
     ]
    },
    {
     "data": {
      "application/vnd.jupyter.widget-view+json": {
       "model_id": "d0354e1542404db29435b2751acfc973",
       "version_major": 2,
       "version_minor": 0
      },
      "text/plain": [
       "HBox(children=(IntProgress(value=0, max=64800), HTML(value='')))"
      ]
     },
     "metadata": {},
     "output_type": "display_data"
    },
    {
     "name": "stdout",
     "output_type": "stream",
     "text": [
      "\n"
     ]
    },
    {
     "data": {
      "application/vnd.jupyter.widget-view+json": {
       "model_id": "880df8e7d1d04897a0436fd0f609edb1",
       "version_major": 2,
       "version_minor": 0
      },
      "text/plain": [
       "HBox(children=(IntProgress(value=0, max=64800), HTML(value='')))"
      ]
     },
     "metadata": {},
     "output_type": "display_data"
    },
    {
     "name": "stdout",
     "output_type": "stream",
     "text": [
      "\n",
      "Computing features for test set ..\n"
     ]
    },
    {
     "data": {
      "application/vnd.jupyter.widget-view+json": {
       "model_id": "638400a7d0b5402ba5e9ead18322d46c",
       "version_major": 2,
       "version_minor": 0
      },
      "text/plain": [
       "HBox(children=(IntProgress(value=0, max=43200), HTML(value='')))"
      ]
     },
     "metadata": {},
     "output_type": "display_data"
    },
    {
     "name": "stdout",
     "output_type": "stream",
     "text": [
      "\n"
     ]
    },
    {
     "data": {
      "application/vnd.jupyter.widget-view+json": {
       "model_id": "d0ebe0ef7a6d422a875d82643bd29eb5",
       "version_major": 2,
       "version_minor": 0
      },
      "text/plain": [
       "HBox(children=(IntProgress(value=0, max=43200), HTML(value='')))"
      ]
     },
     "metadata": {},
     "output_type": "display_data"
    },
    {
     "name": "stdout",
     "output_type": "stream",
     "text": [
      "\n"
     ]
    },
    {
     "data": {
      "application/vnd.jupyter.widget-view+json": {
       "model_id": "673d2f93e82f4a4d9015c94566b8e8a9",
       "version_major": 2,
       "version_minor": 0
      },
      "text/plain": [
       "HBox(children=(IntProgress(value=0, max=43200), HTML(value='')))"
      ]
     },
     "metadata": {},
     "output_type": "display_data"
    },
    {
     "name": "stdout",
     "output_type": "stream",
     "text": [
      "\n"
     ]
    }
   ],
   "source": [
    "# compute features\n",
    "\n",
    "print(\"Computing features for training set ..\")\n",
    "x_train_emg_feat = get_features_emg(x_train_emg)\n",
    "x_train_eeg_1_feat = get_features_eeg(x_train_eeg_1)\n",
    "x_train_eeg_2_feat = get_features_eeg(x_train_eeg_2)\n",
    "\n",
    "print(\"Computing features for test set ..\")\n",
    "x_test_emg_feat = get_features_emg(x_test_emg)\n",
    "x_test_eeg_1_feat = get_features_eeg(x_test_eeg_1)\n",
    "x_test_eeg_2_feat = get_features_eeg(x_test_eeg_2)"
   ]
  },
  {
   "cell_type": "code",
   "execution_count": 19,
   "metadata": {},
   "outputs": [
    {
     "name": "stdout",
     "output_type": "stream",
     "text": [
      "\n",
      "TRAIN\n",
      "(64800, 17)\n",
      "(64800, 17)\n",
      "(64800, 15)\n",
      "\n",
      "TEST\n",
      "(43200, 17)\n",
      "(43200, 17)\n",
      "(43200, 15)\n",
      "X train final shape ->  (64800, 49)\n",
      "X test final shape ->  (43200, 49)\n"
     ]
    }
   ],
   "source": [
    "print(\"\\nTRAIN\")\n",
    "print(x_train_eeg_1_feat.shape)\n",
    "print(x_train_eeg_2_feat.shape)\n",
    "print(x_train_emg_feat.shape)\n",
    "print(\"\\nTEST\")\n",
    "print(x_test_eeg_1_feat.shape)\n",
    "print(x_test_eeg_2_feat.shape)\n",
    "print(x_test_emg_feat.shape)\n",
    "\n",
    "X_train = np.concatenate((x_train_emg_feat,x_train_eeg_1_feat,x_train_eeg_2_feat), axis = 1)\n",
    "print(\"X train final shape -> \",X_train.shape)\n",
    "X_test = np.concatenate((x_test_emg_feat,x_test_eeg_1_feat,x_test_eeg_2_feat), axis = 1)\n",
    "print(\"X test final shape -> \",X_test.shape)\n",
    "\n",
    "pd.DataFrame(data=X_train).to_csv(\"features/all_combined_train.csv\", index=False)\n",
    "pd.DataFrame(data=y_train).to_csv(\"features/all_combined_label.csv\", index=False)\n",
    "pd.DataFrame(data=X_test).to_csv(\"features/all_combined_test.csv\", index=False)\n"
   ]
  },
  {
   "cell_type": "code",
   "execution_count": 12,
   "metadata": {},
   "outputs": [
    {
     "name": "stdout",
     "output_type": "stream",
     "text": [
      "X total shape ->  (108000, 49)\n"
     ]
    }
   ],
   "source": [
    "#Fit scaler on all data\n",
    "X_total = np.concatenate((X_train, X_test))\n",
    "print(\"X total shape -> \", X_total.shape)\n",
    "\n",
    "scaler = StandardScaler().fit(X_total)"
   ]
  },
  {
   "cell_type": "code",
   "execution_count": 13,
   "metadata": {},
   "outputs": [
    {
     "name": "stdout",
     "output_type": "stream",
     "text": [
      "[0.63317113 0.79607858 6.07936955]\n"
     ]
    }
   ],
   "source": [
    "# class weights\n",
    "classes = np.array([1,2,3])\n",
    "weights = compute_class_weight(\"balanced\", classes, y_train)\n",
    "print(weights)\n",
    "cw = dict(zip(classes, weights))"
   ]
  },
  {
   "cell_type": "code",
   "execution_count": 65,
   "metadata": {},
   "outputs": [],
   "source": [
    "# classifiers for CV\n",
    "rf = RandomForestClassifier(n_estimators=100, random_state=seed, n_jobs=-1, verbose=False, class_weight = cw)\n",
    "svc = SVC(class_weight=\"balanced\")\n",
    "\n",
    "classifiers = [svc]\n",
    "classifiers_names =[\"SVC\"]"
   ]
  },
  {
   "cell_type": "code",
   "execution_count": 66,
   "metadata": {},
   "outputs": [
    {
     "name": "stdout",
     "output_type": "stream",
     "text": [
      "Start\n",
      "0: current balanced_accuracy_score: 0.8979470861302237\n",
      "1: current balanced_accuracy_score: 0.9577386010492388\n",
      "2: current balanced_accuracy_score: 0.883188030305622\n",
      "================================================================================\n",
      "SVC BMAC avg score 0.9129579058283616 +/- 0.032232906897116345\n"
     ]
    },
    {
     "data": {
      "text/plain": [
       "'\\n0: current balanced_accuracy_score: 0.7731119241273093\\n0: current balanced_accuracy_score: 0.8409134717999276\\n0: current balanced_accuracy_score: 0.49996629350275673\\n0: current balanced_accuracy_score: 0.8984859386800316\\n0: current balanced_accuracy_score: 0.9469553870783045\\n0: current balanced_accuracy_score: 0.8724227445354636\\n\\n================================================================================\\nRandomForestClassifier BMAC avg score 0.7046638964766646 +/- 0.14736597066294574\\nSVC BMAC avg score 0.9059546900979333 +/- 0.030882739374517163\\n'"
      ]
     },
     "execution_count": 66,
     "metadata": {},
     "output_type": "execute_result"
    }
   ],
   "source": [
    "# CROSS VALDATION\n",
    "kfold = KFold(n_splits=3, shuffle=False, random_state=seed)\n",
    "\n",
    "print(\"Start\")\n",
    "\n",
    "bmac_scores_rf = []\n",
    "bmac_scores_svc = []\n",
    "clf_scores_avg = []\n",
    "clf_scores_std = []\n",
    "for clf in classifiers:\n",
    "    bmac_scores = []\n",
    "    for train, valid in kfold.split(X_train):\n",
    "        # get the folds\n",
    "        X_train_fold = X_train[train]\n",
    "        y_train_fold = y_train[train]\n",
    "\n",
    "        X_valid_fold = X_train[valid]\n",
    "        y_valid_fold = y_train[valid]\n",
    "\n",
    "        X_train_fold_scaled = scaler.transform(X_train_fold)\n",
    "        X_valid_fold_scaled = scaler.transform(X_valid_fold)\n",
    "\n",
    "        # fit classifier\n",
    "        clf.fit(X_train_fold_scaled, y_train_fold)\n",
    "\n",
    "        y_pred = clf.predict(X_valid_fold_scaled)\n",
    "        \n",
    "        #remove impossible \n",
    "        #y_pred = remove_impossible_transitions(y_pred)\n",
    "        \n",
    "        # median filter\n",
    "        y_pred = medfilt(y_pred, FILTER_WINDOW)\n",
    "        \n",
    "\n",
    "        bmac_score_rf = balanced_accuracy_score(y_valid_fold, y_pred)\n",
    "        print(f\"{len(bmac_scores)}: current balanced_accuracy_score: {bmac_score_rf}\")\n",
    "\n",
    "        bmac_scores.append(bmac_score_rf)\n",
    "    \n",
    "    clf_scores_avg.append(np.mean(bmac_scores))\n",
    "    clf_scores_std.append(np.std(bmac_scores))\n",
    "\n",
    "print(\"================================================================================\")\n",
    "for i in range(len(classifiers)):\n",
    "    print(f\"{classifiers_names[i]} BMAC avg score {clf_scores_avg[i]} +/- {clf_scores_std[i]}\" )\n",
    "\n",
    "\"\"\"\n",
    "0: current balanced_accuracy_score: 0.7731119241273093\n",
    "0: current balanced_accuracy_score: 0.8409134717999276\n",
    "0: current balanced_accuracy_score: 0.49996629350275673\n",
    "0: current balanced_accuracy_score: 0.8984859386800316\n",
    "0: current balanced_accuracy_score: 0.9469553870783045\n",
    "0: current balanced_accuracy_score: 0.8724227445354636\n",
    "\n",
    "================================================================================\n",
    "RandomForestClassifier BMAC avg score 0.7046638964766646 +/- 0.14736597066294574\n",
    "SVC BMAC avg score 0.9059546900979333 +/- 0.030882739374517163\n",
    "\"\"\""
   ]
  },
  {
   "cell_type": "code",
   "execution_count": 67,
   "metadata": {},
   "outputs": [],
   "source": [
    "#Scale, fit, predict\n",
    "X_train_scaled = scaler.transform(X_train)\n",
    "X_test_scaled = scaler.transform(X_test)\n",
    "\n",
    "svc = SVC(class_weight=\"balanced\")\n",
    "svc.fit(X_train_scaled, y_train)\n",
    "\n",
    "# apply median filter\n",
    "\n"
   ]
  },
  {
   "cell_type": "code",
   "execution_count": 75,
   "metadata": {},
   "outputs": [],
   "source": [
    "y_pred = svc.predict(X_test_scaled)\n",
    "# CORRECT all  predictions 1 to 3\n",
    "#y_pred_filtered = remove_impossible_transitions(y_pred)\n",
    "\n",
    "#  medfilt, wiener,savgol_filter\n",
    "y_pred_filtered = medfilt(y_pred_filtered, FILTER_WINDOW)"
   ]
  },
  {
   "cell_type": "code",
   "execution_count": 76,
   "metadata": {},
   "outputs": [
    {
     "name": "stdout",
     "output_type": "stream",
     "text": [
      "Class 1: 19513\n",
      "Class 2: 21383\n",
      "Class 3: 2304\n"
     ]
    },
    {
     "data": {
      "text/plain": [
       "'\\nClass 1: 23933\\nClass 2: 18553\\nClass 3: 714\\n'"
      ]
     },
     "execution_count": 76,
     "metadata": {},
     "output_type": "execute_result"
    },
    {
     "data": {
      "image/png": "[encoded data removed]",
      "text/plain": [
       "<Figure size 432x288 with 1 Axes>"
      ]
     },
     "metadata": {
      "needs_background": "light"
     },
     "output_type": "display_data"
    }
   ],
   "source": [
    "submission_name = \"ax_allfeat_with_bandwidth_filter_.csv\"\n",
    "\n",
    "print(f\"Class 1: {np.sum(y_pred_filtered == 1)}\")\n",
    "print(f\"Class 2: {np.sum(y_pred_filtered == 2)}\")\n",
    "print(f\"Class 3: {np.sum(y_pred_filtered == 3)}\")\n",
    "\n",
    "y_pred_df = pd.DataFrame(y_pred_filtered)\n",
    "y_pred_df = y_pred_df.assign(Id=list(range(y_pred_filtered.shape[0])))\n",
    "y_pred_df.columns = ['y', 'Id']\n",
    "y_pred_df[\"y\"].plot()\n",
    "submission_folder = os.path.join(dir_path,\"submissions/\")\n",
    "csv_file = submission_folder + submission_name\n",
    "\n",
    "with open(csv_file, 'w') as csv:\n",
    "    y_pred_df.to_csv(csv,index = False)\n",
    "\"\"\"\n",
    "Class 1: 23933\n",
    "Class 2: 18553\n",
    "Class 3: 714\n",
    "\"\"\""
   ]
  },
  {
   "cell_type": "code",
   "execution_count": null,
   "metadata": {},
   "outputs": [],
   "source": []
  }
 ],
 "metadata": {
  "kernelspec": {
   "display_name": "Python (aml-3)",
   "language": "python",
   "name": "myenv1"
  },
  "language_info": {
   "codemirror_mode": {
    "name": "ipython",
    "version": 3
   },
   "file_extension": ".py",
   "mimetype": "text/x-python",
   "name": "python",
   "nbconvert_exporter": "python",
   "pygments_lexer": "ipython3",
   "version": "3.6.6"
  }
 },
 "nbformat": 4,
 "nbformat_minor": 2
}
